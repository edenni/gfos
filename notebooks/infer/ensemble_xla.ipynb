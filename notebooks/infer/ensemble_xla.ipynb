{
 "cells": [
  {
   "cell_type": "code",
   "execution_count": 11,
   "metadata": {},
   "outputs": [],
   "source": [
    "import pickle\n",
    "from pathlib import Path\n",
    "import numpy as np\n",
    "\n",
    "\n",
    "from gfos.data.utils import load_layout\n",
    "from gfos.metrics import LayoutMetrics\n",
    "LAYOUT_DIR = r\"H:\\data\\gfos\\predict-ai-model-runtime\\npz_all\\npz\\layout\""
   ]
  },
  {
   "cell_type": "code",
   "execution_count": 4,
   "metadata": {},
   "outputs": [],
   "source": [
    "files = load_layout(LAYOUT_DIR, compile_type=\"default\", model_type=\"xla\")"
   ]
  },
  {
   "cell_type": "code",
   "execution_count": 5,
   "metadata": {},
   "outputs": [],
   "source": [
    "output_files = [\n",
    "    r\"G:\\projects\\gfos\\logs\\pipeline\\layout_xla_default_20231025_194701\\multiruns\\2023-10-25_19-47-01\\0\\wandb\\run-20231025_194821-31cxqnvr\\files\\val_outs_359.plk\",\n",
    "    r\"G:\\projects\\gfos\\logs\\pipeline\\layout_xla_default_20231025_212611\\multiruns\\2023-10-25_21-26-11\\0\\wandb\\run-20231025_212730-lylai3t4\\files\\val_outs_359.plk\",\n",
    "    r\"G:\\projects\\gfos\\logs\\pipeline\\layout_xla_default_20231025_212611\\multiruns\\2023-10-25_21-26-11\\1\\wandb\\run-20231025_225204-bhxjen7t\\files\\val_outs_359.plk\",\n",
    "    r\"G:\\projects\\gfos\\logs\\pipeline\\layout_xla_default_20231025_212611\\multiruns\\2023-10-25_21-26-11\\2\\wandb\\run-20231026_001619-w240tfbg\\files\\val_outs_199.plk\",\n",
    "    r\"G:\\projects\\gfos\\logs\\pipeline\\layout_xla_default_20231025_212611\\multiruns\\2023-10-25_21-26-11\\3\\wandb\\run-20231026_011711-jphw5fx4\\files\\val_outs_239.plk\",\n",
    "]"
   ]
  },
  {
   "cell_type": "code",
   "execution_count": 8,
   "metadata": {},
   "outputs": [],
   "source": [
    "outs = []\n",
    "for file in output_files:\n",
    "    with open(file, \"rb\") as f:\n",
    "        data = pickle.load(f)\n",
    "    outs.append(data)"
   ]
  },
  {
   "cell_type": "code",
   "execution_count": 14,
   "metadata": {},
   "outputs": [],
   "source": [
    "metrics = LayoutMetrics()\n",
    "\n",
    "for file in files[\"valid\"]:\n",
    "    model_id = Path(file).stem\n",
    "    target = np.load(file)[\"config_runtime\"]\n",
    "    \n",
    "    pred = []\n",
    "    for out in outs:\n",
    "        pred.append(out[model_id])\n",
    "    pred = np.stack(pred).mean(axis=0)\n",
    "    \n",
    "    metrics.add(model_id, pred, target)"
   ]
  },
  {
   "cell_type": "code",
   "execution_count": 15,
   "metadata": {},
   "outputs": [
    {
     "data": {
      "text/plain": [
       "{'raw_kendall': 0.44919012412011183,\n",
       " 'index_kendall': 0.44917779441411504,\n",
       " 'top100_error': 0.9500000000000001,\n",
       " 'top500_error': 0.878857142857143,\n",
       " 'kendall_bert_pretraining.4x4.fp16': 0.5236042774807833,\n",
       " 'kendall_inception_v3_batch_128_train': 0.6507460755563222,\n",
       " 'kendall_mlperf_bert_batch_24_2x2': 0.39715920177305986,\n",
       " 'kendall_resnet50.4x4.fp16': 0.5626951090944631,\n",
       " 'kendall_resnet_v1_50_official_batch_128_bf16': 0.43222062028529196,\n",
       " 'kendall_tf2_bert_pretrain_dynamic_batch_size': 0.3796942475582187,\n",
       " 'kendall_unet_3d.4x4.bf16': 0.19812502915066618}"
      ]
     },
     "execution_count": 15,
     "metadata": {},
     "output_type": "execute_result"
    }
   ],
   "source": [
    "metrics.compute_scores()"
   ]
  },
  {
   "cell_type": "code",
   "execution_count": 16,
   "metadata": {},
   "outputs": [],
   "source": [
    "test_files = [\n",
    "    r\"G:\\projects\\gfos\\logs\\pipeline\\layout_xla_default_20231025_194701\\multiruns\\2023-10-25_19-47-01\\0\\wandb\\run-20231025_194821-31cxqnvr\\files\\xla_default_31cxqnvr_logits.plk\",\n",
    "    r\"G:\\projects\\gfos\\logs\\pipeline\\layout_xla_default_20231025_212611\\multiruns\\2023-10-25_21-26-11\\0\\wandb\\run-20231025_212730-lylai3t4\\files\\xla_default_lylai3t4_logits.plk\",\n",
    "    r\"G:\\projects\\gfos\\logs\\pipeline\\layout_xla_default_20231025_212611\\multiruns\\2023-10-25_21-26-11\\1\\wandb\\run-20231025_225204-bhxjen7t\\files\\xla_default_bhxjen7t_logits.plk\",\n",
    "    r\"G:\\projects\\gfos\\logs\\pipeline\\layout_xla_default_20231025_212611\\multiruns\\2023-10-25_21-26-11\\2\\wandb\\run-20231026_001619-w240tfbg\\files\\xla_default_w240tfbg_logits.plk\",\n",
    "    r\"G:\\projects\\gfos\\logs\\pipeline\\layout_xla_default_20231025_212611\\multiruns\\2023-10-25_21-26-11\\3\\wandb\\run-20231026_011711-jphw5fx4\\files\\xla_default_jphw5fx4_logits.plk\",\n",
    "]\n",
    "\n",
    "test_outs = []\n",
    "for file in test_files:\n",
    "    with open(file, \"rb\") as f:\n",
    "        data = pickle.load(f)\n",
    "    test_outs.append(data)"
   ]
  },
  {
   "cell_type": "code",
   "execution_count": 23,
   "metadata": {},
   "outputs": [],
   "source": [
    "results = {}\n",
    "\n",
    "for file in files[\"test\"]:\n",
    "    model_id = Path(file).stem\n",
    "    \n",
    "    pred = []\n",
    "    for out in test_outs:\n",
    "        pred.append(out[model_id])\n",
    "    pred = np.stack(pred).mean(axis=0)\n",
    "    \n",
    "    results[model_id] = pred\n"
   ]
  },
  {
   "cell_type": "code",
   "execution_count": 24,
   "metadata": {},
   "outputs": [],
   "source": [
    "result_arg = {k: v.argsort().tolist() for k,v in results.items()}"
   ]
  },
  {
   "cell_type": "code",
   "execution_count": 26,
   "metadata": {},
   "outputs": [],
   "source": [
    "SOURCE = \"xla\"\n",
    "SEARCH = \"default\"\n",
    "\n",
    "\n",
    "with open(f\"../../output/{SOURCE}_{SEARCH}_blend_five_folds_1.csv\", \"w\") as f:\n",
    "    f.write(\"ID,TopConfigs\\n\")\n",
    "    for k, v in result_arg.items():\n",
    "        model_id = f\"layout:{SOURCE}:{SEARCH}:\"+k\n",
    "        values = \";\".join([str(i) for i in v])\n",
    "        f.write(f\"{model_id},{values}\\n\")"
   ]
  }
 ],
 "metadata": {
  "kernelspec": {
   "display_name": "gfos",
   "language": "python",
   "name": "python3"
  },
  "language_info": {
   "codemirror_mode": {
    "name": "ipython",
    "version": 3
   },
   "file_extension": ".py",
   "mimetype": "text/x-python",
   "name": "python",
   "nbconvert_exporter": "python",
   "pygments_lexer": "ipython3",
   "version": "3.10.12"
  }
 },
 "nbformat": 4,
 "nbformat_minor": 2
}
