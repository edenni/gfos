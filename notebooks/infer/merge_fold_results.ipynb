{
 "cells": [
  {
   "cell_type": "code",
   "execution_count": 1,
   "metadata": {},
   "outputs": [],
   "source": [
    "import pickle\n",
    "from pathlib import Path\n",
    "\n",
    "import numpy as np"
   ]
  },
  {
   "cell_type": "code",
   "execution_count": 2,
   "metadata": {},
   "outputs": [],
   "source": [
    "log_dir = r\"G:\\projects\\gfos\\logs\\pipeline\\xla_ensemble\\multiruns\\2023-10-22_15-23-15\"\n",
    "output_files = list(Path(log_dir).glob(\"*/wandb/*/files/*.plk\"))\n"
   ]
  },
  {
   "cell_type": "code",
   "execution_count": 5,
   "metadata": {},
   "outputs": [],
   "source": [
    "output_files = [\n",
    "    # \"../../output/nlp_random_ue1gfayg.csv\",\n",
    "    r\"G:\\projects\\gfos\\logs\\pipeline\\nlp_ensemble\\multiruns\\2023-10-27_10-58-40\\0\\wandb\\run-20231027_110222-0ytzj3l1\\files\\nlp_random_0ytzj3l1_logits.plk\",\n",
    "    r\"G:\\projects\\gfos\\logs\\pipeline\\nlp_ensemble\\multiruns\\2023-10-28_10-34-53\\0\\wandb\\run-20231028_103842-r0srrmo6\\files\\nlp_random_r0srrmo6_logits.plk\",\n",
    "    r\"G:\\projects\\gfos\\logs\\pipeline\\nlp_ensemble\\multiruns\\2023-10-28_10-34-53\\1\\wandb\\run-20231029_093944-q2gyfl1h\\files\\nlp_random_q2gyfl1h_logits.plk\",\n",
    "]"
   ]
  },
  {
   "cell_type": "code",
   "execution_count": 6,
   "metadata": {},
   "outputs": [],
   "source": [
    "logits = [pickle.load(open(f, \"rb\")) for f in output_files]"
   ]
  },
  {
   "cell_type": "code",
   "execution_count": 7,
   "metadata": {},
   "outputs": [],
   "source": [
    "results = {}\n",
    "\n",
    "for logit in logits:\n",
    "    for key, value in logit.items():\n",
    "        if key not in results:\n",
    "            results[key] = []\n",
    "        # results[key].append((value - value.min()) / (value.max() - value.min()))\n",
    "        results[key].append(value)"
   ]
  },
  {
   "cell_type": "code",
   "execution_count": 8,
   "metadata": {},
   "outputs": [],
   "source": [
    "blend_results = {}\n",
    "\n",
    "for key, value in results.items():\n",
    "    r = np.stack(value, axis=0)\n",
    "    blend_results[key] = np.argsort(np.mean(value, axis=0))"
   ]
  },
  {
   "cell_type": "code",
   "execution_count": 9,
   "metadata": {},
   "outputs": [
    {
     "ename": "KeyError",
     "evalue": "'05ae41e26dd3c4c06390371a0423233c'",
     "output_type": "error",
     "traceback": [
      "\u001b[1;31m---------------------------------------------------------------------------\u001b[0m",
      "\u001b[1;31mKeyError\u001b[0m                                  Traceback (most recent call last)",
      "\u001b[1;32mg:\\projects\\gfos\\notebooks\\infer\\merge_fold_results.ipynb Cell 7\u001b[0m line \u001b[0;36m4\n\u001b[0;32m      <a href='vscode-notebook-cell:/g%3A/projects/gfos/notebooks/infer/merge_fold_results.ipynb#W6sZmlsZQ%3D%3D?line=0'>1</a>\u001b[0m \u001b[39mimport\u001b[39;00m \u001b[39mmatplotlib\u001b[39;00m\u001b[39m.\u001b[39;00m\u001b[39mpyplot\u001b[39;00m \u001b[39mas\u001b[39;00m \u001b[39mplt\u001b[39;00m\n\u001b[1;32m----> <a href='vscode-notebook-cell:/g%3A/projects/gfos/notebooks/infer/merge_fold_results.ipynb#W6sZmlsZQ%3D%3D?line=3'>4</a>\u001b[0m rs \u001b[39m=\u001b[39m results[\u001b[39m\"\u001b[39;49m\u001b[39m05ae41e26dd3c4c06390371a0423233c\u001b[39;49m\u001b[39m\"\u001b[39;49m]\n\u001b[0;32m      <a href='vscode-notebook-cell:/g%3A/projects/gfos/notebooks/infer/merge_fold_results.ipynb#W6sZmlsZQ%3D%3D?line=4'>5</a>\u001b[0m axes \u001b[39m=\u001b[39m plt\u001b[39m.\u001b[39msubplots(\u001b[39m5\u001b[39m, \u001b[39m1\u001b[39m, figsize\u001b[39m=\u001b[39m(\u001b[39m10\u001b[39m, \u001b[39m10\u001b[39m))[\u001b[39m1\u001b[39m]\u001b[39m.\u001b[39mflatten()\n\u001b[0;32m      <a href='vscode-notebook-cell:/g%3A/projects/gfos/notebooks/infer/merge_fold_results.ipynb#W6sZmlsZQ%3D%3D?line=5'>6</a>\u001b[0m \u001b[39mfor\u001b[39;00m i, ax \u001b[39min\u001b[39;00m \u001b[39menumerate\u001b[39m(axes):\n",
      "\u001b[1;31mKeyError\u001b[0m: '05ae41e26dd3c4c06390371a0423233c'"
     ]
    }
   ],
   "source": [
    "import matplotlib.pyplot as plt\n",
    "\n",
    "\n",
    "rs = results[\"05ae41e26dd3c4c06390371a0423233c\"]\n",
    "axes = plt.subplots(5, 1, figsize=(10, 10))[1].flatten()\n",
    "for i, ax in enumerate(axes):\n",
    "    ax.hist(rs[i])\n"
   ]
  },
  {
   "cell_type": "code",
   "execution_count": 10,
   "metadata": {},
   "outputs": [],
   "source": [
    "SOURCE = \"nlp\"\n",
    "SEARCH = \"random\"\n",
    "\n",
    "\n",
    "with open(f\"../../output/{SOURCE}_{SEARCH}_blend_3_folds.csv\", \"w\") as f:\n",
    "    f.write(\"ID,TopConfigs\\n\")\n",
    "    for k, v in blend_results.items():\n",
    "        model_id = f\"layout:{SOURCE}:{SEARCH}:\"+k\n",
    "        values = \";\".join([str(i) for i in v])\n",
    "        f.write(f\"{model_id},{values}\\n\")\n"
   ]
  }
 ],
 "metadata": {
  "kernelspec": {
   "display_name": "gfos",
   "language": "python",
   "name": "python3"
  },
  "language_info": {
   "codemirror_mode": {
    "name": "ipython",
    "version": 3
   },
   "file_extension": ".py",
   "mimetype": "text/x-python",
   "name": "python",
   "nbconvert_exporter": "python",
   "pygments_lexer": "ipython3",
   "version": "3.10.12"
  }
 },
 "nbformat": 4,
 "nbformat_minor": 2
}
