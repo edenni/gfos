{
 "cells": [
  {
   "cell_type": "code",
   "execution_count": 1,
   "metadata": {},
   "outputs": [],
   "source": [
    "import torch\n",
    "\n",
    "from gfos.model.gnn import LayoutModel\n",
    "from gfos.data.dataset import LayoutDataset, Normalizer\n",
    "from gfos.data.utils import load_layout"
   ]
  },
  {
   "cell_type": "code",
   "execution_count": 3,
   "metadata": {},
   "outputs": [],
   "source": [
    "LAYOUT_DIR = r\"H:\\data\\gfos\\predict-ai-model-runtime\\npz_all\\npz\\layout\"\n",
    "NORMALIZER_PATH = \"../../data/normalizer.json\"\n",
    "\n",
    "SOURCE = \"xla\"\n",
    "SEARCH = \"random\""
   ]
  },
  {
   "cell_type": "code",
   "execution_count": 4,
   "metadata": {},
   "outputs": [
    {
     "name": "stderr",
     "output_type": "stream",
     "text": [
      "Loading data:   0%|          | 0/8 [00:00<?, ?it/s, 05ae41e26dd3c4c06390371a0423233c]g:\\projects\\gfos\\src\\gfos\\data\\dataset.py:280: RuntimeWarning: invalid value encountered in divide\n",
      "  runtime = (runtime - mu) / std\n",
      "Loading data: 100%|██████████| 8/8 [00:04<00:00,  1.88it/s, fbaa8bb6a1aed9988281085c91065c05]\n"
     ]
    }
   ],
   "source": [
    "normalizer = Normalizer.from_json(NORMALIZER_PATH, SOURCE, SEARCH)\n",
    "\n",
    "layout_data = load_layout(\n",
    "    LAYOUT_DIR,\n",
    "    model_type=SOURCE,\n",
    "    compile_type=SEARCH,\n",
    ")\n",
    "\n",
    "test_dataset = LayoutDataset(\n",
    "    layout_data[\"test\"],\n",
    "    normalizer=normalizer,\n",
    ")"
   ]
  },
  {
   "cell_type": "code",
   "execution_count": 11,
   "metadata": {},
   "outputs": [
    {
     "name": "stderr",
     "output_type": "stream",
     "text": [
      "Disable config edge weight\n"
     ]
    },
    {
     "data": {
      "text/plain": [
       "<All keys matched successfully>"
      ]
     },
     "execution_count": 11,
     "metadata": {},
     "output_type": "execute_result"
    }
   ],
   "source": [
    "model = LayoutModel(node_feat_dim=112, node_config_dim=14, config_neighbor_layer=\"GATConv\", dropout=0.2)\n",
    "state_dict = torch.load(r\"G:\\projects\\gfos\\logs\\pipeline\\layout_xla_random_20231019_155806\\runs\\2023-10-19_15-58-06\\wandb\\run-20231019_155948-991bvbsj\\files\\319_0.6165.pth\")\n",
    "model.load_state_dict(state_dict[\"state_dict\"])"
   ]
  },
  {
   "cell_type": "code",
   "execution_count": 12,
   "metadata": {},
   "outputs": [
    {
     "data": {
      "text/plain": [
       "LayoutModel(\n",
       "  (embedding): Embedding(120, 32)\n",
       "  (node_gnn): Sequential(\n",
       "    (0): SAGEConv(144, 64, aggr=mean)\n",
       "    (1): LeakyReLU(negative_slope=0.01, inplace=True)\n",
       "    (2): SAGEConv(64, 64, aggr=mean)\n",
       "    (3): LeakyReLU(negative_slope=0.01, inplace=True)\n",
       "    (4): SAGEConv(64, 64, aggr=mean)\n",
       "    (5): LeakyReLU(negative_slope=0.01, inplace=True)\n",
       "    (6): SAGEConv(64, 64, aggr=mean)\n",
       "    (7): LeakyReLU(negative_slope=0.01, inplace=True)\n",
       "  )\n",
       "  (config_neighbor_gnn): Sequential(\n",
       "    (0): GATConv(64, 64, heads=1)\n",
       "    (1): LeakyReLU(negative_slope=0.01, inplace=True)\n",
       "    (2): GATConv(64, 64, heads=1)\n",
       "    (3): LeakyReLU(negative_slope=0.01, inplace=True)\n",
       "  )\n",
       "  (config_gnn): Sequential(\n",
       "    (0): Dropout(p=0.2, inplace=False)\n",
       "    (1): SAGEConv(192, 64, aggr=mean)\n",
       "    (2): LeakyReLU(negative_slope=0.01, inplace=True)\n",
       "    (3): SAGEConv(64, 64, aggr=mean)\n",
       "    (4): LeakyReLU(negative_slope=0.01, inplace=True)\n",
       "    (5): SAGEConv(64, 64, aggr=mean)\n",
       "    (6): LeakyReLU(negative_slope=0.01, inplace=True)\n",
       "    (7): SAGEConv(64, 64, aggr=mean)\n",
       "    (8): LeakyReLU(negative_slope=0.01, inplace=True)\n",
       "  )\n",
       "  (config_prj): Sequential(\n",
       "    (0): Linear(in_features=14, out_features=64, bias=True)\n",
       "    (1): LeakyReLU(negative_slope=0.01)\n",
       "  )\n",
       "  (dense): Sequential(\n",
       "    (0): Dropout(p=0.2, inplace=False)\n",
       "    (1): Linear(in_features=64, out_features=64, bias=False)\n",
       "    (2): LeakyReLU(negative_slope=0.01)\n",
       "    (3): Linear(in_features=64, out_features=64, bias=False)\n",
       "    (4): LeakyReLU(negative_slope=0.01)\n",
       "    (5): Linear(in_features=64, out_features=1, bias=False)\n",
       "  )\n",
       ")"
      ]
     },
     "execution_count": 12,
     "metadata": {},
     "output_type": "execute_result"
    }
   ],
   "source": [
    "model.eval().cuda()"
   ]
  },
  {
   "cell_type": "code",
   "execution_count": 13,
   "metadata": {},
   "outputs": [],
   "source": [
    "device = \"cuda\"\n",
    "batch_size = 100\n",
    "\n",
    "results = {}\n",
    "\n",
    "with torch.no_grad():\n",
    "    for record in test_dataset:\n",
    "        model_id = record[\"model_id\"]\n",
    "        node_feat = record[\"node_feat\"]\n",
    "        node_opcode = record[\"node_opcode\"]\n",
    "        edge_index = record[\"edge_index\"]\n",
    "        node_config_feat = record[\"node_config_feat\"]\n",
    "        node_config_ids = record[\"node_config_ids\"]\n",
    "        config_runtime = record[\"config_runtime\"]\n",
    "        config_edge_index = record[\"config_edge_index\"]\n",
    "        config_edge_weight = record[\"config_edge_weight\"]\n",
    "        config_edge_path = record[\"config_edge_path\"]\n",
    "\n",
    "        (\n",
    "            node_feat,\n",
    "            node_opcode,\n",
    "            edge_index,\n",
    "            node_config_feat,\n",
    "            node_config_ids,\n",
    "            config_edge_index,\n",
    "            config_edge_weight,\n",
    "        ) = (\n",
    "            node_feat.to(device),\n",
    "            node_opcode.to(device),\n",
    "            edge_index.to(device),\n",
    "            node_config_feat.to(device),\n",
    "            node_config_ids.to(device),\n",
    "            config_edge_index.to(device),\n",
    "            config_edge_weight.to(device),\n",
    "        )\n",
    "\n",
    "        c = len(config_runtime)\n",
    "        outs = []\n",
    "\n",
    "        for i in range(0, c, batch_size):\n",
    "            end_i = min(i + batch_size, c)\n",
    "            out: torch.Tensor = model(\n",
    "                node_feat,\n",
    "                node_opcode,\n",
    "                edge_index,\n",
    "                node_config_feat[i:end_i],\n",
    "                node_config_ids,\n",
    "                config_edge_index,\n",
    "                config_edge_weight,\n",
    "            )\n",
    "            outs.append(out.detach().cpu())\n",
    "        results[model_id] = torch.concat(outs)"
   ]
  },
  {
   "cell_type": "code",
   "execution_count": 15,
   "metadata": {},
   "outputs": [],
   "source": [
    "import pickle\n",
    "\n",
    "\n",
    "pickle.dump(results, open(\"results.pkl\", \"wb\"))"
   ]
  }
 ],
 "metadata": {
  "kernelspec": {
   "display_name": "gfos",
   "language": "python",
   "name": "python3"
  },
  "language_info": {
   "codemirror_mode": {
    "name": "ipython",
    "version": 3
   },
   "file_extension": ".py",
   "mimetype": "text/x-python",
   "name": "python",
   "nbconvert_exporter": "python",
   "pygments_lexer": "ipython3",
   "version": "3.10.12"
  }
 },
 "nbformat": 4,
 "nbformat_minor": 2
}
