{
 "cells": [
  {
   "cell_type": "code",
   "execution_count": 1,
   "metadata": {},
   "outputs": [],
   "source": [
    "import torch\n",
    "\n",
    "from gfos.model.gnn import LayoutModel\n",
    "from gfos.data.dataset import LayoutDataset, Normalizer\n",
    "from gfos.data.utils import load_layout"
   ]
  },
  {
   "cell_type": "code",
   "execution_count": 2,
   "metadata": {},
   "outputs": [],
   "source": [
    "LAYOUT_DIR = r\"H:\\data\\gfos\\predict-ai-model-runtime\\npz_all\\npz\\layout\"\n",
    "NORMALIZER_PATH = \"../../data/normalizer.json\"\n",
    "\n",
    "SOURCE = \"xla\"\n",
    "SEARCH = \"default\""
   ]
  },
  {
   "cell_type": "code",
   "execution_count": 3,
   "metadata": {},
   "outputs": [
    {
     "name": "stderr",
     "output_type": "stream",
     "text": [
      "Loading data: 100%|██████████| 7/7 [00:10<00:00,  1.50s/it, unet_3d.4x4.bf16]                    \n"
     ]
    }
   ],
   "source": [
    "normalizer = Normalizer.from_json(NORMALIZER_PATH, SOURCE, SEARCH)\n",
    "\n",
    "layout_data = load_layout(\n",
    "    LAYOUT_DIR,\n",
    "    model_type=SOURCE,\n",
    "    compile_type=SEARCH,\n",
    ")\n",
    "\n",
    "test_dataset = LayoutDataset(\n",
    "    layout_data[\"valid\"],\n",
    "    normalizer=normalizer,\n",
    ")"
   ]
  },
  {
   "cell_type": "code",
   "execution_count": 7,
   "metadata": {},
   "outputs": [
    {
     "name": "stderr",
     "output_type": "stream",
     "text": [
      "Disable config edge weight\n"
     ]
    },
    {
     "data": {
      "text/plain": [
       "<All keys matched successfully>"
      ]
     },
     "execution_count": 7,
     "metadata": {},
     "output_type": "execute_result"
    }
   ],
   "source": [
    "model = LayoutModel(\n",
    "    node_feat_dim=112,\n",
    "    node_config_dim=14,\n",
    "    config_neighbor_layer=\"GATConv\",\n",
    "    dropout=0.2,\n",
    "    num_config_layers=3,\n",
    "    config_neighbor_dim=32,\n",
    "    node_dropout_between_layers=0.1,\n",
    "    config_neighbor_dropout_between_layers=0.1,\n",
    "    config_dropout_between_layers=0.1,\n",
    ")\n",
    "state_dict = torch.load(\n",
    "    r\"G:\\projects\\gfos\\logs\\pipeline\\layout_xla_default_20231025_130700\\runs\\2023-10-25_13-07-00\\wandb\\run-20231025_130818-j33ecz9e\\files\\239_0.4217.pth\"\n",
    ")\n",
    "model.load_state_dict(state_dict[\"state_dict\"])"
   ]
  },
  {
   "cell_type": "code",
   "execution_count": 9,
   "metadata": {},
   "outputs": [],
   "source": [
    "model = model.train().cuda()"
   ]
  },
  {
   "cell_type": "code",
   "execution_count": null,
   "metadata": {},
   "outputs": [],
   "source": [
    "model = model.eval().cuda()"
   ]
  },
  {
   "cell_type": "code",
   "execution_count": 10,
   "metadata": {},
   "outputs": [],
   "source": [
    "from gfos.metrics import LayoutMetrics"
   ]
  },
  {
   "cell_type": "code",
   "execution_count": 11,
   "metadata": {},
   "outputs": [
    {
     "name": "stderr",
     "output_type": "stream",
     "text": [
      "100%|██████████| 7/7 [15:57<00:00, 136.74s/it]\n"
     ]
    }
   ],
   "source": [
    "import tqdm\n",
    "device = \"cuda\"\n",
    "batch_size = 100\n",
    "\n",
    "results = {}\n",
    "metric = LayoutMetrics()\n",
    "\n",
    "with torch.no_grad():\n",
    "    for record in tqdm.tqdm(test_dataset):\n",
    "        model_id = record[\"model_id\"]\n",
    "        node_feat = record[\"node_feat\"]\n",
    "        node_opcode = record[\"node_opcode\"]\n",
    "        edge_index = record[\"edge_index\"]\n",
    "        node_config_feat = record[\"node_config_feat\"]\n",
    "        node_config_ids = record[\"node_config_ids\"]\n",
    "        config_runtime = record[\"config_runtime\"]\n",
    "        config_edge_index = record[\"config_edge_index\"]\n",
    "        config_edge_weight = record[\"config_edge_weight\"]\n",
    "\n",
    "        (\n",
    "            node_feat,\n",
    "            node_opcode,\n",
    "            edge_index,\n",
    "            node_config_feat,\n",
    "            node_config_ids,\n",
    "            config_edge_index,\n",
    "            config_edge_weight,\n",
    "        ) = (\n",
    "            node_feat.to(device),\n",
    "            node_opcode.to(device),\n",
    "            edge_index.to(device),\n",
    "            node_config_feat.to(device),\n",
    "            node_config_ids.to(device),\n",
    "            config_edge_index.to(device),\n",
    "            config_edge_weight.to(device),\n",
    "        )\n",
    "\n",
    "        c = len(config_runtime)\n",
    "        outs = []\n",
    "\n",
    "        for i in range(0, c, batch_size):\n",
    "            end_i = min(i + batch_size, c)\n",
    "            blend = []\n",
    "            for k in range(50):\n",
    "                out: torch.Tensor = model(\n",
    "                    node_feat,\n",
    "                    node_opcode,\n",
    "                    edge_index,\n",
    "                    node_config_feat[i:end_i],\n",
    "                    node_config_ids,\n",
    "                    config_edge_index,\n",
    "                    config_edge_weight,\n",
    "                )\n",
    "                blend.append(out)\n",
    "            out = torch.mean(torch.stack(blend), dim=0)\n",
    "            outs.append(out.detach().cpu())\n",
    "        \n",
    "        outs = torch.concat(outs)\n",
    "        metric.add(model_id, outs.numpy(), config_runtime.numpy())\n",
    "        results[model_id] = outs"
   ]
  },
  {
   "cell_type": "code",
   "execution_count": 12,
   "metadata": {},
   "outputs": [
    {
     "data": {
      "text/plain": [
       "{'raw_kendall': 0.41901337566528024,\n",
       " 'index_kendall': 0.41900964305206073,\n",
       " 'top100_error': 0.9914285714285717,\n",
       " 'top500_error': 0.8505714285714285,\n",
       " 'kendall_bert_pretraining.4x4.fp16': 0.5195674582021488,\n",
       " 'kendall_inception_v3_batch_128_train': 0.6456680738026904,\n",
       " 'kendall_mlperf_bert_batch_24_2x2': 0.31575607476880835,\n",
       " 'kendall_resnet50.4x4.fp16': 0.516374797453982,\n",
       " 'kendall_resnet_v1_50_official_batch_128_bf16': 0.4449971531755013,\n",
       " 'kendall_tf2_bert_pretrain_dynamic_batch_size': 0.41828384269835744,\n",
       " 'kendall_unet_3d.4x4.bf16': 0.07242010126293642}"
      ]
     },
     "execution_count": 12,
     "metadata": {},
     "output_type": "execute_result"
    }
   ],
   "source": [
    "metric.compute_scores()"
   ]
  },
  {
   "cell_type": "code",
   "execution_count": null,
   "metadata": {},
   "outputs": [],
   "source": [
    "import pickle\n",
    "\n",
    "\n",
    "pickle.dump(results, open(\"results.pkl\", \"wb\"))"
   ]
  }
 ],
 "metadata": {
  "kernelspec": {
   "display_name": "gfos",
   "language": "python",
   "name": "python3"
  },
  "language_info": {
   "codemirror_mode": {
    "name": "ipython",
    "version": 3
   },
   "file_extension": ".py",
   "mimetype": "text/x-python",
   "name": "python",
   "nbconvert_exporter": "python",
   "pygments_lexer": "ipython3",
   "version": "3.10.12"
  }
 },
 "nbformat": 4,
 "nbformat_minor": 2
}
