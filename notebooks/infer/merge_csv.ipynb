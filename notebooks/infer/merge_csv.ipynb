{
 "cells": [
  {
   "cell_type": "code",
   "execution_count": 1,
   "metadata": {},
   "outputs": [],
   "source": [
    "import pandas as pd\n",
    "from datetime import datetime\n",
    "\n",
    "\n",
    "sample_sub = pd.read_csv(\"../../output/submission.csv\")\n",
    "xla_random = pd.read_csv(\"../../output/results_1695200413859_xla_default.csv\")\n",
    "# xla_random = pd.read_csv(\"../../output/results_1695227430358_xla_random.csv\")\n",
    "nlp_default = pd.read_csv(\"../../output/results_1695942543728_nlp_default.csv\")\n",
    "nlp_random = pd.read_csv(\"../../output/results_1695901279689_nlp_random.csv\")\n",
    "xla_random = pd.read_csv(\"../../output/xla_random.csv\")\n",
    "\n",
    "sample_sub.set_index(\"ID\", inplace=True)\n",
    "xla_random.set_index(\"ID\", inplace=True)\n",
    "xla_random.set_index(\"ID\", inplace=True)\n",
    "nlp_default.set_index(\"ID\", inplace=True)\n",
    "nlp_random.set_index(\"ID\", inplace=True)\n",
    "\n",
    "sample_sub.loc[xla_random.index, \"TopConfigs\"] = xla_random[\"TopConfigs\"]\n",
    "sample_sub.loc[xla_random.index, \"TopConfigs\"] = xla_random[\"TopConfigs\"]\n",
    "sample_sub.loc[nlp_default.index, \"TopConfigs\"] = nlp_default[\"TopConfigs\"]\n",
    "sample_sub.loc[nlp_random.index, \"TopConfigs\"] = nlp_random[\"TopConfigs\"]\n",
    "\n",
    "dt = datetime.now().strftime(\"%Y%m%d%H%M%S\")\n",
    "sample_sub.reset_index().to_csv(f\"../../output/submission_{dt}.csv\", index=False)"
   ]
  },
  {
   "cell_type": "code",
   "execution_count": 1,
   "metadata": {},
   "outputs": [],
   "source": [
    "import pandas as pd\n",
    "from datetime import datetime\n",
    "\n",
    "\n",
    "sample_sub = pd.read_csv(\"../../output/submission_20231002_001145.csv\")\n",
    "xla_random = pd.read_csv(\"../../output/xla_random_3tbehqa3_v2.csv\")\n",
    "\n",
    "sample_sub.set_index(\"ID\", inplace=True)\n",
    "xla_random.set_index(\"ID\", inplace=True)\n",
    "\n",
    "sample_sub.loc[xla_random.index, \"TopConfigs\"] = xla_random[\"TopConfigs\"]\n",
    "\n",
    "dt = datetime.now().strftime(\"%Y%m%d%H%M%S\")\n",
    "sample_sub.reset_index().to_csv(f\"../../output/submission_{dt}.csv\", index=False)"
   ]
  },
  {
   "cell_type": "code",
   "execution_count": 5,
   "metadata": {},
   "outputs": [
    {
     "data": {
      "text/html": [
       "<div>\n",
       "<style scoped>\n",
       "    .dataframe tbody tr th:only-of-type {\n",
       "        vertical-align: middle;\n",
       "    }\n",
       "\n",
       "    .dataframe tbody tr th {\n",
       "        vertical-align: top;\n",
       "    }\n",
       "\n",
       "    .dataframe thead th {\n",
       "        text-align: right;\n",
       "    }\n",
       "</style>\n",
       "<table border=\"1\" class=\"dataframe\">\n",
       "  <thead>\n",
       "    <tr style=\"text-align: right;\">\n",
       "      <th></th>\n",
       "      <th>TopConfigs</th>\n",
       "    </tr>\n",
       "    <tr>\n",
       "      <th>ID</th>\n",
       "      <th></th>\n",
       "    </tr>\n",
       "  </thead>\n",
       "  <tbody>\n",
       "    <tr>\n",
       "      <th>layout:xla:random:05ae41e26dd3c4c06390371a0423233c</th>\n",
       "      <td>645;960;471;511;674;581;114;617;943;240;719;27...</td>\n",
       "    </tr>\n",
       "    <tr>\n",
       "      <th>layout:xla:random:3e7156ac468dfb75cf5c9615e1e5887d</th>\n",
       "      <td>639;458;658;387;323;71;456;167;636;135;350;720...</td>\n",
       "    </tr>\n",
       "    <tr>\n",
       "      <th>layout:xla:random:5335ed13823b0a518ee3c79ba4425f34</th>\n",
       "      <td>890;425;767;518;504;343;344;860;67;528;479;358...</td>\n",
       "    </tr>\n",
       "    <tr>\n",
       "      <th>layout:xla:random:937ee0eb0d5d6151b7b8252933b5c1c9</th>\n",
       "      <td>335;305;756;340;46;426;277;900;214;373;530;609...</td>\n",
       "    </tr>\n",
       "    <tr>\n",
       "      <th>layout:xla:random:cd708819d3f5103afd6460b15e74eaf3</th>\n",
       "      <td>566;412;507;407;549;982;803;868;220;25;313;3;1...</td>\n",
       "    </tr>\n",
       "    <tr>\n",
       "      <th>layout:xla:random:db59a991b7c607634f13570d52ce885f</th>\n",
       "      <td>136;60;895;12;685;370;107;421;679;241;87;848;4...</td>\n",
       "    </tr>\n",
       "    <tr>\n",
       "      <th>layout:xla:random:e8a3a1401b5e79f66d7037e424f3b6df</th>\n",
       "      <td>198;45;607;663;524;803;800;794;847;396;464;578...</td>\n",
       "    </tr>\n",
       "    <tr>\n",
       "      <th>layout:xla:random:fbaa8bb6a1aed9988281085c91065c05</th>\n",
       "      <td>382;81;58;704;150;96;42;514;620;47;979;655;491...</td>\n",
       "    </tr>\n",
       "  </tbody>\n",
       "</table>\n",
       "</div>"
      ],
      "text/plain": [
       "                                                                                           TopConfigs\n",
       "ID                                                                                                   \n",
       "layout:xla:random:05ae41e26dd3c4c06390371a0423233c  645;960;471;511;674;581;114;617;943;240;719;27...\n",
       "layout:xla:random:3e7156ac468dfb75cf5c9615e1e5887d  639;458;658;387;323;71;456;167;636;135;350;720...\n",
       "layout:xla:random:5335ed13823b0a518ee3c79ba4425f34  890;425;767;518;504;343;344;860;67;528;479;358...\n",
       "layout:xla:random:937ee0eb0d5d6151b7b8252933b5c1c9  335;305;756;340;46;426;277;900;214;373;530;609...\n",
       "layout:xla:random:cd708819d3f5103afd6460b15e74eaf3  566;412;507;407;549;982;803;868;220;25;313;3;1...\n",
       "layout:xla:random:db59a991b7c607634f13570d52ce885f  136;60;895;12;685;370;107;421;679;241;87;848;4...\n",
       "layout:xla:random:e8a3a1401b5e79f66d7037e424f3b6df  198;45;607;663;524;803;800;794;847;396;464;578...\n",
       "layout:xla:random:fbaa8bb6a1aed9988281085c91065c05  382;81;58;704;150;96;42;514;620;47;979;655;491..."
      ]
     },
     "execution_count": 5,
     "metadata": {},
     "output_type": "execute_result"
    }
   ],
   "source": [
    "xla_random"
   ]
  }
 ],
 "metadata": {
  "kernelspec": {
   "display_name": "gfos",
   "language": "python",
   "name": "python3"
  },
  "language_info": {
   "codemirror_mode": {
    "name": "ipython",
    "version": 3
   },
   "file_extension": ".py",
   "mimetype": "text/x-python",
   "name": "python",
   "nbconvert_exporter": "python",
   "pygments_lexer": "ipython3",
   "version": "3.10.12"
  },
  "orig_nbformat": 4
 },
 "nbformat": 4,
 "nbformat_minor": 2
}
