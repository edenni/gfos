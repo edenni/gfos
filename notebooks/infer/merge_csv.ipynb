{
    "cells": [
        {
            "cell_type": "code",
            "execution_count": 2,
            "metadata": {},
            "outputs": [],
            "source": [
                "import pandas as pd\n",
                "from datetime import datetime\n",
                "\n",
                "\n",
                "sample_sub = pd.read_csv(\"../../output/sub043_2023-11-09.csv\")\n",
                "new_result = pd.read_csv(r\"G:\\projects\\gfos\\logs\\pipeline\\layout_xla_default_20231113_104312\\multiruns\\2023-11-13_10-43-12\\1\\wandb\\run-20231113_114610-2mgoogqh\\files\\xla_default_2mgoogqh.csv\")\n",
                "\n",
                "sample_sub.set_index(\"ID\", inplace=True)\n",
                "new_result.set_index(\"ID\", inplace=True)\n",
                "\n",
                "sample_sub.loc[new_result.index, \"TopConfigs\"] = new_result[\"TopConfigs\"]\n",
                "\n",
                "dt = datetime.now().strftime(\"%Y%m%d%H%M%S\")\n",
                "sample_sub.reset_index().to_csv(f\"../../output/submission_{dt}.csv\", index=False)"
            ]
        }
    ],
    "metadata": {
        "kernelspec": {
            "display_name": "gfos",
            "language": "python",
            "name": "python3"
        },
        "language_info": {
            "codemirror_mode": {
                "name": "ipython",
                "version": 3
            },
            "file_extension": ".py",
            "mimetype": "text/x-python",
            "name": "python",
            "nbconvert_exporter": "python",
            "pygments_lexer": "ipython3",
            "version": "3.10.12"
        },
        "orig_nbformat": 4
    },
    "nbformat": 4,
    "nbformat_minor": 2
}
