{
    "cells": [
        {
            "cell_type": "code",
            "execution_count": 1,
            "metadata": {},
            "outputs": [],
            "source": [
                "import pandas as pd\n",
                "from datetime import datetime\n",
                "\n",
                "\n",
                "sample_sub = pd.read_csv(\"../../output/sub043_2023-11-09.csv\")\n",
                "new_result = pd.read_csv(r\"G:\\projects\\gfos\\logs\\pipeline\\layout_xla_default_20231117_101831\\runs\\2023-11-17_10-18-31\\wandb\\run-20231117_101957-vomfs6ai\\files\\xla_default_vomfs6ai.csv\")\n",
                "\n",
                "sample_sub.set_index(\"ID\", inplace=True)\n",
                "new_result.set_index(\"ID\", inplace=True)\n",
                "\n",
                "sample_sub.loc[new_result.index, \"TopConfigs\"] = new_result[\"TopConfigs\"]\n",
                "\n",
                "dt = datetime.now().strftime(\"%Y%m%d%H%M%S\")\n",
                "sample_sub.reset_index().to_csv(f\"../../output/submission_{dt}.csv\", index=False)"
            ]
        }
    ],
    "metadata": {
        "kernelspec": {
            "display_name": "gfos",
            "language": "python",
            "name": "python3"
        },
        "language_info": {
            "codemirror_mode": {
                "name": "ipython",
                "version": 3
            },
            "file_extension": ".py",
            "mimetype": "text/x-python",
            "name": "python",
            "nbconvert_exporter": "python",
            "pygments_lexer": "ipython3",
            "version": "3.10.12"
        },
        "orig_nbformat": 4
    },
    "nbformat": 4,
    "nbformat_minor": 2
}
