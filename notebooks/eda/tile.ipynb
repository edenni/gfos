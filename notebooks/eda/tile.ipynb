{
 "cells": [
  {
   "cell_type": "code",
   "execution_count": 1,
   "metadata": {},
   "outputs": [],
   "source": [
    "import numpy as np\n",
    "from pathlib import Path"
   ]
  },
  {
   "cell_type": "code",
   "execution_count": 2,
   "metadata": {},
   "outputs": [],
   "source": [
    "tile_dir = Path(\"../../data/npz_all/npz/tile/xla/\")\n",
    "train_dir = tile_dir / \"train\"\n",
    "valid_dir = tile_dir / \"valid\"\n",
    "test_dir = tile_dir / \"test\"\n"
   ]
  },
  {
   "cell_type": "code",
   "execution_count": 15,
   "metadata": {},
   "outputs": [],
   "source": [
    "all_files = list(train_dir.glob(\"*.npz\")) + list(valid_dir.glob(\"*.npz\")) + list(test_dir.glob(\"*.npz\"))"
   ]
  },
  {
   "cell_type": "code",
   "execution_count": 6,
   "metadata": {},
   "outputs": [
    {
     "name": "stdout",
     "output_type": "stream",
     "text": [
      "../../data/npz_all/npz/tile/xla/train/mlperf_maskrcnn_batch_2_-18c2c44102113665.npz\n",
      "<numpy.lib.npyio.NpzFile object at 0x7f4cde8e3eb0>\n"
     ]
    }
   ],
   "source": [
    "for file in train_dir.iterdir():\n",
    "    print(file)\n",
    "    data = np.load(file)\n",
    "    print(data)\n",
    "    break"
   ]
  },
  {
   "cell_type": "code",
   "execution_count": 8,
   "metadata": {},
   "outputs": [
    {
     "data": {
      "text/plain": [
       "['node_feat',\n",
       " 'node_opcode',\n",
       " 'edge_index',\n",
       " 'config_feat',\n",
       " 'config_runtime',\n",
       " 'config_runtime_normalizers']"
      ]
     },
     "execution_count": 8,
     "metadata": {},
     "output_type": "execute_result"
    }
   ],
   "source": [
    "data.files"
   ]
  },
  {
   "cell_type": "code",
   "execution_count": 9,
   "metadata": {},
   "outputs": [
    {
     "name": "stdout",
     "output_type": "stream",
     "text": [
      "node_feat (20, 140)\n",
      "node_opcode (20,)\n",
      "edge_index (19, 2)\n",
      "config_feat (8209, 24)\n",
      "config_runtime (8209,)\n",
      "config_runtime_normalizers (8209,)\n"
     ]
    }
   ],
   "source": [
    "feats= ['node_feat',\n",
    " 'node_opcode',\n",
    " 'edge_index',\n",
    " 'config_feat',\n",
    " 'config_runtime',\n",
    " 'config_runtime_normalizers']\n",
    "\n",
    "for f in feats:\n",
    "    print(f, data[f].shape)"
   ]
  },
  {
   "cell_type": "code",
   "execution_count": 18,
   "metadata": {},
   "outputs": [],
   "source": [
    "tile_norms = {}"
   ]
  },
  {
   "cell_type": "code",
   "execution_count": 19,
   "metadata": {},
   "outputs": [],
   "source": [
    "node_feats = []\n",
    "for file in all_files:\n",
    "    npz = np.load(file)\n",
    "    # config_feat = npz[\"config_feat\"]\n",
    "    node_feat = npz[\"node_feat\"]\n",
    "    node_feats.append(node_feat)\n",
    "    \n",
    "node_feats = np.concatenate(node_feats, axis=0)\n",
    "# data[\"config_feat\"].min(axis=0) == data[\"config_feat\"].max(axis=0)\n",
    "\n",
    "tile_norms[\"node_feat_mask\"] = (node_feats.min(axis=0) != node_feats.max(axis=0)).tolist()\n",
    "tile_norms[\"node_feat_min\"] = node_feats.min(axis=0).tolist()\n",
    "tile_norms[\"node_feat_max\"] = node_feats.max(axis=0).tolist()\n"
   ]
  },
  {
   "cell_type": "code",
   "execution_count": 28,
   "metadata": {},
   "outputs": [],
   "source": [
    "config_feats = []\n",
    "for file in all_files:\n",
    "    npz = np.load(file)\n",
    "    config_feat = npz[\"config_feat\"]\n",
    "    config_feats.append(config_feat)\n",
    "    \n",
    "config_feats = np.concatenate(config_feats, axis=0)\n",
    "\n",
    "tile_norms[\"config_feat_mask\"] = (config_feats.min(axis=0) != config_feats.max(axis=0)).tolist()\n",
    "tile_norms[\"config_feat_min\"] = config_feats.min(axis=0).tolist()\n",
    "tile_norms[\"config_feat_max\"] = config_feats.max(axis=0).tolist()\n"
   ]
  },
  {
   "cell_type": "code",
   "execution_count": 32,
   "metadata": {},
   "outputs": [],
   "source": [
    "import json"
   ]
  },
  {
   "cell_type": "code",
   "execution_count": 33,
   "metadata": {},
   "outputs": [],
   "source": [
    "json.dump(tile_norms, open(\"../../data/tile_normalizers.json\", \"w\"))"
   ]
  }
 ],
 "metadata": {
  "kernelspec": {
   "display_name": "gfos",
   "language": "python",
   "name": "python3"
  },
  "language_info": {
   "codemirror_mode": {
    "name": "ipython",
    "version": 3
   },
   "file_extension": ".py",
   "mimetype": "text/x-python",
   "name": "python",
   "nbconvert_exporter": "python",
   "pygments_lexer": "ipython3",
   "version": "3.10.13"
  }
 },
 "nbformat": 4,
 "nbformat_minor": 2
}
