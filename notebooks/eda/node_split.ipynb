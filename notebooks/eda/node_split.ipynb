{
 "cells": [
  {
   "cell_type": "code",
   "execution_count": 3,
   "metadata": {},
   "outputs": [],
   "source": [
    "import numpy as np\n",
    "\n",
    "from gfos.data.utils import load_layout\n",
    "\n",
    "LAYOUT_DIR = r\"H:\\data\\gfos\\predict-ai-model-runtime\\npz_all\\npz\\layout\"\n"
   ]
  },
  {
   "cell_type": "code",
   "execution_count": 4,
   "metadata": {},
   "outputs": [],
   "source": [
    "layout_files = load_layout(LAYOUT_DIR, \"random\")"
   ]
  },
  {
   "cell_type": "code",
   "execution_count": 14,
   "metadata": {},
   "outputs": [],
   "source": [
    "large_graph = np.load(layout_files[\"train\"][208])"
   ]
  },
  {
   "cell_type": "code",
   "execution_count": 15,
   "metadata": {},
   "outputs": [
    {
     "data": {
      "text/plain": [
       "(40332, 140)"
      ]
     },
     "execution_count": 15,
     "metadata": {},
     "output_type": "execute_result"
    }
   ],
   "source": [
    "large_graph[\"node_feat\"].shape"
   ]
  },
  {
   "cell_type": "code",
   "execution_count": 21,
   "metadata": {},
   "outputs": [
    {
     "data": {
      "text/plain": [
       "array([[    0,     9,    12,    15,    18,    27,    30,    33,    36,\n",
       "           45,    48,    51,    54,    63,    66,    69,    72,    81,\n",
       "           84,    87,    90,    99,   102,   105,   108,   117,   120,\n",
       "          123,   126,   135,   138,   141,   144,   153,   156,   159,\n",
       "          162,   171,   174,   177,   180,   189,   192,   195,   198,\n",
       "          207,   210,   213,   216,   225,   228,   231,   234,   243,\n",
       "          246,   249,   252,   261,   264,   267,   270,   279,   282,\n",
       "          285,   288,   297,   300,   303,   306,   315,   318,   321,\n",
       "          324,   333,   336,   339,   342,   351,   354,   357,   360,\n",
       "          369,   372,   375,   378,   387,   390,   393,   396,   405,\n",
       "          408,   411,   414,   437,   440,   446,   449,   452,   455,\n",
       "          458,   461,   464,   467,   470,   473,   476,   479,   482,\n",
       "          485,   488,   491,   494,   497,   500,   503,   506,   509,\n",
       "          512,   515,   518,   521,   524,   527,   530,   533,   536,\n",
       "          539,   542,   545,   548,   551,   554,   557,   560,   563,\n",
       "          566,   569,   572,   575,   578,   581,   584,   587,   590,\n",
       "          593,   596,   599,   602,   605,   608,   611,   614,   617,\n",
       "          620,   623,   626,   629,   632,   635,   638,   641,   644,\n",
       "          647,   650,   653,   656,   659,   662,   665,   668,   671,\n",
       "          674,   677,   680,   683,   686,   689,   692,   695,   698,\n",
       "          701,   704,   707,   710,   713,   716,   719,   722,   725,\n",
       "          728,   731,   734,   737,   740,   743,   746,   749,   752,\n",
       "          755,   758,   761,   764,   767,   770,   773,   776,   779,\n",
       "          782,   785,   788,   791,   794,   797,   800,   803,   806,\n",
       "          809,   818,   824,   830,   836,   842,   848,   854,   860,\n",
       "          869,   878,   884,   890,   896,   902,   908,   914,   920,\n",
       "          926,   935,   944,   950,   956,   962,   968,   974,   980,\n",
       "          986,   992,  1001,  1010,  1016,  1022,  1028,  1034,  1040,\n",
       "         1046,  1052,  1058,  1067,  1076,  1082,  1088,  1094,  1100,\n",
       "         1106,  1112,  1118,  1124,  1133,  1142,  1148,  1154,  1160,\n",
       "         1166,  1172,  1178,  1184,  1190,  1199,  1208,  1214,  1220,\n",
       "         1226,  1232,  1238,  1244,  1250,  1256,  1265,  1274,  1280,\n",
       "         1286,  1292,  1298,  1304,  1310,  1316,  1322,  1331,  1340,\n",
       "         1346,  1352,  1358,  1364,  1370,  1376,  1382,  1388,  1397,\n",
       "         1406,  1412,  1418,  1424,  1430,  1436,  1442,  1448,  1454,\n",
       "         1463,  1472,  1478,  1484,  1490,  1496,  1502,  1508,  1514,\n",
       "         1520,  1529,  1538,  1544,  1550,  1556,  1562,  1568,  1574,\n",
       "         1580,  1586,  1595,  1604,  1610,  1616,  1622,  1628,  1634,\n",
       "         1640,  1646,  1652,  1661,  1670,  1676,  1682,  1688,  1694,\n",
       "         1700,  1706,  1712,  1718,  1727,  1736,  1742,  1748,  1754,\n",
       "         1760,  1766,  1772,  1778,  1784,  1793,  1802,  1808,  1814,\n",
       "         1820,  1826,  1832,  1838,  1844,  1850,  1859,  1868,  1874,\n",
       "         1880,  1886,  1892,  1898,  1904,  1910,  1916,  1925,  1934,\n",
       "         1940,  1946,  1952,  1958,  1964,  1970,  1976,  1982,  1991,\n",
       "         2000,  2006,  2012,  2018,  2024,  2030,  2036,  2042,  2048,\n",
       "         2057,  2066,  2072,  2078,  2084,  2090,  2096,  2102,  2108,\n",
       "         2114,  2123,  2132,  2138,  2144,  2150,  2156,  2162,  2168,\n",
       "         2174,  2180,  2189,  2198,  2204,  2210,  2216,  2222,  2228,\n",
       "         2234,  2240,  2246,  2255,  2264,  2270,  2276,  2282,  2288,\n",
       "         2294,  2300,  2306,  2312,  2321,  2330,  2336,  2342,  2351,\n",
       "         2357,  2363,  2369,  2375,  2390,  2396,  3605,  3608,  3611,\n",
       "         3617,  3620,  3623,  3626,  3629,  3632,  3635,  3638,  3650,\n",
       "        40332]], dtype=int64)"
      ]
     },
     "execution_count": 21,
     "metadata": {},
     "output_type": "execute_result"
    }
   ],
   "source": [
    "large_graph[\"node_splits\"]"
   ]
  },
  {
   "cell_type": "code",
   "execution_count": 12,
   "metadata": {},
   "outputs": [
    {
     "name": "stdout",
     "output_type": "stream",
     "text": [
      "alexnet_train_batch_32.npz has 2 subgraphs, 372 nodes\n",
      "bert_classifier.2x2.fp32.npz has 468 subgraphs, 40332 nodes\n",
      "efficientnet_b7_eval_batch_1.npz has 2 subgraphs, 43615 nodes\n",
      "inception_v2_batch_128_train.npz has 2 subgraphs, 8836 nodes\n",
      "inception_v2_batch_8_train.npz has 2 subgraphs, 8836 nodes\n",
      "inception_v3_batch_8_train.npz has 2 subgraphs, 12069 nodes\n",
      "inference_mlperf_ssd_1200_batch_1.npz has 481 subgraphs, 25544 nodes\n",
      "inference_mlperf_ssd_1200_batch_128.npz has 481 subgraphs, 24790 nodes\n",
      "inference_mlperf_ssd_1200_batch_2.npz has 481 subgraphs, 24793 nodes\n",
      "magenta.npz has 2 subgraphs, 12062 nodes\n",
      "magenta_dynamic.npz has 4 subgraphs, 650 nodes\n",
      "mask_rcnn_batch_16_bf16_img1024.npz has 67 subgraphs, 13342 nodes\n",
      "mask_rcnn_batch_4_bf16_img1408.npz has 67 subgraphs, 12565 nodes\n",
      "mask_rcnn_resnet50.4x4.bf16.performance.npz has 97 subgraphs, 15748 nodes\n",
      "mlperf_maskrcnn_1_shard_batch_4.npz has 67 subgraphs, 17135 nodes\n",
      "mlperf_maskrcnn_batch_2.npz has 67 subgraphs, 16818 nodes\n",
      "mlperf_maskrcnn_batch_4.npz has 67 subgraphs, 17472 nodes\n",
      "mlperf_nmt_1_shard_batch_8.npz has 221 subgraphs, 15642 nodes\n",
      "mlperf_nmt_batch_64.npz has 221 subgraphs, 15809 nodes\n",
      "mlperf_nmt_batch_8.npz has 221 subgraphs, 15809 nodes\n",
      "mlperf_resnet.npz has 320 subgraphs, 9257 nodes\n",
      "mlperf_resnet_batch_128_1_shard.npz has 320 subgraphs, 8636 nodes\n",
      "mlperf_ssd_1_shard_batch_8_fast_epoch.npz has 18 subgraphs, 5358 nodes\n",
      "mlperf_ssd_2_shard_batch_8_fast_epoch.npz has 18 subgraphs, 5670 nodes\n",
      "mlperf_transformer.npz has 303 subgraphs, 13502 nodes\n",
      "mnasnet_a1_batch_128.npz has 2 subgraphs, 8847 nodes\n",
      "mnasnet_b1_batch_128.npz has 2 subgraphs, 7768 nodes\n",
      "openai_v0_rnn_natural.npz has 4 subgraphs, 1383 nodes\n",
      "openai_v0_rnn_optimized.npz has 4 subgraphs, 1277 nodes\n",
      "resnet_v1_50_official_batch_128_f32.npz has 2 subgraphs, 5809 nodes\n",
      "resnet_v1_50_official_batch_32_bf16.npz has 2 subgraphs, 6136 nodes\n",
      "resnet_v2_101_batch_128.npz has 2 subgraphs, 10092 nodes\n",
      "resnet_v2_152_batch_128.npz has 2 subgraphs, 15022 nodes\n",
      "resnet_v2_152_batch_64.npz has 2 subgraphs, 15022 nodes\n",
      "resnet_v2_200_batch_32.npz has 2 subgraphs, 19662 nodes\n",
      "resnet_v2_200_batch_64.npz has 2 subgraphs, 19662 nodes\n",
      "resnet_v2_50_batch_128.npz has 2 subgraphs, 5162 nodes\n",
      "resnet_v2_50_batch_16.npz has 2 subgraphs, 5162 nodes\n",
      "retinanet.2x2.fp32.npz has 14 subgraphs, 13867 nodes\n",
      "retinanet.4x4.fp32.npz has 14 subgraphs, 13867 nodes\n",
      "shapemask.4x4.fp32.npz has 33 subgraphs, 19348 nodes\n",
      "transformer_tf2_dynamic_shape.npz has 237 subgraphs, 14680 nodes\n",
      "unet3d.npz has 2 subgraphs, 2774 nodes\n",
      "xception_imagenet.npz has 3 subgraphs, 4748 nodes\n",
      "inception_v3_batch_128_train.npz has 2 subgraphs, 12067 nodes\n",
      "mlperf_bert_batch_24_2x2.npz has 823 subgraphs, 19541 nodes\n",
      "resnet_v1_50_official_batch_128_bf16.npz has 2 subgraphs, 6135 nodes\n",
      "unet_3d.4x4.bf16.npz has 7 subgraphs, 3163 nodes\n",
      "05ae41e26dd3c4c06390371a0423233c.npz has 2 subgraphs, 43615 nodes\n",
      "5335ed13823b0a518ee3c79ba4425f34.npz has 2 subgraphs, 43615 nodes\n",
      "cd708819d3f5103afd6460b15e74eaf3.npz has 3 subgraphs, 490 nodes\n",
      "db59a991b7c607634f13570d52ce885f.npz has 2 subgraphs, 5810 nodes\n",
      "fbaa8bb6a1aed9988281085c91065c05.npz has 481 subgraphs, 24790 nodes\n"
     ]
    }
   ],
   "source": [
    "for files in layout_files.values():\n",
    "    for file in files:\n",
    "        graph = np.load(file)\n",
    "        if \"node_splits\" in graph.files and graph[\"node_splits\"].shape[1] > 2:\n",
    "            filename = file.split(\"\\\\\")[-1]\n",
    "            print(filename, f'has {graph[\"node_splits\"].shape[1] - 1} subgraphs, {graph[\"node_feat\"].shape[0]} nodes')"
   ]
  },
  {
   "cell_type": "code",
   "execution_count": 16,
   "metadata": {},
   "outputs": [
    {
     "data": {
      "text/plain": [
       "-1.0"
      ]
     },
     "execution_count": 16,
     "metadata": {},
     "output_type": "execute_result"
    }
   ],
   "source": [
    "from gfos.metrics import metric_for_layout_collections\n",
    "\n",
    "a = np.array([1, 2, 3, 4], dtype=np.int64)\n",
    "b = np.array([4, 3, 2, 1], dtype=np.int64)\n",
    "\n",
    "metric_for_layout_collections(a, b)"
   ]
  }
 ],
 "metadata": {
  "kernelspec": {
   "display_name": "gfos",
   "language": "python",
   "name": "python3"
  },
  "language_info": {
   "codemirror_mode": {
    "name": "ipython",
    "version": 3
   },
   "file_extension": ".py",
   "mimetype": "text/x-python",
   "name": "python",
   "nbconvert_exporter": "python",
   "pygments_lexer": "ipython3",
   "version": "3.10.12"
  },
  "orig_nbformat": 4
 },
 "nbformat": 4,
 "nbformat_minor": 2
}
