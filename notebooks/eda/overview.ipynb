{
 "cells": [
  {
   "cell_type": "markdown",
   "metadata": {},
   "source": [
    "An overview on the training data."
   ]
  },
  {
   "cell_type": "code",
   "execution_count": 1,
   "metadata": {},
   "outputs": [],
   "source": [
    "import os\n",
    "import sys\n",
    "from pathlib import Path\n",
    "from functools import reduce\n",
    "\n",
    "import tqdm\n",
    "import numpy as np\n",
    "import pandas as pd\n",
    "import matplotlib.pyplot as plt"
   ]
  },
  {
   "cell_type": "code",
   "execution_count": 2,
   "metadata": {},
   "outputs": [],
   "source": [
    "data_dir = Path(r\"H:\\data\\pamr\\predict-ai-model-runtime\\npz_all\\npz\")\n",
    "layout_dir = data_dir / \"layout\"\n",
    "nlp_dir = layout_dir / \"nlp\"\n",
    "xla_dir = layout_dir / \"xla\"\n",
    "xdt_dir = xla_dir / \"default/train\"\n",
    "xrt_dir = xla_dir / \"random/train\"\n",
    "ndt_dir = nlp_dir / \"default/train\"\n",
    "nrt_dir = nlp_dir / \"random/train\""
   ]
  },
  {
   "cell_type": "markdown",
   "metadata": {},
   "source": [
    "## Files"
   ]
  },
  {
   "cell_type": "code",
   "execution_count": 3,
   "metadata": {},
   "outputs": [],
   "source": [
    "def load_npzs(data_dir: str):\n",
    "    return [\n",
    "        np.load(data_dir + \"/\" + str(f))\n",
    "        for f in os.listdir(data_dir)\n",
    "        if f.endswith(\".npz\")\n",
    "    ]\n",
    "\n",
    "\n",
    "def load_all_layouts(layout_dir: str):\n",
    "    return {\n",
    "        \"ndt\": load_npzs(layout_dir + \"/nlp/default/train\"),\n",
    "        \"nrt\": load_npzs(layout_dir + \"/nlp/random/train\"),\n",
    "        \"xdt\": load_npzs(layout_dir + \"/xla/default/train\"),\n",
    "        \"xrt\": load_npzs(layout_dir + \"/xla/random/train\"),\n",
    "    }"
   ]
  },
  {
   "cell_type": "code",
   "execution_count": 4,
   "metadata": {},
   "outputs": [
    {
     "name": "stdout",
     "output_type": "stream",
     "text": [
      "Number of files in layout: 535\n"
     ]
    }
   ],
   "source": [
    "files = load_all_layouts(str(layout_dir))\n",
    "num_files = reduce(lambda x, y: x + y, [len(v) for v in files.values()])\n",
    "print(f\"Number of files in layout: {num_files}\")"
   ]
  },
  {
   "cell_type": "code",
   "execution_count": 5,
   "metadata": {},
   "outputs": [
    {
     "name": "stdout",
     "output_type": "stream",
     "text": [
      "Number of model in nlp default: 198\n",
      "Number of model in nlp random: 207\n",
      "Models only in nlp random:\n"
     ]
    },
    {
     "data": {
      "text/plain": [
       "{'small_bert_bert_en_uncased_L-10_H-128_A-2_batch_size_16_test.npz',\n",
       " 'small_bert_bert_en_uncased_L-10_H-256_A-4_batch_size_16_train.npz',\n",
       " 'small_bert_bert_en_uncased_L-12_H-128_A-2_batch_size_16_test.npz',\n",
       " 'small_bert_bert_en_uncased_L-2_H-256_A-4_batch_size_64_test.npz',\n",
       " 'small_bert_bert_en_uncased_L-4_H-128_A-2_batch_size_32_test.npz',\n",
       " 'small_bert_bert_en_uncased_L-4_H-256_A-4_batch_size_16_test.npz',\n",
       " 'small_bert_bert_en_uncased_L-6_H-128_A-2_batch_size_32_test.npz',\n",
       " 'small_bert_bert_en_uncased_L-8_H-128_A-2_batch_size_16_test.npz',\n",
       " 'small_bert_bert_en_uncased_L-8_H-256_A-4_batch_size_16_train.npz'}"
      ]
     },
     "execution_count": 5,
     "metadata": {},
     "output_type": "execute_result"
    }
   ],
   "source": [
    "nd_models = [p.name for p in ndt_dir.iterdir()]\n",
    "nr_models = [p.name for p in nrt_dir.iterdir()]\n",
    "\n",
    "print(f\"Number of model in nlp default: {len(nd_models)}\")\n",
    "print(f\"Number of model in nlp random: {len(nr_models)}\")\n",
    "\n",
    "print(\"Models only in nlp random:\")\n",
    "set(nr_models) - set(nd_models)\n"
   ]
  },
  {
   "cell_type": "code",
   "execution_count": 6,
   "metadata": {},
   "outputs": [
    {
     "name": "stdout",
     "output_type": "stream",
     "text": [
      "Number of model in xla default: 61\n",
      "Number of model in xla random: 69\n",
      "Models only in xla random:\n"
     ]
    },
    {
     "data": {
      "text/plain": [
       "{'mlperf_maskrcnn_1_shard_batch_4.npz',\n",
       " 'mlperf_maskrcnn_batch_2.npz',\n",
       " 'mlperf_maskrcnn_batch_4.npz',\n",
       " 'mlperf_nmt_1_shard_batch_8.npz',\n",
       " 'mlperf_nmt_batch_8.npz',\n",
       " 'openai_v0_rnn_natural.npz',\n",
       " 'openai_v0_rnn_optimized.npz',\n",
       " 'trax_lsh_attention.npz'}"
      ]
     },
     "execution_count": 6,
     "metadata": {},
     "output_type": "execute_result"
    }
   ],
   "source": [
    "xd_models = [p.name for p in xdt_dir.iterdir()]\n",
    "xr_models = [p.name for p in xrt_dir.iterdir()]\n",
    "\n",
    "print(f\"Number of model in xla default: {len(xd_models)}\")\n",
    "print(f\"Number of model in xla random: {len(xr_models)}\")\n",
    "\n",
    "print(\"Models only in xla random:\")\n",
    "set(xr_models) - set(xd_models)"
   ]
  },
  {
   "cell_type": "code",
   "execution_count": null,
   "metadata": {},
   "outputs": [],
   "source": []
  }
 ],
 "metadata": {
  "kernelspec": {
   "display_name": "gfos",
   "language": "python",
   "name": "python3"
  },
  "language_info": {
   "codemirror_mode": {
    "name": "ipython",
    "version": 3
   },
   "file_extension": ".py",
   "mimetype": "text/x-python",
   "name": "python",
   "nbconvert_exporter": "python",
   "pygments_lexer": "ipython3",
   "version": "3.10.12"
  },
  "orig_nbformat": 4
 },
 "nbformat": 4,
 "nbformat_minor": 2
}
