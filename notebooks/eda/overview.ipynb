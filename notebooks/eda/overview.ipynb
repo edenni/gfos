{
 "cells": [
  {
   "cell_type": "markdown",
   "metadata": {},
   "source": [
    "An overview on the training data."
   ]
  },
  {
   "cell_type": "code",
   "execution_count": 9,
   "metadata": {},
   "outputs": [],
   "source": [
    "import os\n",
    "import sys\n",
    "from pathlib import Path\n",
    "\n",
    "import tqdm\n",
    "import numpy as np\n",
    "import pandas as pd\n",
    "import matplotlib.pyplot as plt"
   ]
  },
  {
   "cell_type": "code",
   "execution_count": 14,
   "metadata": {},
   "outputs": [],
   "source": [
    "data_dir = Path(r\"H:\\data\\pamr\\predict-ai-model-runtime\\npz_all\\npz\")\n",
    "layout_dir = data_dir / \"layout\"\n",
    "nlp_dir = layout_dir / \"nlp\"\n",
    "xla_dir = layout_dir / \"xla\""
   ]
  },
  {
   "cell_type": "code",
   "execution_count": 16,
   "metadata": {},
   "outputs": [
    {
     "name": "stderr",
     "output_type": "stream",
     "text": [
      "Loading NDT --->: 198it [00:01, 148.06it/s]\n",
      "Loading NRT --->: 207it [00:01, 154.01it/s]\n",
      "Loading XDT --->: 61it [00:00, 149.01it/s]\n",
      "Loading NRT --->: 69it [00:00, 160.10it/s]\n"
     ]
    },
    {
     "data": {
      "text/plain": [
       "535"
      ]
     },
     "execution_count": 16,
     "metadata": {},
     "output_type": "execute_result"
    }
   ],
   "source": [
    "ndt = [\n",
    "    np.load(path)\n",
    "    for path in tqdm.tqdm(\n",
    "        (nlp_dir / \"default/train\").iterdir(), desc=\"Loading NDT --->\"\n",
    "    )\n",
    "]\n",
    "nrt = [\n",
    "    np.load(path)\n",
    "    for path in tqdm.tqdm(\n",
    "        (nlp_dir / \"random/train\").iterdir(), desc=\"Loading NRT --->\"\n",
    "    )\n",
    "]\n",
    "xdt = [\n",
    "    np.load(path)\n",
    "    for path in tqdm.tqdm(\n",
    "        (xla_dir / \"default/train\").iterdir(),\n",
    "        desc=\"Loading XDT --->\",\n",
    "    )\n",
    "]\n",
    "xrt = [\n",
    "    np.load(path)\n",
    "    for path in tqdm.tqdm(\n",
    "        (xla_dir / \"random/train\").iterdir(),\n",
    "        desc=\"Loading NRT --->\",\n",
    "    )\n",
    "]\n",
    "\n",
    "files = ndt + nrt + xdt + xrt\n",
    "len(files)"
   ]
  },
  {
   "cell_type": "code",
   "execution_count": 24,
   "metadata": {},
   "outputs": [
    {
     "name": "stderr",
     "output_type": "stream",
     "text": [
      "Reading Node Feats --->: 100%|██████████| 535/535 [00:02<00:00, 208.84it/s]\n",
      "Loading NDT --->: 0it [06:06, ?it/s]\n",
      "Reading Node Opcodes --->: 100%|██████████| 535/535 [00:00<00:00, 4102.64it/s]\n",
      "Reading Edge Index --->: 100%|██████████| 535/535 [00:00<00:00, 1830.51it/s]\n",
      "Reading Node Config Ids --->: 100%|██████████| 535/535 [00:00<00:00, 2687.55it/s]\n",
      "Reading Node Config Runtime --->: 100%|██████████| 535/535 [00:00<00:00, 550.70it/s]\n",
      "Reading Node Splits --->: 100%|██████████| 535/535 [00:00<00:00, 9059.52it/s]\n"
     ]
    }
   ],
   "source": [
    "data = pd.DataFrame({\n",
    "    'node_feat' : [\n",
    "        val['node_feat']\n",
    "        for val \n",
    "        in tqdm.tqdm(files , total = len(files) , desc = 'Reading Node Feats --->')\n",
    "    ] , \n",
    "    'node_opcode' : [\n",
    "        val['node_opcode']\n",
    "        for val \n",
    "        in tqdm.tqdm(files , total = len(files) , desc = 'Reading Node Opcodes --->')\n",
    "    ] , \n",
    "    'edge_index' : [\n",
    "        val['edge_index']\n",
    "        for val \n",
    "        in tqdm.tqdm(files , total = len(files) , desc = 'Reading Edge Index --->')\n",
    "    ] , \n",
    "#     'node_config_feat' : [\n",
    "#         val['node_config_feat']\n",
    "#         for val \n",
    "#         in tqdm.tqdm(files , total = len(files) , desc = 'Reading Node Config Feats --->')\n",
    "#     ] , \n",
    "    'node_config_ids' : [\n",
    "        val['node_config_ids']\n",
    "        for val \n",
    "        in tqdm.tqdm(files , total = len(files) , desc = 'Reading Node Config Ids --->')\n",
    "    ] , \n",
    "    'config_runtime' : [\n",
    "        val['config_runtime']\n",
    "        for val \n",
    "        in tqdm.tqdm(files , total = len(files) , desc = 'Reading Node Config Runtime --->')\n",
    "    ] , \n",
    "    'node_splits' : [\n",
    "        val['node_splits']\n",
    "        for val \n",
    "        in tqdm.tqdm(files , total = len(files) , desc = 'Reading Node Splits --->')\n",
    "    ]\n",
    "})"
   ]
  }
 ],
 "metadata": {
  "kernelspec": {
   "display_name": "gfos",
   "language": "python",
   "name": "python3"
  },
  "language_info": {
   "codemirror_mode": {
    "name": "ipython",
    "version": 3
   },
   "file_extension": ".py",
   "mimetype": "text/x-python",
   "name": "python",
   "nbconvert_exporter": "python",
   "pygments_lexer": "ipython3",
   "version": "3.10.12"
  },
  "orig_nbformat": 4
 },
 "nbformat": 4,
 "nbformat_minor": 2
}
