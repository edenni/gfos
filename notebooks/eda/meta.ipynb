{
 "cells": [
  {
   "cell_type": "code",
   "execution_count": 20,
   "metadata": {},
   "outputs": [],
   "source": [
    "from functools import reduce\n",
    "from pathlib import Path\n",
    "\n",
    "import numpy as np\n",
    "import pandas as pd\n",
    "\n",
    "from gfos.data.utils import load_layout\n"
   ]
  },
  {
   "cell_type": "code",
   "execution_count": 21,
   "metadata": {},
   "outputs": [],
   "source": [
    "LAYOUT_DIR = r\"H:\\data\\gfos\\predict-ai-model-runtime\\npz_all\\npz\\layout\"\n",
    "\n",
    "all_layouts = load_layout(LAYOUT_DIR, model_type=\"xla\", compile_type=\"default\")\n",
    "all_layouts = reduce(lambda x, y: x + y, all_layouts.values())"
   ]
  },
  {
   "cell_type": "code",
   "execution_count": 22,
   "metadata": {},
   "outputs": [],
   "source": [
    "meta = []\n",
    "\n",
    "for file in all_layouts:\n",
    "    model_id = Path(file).stem\n",
    "    split = file.split(\"\\\\\")[-2]\n",
    "    data = dict(np.load(file))\n",
    "    \n",
    "    n = data[\"node_feat\"].shape[0]\n",
    "    nc = data[\"node_config_feat\"].shape[1]\n",
    "    c = data[\"node_config_feat\"].shape[0]\n",
    "    \n",
    "    meta.append({\n",
    "        \"model_id\": model_id,\n",
    "        \"split\": split,\n",
    "        \"n\": n,\n",
    "        \"nc\": nc,\n",
    "        \"c\": c,\n",
    "    })"
   ]
  },
  {
   "cell_type": "code",
   "execution_count": null,
   "metadata": {},
   "outputs": [],
   "source": [
    "df = pd.DataFrame.from_dict(meta)"
   ]
  }
 ],
 "metadata": {
  "kernelspec": {
   "display_name": "gfos",
   "language": "python",
   "name": "python3"
  },
  "language_info": {
   "codemirror_mode": {
    "name": "ipython",
    "version": 3
   },
   "file_extension": ".py",
   "mimetype": "text/x-python",
   "name": "python",
   "nbconvert_exporter": "python",
   "pygments_lexer": "ipython3",
   "version": "3.10.12"
  }
 },
 "nbformat": 4,
 "nbformat_minor": 2
}
