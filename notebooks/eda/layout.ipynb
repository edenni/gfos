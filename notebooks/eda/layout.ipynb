{
 "cells": [
  {
   "cell_type": "code",
   "execution_count": 1,
   "metadata": {},
   "outputs": [],
   "source": [
    "import os\n",
    "import sys\n",
    "from pathlib import Path\n",
    "\n",
    "import graphviz\n",
    "import numpy as np\n",
    "import pandas as pd\n",
    "import matplotlib.pyplot as plt"
   ]
  },
  {
   "cell_type": "code",
   "execution_count": 2,
   "metadata": {},
   "outputs": [],
   "source": [
    "def load_npzs(data_dir: str):\n",
    "    return [\n",
    "        np.load(data_dir + \"/\" + str(f))\n",
    "        for f in os.listdir(data_dir)\n",
    "        if f.endswith(\".npz\")\n",
    "    ]\n",
    "\n",
    "\n",
    "def load_all_layouts(layout_dir: str):\n",
    "    return {\n",
    "        \"ndt\": load_npzs(layout_dir + \"/nlp/default/train\"),\n",
    "        \"nrt\": load_npzs(layout_dir + \"/nlp/random/train\"),\n",
    "        \"xdt\": load_npzs(layout_dir + \"/xla/default/train\"),\n",
    "        \"xrt\": load_npzs(layout_dir + \"/xla/random/train\"),\n",
    "    }"
   ]
  },
  {
   "cell_type": "code",
   "execution_count": 3,
   "metadata": {},
   "outputs": [
    {
     "data": {
      "text/plain": [
       "dict_keys(['ndt', 'nrt', 'xdt', 'xrt'])"
      ]
     },
     "execution_count": 3,
     "metadata": {},
     "output_type": "execute_result"
    }
   ],
   "source": [
    "npzs = load_all_layouts(r\"H:\\data\\pamr\\predict-ai-model-runtime\\npz_all\\npz\\layout\")\n",
    "npzs.keys()"
   ]
  },
  {
   "cell_type": "code",
   "execution_count": 4,
   "metadata": {},
   "outputs": [
    {
     "data": {
      "text/plain": [
       "['node_feat',\n",
       " 'node_opcode',\n",
       " 'edge_index',\n",
       " 'node_config_feat',\n",
       " 'node_config_ids',\n",
       " 'config_runtime',\n",
       " 'node_splits']"
      ]
     },
     "execution_count": 4,
     "metadata": {},
     "output_type": "execute_result"
    }
   ],
   "source": [
    "npzs[\"ndt\"][0].files"
   ]
  },
  {
   "cell_type": "code",
   "execution_count": 5,
   "metadata": {},
   "outputs": [
    {
     "data": {
      "text/plain": [
       "(597, 2)"
      ]
     },
     "execution_count": 5,
     "metadata": {},
     "output_type": "execute_result"
    }
   ],
   "source": [
    "npzs[\"xdt\"][0][\"edge_index\"].shape"
   ]
  },
  {
   "cell_type": "code",
   "execution_count": 6,
   "metadata": {},
   "outputs": [
    {
     "data": {
      "text/plain": [
       "(372,)"
      ]
     },
     "execution_count": 6,
     "metadata": {},
     "output_type": "execute_result"
    }
   ],
   "source": [
    "npzs[\"xdt\"][0][\"node_opcode\"].shape"
   ]
  },
  {
   "cell_type": "markdown",
   "metadata": {},
   "source": [
    "## Draw model graph"
   ]
  },
  {
   "cell_type": "code",
   "execution_count": 7,
   "metadata": {},
   "outputs": [],
   "source": [
    "import yaml\n",
    "\n",
    "with open(\"../../data/node_idx2name.yaml\") as f:\n",
    "    node_idx2name = yaml.load(f, Loader=yaml.FullLoader)"
   ]
  },
  {
   "cell_type": "code",
   "execution_count": 8,
   "metadata": {},
   "outputs": [
    {
     "data": {
      "text/plain": [
       "'..\\\\..\\\\output\\\\alexnet_train_batch_32.gv.pdf'"
      ]
     },
     "execution_count": 8,
     "metadata": {},
     "output_type": "execute_result"
    }
   ],
   "source": [
    "model = npzs[\"xdt\"][0]\n",
    "model_name = model.fid.name.split(\"/\")[-1].split(\".\")[0]\n",
    "\n",
    "# Create a new directed graph\n",
    "dot = graphviz.Digraph(model_name)\n",
    "\n",
    "# Add nodes and edges to the graph\n",
    "for edge in model[\"edge_index\"]:\n",
    "    dot.edge(str(edge[0]), str(edge[1]))\n",
    "    \n",
    "for node in model[\"node_config_ids\"]:\n",
    "    dot.node(str(node), fillcolor=\"red\", style=\"filled\")\n",
    "\n",
    "for node, node_idx in enumerate(model[\"node_opcode\"]):\n",
    "    dot.node(str(node), label=node_idx2name[node_idx])\n",
    "\n",
    "dot.render(f\"../../output/{model_name}.gv\", view=True)"
   ]
  },
  {
   "cell_type": "code",
   "execution_count": null,
   "metadata": {},
   "outputs": [],
   "source": []
  }
 ],
 "metadata": {
  "kernelspec": {
   "display_name": "gfos",
   "language": "python",
   "name": "python3"
  },
  "language_info": {
   "codemirror_mode": {
    "name": "ipython",
    "version": 3
   },
   "file_extension": ".py",
   "mimetype": "text/x-python",
   "name": "python",
   "nbconvert_exporter": "python",
   "pygments_lexer": "ipython3",
   "version": "3.10.12"
  },
  "orig_nbformat": 4
 },
 "nbformat": 4,
 "nbformat_minor": 2
}
