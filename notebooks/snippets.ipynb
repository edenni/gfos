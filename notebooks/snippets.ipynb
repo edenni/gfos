{
 "cells": [
  {
   "cell_type": "markdown",
   "metadata": {},
   "source": [
    "test one sample"
   ]
  },
  {
   "cell_type": "code",
   "execution_count": null,
   "metadata": {},
   "outputs": [],
   "source": [
    "record = train_dataset[0]\n",
    "node_feat = record[\"node_feat\"]\n",
    "node_opcode = record[\"node_opcode\"]\n",
    "edge_index = record[\"edge_index\"]\n",
    "node_config_feat = record[\"node_config_feat\"]\n",
    "node_config_ids = record[\"node_config_ids\"]\n",
    "config_runtime = record[\"config_runtime\"]\n",
    "\n",
    "(\n",
    "    node_feat,\n",
    "    node_opcode,\n",
    "    edge_index,\n",
    "    node_config_feat,\n",
    "    node_config_ids,\n",
    "    config_runtime,\n",
    ") = (\n",
    "    node_feat.to(device),\n",
    "    node_opcode.to(device),\n",
    "    edge_index.to(device),\n",
    "    node_config_feat.to(device),\n",
    "    node_config_ids.to(device),\n",
    "    config_runtime.to(device),\n",
    ")\n",
    "\n",
    "out = model(\n",
    "    node_feat,\n",
    "    node_opcode,\n",
    "    edge_index,\n",
    "    node_config_feat,\n",
    "    node_config_ids,\n",
    ")\n",
    "\n",
    "loss = criterion(out, config_runtime)"
   ]
  },
  {
   "cell_type": "markdown",
   "metadata": {},
   "source": [
    "min max normalization"
   ]
  },
  {
   "cell_type": "code",
   "execution_count": null,
   "metadata": {},
   "outputs": [],
   "source": [
    "def min_max_normalize(feature_matrix: torch.Tensor) -> torch.Tensor:\n",
    "    max_feat, _ = torch.max(feature_matrix, dim=0, keepdim=True)\n",
    "    min_feat, _ = torch.min(feature_matrix, dim=0, keepdim=True)\n",
    "    used_columns = min_feat[0] != max_feat[0]\n",
    "\n",
    "    feature_matrix = feature_matrix[:, used_columns]\n",
    "    min_feat = min_feat[:, used_columns]\n",
    "    max_feat = max_feat[:, used_columns]\n",
    "    return (feature_matrix - min_feat) / (max_feat - min_feat)"
   ]
  }
 ],
 "metadata": {
  "language_info": {
   "name": "python"
  },
  "orig_nbformat": 4
 },
 "nbformat": 4,
 "nbformat_minor": 2
}
