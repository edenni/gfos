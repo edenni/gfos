{
 "cells": [
  {
   "cell_type": "code",
   "execution_count": 1,
   "metadata": {},
   "outputs": [],
   "source": [
    "import os\n",
    "from datetime import datetime\n",
    "from typing import Literal\n",
    "\n",
    "import torch\n",
    "import wandb\n",
    "import numpy as np\n",
    "from torch import nn\n",
    "from torch import optim\n",
    "import torch_geometric.nn as geonn\n",
    "from tqdm import tqdm\n",
    "\n",
    "from gfos.data.utils import load_layout\n",
    "from gfos.data.dataset import LayoutDataset\n",
    "from gfos.utils.scheduler import CosineAnnealingWarmupRestarts\n",
    "from gfos.metrics import metric_for_layout_collections\n",
    "from gfos.loss import MultiElementRankLoss, listMLE\n",
    "from gfos.utils.misc import seed_everything\n",
    "\n",
    "\n",
    "SEED = 42\n",
    "DEBUG = False\n",
    "\n",
    "seed_everything(SEED)\n",
    "device = \"cuda\" if torch.cuda.is_available() else \"cpu\""
   ]
  },
  {
   "cell_type": "markdown",
   "metadata": {},
   "source": [
    "## Configs"
   ]
  },
  {
   "cell_type": "code",
   "execution_count": 2,
   "metadata": {},
   "outputs": [],
   "source": [
    "LAYOUT_DIR = r\"H:\\data\\gfos\\predict-ai-model-runtime\\npz_all\\npz\\layout\"\n",
    "\n",
    "configs = dict(\n",
    "    conv_layer=\"GATConv\",\n",
    "    num_epochs=10,\n",
    "    learning_rate=5e-4,\n",
    "    weight_decay=1e-6,\n",
    "    min_lr=1e-7,\n",
    "    warmup_ratio=0.0,\n",
    "    max_configs=100,\n",
    "    graph_hidden=[16, 32, 16, 48, 64],\n",
    "    num_encoder=1,\n",
    "    num_feedforward=512,\n",
    "    nhead=1,\n",
    "    loss_margin=0.1,\n",
    "    loss_num_permutations=1000,\n",
    ")\n",
    "\n",
    "WANDB_PROJECT = \"gfos\"\n",
    "WANDB_DIR = \"../../logs/\"\n",
    "WANDB_RUN_NAME = \"gcn_layout_xla_random\"\n",
    "TAGS = [\"train\", \"layout\", \"xla\", \"random\"]"
   ]
  },
  {
   "cell_type": "markdown",
   "metadata": {},
   "source": [
    "## Dataset"
   ]
  },
  {
   "cell_type": "code",
   "execution_count": 3,
   "metadata": {},
   "outputs": [],
   "source": [
    "def min_max_normalize(feature_matrix: torch.Tensor) -> torch.Tensor:\n",
    "    max_feat, _ = torch.max(feature_matrix, dim=0, keepdim=True)\n",
    "    min_feat, _ = torch.min(feature_matrix, dim=0, keepdim=True)\n",
    "    used_columns = min_feat[0] != max_feat[0]\n",
    "\n",
    "    feature_matrix = feature_matrix[:, used_columns]\n",
    "    min_feat = min_feat[:, used_columns]\n",
    "    max_feat = max_feat[:, used_columns]\n",
    "    return (feature_matrix - min_feat) / (max_feat - min_feat)"
   ]
  },
  {
   "cell_type": "markdown",
   "metadata": {},
   "source": [
    "## Model"
   ]
  },
  {
   "cell_type": "code",
   "execution_count": 4,
   "metadata": {},
   "outputs": [],
   "source": [
    "class LayoutModel(torch.nn.Module):\n",
    "    def __init__(\n",
    "        self,\n",
    "        conv_layer: Literal[\"GATConv\", \"GCNConv\", \"SAGEConv\"],\n",
    "        hidden_channels: list[int],\n",
    "        num_encoder: int = 1,\n",
    "        num_feedforward: int = 256,\n",
    "        nhead: int = 1,\n",
    "    ):\n",
    "        super().__init__()\n",
    "\n",
    "        conv_layer = getattr(geonn, conv_layer)\n",
    "\n",
    "        op_embedding_dim = 32\n",
    "        config_dim = 64\n",
    "        graph_out = hidden_channels[-1]\n",
    "        merged_node_dim = graph_out + config_dim\n",
    "\n",
    "        self.embedding = torch.nn.Embedding(\n",
    "            120,\n",
    "            op_embedding_dim,\n",
    "        )\n",
    "        assert len(hidden_channels) > 0\n",
    "        in_channels = op_embedding_dim + 140\n",
    "        self.convs = torch.nn.ModuleList()\n",
    "\n",
    "        hidden_channels = [in_channels] + hidden_channels\n",
    "        for i in range(len(hidden_channels) - 1):\n",
    "            self.convs += [\n",
    "                conv_layer(hidden_channels[i], hidden_channels[i + 1]),\n",
    "            ]\n",
    "            nn.LeakyReLU()\n",
    "\n",
    "        # Transformer encoder to merge configs features with graph features\n",
    "        layer = nn.TransformerEncoderLayer(\n",
    "            d_model=merged_node_dim,\n",
    "            dim_feedforward=num_feedforward,\n",
    "            nhead=nhead,\n",
    "            batch_first=True,\n",
    "        )\n",
    "        self.encoder = nn.TransformerEncoder(layer, num_layers=num_encoder)\n",
    "\n",
    "        self.layernorm = nn.LayerNorm(merged_node_dim)\n",
    "\n",
    "        self.config_prj = nn.Sequential(\n",
    "            nn.Linear(18, config_dim),\n",
    "            nn.LayerNorm(config_dim),\n",
    "            nn.LeakyReLU(),\n",
    "        )\n",
    "\n",
    "        # Define a sequential dense neural network\n",
    "        self.dense = torch.nn.Sequential(\n",
    "            nn.Dropout(0.1),\n",
    "            nn.Linear(merged_node_dim, 64),\n",
    "            nn.LeakyReLU(),\n",
    "            nn.Linear(64, 64),\n",
    "            nn.LeakyReLU(),\n",
    "            nn.Linear(64, 1),\n",
    "        )\n",
    "\n",
    "    def forward(\n",
    "        self,\n",
    "        node_feat: torch.Tensor,\n",
    "        node_opcode: torch.Tensor,\n",
    "        edge_index: torch.Tensor,\n",
    "        node_config_feat: torch.Tensor,\n",
    "        node_config_ids: torch.Tensor,\n",
    "    ) -> torch.Tensor:\n",
    "        # Get graph features\n",
    "        c = node_config_feat.size(0)\n",
    "\n",
    "        x = torch.cat([node_feat, self.embedding(node_opcode)], dim=1)\n",
    "\n",
    "        # Get graph features\n",
    "        for conv in self.convs:\n",
    "            x = conv(x, edge_index)\n",
    "\n",
    "        # (N, graph_out) -> (NC, graph_out)\n",
    "        x = x[node_config_ids]\n",
    "\n",
    "        # Merge graph features with config features\n",
    "        # (C, NC, 18) -> (C, NC, config_dim)\n",
    "        node_config_feat = self.config_prj(node_config_feat)\n",
    "        # (C, NC, graph_out + config_dim)\n",
    "        x = torch.cat([x.repeat((c, 1, 1)), node_config_feat], dim=-1)\n",
    "        x = nn.functional.normalize(x, dim=-1)\n",
    "\n",
    "        # (C, NC, graph_out + config_dim) -> (C, graph_out + config_dim)\n",
    "        x = self.encoder(x)[:, -1, :]\n",
    "        x = self.dense(x).flatten()\n",
    "\n",
    "        return x"
   ]
  },
  {
   "cell_type": "markdown",
   "metadata": {},
   "source": [
    "## Training"
   ]
  },
  {
   "cell_type": "code",
   "execution_count": 5,
   "metadata": {},
   "outputs": [],
   "source": [
    "xla_random_layouts = load_layout(\n",
    "    LAYOUT_DIR,\n",
    "    model_type=\"xla\",\n",
    "    compile_type=\"random\",\n",
    ")\n",
    "\n",
    "conv_layer = configs[\"conv_layer\"]\n",
    "num_epochs = configs[\"num_epochs\"]\n",
    "learning_rate = configs[\"learning_rate\"]\n",
    "weight_decay = configs[\"weight_decay\"]\n",
    "min_lr = configs[\"min_lr\"]\n",
    "warmup_ratio = configs[\"warmup_ratio\"]\n",
    "max_configs = configs[\"max_configs\"]\n",
    "graph_hidden = configs[\"graph_hidden\"]\n",
    "num_encoder = configs[\"num_encoder\"]\n",
    "num_feedforward = configs[\"num_feedforward\"]\n",
    "nhead = configs[\"nhead\"]\n",
    "margin = configs[\"loss_margin\"]\n",
    "number_permutations = configs[\"loss_num_permutations\"]\n",
    "_INFERENCE_CONFIGS_BATCH_SIZE = 100\n",
    "\n",
    "model = LayoutModel(\n",
    "    conv_layer=conv_layer,\n",
    "    hidden_channels=graph_hidden,\n",
    "    num_encoder=num_encoder,\n",
    "    num_feedforward=num_feedforward,\n",
    "    nhead=nhead,\n",
    ").to(device)\n",
    "\n",
    "criterion = MultiElementRankLoss(\n",
    "    margin=margin, number_permutations=number_permutations\n",
    ")\n",
    "num_steps = len(xla_random_layouts[\"train\"]) * num_epochs\n",
    "warmup_steps = int(num_steps * warmup_ratio)\n",
    "\n",
    "optimizer = optim.Adam(\n",
    "    model.parameters(), lr=learning_rate, weight_decay=weight_decay\n",
    ")\n",
    "\n",
    "scheduler = CosineAnnealingWarmupRestarts(\n",
    "    optimizer=optimizer,\n",
    "    first_cycle_steps=num_steps,\n",
    "    min_lr=min_lr,\n",
    "    max_lr=learning_rate,\n",
    "    warmup_steps=warmup_steps,\n",
    ")"
   ]
  },
  {
   "cell_type": "code",
   "execution_count": 6,
   "metadata": {},
   "outputs": [
    {
     "name": "stderr",
     "output_type": "stream",
     "text": [
      "Failed to detect the name of this notebook, you can set it manually with the WANDB_NOTEBOOK_NAME environment variable to enable code saving.\n",
      "\u001b[34m\u001b[1mwandb\u001b[0m: Currently logged in as: \u001b[33medenn0\u001b[0m. Use \u001b[1m`wandb login --relogin`\u001b[0m to force relogin\n"
     ]
    },
    {
     "data": {
      "text/html": [
       "Tracking run with wandb version 0.15.11"
      ],
      "text/plain": [
       "<IPython.core.display.HTML object>"
      ]
     },
     "metadata": {},
     "output_type": "display_data"
    },
    {
     "data": {
      "text/html": [
       "Run data is saved locally in <code>../../logs/wandb\\run-20230928_000727-mwomti82</code>"
      ],
      "text/plain": [
       "<IPython.core.display.HTML object>"
      ]
     },
     "metadata": {},
     "output_type": "display_data"
    },
    {
     "data": {
      "text/html": [
       "Syncing run <strong><a href='https://wandb.ai/edenn0/gfos/runs/mwomti82' target=\"_blank\">gcn_layout_xla_random</a></strong> to <a href='https://wandb.ai/edenn0/gfos' target=\"_blank\">Weights & Biases</a> (<a href='https://wandb.me/run' target=\"_blank\">docs</a>)<br/>"
      ],
      "text/plain": [
       "<IPython.core.display.HTML object>"
      ]
     },
     "metadata": {},
     "output_type": "display_data"
    },
    {
     "data": {
      "text/html": [
       " View project at <a href='https://wandb.ai/edenn0/gfos' target=\"_blank\">https://wandb.ai/edenn0/gfos</a>"
      ],
      "text/plain": [
       "<IPython.core.display.HTML object>"
      ]
     },
     "metadata": {},
     "output_type": "display_data"
    },
    {
     "data": {
      "text/html": [
       " View run at <a href='https://wandb.ai/edenn0/gfos/runs/mwomti82' target=\"_blank\">https://wandb.ai/edenn0/gfos/runs/mwomti82</a>"
      ],
      "text/plain": [
       "<IPython.core.display.HTML object>"
      ]
     },
     "metadata": {},
     "output_type": "display_data"
    },
    {
     "name": "stderr",
     "output_type": "stream",
     "text": [
      "                                                                      \r"
     ]
    },
    {
     "name": "stdout",
     "output_type": "stream",
     "text": [
      "epoch 0, max_score = 0.0045, mean_score = -0.0044,\n",
      "Best score updated: -0.0044\n"
     ]
    },
    {
     "name": "stderr",
     "output_type": "stream",
     "text": [
      "                                                                      \r"
     ]
    },
    {
     "name": "stdout",
     "output_type": "stream",
     "text": [
      "epoch 1, max_score = 0.0052, mean_score = -0.0019,\n",
      "Best score updated: -0.0019\n"
     ]
    },
    {
     "name": "stderr",
     "output_type": "stream",
     "text": [
      "                                                                      \r"
     ]
    },
    {
     "name": "stdout",
     "output_type": "stream",
     "text": [
      "epoch 2, max_score = 0.0233, mean_score = 0.0013,\n",
      "Best score updated: 0.0013\n"
     ]
    },
    {
     "name": "stderr",
     "output_type": "stream",
     "text": [
      "                                                                      \r"
     ]
    },
    {
     "name": "stdout",
     "output_type": "stream",
     "text": [
      "epoch 3, max_score = 0.0260, mean_score = 0.0055,\n",
      "Best score updated: 0.0055\n"
     ]
    },
    {
     "name": "stderr",
     "output_type": "stream",
     "text": [
      "                                                                      \r"
     ]
    },
    {
     "name": "stdout",
     "output_type": "stream",
     "text": [
      "epoch 4, max_score = 0.0026, mean_score = -0.0072,\n"
     ]
    },
    {
     "name": "stderr",
     "output_type": "stream",
     "text": [
      "                                                                      \r"
     ]
    },
    {
     "name": "stdout",
     "output_type": "stream",
     "text": [
      "epoch 5, max_score = 0.0076, mean_score = -0.0039,\n"
     ]
    },
    {
     "name": "stderr",
     "output_type": "stream",
     "text": [
      "                                                                      \r"
     ]
    },
    {
     "name": "stdout",
     "output_type": "stream",
     "text": [
      "epoch 6, max_score = 0.0003, mean_score = -0.0089,\n"
     ]
    },
    {
     "name": "stderr",
     "output_type": "stream",
     "text": [
      "                                                                      \r"
     ]
    },
    {
     "name": "stdout",
     "output_type": "stream",
     "text": [
      "epoch 7, max_score = 0.0052, mean_score = -0.0055,\n"
     ]
    },
    {
     "name": "stderr",
     "output_type": "stream",
     "text": [
      "                                                                      \r"
     ]
    },
    {
     "name": "stdout",
     "output_type": "stream",
     "text": [
      "epoch 8, max_score = 0.0436, mean_score = 0.0083,\n",
      "Best score updated: 0.0083\n"
     ]
    },
    {
     "name": "stderr",
     "output_type": "stream",
     "text": [
      "                                                                      "
     ]
    },
    {
     "name": "stdout",
     "output_type": "stream",
     "text": [
      "epoch 9, max_score = 0.0187, mean_score = 0.0016,\n"
     ]
    },
    {
     "name": "stderr",
     "output_type": "stream",
     "text": [
      "\r"
     ]
    },
    {
     "data": {
      "text/html": [
       "Waiting for W&B process to finish... <strong style=\"color:green\">(success).</strong>"
      ],
      "text/plain": [
       "<IPython.core.display.HTML object>"
      ]
     },
     "metadata": {},
     "output_type": "display_data"
    },
    {
     "data": {
      "text/html": [
       "<style>\n",
       "    table.wandb td:nth-child(1) { padding: 0 10px; text-align: left ; width: auto;} td:nth-child(2) {text-align: left ; width: 100%}\n",
       "    .wandb-row { display: flex; flex-direction: row; flex-wrap: wrap; justify-content: flex-start; width: 100% }\n",
       "    .wandb-col { display: flex; flex-direction: column; flex-basis: 100%; flex: 1; padding: 10px; }\n",
       "    </style>\n",
       "<div class=\"wandb-row\"><div class=\"wandb-col\"><h3>Run history:</h3><br/><table class=\"wandb\"><tr><td>epoch</td><td>▁▁▁▁▂▂▂▂▃▃▃▃▃▃▃▃▄▄▄▄▅▅▅▅▆▆▆▆▆▆▆▆▇▇▇▇████</td></tr><tr><td>train/loss</td><td>████████▁████▁████████▁███▁█████████████</td></tr><tr><td>train/lr</td><td>███████▇▇▇▇▇▆▆▆▆▆▅▅▅▄▄▄▄▃▃▃▃▂▂▂▂▂▁▁▁▁▁▁▁</td></tr><tr><td>val/kendalltau</td><td>▃▄▅▇▂▃▁▂█▅</td></tr></table><br/></div><div class=\"wandb-col\"><h3>Run summary:</h3><br/><table class=\"wandb\"><tr><td>epoch</td><td>9</td></tr><tr><td>train/loss</td><td>363.07452</td></tr><tr><td>train/lr</td><td>0.0005</td></tr><tr><td>val/kendalltau</td><td>0.0016</td></tr></table><br/></div></div>"
      ],
      "text/plain": [
       "<IPython.core.display.HTML object>"
      ]
     },
     "metadata": {},
     "output_type": "display_data"
    },
    {
     "data": {
      "text/html": [
       " View run <strong style=\"color:#cdcd00\">gcn_layout_xla_random</strong> at: <a href='https://wandb.ai/edenn0/gfos/runs/mwomti82' target=\"_blank\">https://wandb.ai/edenn0/gfos/runs/mwomti82</a><br/>Synced 6 W&B file(s), 0 media file(s), 0 artifact file(s) and 0 other file(s)"
      ],
      "text/plain": [
       "<IPython.core.display.HTML object>"
      ]
     },
     "metadata": {},
     "output_type": "display_data"
    },
    {
     "data": {
      "text/html": [
       "Find logs at: <code>../../logs/wandb\\run-20230928_000727-mwomti82\\logs</code>"
      ],
      "text/plain": [
       "<IPython.core.display.HTML object>"
      ]
     },
     "metadata": {},
     "output_type": "display_data"
    }
   ],
   "source": [
    "if not DEBUG:\n",
    "    run = wandb.init(\n",
    "        project=WANDB_PROJECT,\n",
    "        dir=WANDB_DIR,\n",
    "        name=WANDB_RUN_NAME,\n",
    "        config=configs,\n",
    "        tags=TAGS,\n",
    "    )\n",
    "    run.watch(model, log=\"all\")\n",
    "\n",
    "    time_str = datetime.now().strftime(\"%Y%m%d_%H%M%S\")\n",
    "    log_dir = f\"../../logs/{WANDB_RUN_NAME}/{time_str}\"\n",
    "    os.makedirs(log_dir, exist_ok=True)\n",
    "\n",
    "best_score_mean = -1\n",
    "\n",
    "val_dataset = LayoutDataset(xla_random_layouts[\"valid\"], permute=False)\n",
    "\n",
    "for epoch in range(num_epochs):\n",
    "    # Shuffle the training dataset\n",
    "    permutation = np.random.permutation(len(xla_random_layouts[\"train\"]))\n",
    "    train_layouts = [xla_random_layouts[\"train\"][i] for i in permutation]\n",
    "    train_dataset = LayoutDataset(train_layouts, max_configs=max_configs)\n",
    "\n",
    "    model.train()\n",
    "    pbar = tqdm(train_dataset, leave=False)\n",
    "\n",
    "    for record in pbar:\n",
    "        node_feat = record[\"node_feat\"]\n",
    "        node_opcode = record[\"node_opcode\"]\n",
    "        edge_index = record[\"edge_index\"]\n",
    "        node_config_feat = record[\"node_config_feat\"]\n",
    "        node_config_ids = record[\"node_config_ids\"]\n",
    "        target = record[\"target\"]\n",
    "\n",
    "        (\n",
    "            node_feat,\n",
    "            node_opcode,\n",
    "            edge_index,\n",
    "            node_config_feat,\n",
    "            node_config_ids,\n",
    "            target,\n",
    "        ) = (\n",
    "            node_feat.to(device),\n",
    "            node_opcode.to(device),\n",
    "            edge_index.to(device),\n",
    "            node_config_feat.to(device),\n",
    "            node_config_ids.to(device),\n",
    "            target.to(device),\n",
    "        )\n",
    "\n",
    "        out = model(\n",
    "            node_feat,\n",
    "            node_opcode,\n",
    "            edge_index,\n",
    "            node_config_feat,\n",
    "            node_config_ids,\n",
    "        )\n",
    "\n",
    "        loss = listMLE(out[None], target[None])\n",
    "        loss.backward()\n",
    "        torch.nn.utils.clip_grad_norm_(model.parameters(), 1e-2)\n",
    "\n",
    "        scheduler.step()\n",
    "        optimizer.step()\n",
    "        optimizer.zero_grad()\n",
    "\n",
    "        if not DEBUG:\n",
    "            wandb.log(\n",
    "                {\n",
    "                    \"epoch\": epoch,\n",
    "                    \"train/lr\": scheduler.get_lr()[0],\n",
    "                    \"train/loss\": loss.item(),\n",
    "                }\n",
    "            )\n",
    "\n",
    "        pbar.set_description(f\"epoch: {epoch} loss: {(loss.item()):.2f}\")\n",
    "\n",
    "    pbar.close()\n",
    "\n",
    "    model.eval()\n",
    "    layout_xla_scores = []\n",
    "\n",
    "    with torch.no_grad():\n",
    "        for record in tqdm(val_dataset, desc=\"valid\", leave=False):\n",
    "            node_feat = record[\"node_feat\"]\n",
    "            node_opcode = record[\"node_opcode\"]\n",
    "            edge_index = record[\"edge_index\"]\n",
    "            node_config_feat = record[\"node_config_feat\"]\n",
    "            node_config_ids = record[\"node_config_ids\"]\n",
    "            target = record[\"target\"]\n",
    "\n",
    "            (\n",
    "                node_feat,\n",
    "                node_opcode,\n",
    "                edge_index,\n",
    "                node_config_feat,\n",
    "                node_config_ids,\n",
    "            ) = (\n",
    "                node_feat.to(device),\n",
    "                node_opcode.to(device),\n",
    "                edge_index.to(device),\n",
    "                node_config_feat.to(device),\n",
    "                node_config_ids.to(device),\n",
    "            )\n",
    "            target = target.numpy()\n",
    "            num_configs = target.shape[-1]\n",
    "            outs = []\n",
    "\n",
    "            for i in range(0, num_configs, _INFERENCE_CONFIGS_BATCH_SIZE):\n",
    "                end_i = min(i + _INFERENCE_CONFIGS_BATCH_SIZE, num_configs)\n",
    "                out: torch.Tensor = model(\n",
    "                    node_feat,\n",
    "                    node_opcode,\n",
    "                    edge_index,\n",
    "                    node_config_feat[i:end_i],\n",
    "                    node_config_ids,\n",
    "                )\n",
    "                outs.append(out.detach().cpu())\n",
    "\n",
    "            pred_idx = np.argsort(torch.concat(outs).numpy())\n",
    "            true_idx = np.argsort(target)\n",
    "\n",
    "            score = metric_for_layout_collections(pred_idx, true_idx)\n",
    "            layout_xla_scores.append(score)\n",
    "\n",
    "    score_mean = np.mean(layout_xla_scores)\n",
    "    score_max = np.max(layout_xla_scores)\n",
    "\n",
    "    if not DEBUG:\n",
    "        wandb.log(\n",
    "            {\n",
    "                \"val/kendalltau\": score_mean,\n",
    "            }\n",
    "        )\n",
    "\n",
    "    print(\n",
    "        f\"epoch {epoch}, max_score = {score_max:.4f}, mean_score = {score_mean:.4f},\"\n",
    "    )\n",
    "\n",
    "    # Update best scores and save the model if the mean score improves\n",
    "    if score_mean > best_score_mean:\n",
    "        best_score_mean = score_mean\n",
    "        best_score_max = score_max\n",
    "        print(f\"Best score updated: {best_score_mean:.4f}\")\n",
    "        if not DEBUG:\n",
    "            torch.save(\n",
    "                model.state_dict(), f\"{log_dir}/{epoch}_{score_mean:.4f}.pth\"\n",
    "            )\n",
    "\n",
    "run.finish()"
   ]
  },
  {
   "cell_type": "code",
   "execution_count": null,
   "metadata": {},
   "outputs": [],
   "source": []
  }
 ],
 "metadata": {
  "kernelspec": {
   "display_name": "gfos",
   "language": "python",
   "name": "python3"
  },
  "language_info": {
   "codemirror_mode": {
    "name": "ipython",
    "version": 3
   },
   "file_extension": ".py",
   "mimetype": "text/x-python",
   "name": "python",
   "nbconvert_exporter": "python",
   "pygments_lexer": "ipython3",
   "version": "3.10.12"
  },
  "orig_nbformat": 4
 },
 "nbformat": 4,
 "nbformat_minor": 2
}
