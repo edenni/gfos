{
 "cells": [
  {
   "cell_type": "code",
   "execution_count": 1,
   "metadata": {},
   "outputs": [],
   "source": [
    "import os\n",
    "from datetime import datetime\n",
    "from typing import Literal\n",
    "\n",
    "import torch\n",
    "import wandb\n",
    "import numpy as np\n",
    "from torch import nn\n",
    "from torch import optim\n",
    "import torch_geometric.nn as geonn\n",
    "from tqdm import tqdm\n",
    "\n",
    "from gfos.data.utils import load_layout\n",
    "from gfos.data.dataset import LayoutDataset\n",
    "from gfos.utils.scheduler import CosineAnnealingWarmupRestarts\n",
    "from gfos.metrics import metric_for_layout_collections\n",
    "from gfos.loss import MultiElementRankLoss, listMLE\n",
    "from gfos.utils.misc import seed_everything\n",
    "\n",
    "\n",
    "SEED = 42\n",
    "DEBUG = False\n",
    "\n",
    "seed_everything(SEED)\n",
    "device = \"cuda\" if torch.cuda.is_available() else \"cpu\""
   ]
  },
  {
   "cell_type": "markdown",
   "metadata": {},
   "source": [
    "## Configs"
   ]
  },
  {
   "cell_type": "code",
   "execution_count": 2,
   "metadata": {},
   "outputs": [],
   "source": [
    "LAYOUT_DIR = r\"H:\\data\\gfos\\predict-ai-model-runtime\\npz_all\\npz\\layout\"\n",
    "\n",
    "configs = dict(\n",
    "    conv_layer=\"GATConv\",\n",
    "    num_epochs=100,\n",
    "    learning_rate=1e-3,\n",
    "    weight_decay=1e-6,\n",
    "    min_lr=1e-7,\n",
    "    warmup_ratio=0.0,\n",
    "    max_configs=100,\n",
    "    graph_hidden=[16, 32, 16, 48, 64],\n",
    "    num_encoder=1,\n",
    "    num_feedforward=512,\n",
    "    nhead=1,\n",
    "    loss_margin=0.1,\n",
    "    loss_num_permutations=2000,\n",
    ")\n",
    "\n",
    "WANDB_PROJECT = \"gfos\"\n",
    "WANDB_DIR = \"../../logs/\"\n",
    "WANDB_RUN_NAME = \"gcn_layout_xla_default\"\n",
    "TAGS = [\"train\", \"layout\", \"xla\", \"default\"]"
   ]
  },
  {
   "cell_type": "code",
   "execution_count": 3,
   "metadata": {},
   "outputs": [],
   "source": [
    "def min_max_normalize(feature_matrix: torch.Tensor) -> torch.Tensor:\n",
    "    max_feat, _ = torch.max(feature_matrix, dim=0, keepdim=True)\n",
    "    min_feat, _ = torch.min(feature_matrix, dim=0, keepdim=True)\n",
    "    used_columns = min_feat[0] != max_feat[0]\n",
    "\n",
    "    feature_matrix = feature_matrix[:, used_columns]\n",
    "    min_feat = min_feat[:, used_columns]\n",
    "    max_feat = max_feat[:, used_columns]\n",
    "    return (feature_matrix - min_feat) / (max_feat - min_feat)"
   ]
  },
  {
   "cell_type": "markdown",
   "metadata": {},
   "source": [
    "## Model"
   ]
  },
  {
   "cell_type": "code",
   "execution_count": 4,
   "metadata": {},
   "outputs": [],
   "source": [
    "def edges_adjacency(edges: torch.Tensor, add_diagonal=True) -> torch.Tensor:\n",
    "    \"\"\"\n",
    "    Generate an adjacency matrix from the edges\n",
    "    Args:\n",
    "        edges: Tensor of shape (num_edges, 2) with the edges\n",
    "        add_diagonal: Boolean indicating if the diagonal should be added to the adjacency matrix\n",
    "    Returns:\n",
    "        adjacency_matrix: Tensor of shape (num_nodes, num_nodes) with the adjacency matrix\n",
    "    \"\"\"\n",
    "    adjacency_matrix = torch.zeros(\n",
    "        (edges.max() + 1, edges.max() + 1), device=edges.device\n",
    "    )\n",
    "    adjacency_matrix[edges[:, 0], edges[:, 1]] = 1\n",
    "    if add_diagonal:\n",
    "        diag_idx = torch.arange(adjacency_matrix.shape[0])\n",
    "        adjacency_matrix[diag_idx, diag_idx] = 1\n",
    "    return adjacency_matrix\n",
    "\n",
    "\n",
    "def aggregate_neighbors(node_feat: torch.Tensor, edge_index: torch.Tensor):\n",
    "    source_nodes = edge_index[0]\n",
    "    target_nodes = edge_index[1]\n",
    "\n",
    "    in_degree_features = torch.zeros_like(node_feat, device=node_feat.device)\n",
    "    out_degree_features = torch.zeros_like(node_feat, device=node_feat.device)\n",
    "\n",
    "    source_node_features = node_feat[source_nodes]\n",
    "    target_node_features = node_feat[target_nodes]\n",
    "\n",
    "    in_degree_features.scatter_reduce_(\n",
    "        0,\n",
    "        target_nodes.unsqueeze(-1).expand_as(source_node_features),\n",
    "        source_node_features,\n",
    "        reduce=\"sum\",\n",
    "    )\n",
    "    \n",
    "    out_degree_features.scatter_reduce_(\n",
    "        0,\n",
    "        source_nodes.unsqueeze(-1).expand_as(target_node_features),\n",
    "        target_node_features,\n",
    "        reduce=\"mean\",\n",
    "    )\n",
    "    \n",
    "    return out_degree_features - in_degree_features"
   ]
  },
  {
   "cell_type": "code",
   "execution_count": 5,
   "metadata": {},
   "outputs": [],
   "source": [
    "class LayoutModel(torch.nn.Module):\n",
    "    def __init__(\n",
    "        self,\n",
    "        conv_layer: Literal[\"GATConv\", \"GCNConv\", \"SAGEConv\"],\n",
    "        hidden_channels: list[int],\n",
    "        num_encoder: int = 1,\n",
    "        num_feedforward: int = 256,\n",
    "        nhead: int = 1,\n",
    "    ):\n",
    "        super().__init__()\n",
    "\n",
    "        conv_layer = getattr(geonn, conv_layer)\n",
    "\n",
    "        op_embedding_dim = 32\n",
    "        config_dim = 64\n",
    "        graph_out = hidden_channels[-1]\n",
    "        merged_node_dim = graph_out + config_dim\n",
    "\n",
    "        self.embedding = torch.nn.Embedding(\n",
    "            120,\n",
    "            op_embedding_dim,\n",
    "        )\n",
    "        assert len(hidden_channels) > 0\n",
    "        in_channels = op_embedding_dim + 140\n",
    "        self.convs = torch.nn.ModuleList()\n",
    "\n",
    "        hidden_channels = [in_channels] + hidden_channels\n",
    "        for i in range(len(hidden_channels) - 1):\n",
    "            self.convs += [\n",
    "                conv_layer(hidden_channels[i], hidden_channels[i + 1]),\n",
    "            ]\n",
    "            nn.LeakyReLU()\n",
    "\n",
    "        # Transformer encoder to merge configs features with graph features\n",
    "        layer = nn.TransformerEncoderLayer(\n",
    "            d_model=merged_node_dim,\n",
    "            dim_feedforward=num_feedforward,\n",
    "            nhead=nhead,\n",
    "            batch_first=True,\n",
    "        )\n",
    "        self.encoder = nn.TransformerEncoder(layer, num_layers=num_encoder)\n",
    "\n",
    "        self.layernorm = nn.LayerNorm(merged_node_dim)\n",
    "\n",
    "        self.config_prj = nn.Sequential(\n",
    "            nn.Linear(18, config_dim),\n",
    "            nn.LayerNorm(config_dim),\n",
    "            nn.LeakyReLU(),\n",
    "        )\n",
    "\n",
    "        # Define a sequential dense neural network\n",
    "        self.dense = torch.nn.Sequential(\n",
    "            nn.Dropout(0.1),\n",
    "            nn.Linear(merged_node_dim, 64),\n",
    "            nn.LeakyReLU(),\n",
    "            nn.Linear(64, 64),\n",
    "            nn.LeakyReLU(),\n",
    "            nn.Linear(64, 1),\n",
    "        )\n",
    "\n",
    "    def forward(\n",
    "        self,\n",
    "        node_feat: torch.Tensor,\n",
    "        node_opcode: torch.Tensor,\n",
    "        edge_index: torch.Tensor,\n",
    "        node_config_feat: torch.Tensor,\n",
    "        node_config_ids: torch.Tensor,\n",
    "    ) -> torch.Tensor:\n",
    "        # Get graph features\n",
    "        c = node_config_feat.size(0)\n",
    "\n",
    "        x = torch.cat([node_feat, self.embedding(node_opcode)], dim=1)\n",
    "\n",
    "        # Get graph features\n",
    "        for conv in self.convs:\n",
    "            x = conv(x, edge_index)\n",
    "\n",
    "        # neighbor_feat = aggregate_neighbors(x, edge_index)\n",
    "\n",
    "        # (N, graph_out) -> (NC, graph_out)\n",
    "        x = x[node_config_ids]\n",
    "        # neighbor_feat = neighbor_feat[node_config_ids]\n",
    "        # x += neighbor_feat\n",
    "\n",
    "        # Merge graph features with config features\n",
    "        # (C, NC, 18) -> (C, NC, config_dim)\n",
    "        node_config_feat = self.config_prj(node_config_feat)\n",
    "\n",
    "        # (C, NC, graph_out + config_dim)\n",
    "        x = torch.cat([x.repeat((c, 1, 1)), node_config_feat], dim=-1)\n",
    "        x = nn.functional.normalize(x, dim=-1)\n",
    "\n",
    "        # (C, NC, graph_out + config_dim) -> (C, graph_out + config_dim)\n",
    "        x = self.encoder(x)[:, -1, :]\n",
    "        x = self.dense(x).flatten()\n",
    "\n",
    "        return x"
   ]
  },
  {
   "cell_type": "markdown",
   "metadata": {},
   "source": [
    "## Training"
   ]
  },
  {
   "cell_type": "code",
   "execution_count": 6,
   "metadata": {},
   "outputs": [],
   "source": [
    "xla_random_layouts = load_layout(\n",
    "    LAYOUT_DIR,\n",
    "    model_type=\"xla\",\n",
    "    compile_type=\"random\",\n",
    ")\n",
    "\n",
    "conv_layer = configs[\"conv_layer\"]\n",
    "num_epochs = configs[\"num_epochs\"]\n",
    "learning_rate = configs[\"learning_rate\"]\n",
    "weight_decay = configs[\"weight_decay\"]\n",
    "min_lr = configs[\"min_lr\"]\n",
    "warmup_ratio = configs[\"warmup_ratio\"]\n",
    "max_configs = configs[\"max_configs\"]\n",
    "graph_hidden = configs[\"graph_hidden\"]\n",
    "num_encoder = configs[\"num_encoder\"]\n",
    "num_feedforward = configs[\"num_feedforward\"]\n",
    "nhead = configs[\"nhead\"]\n",
    "margin = configs[\"loss_margin\"]\n",
    "number_permutations = configs[\"loss_num_permutations\"]\n",
    "_INFERENCE_CONFIGS_BATCH_SIZE = 100\n",
    "\n",
    "model = LayoutModel(\n",
    "    conv_layer=conv_layer,\n",
    "    hidden_channels=graph_hidden,\n",
    "    num_encoder=num_encoder,\n",
    "    num_feedforward=num_feedforward,\n",
    "    nhead=nhead,\n",
    ").to(device)\n",
    "\n",
    "criterion = MultiElementRankLoss(\n",
    "    margin=margin, number_permutations=number_permutations\n",
    ")\n",
    "num_steps = len(xla_random_layouts[\"train\"]) * num_epochs\n",
    "warmup_steps = int(num_steps * warmup_ratio)\n",
    "\n",
    "optimizer = optim.Adam(\n",
    "    model.parameters(), lr=learning_rate, weight_decay=weight_decay\n",
    ")\n",
    "\n",
    "scheduler = CosineAnnealingWarmupRestarts(\n",
    "    optimizer=optimizer,\n",
    "    first_cycle_steps=num_steps,\n",
    "    min_lr=min_lr,\n",
    "    max_lr=learning_rate,\n",
    "    warmup_steps=warmup_steps,\n",
    ")"
   ]
  },
  {
   "cell_type": "code",
   "execution_count": 7,
   "metadata": {},
   "outputs": [
    {
     "name": "stderr",
     "output_type": "stream",
     "text": [
      "Failed to detect the name of this notebook, you can set it manually with the WANDB_NOTEBOOK_NAME environment variable to enable code saving.\n",
      "\u001b[34m\u001b[1mwandb\u001b[0m: Currently logged in as: \u001b[33medenn0\u001b[0m. Use \u001b[1m`wandb login --relogin`\u001b[0m to force relogin\n"
     ]
    },
    {
     "data": {
      "text/html": [
       "Tracking run with wandb version 0.15.11"
      ],
      "text/plain": [
       "<IPython.core.display.HTML object>"
      ]
     },
     "metadata": {},
     "output_type": "display_data"
    },
    {
     "data": {
      "text/html": [
       "Run data is saved locally in <code>../../logs/wandb\\run-20230928_222450-gls7leol</code>"
      ],
      "text/plain": [
       "<IPython.core.display.HTML object>"
      ]
     },
     "metadata": {},
     "output_type": "display_data"
    },
    {
     "data": {
      "text/html": [
       "Syncing run <strong><a href='https://wandb.ai/edenn0/gfos/runs/gls7leol' target=\"_blank\">gcn_layout_xla_default</a></strong> to <a href='https://wandb.ai/edenn0/gfos' target=\"_blank\">Weights & Biases</a> (<a href='https://wandb.me/run' target=\"_blank\">docs</a>)<br/>"
      ],
      "text/plain": [
       "<IPython.core.display.HTML object>"
      ]
     },
     "metadata": {},
     "output_type": "display_data"
    },
    {
     "data": {
      "text/html": [
       " View project at <a href='https://wandb.ai/edenn0/gfos' target=\"_blank\">https://wandb.ai/edenn0/gfos</a>"
      ],
      "text/plain": [
       "<IPython.core.display.HTML object>"
      ]
     },
     "metadata": {},
     "output_type": "display_data"
    },
    {
     "data": {
      "text/html": [
       " View run at <a href='https://wandb.ai/edenn0/gfos/runs/gls7leol' target=\"_blank\">https://wandb.ai/edenn0/gfos/runs/gls7leol</a>"
      ],
      "text/plain": [
       "<IPython.core.display.HTML object>"
      ]
     },
     "metadata": {},
     "output_type": "display_data"
    },
    {
     "name": "stderr",
     "output_type": "stream",
     "text": [
      "Loading data: 100%|██████████| 69/69 [00:26<00:00,  2.58it/s]\n",
      "Loading data: 100%|██████████| 7/7 [00:03<00:00,  1.85it/s]\n",
      "                                                                    \r"
     ]
    },
    {
     "name": "stdout",
     "output_type": "stream",
     "text": [
      "epoch 0, max_score = 0.0751, mean_score = 0.0139,\n",
      "Best score updated: 0.0139\n"
     ]
    },
    {
     "name": "stderr",
     "output_type": "stream",
     "text": [
      "                                                                    \r"
     ]
    },
    {
     "name": "stdout",
     "output_type": "stream",
     "text": [
      "epoch 1, max_score = 0.0047, mean_score = -0.0127,\n"
     ]
    },
    {
     "name": "stderr",
     "output_type": "stream",
     "text": [
      "                                                                    \r"
     ]
    },
    {
     "name": "stdout",
     "output_type": "stream",
     "text": [
      "epoch 2, max_score = 0.0306, mean_score = 0.0053,\n"
     ]
    },
    {
     "name": "stderr",
     "output_type": "stream",
     "text": [
      "                                                                    \r"
     ]
    },
    {
     "name": "stdout",
     "output_type": "stream",
     "text": [
      "epoch 3, max_score = 0.0031, mean_score = -0.0051,\n"
     ]
    },
    {
     "name": "stderr",
     "output_type": "stream",
     "text": [
      "                                                                    \r"
     ]
    },
    {
     "name": "stdout",
     "output_type": "stream",
     "text": [
      "epoch 4, max_score = 0.0337, mean_score = 0.0021,\n"
     ]
    },
    {
     "name": "stderr",
     "output_type": "stream",
     "text": [
      "                                                                    \r"
     ]
    },
    {
     "name": "stdout",
     "output_type": "stream",
     "text": [
      "epoch 5, max_score = 0.0215, mean_score = 0.0058,\n"
     ]
    },
    {
     "name": "stderr",
     "output_type": "stream",
     "text": [
      "                                                                    \r"
     ]
    },
    {
     "name": "stdout",
     "output_type": "stream",
     "text": [
      "epoch 6, max_score = 0.0332, mean_score = 0.0022,\n"
     ]
    },
    {
     "name": "stderr",
     "output_type": "stream",
     "text": [
      "                                                                    \r"
     ]
    },
    {
     "name": "stdout",
     "output_type": "stream",
     "text": [
      "epoch 7, max_score = 0.0190, mean_score = 0.0006,\n"
     ]
    },
    {
     "name": "stderr",
     "output_type": "stream",
     "text": [
      "                                                                    \r"
     ]
    },
    {
     "name": "stdout",
     "output_type": "stream",
     "text": [
      "epoch 8, max_score = 0.0100, mean_score = 0.0014,\n"
     ]
    },
    {
     "name": "stderr",
     "output_type": "stream",
     "text": [
      "                                                                    \r"
     ]
    },
    {
     "name": "stdout",
     "output_type": "stream",
     "text": [
      "epoch 9, max_score = 0.0287, mean_score = 0.0080,\n"
     ]
    },
    {
     "name": "stderr",
     "output_type": "stream",
     "text": [
      "                                                                     \r"
     ]
    },
    {
     "name": "stdout",
     "output_type": "stream",
     "text": [
      "epoch 10, max_score = 0.0201, mean_score = -0.0043,\n"
     ]
    },
    {
     "name": "stderr",
     "output_type": "stream",
     "text": [
      "                                                                     \r"
     ]
    },
    {
     "name": "stdout",
     "output_type": "stream",
     "text": [
      "epoch 11, max_score = 0.0425, mean_score = 0.0060,\n"
     ]
    },
    {
     "name": "stderr",
     "output_type": "stream",
     "text": [
      "                                                                     \r"
     ]
    },
    {
     "name": "stdout",
     "output_type": "stream",
     "text": [
      "epoch 12, max_score = 0.0179, mean_score = -0.0030,\n"
     ]
    },
    {
     "name": "stderr",
     "output_type": "stream",
     "text": [
      "                                                                     \r"
     ]
    },
    {
     "name": "stdout",
     "output_type": "stream",
     "text": [
      "epoch 13, max_score = 0.0118, mean_score = 0.0001,\n"
     ]
    },
    {
     "name": "stderr",
     "output_type": "stream",
     "text": [
      "                                                                     \r"
     ]
    },
    {
     "name": "stdout",
     "output_type": "stream",
     "text": [
      "epoch 14, max_score = 0.0111, mean_score = -0.0031,\n"
     ]
    },
    {
     "name": "stderr",
     "output_type": "stream",
     "text": [
      "                                                                     \r"
     ]
    },
    {
     "name": "stdout",
     "output_type": "stream",
     "text": [
      "epoch 15, max_score = 0.0450, mean_score = 0.0078,\n"
     ]
    },
    {
     "name": "stderr",
     "output_type": "stream",
     "text": [
      "                                                                     \r"
     ]
    },
    {
     "name": "stdout",
     "output_type": "stream",
     "text": [
      "epoch 16, max_score = 0.0165, mean_score = 0.0029,\n"
     ]
    },
    {
     "name": "stderr",
     "output_type": "stream",
     "text": [
      "                                                                     \r"
     ]
    },
    {
     "name": "stdout",
     "output_type": "stream",
     "text": [
      "epoch 17, max_score = 0.0143, mean_score = -0.0049,\n"
     ]
    },
    {
     "name": "stderr",
     "output_type": "stream",
     "text": [
      "                                                                     \r"
     ]
    },
    {
     "name": "stdout",
     "output_type": "stream",
     "text": [
      "epoch 18, max_score = 0.0068, mean_score = -0.0039,\n"
     ]
    },
    {
     "name": "stderr",
     "output_type": "stream",
     "text": [
      "                                                                     \r"
     ]
    },
    {
     "name": "stdout",
     "output_type": "stream",
     "text": [
      "epoch 19, max_score = -0.0003, mean_score = -0.0111,\n"
     ]
    },
    {
     "name": "stderr",
     "output_type": "stream",
     "text": [
      "                                                                     \r"
     ]
    },
    {
     "name": "stdout",
     "output_type": "stream",
     "text": [
      "epoch 20, max_score = 0.0049, mean_score = -0.0020,\n"
     ]
    },
    {
     "name": "stderr",
     "output_type": "stream",
     "text": [
      "                                                                     \r"
     ]
    },
    {
     "name": "stdout",
     "output_type": "stream",
     "text": [
      "epoch 21, max_score = 0.0046, mean_score = -0.0031,\n"
     ]
    },
    {
     "name": "stderr",
     "output_type": "stream",
     "text": [
      "                                                                     \r"
     ]
    },
    {
     "name": "stdout",
     "output_type": "stream",
     "text": [
      "epoch 22, max_score = 0.0274, mean_score = 0.0099,\n"
     ]
    },
    {
     "name": "stderr",
     "output_type": "stream",
     "text": [
      "                                                                     \r"
     ]
    },
    {
     "name": "stdout",
     "output_type": "stream",
     "text": [
      "epoch 23, max_score = 0.0078, mean_score = -0.0041,\n"
     ]
    },
    {
     "name": "stderr",
     "output_type": "stream",
     "text": [
      "                                                                     \r"
     ]
    },
    {
     "name": "stdout",
     "output_type": "stream",
     "text": [
      "epoch 24, max_score = 0.0131, mean_score = 0.0010,\n"
     ]
    },
    {
     "name": "stderr",
     "output_type": "stream",
     "text": [
      "                                                                     \r"
     ]
    },
    {
     "name": "stdout",
     "output_type": "stream",
     "text": [
      "epoch 25, max_score = 0.0553, mean_score = 0.0105,\n"
     ]
    },
    {
     "name": "stderr",
     "output_type": "stream",
     "text": [
      "                                                                     \r"
     ]
    },
    {
     "name": "stdout",
     "output_type": "stream",
     "text": [
      "epoch 26, max_score = 0.0161, mean_score = -0.0051,\n"
     ]
    },
    {
     "name": "stderr",
     "output_type": "stream",
     "text": [
      "                                                                     \r"
     ]
    },
    {
     "name": "stdout",
     "output_type": "stream",
     "text": [
      "epoch 27, max_score = 0.0240, mean_score = -0.0008,\n"
     ]
    },
    {
     "name": "stderr",
     "output_type": "stream",
     "text": [
      "                                                                     \r"
     ]
    },
    {
     "name": "stdout",
     "output_type": "stream",
     "text": [
      "epoch 28, max_score = 0.0266, mean_score = -0.0000,\n"
     ]
    },
    {
     "name": "stderr",
     "output_type": "stream",
     "text": [
      "                                                                     \r"
     ]
    },
    {
     "name": "stdout",
     "output_type": "stream",
     "text": [
      "epoch 29, max_score = 0.0057, mean_score = -0.0028,\n"
     ]
    },
    {
     "name": "stderr",
     "output_type": "stream",
     "text": [
      "                                                                     \r"
     ]
    },
    {
     "name": "stdout",
     "output_type": "stream",
     "text": [
      "epoch 30, max_score = 0.0067, mean_score = -0.0019,\n"
     ]
    },
    {
     "name": "stderr",
     "output_type": "stream",
     "text": [
      "                                                                     \r"
     ]
    },
    {
     "name": "stdout",
     "output_type": "stream",
     "text": [
      "epoch 31, max_score = 0.0191, mean_score = 0.0077,\n"
     ]
    },
    {
     "name": "stderr",
     "output_type": "stream",
     "text": [
      "                                                                     \r"
     ]
    },
    {
     "name": "stdout",
     "output_type": "stream",
     "text": [
      "epoch 32, max_score = 0.0073, mean_score = -0.0114,\n"
     ]
    },
    {
     "name": "stderr",
     "output_type": "stream",
     "text": [
      "                                                                     \r"
     ]
    },
    {
     "name": "stdout",
     "output_type": "stream",
     "text": [
      "epoch 33, max_score = 0.0151, mean_score = 0.0039,\n"
     ]
    },
    {
     "name": "stderr",
     "output_type": "stream",
     "text": [
      "                                                                     \r"
     ]
    },
    {
     "name": "stdout",
     "output_type": "stream",
     "text": [
      "epoch 34, max_score = 0.0045, mean_score = -0.0051,\n"
     ]
    },
    {
     "name": "stderr",
     "output_type": "stream",
     "text": [
      "                                                                     \r"
     ]
    },
    {
     "name": "stdout",
     "output_type": "stream",
     "text": [
      "epoch 35, max_score = 0.0310, mean_score = 0.0019,\n"
     ]
    },
    {
     "name": "stderr",
     "output_type": "stream",
     "text": [
      "                                                                     \r"
     ]
    },
    {
     "name": "stdout",
     "output_type": "stream",
     "text": [
      "epoch 36, max_score = 0.0200, mean_score = -0.0029,\n"
     ]
    },
    {
     "name": "stderr",
     "output_type": "stream",
     "text": [
      "                                                                     \r"
     ]
    },
    {
     "name": "stdout",
     "output_type": "stream",
     "text": [
      "epoch 37, max_score = -0.0012, mean_score = -0.0039,\n"
     ]
    },
    {
     "name": "stderr",
     "output_type": "stream",
     "text": [
      "                                                                     \r"
     ]
    },
    {
     "name": "stdout",
     "output_type": "stream",
     "text": [
      "epoch 38, max_score = 0.0102, mean_score = 0.0006,\n"
     ]
    },
    {
     "name": "stderr",
     "output_type": "stream",
     "text": [
      "                                                                     \r"
     ]
    },
    {
     "name": "stdout",
     "output_type": "stream",
     "text": [
      "epoch 39, max_score = 0.0117, mean_score = 0.0041,\n"
     ]
    },
    {
     "name": "stderr",
     "output_type": "stream",
     "text": [
      "                                                                     \r"
     ]
    },
    {
     "name": "stdout",
     "output_type": "stream",
     "text": [
      "epoch 40, max_score = 0.0169, mean_score = 0.0014,\n"
     ]
    },
    {
     "name": "stderr",
     "output_type": "stream",
     "text": [
      "                                                                     \r"
     ]
    },
    {
     "name": "stdout",
     "output_type": "stream",
     "text": [
      "epoch 41, max_score = 0.0137, mean_score = 0.0034,\n"
     ]
    },
    {
     "name": "stderr",
     "output_type": "stream",
     "text": [
      "                                                                     \r"
     ]
    },
    {
     "name": "stdout",
     "output_type": "stream",
     "text": [
      "epoch 42, max_score = 0.0233, mean_score = 0.0043,\n"
     ]
    },
    {
     "name": "stderr",
     "output_type": "stream",
     "text": [
      "                                                                     \r"
     ]
    },
    {
     "name": "stdout",
     "output_type": "stream",
     "text": [
      "epoch 43, max_score = 0.0120, mean_score = -0.0042,\n"
     ]
    },
    {
     "name": "stderr",
     "output_type": "stream",
     "text": [
      "                                                                     \r"
     ]
    },
    {
     "name": "stdout",
     "output_type": "stream",
     "text": [
      "epoch 44, max_score = 0.0056, mean_score = -0.0051,\n"
     ]
    },
    {
     "name": "stderr",
     "output_type": "stream",
     "text": [
      "                                                                     \r"
     ]
    },
    {
     "name": "stdout",
     "output_type": "stream",
     "text": [
      "epoch 45, max_score = 0.0151, mean_score = -0.0025,\n"
     ]
    },
    {
     "name": "stderr",
     "output_type": "stream",
     "text": [
      "                                                                     \r"
     ]
    },
    {
     "name": "stdout",
     "output_type": "stream",
     "text": [
      "epoch 46, max_score = 0.0082, mean_score = -0.0123,\n"
     ]
    },
    {
     "name": "stderr",
     "output_type": "stream",
     "text": [
      "                                                                     \r"
     ]
    },
    {
     "name": "stdout",
     "output_type": "stream",
     "text": [
      "epoch 47, max_score = 0.0094, mean_score = 0.0007,\n"
     ]
    },
    {
     "name": "stderr",
     "output_type": "stream",
     "text": [
      "                                                                     \r"
     ]
    },
    {
     "name": "stdout",
     "output_type": "stream",
     "text": [
      "epoch 48, max_score = 0.0373, mean_score = 0.0118,\n"
     ]
    },
    {
     "name": "stderr",
     "output_type": "stream",
     "text": [
      "                                                                     \r"
     ]
    },
    {
     "name": "stdout",
     "output_type": "stream",
     "text": [
      "epoch 49, max_score = 0.0077, mean_score = -0.0081,\n"
     ]
    },
    {
     "name": "stderr",
     "output_type": "stream",
     "text": [
      "                                                                     \r"
     ]
    },
    {
     "name": "stdout",
     "output_type": "stream",
     "text": [
      "epoch 50, max_score = 0.0330, mean_score = 0.0101,\n"
     ]
    },
    {
     "name": "stderr",
     "output_type": "stream",
     "text": [
      "                                                                     \r"
     ]
    },
    {
     "name": "stdout",
     "output_type": "stream",
     "text": [
      "epoch 51, max_score = 0.0312, mean_score = 0.0085,\n"
     ]
    },
    {
     "name": "stderr",
     "output_type": "stream",
     "text": [
      "                                                                     \r"
     ]
    },
    {
     "name": "stdout",
     "output_type": "stream",
     "text": [
      "epoch 52, max_score = 0.0475, mean_score = 0.0038,\n"
     ]
    },
    {
     "name": "stderr",
     "output_type": "stream",
     "text": [
      "                                                                     \r"
     ]
    },
    {
     "name": "stdout",
     "output_type": "stream",
     "text": [
      "epoch 53, max_score = 0.0165, mean_score = -0.0077,\n"
     ]
    },
    {
     "name": "stderr",
     "output_type": "stream",
     "text": [
      "                                                                     \r"
     ]
    },
    {
     "name": "stdout",
     "output_type": "stream",
     "text": [
      "epoch 54, max_score = 0.0216, mean_score = 0.0040,\n"
     ]
    },
    {
     "name": "stderr",
     "output_type": "stream",
     "text": [
      "                                                                     \r"
     ]
    },
    {
     "name": "stdout",
     "output_type": "stream",
     "text": [
      "epoch 55, max_score = 0.0310, mean_score = 0.0034,\n"
     ]
    },
    {
     "name": "stderr",
     "output_type": "stream",
     "text": [
      "                                                                     \r"
     ]
    },
    {
     "name": "stdout",
     "output_type": "stream",
     "text": [
      "epoch 56, max_score = 0.0083, mean_score = -0.0016,\n"
     ]
    },
    {
     "name": "stderr",
     "output_type": "stream",
     "text": [
      "                                                                     \r"
     ]
    },
    {
     "name": "stdout",
     "output_type": "stream",
     "text": [
      "epoch 57, max_score = 0.0028, mean_score = -0.0064,\n"
     ]
    },
    {
     "name": "stderr",
     "output_type": "stream",
     "text": [
      "                                                                     \r"
     ]
    },
    {
     "name": "stdout",
     "output_type": "stream",
     "text": [
      "epoch 58, max_score = 0.0139, mean_score = -0.0007,\n"
     ]
    },
    {
     "name": "stderr",
     "output_type": "stream",
     "text": [
      "                                                                     \r"
     ]
    },
    {
     "name": "stdout",
     "output_type": "stream",
     "text": [
      "epoch 59, max_score = 0.0163, mean_score = -0.0062,\n"
     ]
    },
    {
     "name": "stderr",
     "output_type": "stream",
     "text": [
      "                                                                     \r"
     ]
    },
    {
     "name": "stdout",
     "output_type": "stream",
     "text": [
      "epoch 60, max_score = 0.0055, mean_score = -0.0041,\n"
     ]
    },
    {
     "name": "stderr",
     "output_type": "stream",
     "text": [
      "                                                                     \r"
     ]
    },
    {
     "name": "stdout",
     "output_type": "stream",
     "text": [
      "epoch 61, max_score = 0.0145, mean_score = -0.0057,\n"
     ]
    },
    {
     "name": "stderr",
     "output_type": "stream",
     "text": [
      "                                                                     \r"
     ]
    },
    {
     "name": "stdout",
     "output_type": "stream",
     "text": [
      "epoch 62, max_score = 0.0207, mean_score = 0.0004,\n"
     ]
    },
    {
     "name": "stderr",
     "output_type": "stream",
     "text": [
      "                                                                     \r"
     ]
    },
    {
     "name": "stdout",
     "output_type": "stream",
     "text": [
      "epoch 63, max_score = 0.0082, mean_score = -0.0057,\n"
     ]
    },
    {
     "name": "stderr",
     "output_type": "stream",
     "text": [
      "                                                                     \r"
     ]
    },
    {
     "name": "stdout",
     "output_type": "stream",
     "text": [
      "epoch 64, max_score = 0.0176, mean_score = -0.0011,\n"
     ]
    },
    {
     "name": "stderr",
     "output_type": "stream",
     "text": [
      "                                                                     \r"
     ]
    },
    {
     "name": "stdout",
     "output_type": "stream",
     "text": [
      "epoch 65, max_score = 0.0118, mean_score = -0.0088,\n"
     ]
    },
    {
     "name": "stderr",
     "output_type": "stream",
     "text": [
      "                                                                     \r"
     ]
    },
    {
     "name": "stdout",
     "output_type": "stream",
     "text": [
      "epoch 66, max_score = 0.0157, mean_score = 0.0032,\n"
     ]
    },
    {
     "name": "stderr",
     "output_type": "stream",
     "text": [
      "                                                                     \r"
     ]
    },
    {
     "name": "stdout",
     "output_type": "stream",
     "text": [
      "epoch 67, max_score = 0.0134, mean_score = 0.0020,\n"
     ]
    },
    {
     "name": "stderr",
     "output_type": "stream",
     "text": [
      "                                                                     \r"
     ]
    },
    {
     "name": "stdout",
     "output_type": "stream",
     "text": [
      "epoch 68, max_score = 0.0105, mean_score = -0.0009,\n"
     ]
    },
    {
     "name": "stderr",
     "output_type": "stream",
     "text": [
      "                                                                     \r"
     ]
    },
    {
     "name": "stdout",
     "output_type": "stream",
     "text": [
      "epoch 69, max_score = 0.0126, mean_score = -0.0031,\n"
     ]
    },
    {
     "name": "stderr",
     "output_type": "stream",
     "text": [
      "                                                                     \r"
     ]
    },
    {
     "name": "stdout",
     "output_type": "stream",
     "text": [
      "epoch 70, max_score = 0.0267, mean_score = 0.0024,\n"
     ]
    },
    {
     "name": "stderr",
     "output_type": "stream",
     "text": [
      "                                                                     \r"
     ]
    },
    {
     "name": "stdout",
     "output_type": "stream",
     "text": [
      "epoch 71, max_score = 0.0176, mean_score = 0.0005,\n"
     ]
    },
    {
     "name": "stderr",
     "output_type": "stream",
     "text": [
      "                                                                     \r"
     ]
    },
    {
     "name": "stdout",
     "output_type": "stream",
     "text": [
      "epoch 72, max_score = 0.0124, mean_score = -0.0033,\n"
     ]
    },
    {
     "name": "stderr",
     "output_type": "stream",
     "text": [
      "                                                                     \r"
     ]
    },
    {
     "name": "stdout",
     "output_type": "stream",
     "text": [
      "epoch 73, max_score = 0.0052, mean_score = -0.0061,\n"
     ]
    },
    {
     "name": "stderr",
     "output_type": "stream",
     "text": [
      "                                                                     \r"
     ]
    },
    {
     "name": "stdout",
     "output_type": "stream",
     "text": [
      "epoch 74, max_score = 0.0154, mean_score = -0.0004,\n"
     ]
    },
    {
     "name": "stderr",
     "output_type": "stream",
     "text": [
      "                                                                     \r"
     ]
    },
    {
     "name": "stdout",
     "output_type": "stream",
     "text": [
      "epoch 75, max_score = 0.0074, mean_score = -0.0019,\n"
     ]
    },
    {
     "name": "stderr",
     "output_type": "stream",
     "text": [
      "                                                                     \r"
     ]
    },
    {
     "name": "stdout",
     "output_type": "stream",
     "text": [
      "epoch 76, max_score = 0.0189, mean_score = -0.0029,\n"
     ]
    },
    {
     "name": "stderr",
     "output_type": "stream",
     "text": [
      "                                                                     \r"
     ]
    },
    {
     "name": "stdout",
     "output_type": "stream",
     "text": [
      "epoch 77, max_score = 0.0185, mean_score = 0.0051,\n"
     ]
    },
    {
     "name": "stderr",
     "output_type": "stream",
     "text": [
      "                                                                     \r"
     ]
    },
    {
     "name": "stdout",
     "output_type": "stream",
     "text": [
      "epoch 78, max_score = 0.0068, mean_score = -0.0032,\n"
     ]
    },
    {
     "name": "stderr",
     "output_type": "stream",
     "text": [
      "                                                                     \r"
     ]
    },
    {
     "name": "stdout",
     "output_type": "stream",
     "text": [
      "epoch 79, max_score = 0.0137, mean_score = 0.0006,\n"
     ]
    },
    {
     "name": "stderr",
     "output_type": "stream",
     "text": [
      "                                                                     \r"
     ]
    },
    {
     "ename": "KeyboardInterrupt",
     "evalue": "",
     "output_type": "error",
     "traceback": [
      "\u001b[1;31m---------------------------------------------------------------------------\u001b[0m",
      "\u001b[1;31mKeyboardInterrupt\u001b[0m                         Traceback (most recent call last)",
      "\u001b[1;32mg:\\projects\\gfos\\notebooks\\training\\gcn_layout_xla_random.ipynb Cell 10\u001b[0m line \u001b[0;36m6\n\u001b[0;32m     <a href='vscode-notebook-cell:/g%3A/projects/gfos/notebooks/training/gcn_layout_xla_random.ipynb#X13sZmlsZQ%3D%3D?line=37'>38</a>\u001b[0m (\n\u001b[0;32m     <a href='vscode-notebook-cell:/g%3A/projects/gfos/notebooks/training/gcn_layout_xla_random.ipynb#X13sZmlsZQ%3D%3D?line=38'>39</a>\u001b[0m     node_feat,\n\u001b[0;32m     <a href='vscode-notebook-cell:/g%3A/projects/gfos/notebooks/training/gcn_layout_xla_random.ipynb#X13sZmlsZQ%3D%3D?line=39'>40</a>\u001b[0m     node_opcode,\n\u001b[1;32m   (...)\u001b[0m\n\u001b[0;32m     <a href='vscode-notebook-cell:/g%3A/projects/gfos/notebooks/training/gcn_layout_xla_random.ipynb#X13sZmlsZQ%3D%3D?line=50'>51</a>\u001b[0m     target\u001b[39m.\u001b[39mto(device),\n\u001b[0;32m     <a href='vscode-notebook-cell:/g%3A/projects/gfos/notebooks/training/gcn_layout_xla_random.ipynb#X13sZmlsZQ%3D%3D?line=51'>52</a>\u001b[0m )\n\u001b[0;32m     <a href='vscode-notebook-cell:/g%3A/projects/gfos/notebooks/training/gcn_layout_xla_random.ipynb#X13sZmlsZQ%3D%3D?line=53'>54</a>\u001b[0m out \u001b[39m=\u001b[39m model(\n\u001b[0;32m     <a href='vscode-notebook-cell:/g%3A/projects/gfos/notebooks/training/gcn_layout_xla_random.ipynb#X13sZmlsZQ%3D%3D?line=54'>55</a>\u001b[0m     node_feat,\n\u001b[0;32m     <a href='vscode-notebook-cell:/g%3A/projects/gfos/notebooks/training/gcn_layout_xla_random.ipynb#X13sZmlsZQ%3D%3D?line=55'>56</a>\u001b[0m     node_opcode,\n\u001b[1;32m   (...)\u001b[0m\n\u001b[0;32m     <a href='vscode-notebook-cell:/g%3A/projects/gfos/notebooks/training/gcn_layout_xla_random.ipynb#X13sZmlsZQ%3D%3D?line=58'>59</a>\u001b[0m     node_config_ids,\n\u001b[0;32m     <a href='vscode-notebook-cell:/g%3A/projects/gfos/notebooks/training/gcn_layout_xla_random.ipynb#X13sZmlsZQ%3D%3D?line=59'>60</a>\u001b[0m )\n\u001b[1;32m---> <a href='vscode-notebook-cell:/g%3A/projects/gfos/notebooks/training/gcn_layout_xla_random.ipynb#X13sZmlsZQ%3D%3D?line=61'>62</a>\u001b[0m loss \u001b[39m=\u001b[39m criterion(out, target)\n\u001b[0;32m     <a href='vscode-notebook-cell:/g%3A/projects/gfos/notebooks/training/gcn_layout_xla_random.ipynb#X13sZmlsZQ%3D%3D?line=62'>63</a>\u001b[0m \u001b[39m# loss = listMLE(out[None], target[None])\u001b[39;00m\n\u001b[0;32m     <a href='vscode-notebook-cell:/g%3A/projects/gfos/notebooks/training/gcn_layout_xla_random.ipynb#X13sZmlsZQ%3D%3D?line=63'>64</a>\u001b[0m loss\u001b[39m.\u001b[39mbackward()\n",
      "File \u001b[1;32mc:\\Users\\ntj_0\\Anaconda3\\envs\\gfos\\lib\\site-packages\\torch\\nn\\modules\\module.py:1501\u001b[0m, in \u001b[0;36mModule._call_impl\u001b[1;34m(self, *args, **kwargs)\u001b[0m\n\u001b[0;32m   1496\u001b[0m \u001b[39m# If we don't have any hooks, we want to skip the rest of the logic in\u001b[39;00m\n\u001b[0;32m   1497\u001b[0m \u001b[39m# this function, and just call forward.\u001b[39;00m\n\u001b[0;32m   1498\u001b[0m \u001b[39mif\u001b[39;00m \u001b[39mnot\u001b[39;00m (\u001b[39mself\u001b[39m\u001b[39m.\u001b[39m_backward_hooks \u001b[39mor\u001b[39;00m \u001b[39mself\u001b[39m\u001b[39m.\u001b[39m_backward_pre_hooks \u001b[39mor\u001b[39;00m \u001b[39mself\u001b[39m\u001b[39m.\u001b[39m_forward_hooks \u001b[39mor\u001b[39;00m \u001b[39mself\u001b[39m\u001b[39m.\u001b[39m_forward_pre_hooks\n\u001b[0;32m   1499\u001b[0m         \u001b[39mor\u001b[39;00m _global_backward_pre_hooks \u001b[39mor\u001b[39;00m _global_backward_hooks\n\u001b[0;32m   1500\u001b[0m         \u001b[39mor\u001b[39;00m _global_forward_hooks \u001b[39mor\u001b[39;00m _global_forward_pre_hooks):\n\u001b[1;32m-> 1501\u001b[0m     \u001b[39mreturn\u001b[39;00m forward_call(\u001b[39m*\u001b[39margs, \u001b[39m*\u001b[39m\u001b[39m*\u001b[39mkwargs)\n\u001b[0;32m   1502\u001b[0m \u001b[39m# Do not call functions when jit is used\u001b[39;00m\n\u001b[0;32m   1503\u001b[0m full_backward_hooks, non_full_backward_hooks \u001b[39m=\u001b[39m [], []\n",
      "File \u001b[1;32mg:\\projects\\gfos\\src\\gfos\\loss.py:51\u001b[0m, in \u001b[0;36mMultiElementRankLoss.forward\u001b[1;34m(self, outputs, config_runtime)\u001b[0m\n\u001b[0;32m     49\u001b[0m loss \u001b[39m=\u001b[39m \u001b[39m0\u001b[39m\n\u001b[0;32m     50\u001b[0m \u001b[39mfor\u001b[39;00m _ \u001b[39min\u001b[39;00m \u001b[39mrange\u001b[39m(\u001b[39mself\u001b[39m\u001b[39m.\u001b[39mnumber_permutations):\n\u001b[1;32m---> 51\u001b[0m     loss \u001b[39m+\u001b[39m\u001b[39m=\u001b[39m \u001b[39mself\u001b[39;49m\u001b[39m.\u001b[39;49mcalculate_rank_loss(outputs, config_runtime)\n\u001b[0;32m     52\u001b[0m \u001b[39mreturn\u001b[39;00m loss \u001b[39m/\u001b[39m \u001b[39mself\u001b[39m\u001b[39m.\u001b[39mnumber_permutations\n",
      "File \u001b[1;32mg:\\projects\\gfos\\src\\gfos\\loss.py:39\u001b[0m, in \u001b[0;36mMultiElementRankLoss.calculate_rank_loss\u001b[1;34m(self, outputs, config_runtime)\u001b[0m\n\u001b[0;32m     35\u001b[0m labels \u001b[39m=\u001b[39m \u001b[39m2\u001b[39m \u001b[39m*\u001b[39m ((config_runtime \u001b[39m-\u001b[39m permuted_runtime) \u001b[39m>\u001b[39m \u001b[39m0\u001b[39m) \u001b[39m-\u001b[39m \u001b[39m1\u001b[39m\n\u001b[0;32m     36\u001b[0m permuted_output \u001b[39m=\u001b[39m outputs[permutation]\n\u001b[0;32m     37\u001b[0m loss \u001b[39m=\u001b[39m \u001b[39mself\u001b[39m\u001b[39m.\u001b[39mloss_fn(\n\u001b[0;32m     38\u001b[0m     outputs\u001b[39m.\u001b[39mview(\u001b[39m-\u001b[39m\u001b[39m1\u001b[39m, \u001b[39m1\u001b[39m),\n\u001b[1;32m---> 39\u001b[0m     permuted_output\u001b[39m.\u001b[39;49mview(\u001b[39m-\u001b[39;49m\u001b[39m1\u001b[39;49m, \u001b[39m1\u001b[39;49m),\n\u001b[0;32m     40\u001b[0m     labels\u001b[39m.\u001b[39mview(\u001b[39m-\u001b[39m\u001b[39m1\u001b[39m, \u001b[39m1\u001b[39m),\n\u001b[0;32m     41\u001b[0m )\n\u001b[0;32m     42\u001b[0m \u001b[39mreturn\u001b[39;00m loss\u001b[39m.\u001b[39mmean()\n",
      "\u001b[1;31mKeyboardInterrupt\u001b[0m: "
     ]
    }
   ],
   "source": [
    "if not DEBUG:\n",
    "    run = wandb.init(\n",
    "        project=WANDB_PROJECT,\n",
    "        dir=WANDB_DIR,\n",
    "        name=WANDB_RUN_NAME,\n",
    "        config=configs,\n",
    "        tags=TAGS,\n",
    "    )\n",
    "    run.watch(model, log=\"all\")\n",
    "\n",
    "    time_str = datetime.now().strftime(\"%Y%m%d_%H%M%S\")\n",
    "    log_dir = f\"../../logs/{WANDB_RUN_NAME}/{time_str}\"\n",
    "    os.makedirs(log_dir, exist_ok=True)\n",
    "\n",
    "best_score_mean = -1\n",
    "\n",
    "train_dataset = LayoutDataset(xla_random_layouts[\"train\"], max_configs=2000, num_configs=100)\n",
    "val_dataset = LayoutDataset(xla_random_layouts[\"valid\"], permute=False)\n",
    "\n",
    "for epoch in range(num_epochs):\n",
    "    # Shuffle the training dataset\n",
    "    permutation = np.random.permutation(len(train_dataset))\n",
    "    # train_layouts = [xla_random_layouts[\"train\"][i] for i in permutation]\n",
    "    # train_dataset = LayoutDataset(train_layouts, max_configs=max_configs)\n",
    "\n",
    "    model.train()\n",
    "    pbar = tqdm(permutation, leave=False)\n",
    "\n",
    "    for i in pbar:\n",
    "        record = train_dataset[i]\n",
    "        node_feat = record[\"node_feat\"]\n",
    "        node_opcode = record[\"node_opcode\"]\n",
    "        edge_index = record[\"edge_index\"]\n",
    "        node_config_feat = record[\"node_config_feat\"]\n",
    "        node_config_ids = record[\"node_config_ids\"]\n",
    "        config_runtime = record[\"target\"]\n",
    "\n",
    "        (\n",
    "            node_feat,\n",
    "            node_opcode,\n",
    "            edge_index,\n",
    "            node_config_feat,\n",
    "            node_config_ids,\n",
    "            config_runtime,\n",
    "        ) = (\n",
    "            node_feat.to(device),\n",
    "            node_opcode.to(device),\n",
    "            edge_index.to(device),\n",
    "            node_config_feat.to(device),\n",
    "            node_config_ids.to(device),\n",
    "            config_runtime.to(device),\n",
    "        )\n",
    "\n",
    "        out = model(\n",
    "            node_feat,\n",
    "            node_opcode,\n",
    "            edge_index,\n",
    "            node_config_feat,\n",
    "            node_config_ids,\n",
    "        )\n",
    "\n",
    "        loss = criterion(out, config_runtime)\n",
    "        # loss = listMLE(out[None], target[None])\n",
    "        loss.backward()\n",
    "        torch.nn.utils.clip_grad_norm_(model.parameters(), 1e-2)\n",
    "\n",
    "        scheduler.step()\n",
    "        optimizer.step()\n",
    "        optimizer.zero_grad()\n",
    "\n",
    "        if not DEBUG:\n",
    "            wandb.log(\n",
    "                {\n",
    "                    \"epoch\": epoch,\n",
    "                    \"train/lr\": scheduler.get_lr()[0],\n",
    "                    \"train/loss\": loss.item(),\n",
    "                }\n",
    "            )\n",
    "\n",
    "        pbar.set_description(f\"epoch: {epoch} loss: {(loss.item()):.2f}\")\n",
    "\n",
    "    pbar.close()\n",
    "\n",
    "    model.eval()\n",
    "    layout_xla_scores = []\n",
    "\n",
    "    with torch.no_grad():\n",
    "        for record in tqdm(val_dataset, desc=\"valid\", leave=False):\n",
    "            node_feat = record[\"node_feat\"]\n",
    "            node_opcode = record[\"node_opcode\"]\n",
    "            edge_index = record[\"edge_index\"]\n",
    "            node_config_feat = record[\"node_config_feat\"]\n",
    "            node_config_ids = record[\"node_config_ids\"]\n",
    "            config_runtime = record[\"config_runtime\"]\n",
    "\n",
    "            (\n",
    "                node_feat,\n",
    "                node_opcode,\n",
    "                edge_index,\n",
    "                node_config_feat,\n",
    "                node_config_ids,\n",
    "            ) = (\n",
    "                node_feat.to(device),\n",
    "                node_opcode.to(device),\n",
    "                edge_index.to(device),\n",
    "                node_config_feat.to(device),\n",
    "                node_config_ids.to(device),\n",
    "            )\n",
    "            config_runtime = config_runtime.numpy()\n",
    "            num_configs = config_runtime.shape[-1]\n",
    "            outs = []\n",
    "\n",
    "            for i in range(0, num_configs, _INFERENCE_CONFIGS_BATCH_SIZE):\n",
    "                end_i = min(i + _INFERENCE_CONFIGS_BATCH_SIZE, num_configs)\n",
    "                out: torch.Tensor = model(\n",
    "                    node_feat,\n",
    "                    node_opcode,\n",
    "                    edge_index,\n",
    "                    node_config_feat[i:end_i],\n",
    "                    node_config_ids,\n",
    "                )\n",
    "                outs.append(out.detach().cpu())\n",
    "\n",
    "            pred_idx = np.argsort(torch.concat(outs).numpy())\n",
    "            true_idx = np.argsort(config_runtime)\n",
    "\n",
    "            score = metric_for_layout_collections(pred_idx, true_idx)\n",
    "            layout_xla_scores.append(score)\n",
    "\n",
    "    score_mean = np.mean(layout_xla_scores)\n",
    "    score_max = np.max(layout_xla_scores)\n",
    "\n",
    "    if not DEBUG:\n",
    "        wandb.log(\n",
    "            {\n",
    "                \"val/kendalltau\": score_mean,\n",
    "            }\n",
    "        )\n",
    "\n",
    "    print(\n",
    "        f\"epoch {epoch}, max_score = {score_max:.4f}, mean_score = {score_mean:.4f},\"\n",
    "    )\n",
    "\n",
    "    # Update best scores and save the model if the mean score improves\n",
    "    if score_mean > best_score_mean:\n",
    "        best_score_mean = score_mean\n",
    "        best_score_max = score_max\n",
    "        print(f\"Best score updated: {best_score_mean:.4f}\")\n",
    "        if not DEBUG:\n",
    "            torch.save(\n",
    "                model.state_dict(), f\"{log_dir}/{epoch}_{score_mean:.4f}.pth\"\n",
    "            )\n",
    "\n",
    "if not DEBUG:\n",
    "    run.finish()"
   ]
  },
  {
   "cell_type": "code",
   "execution_count": null,
   "metadata": {},
   "outputs": [],
   "source": []
  }
 ],
 "metadata": {
  "kernelspec": {
   "display_name": "gfos",
   "language": "python",
   "name": "python3"
  },
  "language_info": {
   "codemirror_mode": {
    "name": "ipython",
    "version": 3
   },
   "file_extension": ".py",
   "mimetype": "text/x-python",
   "name": "python",
   "nbconvert_exporter": "python",
   "pygments_lexer": "ipython3",
   "version": "3.10.12"
  },
  "orig_nbformat": 4
 },
 "nbformat": 4,
 "nbformat_minor": 2
}
