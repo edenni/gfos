{
 "cells": [
  {
   "cell_type": "code",
   "execution_count": 10,
   "metadata": {},
   "outputs": [],
   "source": [
    "import torch\n",
    "import torch.nn as nn\n"
   ]
  },
  {
   "cell_type": "code",
   "execution_count": 40,
   "metadata": {},
   "outputs": [],
   "source": [
    "class MultiElementRankLoss(nn.Module):\n",
    "    \"\"\"\n",
    "    Loss function that compares the output of the model with the output of the model with a permutation of the elements\n",
    "    \"\"\"\n",
    "\n",
    "    def __init__(\n",
    "        self, margin: float = 0.0, number_permutations: int = 1\n",
    "    ) -> None:\n",
    "        super().__init__()\n",
    "        self.loss_fn = torch.nn.MarginRankingLoss(\n",
    "            margin=margin, reduction=\"none\"\n",
    "        )\n",
    "        self.number_permutations = number_permutations\n",
    "\n",
    "    def calculate_rank_loss(\n",
    "        self,\n",
    "        outputs: torch.Tensor,\n",
    "        config_runtime: torch.Tensor,\n",
    "    ):\n",
    "        \"\"\"\n",
    "        Generates a permutation of the predictions and targets and calculates the loss MarginRankingLoss against the permutation\n",
    "        Args:\n",
    "            outputs: Tensor of shape (bs, seq_len) with the outputs of the model\n",
    "            config_runtime: Tensor of shape (bs, seq_len) with the runtime of the model\n",
    "        Returns:\n",
    "            loss: Tensor of shape (bs, seq_len) with the loss for each element in the batch\n",
    "        \"\"\"\n",
    "        num_configs = outputs.shape[0]\n",
    "        permutation = torch.randperm(num_configs)\n",
    "        permuted_runtime = config_runtime[permutation]\n",
    "        labels = 2 * ((config_runtime - permuted_runtime) > 0) - 1\n",
    "        permuted_output = outputs[permutation]\n",
    "        loss = self.loss_fn(\n",
    "            outputs.view(-1, 1),\n",
    "            permuted_output.view(-1, 1),\n",
    "            labels.view(-1, 1),\n",
    "        )\n",
    "        return loss.mean()\n",
    "\n",
    "    def forward(\n",
    "        self,\n",
    "        outputs: torch.Tensor,\n",
    "        config_runtime: torch.Tensor,\n",
    "    ):\n",
    "        loss = 0\n",
    "        for _ in range(self.number_permutations):\n",
    "            loss += self.calculate_rank_loss(outputs, config_runtime)\n",
    "        return loss / self.number_permutations"
   ]
  },
  {
   "cell_type": "code",
   "execution_count": 43,
   "metadata": {},
   "outputs": [
    {
     "data": {
      "text/plain": [
       "tensor(0.)"
      ]
     },
     "execution_count": 43,
     "metadata": {},
     "output_type": "execute_result"
    }
   ],
   "source": [
    "pred = torch.tensor([10, 9, 8, 7, 6, 5, 4, 3, 2, 1])\n",
    "runtime = torch.tensor([10, 9, 8, 7, 6, 5, 4, 3, 2, 1])\n",
    "\n",
    "loss_fn = MultiElementRankLoss(number_permutations=10)\n",
    "loss = loss_fn(pred, runtime)\n",
    "loss"
   ]
  }
 ],
 "metadata": {
  "kernelspec": {
   "display_name": "gfos",
   "language": "python",
   "name": "python3"
  },
  "language_info": {
   "codemirror_mode": {
    "name": "ipython",
    "version": 3
   },
   "file_extension": ".py",
   "mimetype": "text/x-python",
   "name": "python",
   "nbconvert_exporter": "python",
   "pygments_lexer": "ipython3",
   "version": "3.10.12"
  },
  "orig_nbformat": 4
 },
 "nbformat": 4,
 "nbformat_minor": 2
}
