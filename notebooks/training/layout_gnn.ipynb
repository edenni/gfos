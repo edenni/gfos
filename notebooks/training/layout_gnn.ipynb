{
 "cells": [
  {
   "cell_type": "code",
   "execution_count": 1,
   "metadata": {},
   "outputs": [],
   "source": [
    "import os\n",
    "from datetime import datetime\n",
    "from typing import Literal\n",
    "\n",
    "import torch\n",
    "import wandb\n",
    "import numpy as np\n",
    "from tqdm import tqdm\n",
    "from torch import nn\n",
    "from torch import optim\n",
    "from torch.nn import Linear, ReLU, Dropout\n",
    "import torch_geometric.nn as geonn\n",
    "from torch_geometric.nn import Sequential, GCNConv, JumpingKnowledge\n",
    "from torch_geometric.nn import global_mean_pool\n",
    "\n",
    "from gfos.data.utils import load_layout\n",
    "from gfos.data.dataset import LayoutDataset\n",
    "from gfos.utils.scheduler import CosineAnnealingWarmupRestarts\n",
    "from gfos.metrics import metric_for_layout_collections\n",
    "from gfos.loss import MultiElementRankLoss, listMLE\n",
    "from gfos.utils.misc import seed_everything\n",
    "\n",
    "\n",
    "SEED = 42\n",
    "DEBUG = True\n",
    "\n",
    "seed_everything(SEED)\n",
    "device = \"cuda\" if torch.cuda.is_available() else \"cpu\""
   ]
  },
  {
   "cell_type": "markdown",
   "metadata": {},
   "source": [
    "## Configs"
   ]
  },
  {
   "cell_type": "code",
   "execution_count": 2,
   "metadata": {},
   "outputs": [],
   "source": [
    "LAYOUT_DIR = r\"H:\\data\\gfos\\predict-ai-model-runtime\\npz_all\\npz\\layout\"\n",
    "\n",
    "configs = dict(\n",
    "    conv_layer=\"GCNConv\",\n",
    "    num_epochs=100,\n",
    "    learning_rate=1e-3,\n",
    "    weight_decay=1e-6,\n",
    "    min_lr=1e-7,\n",
    "    warmup_ratio=0.0,\n",
    "    max_configs=5000,\n",
    "    num_configs=16,\n",
    "    num_encoder=1,\n",
    "    num_feedforward=512,\n",
    "    nhead=1,\n",
    "    loss_margin=0.1,\n",
    "    loss_num_permutations=50,\n",
    ")\n",
    "\n",
    "WANDB_PROJECT = \"gfos\"\n",
    "WANDB_DIR = \"../../logs/\"\n",
    "WANDB_RUN_NAME = \"gcn_layout_xla_default\"\n",
    "TAGS = [\"train\", \"layout\", \"xla\", \"default\"]"
   ]
  },
  {
   "cell_type": "code",
   "execution_count": 3,
   "metadata": {},
   "outputs": [],
   "source": [
    "def min_max_normalize(feature_matrix: torch.Tensor) -> torch.Tensor:\n",
    "    max_feat, _ = torch.max(feature_matrix, dim=0, keepdim=True)\n",
    "    min_feat, _ = torch.min(feature_matrix, dim=0, keepdim=True)\n",
    "    used_columns = min_feat[0] != max_feat[0]\n",
    "\n",
    "    feature_matrix = feature_matrix[:, used_columns]\n",
    "    min_feat = min_feat[:, used_columns]\n",
    "    max_feat = max_feat[:, used_columns]\n",
    "    return (feature_matrix - min_feat) / (max_feat - min_feat)"
   ]
  },
  {
   "cell_type": "markdown",
   "metadata": {},
   "source": [
    "## Model"
   ]
  },
  {
   "cell_type": "code",
   "execution_count": 4,
   "metadata": {},
   "outputs": [],
   "source": [
    "def edges_adjacency(edges: torch.Tensor, add_diagonal=True) -> torch.Tensor:\n",
    "    \"\"\"\n",
    "    Generate an adjacency matrix from the edges\n",
    "    Args:\n",
    "        edges: Tensor of shape (num_edges, 2) with the edges\n",
    "        add_diagonal: Boolean indicating if the diagonal should be added to the adjacency matrix\n",
    "    Returns:\n",
    "        adjacency_matrix: Tensor of shape (num_nodes, num_nodes) with the adjacency matrix\n",
    "    \"\"\"\n",
    "    adjacency_matrix = torch.zeros(\n",
    "        (edges.max() + 1, edges.max() + 1), device=edges.device\n",
    "    )\n",
    "    adjacency_matrix[edges[:, 0], edges[:, 1]] = 1\n",
    "    if add_diagonal:\n",
    "        diag_idx = torch.arange(adjacency_matrix.shape[0])\n",
    "        adjacency_matrix[diag_idx, diag_idx] = 1\n",
    "    return adjacency_matrix\n",
    "\n",
    "\n",
    "def aggregate_neighbors(node_feat: torch.Tensor, edge_index: torch.Tensor):\n",
    "    source_nodes = edge_index[0]\n",
    "    target_nodes = edge_index[1]\n",
    "\n",
    "    in_degree_features = torch.zeros_like(node_feat, device=node_feat.device)\n",
    "    out_degree_features = torch.zeros_like(node_feat, device=node_feat.device)\n",
    "\n",
    "    source_node_features = node_feat[source_nodes]\n",
    "    target_node_features = node_feat[target_nodes]\n",
    "\n",
    "    in_degree_features.scatter_reduce_(\n",
    "        0,\n",
    "        target_nodes.unsqueeze(-1).expand_as(source_node_features),\n",
    "        source_node_features,\n",
    "        reduce=\"sum\",\n",
    "    )\n",
    "    \n",
    "    out_degree_features.scatter_reduce_(\n",
    "        0,\n",
    "        source_nodes.unsqueeze(-1).expand_as(target_node_features),\n",
    "        target_node_features,\n",
    "        reduce=\"mean\",\n",
    "    )\n",
    "    \n",
    "    return out_degree_features - in_degree_features"
   ]
  },
  {
   "cell_type": "code",
   "execution_count": 5,
   "metadata": {},
   "outputs": [],
   "source": [
    "class LayoutModel(torch.nn.Module):\n",
    "    def __init__(\n",
    "        self,\n",
    "        conv_layer: Literal[\"GATConv\", \"GCNConv\", \"SAGEConv\"],\n",
    "    ):\n",
    "        super().__init__()\n",
    "\n",
    "        conv_layer = getattr(geonn, conv_layer)\n",
    "\n",
    "        op_embedding_dim = 32\n",
    "        config_dim = 64\n",
    "\n",
    "        self.embedding = torch.nn.Embedding(\n",
    "            120,\n",
    "            op_embedding_dim,\n",
    "        )\n",
    "        in_channels = config_dim + op_embedding_dim + 140\n",
    "\n",
    "        self.convs = Sequential(\n",
    "            \"x, edge_index, batch\",\n",
    "            [\n",
    "                (Dropout(p=0.2), \"x -> x\"),\n",
    "                (\n",
    "                    conv_layer(in_channels, 64, node_dim=1),\n",
    "                    \"x, edge_index -> x1\",\n",
    "                ),\n",
    "                nn.LeakyReLU(inplace=True),\n",
    "                (conv_layer(64, 64, node_dim=1), \"x1, edge_index -> x2\"),\n",
    "                nn.LeakyReLU(inplace=True),\n",
    "                (lambda x1, x2: x1 + x2, \"x1, x2 -> x3\"),\n",
    "\n",
    "                (nn.Dropout(p=0.2), \"x3 -> x3\"),\n",
    "                (\n",
    "                    conv_layer(64, 128, node_dim=1),\n",
    "                    \"x3, edge_index -> x4\",\n",
    "                ),\n",
    "                nn.LeakyReLU(inplace=True),\n",
    "                (conv_layer(128, 128, node_dim=1), \"x4, edge_index -> x5\"),\n",
    "                nn.LeakyReLU(inplace=True),\n",
    "                (lambda x4, x5: x4 + x5, \"x4, x5 -> x6\"),\n",
    "\n",
    "                (nn.Dropout(p=0.2), \"x6 -> x6\"),\n",
    "                (\n",
    "                    conv_layer(128, 64, node_dim=1),\n",
    "                    \"x6, edge_index -> x7\",\n",
    "                ),\n",
    "                nn.LeakyReLU(inplace=True),\n",
    "                (conv_layer(64, 64, node_dim=1), \"x7, edge_index -> x8\"),\n",
    "                nn.LeakyReLU(inplace=True),\n",
    "                (lambda x7, x8: [x7, x8], \"x7, x8 -> xs\"),\n",
    "                (JumpingKnowledge(\"cat\", 64, num_layers=2), \"xs -> x\"),\n",
    "                (global_mean_pool, \"x, batch -> x\"),\n",
    "                Linear(2 * 64, 1),\n",
    "            ],\n",
    "        )\n",
    "\n",
    "        self.config_prj = nn.Sequential(\n",
    "            nn.Linear(18, config_dim),\n",
    "            nn.LayerNorm(config_dim),\n",
    "            nn.LeakyReLU(),\n",
    "        )\n",
    "\n",
    "    def forward(\n",
    "        self,\n",
    "        node_feat: torch.Tensor,\n",
    "        node_opcode: torch.Tensor,\n",
    "        edge_index: torch.Tensor,\n",
    "        node_config_feat: torch.Tensor,\n",
    "        node_config_ids: torch.Tensor,\n",
    "    ) -> torch.Tensor:\n",
    "        # Get graph features\n",
    "        c = node_config_feat.shape[0]\n",
    "        n = node_feat.shape[0]\n",
    "\n",
    "        # (C, NC, 18) -> (C, NC, config_dim)\n",
    "        node_config_feat = self.config_prj(node_config_feat)\n",
    "\n",
    "        configs = torch.zeros(\n",
    "            (c, n, node_config_feat.shape[-1]), device=node_feat.device\n",
    "        )\n",
    "        configs[:, node_config_ids] = node_config_feat\n",
    "\n",
    "        x = torch.cat([node_feat, self.embedding(node_opcode)], dim=1)\n",
    "        x = torch.cat([configs, x.repeat(c, 1, 1)], dim=2)\n",
    "\n",
    "        # Get graph features\n",
    "        x = self.convs(\n",
    "            x,\n",
    "            edge_index,\n",
    "            torch.zeros(n, dtype=torch.long, device=node_feat.device),\n",
    "        )\n",
    "\n",
    "        return x.squeeze([1, 2])"
   ]
  },
  {
   "cell_type": "markdown",
   "metadata": {},
   "source": [
    "## Training"
   ]
  },
  {
   "cell_type": "code",
   "execution_count": 6,
   "metadata": {},
   "outputs": [],
   "source": [
    "xla_random_layouts = load_layout(\n",
    "    LAYOUT_DIR,\n",
    "    model_type=\"xla\",\n",
    "    compile_type=\"default\",\n",
    ")\n",
    "\n",
    "conv_layer = configs[\"conv_layer\"]\n",
    "num_epochs = configs[\"num_epochs\"]\n",
    "learning_rate = configs[\"learning_rate\"]\n",
    "weight_decay = configs[\"weight_decay\"]\n",
    "min_lr = configs[\"min_lr\"]\n",
    "warmup_ratio = configs[\"warmup_ratio\"]\n",
    "max_configs = configs[\"max_configs\"]\n",
    "num_configs = configs[\"num_configs\"]\n",
    "num_encoder = configs[\"num_encoder\"]\n",
    "num_feedforward = configs[\"num_feedforward\"]\n",
    "nhead = configs[\"nhead\"]\n",
    "margin = configs[\"loss_margin\"]\n",
    "number_permutations = configs[\"loss_num_permutations\"]\n",
    "_INFERENCE_CONFIGS_BATCH_SIZE = 100\n",
    "\n",
    "model = LayoutModel(conv_layer=conv_layer).to(device)\n",
    "\n",
    "criterion = MultiElementRankLoss(\n",
    "    margin=margin, number_permutations=number_permutations\n",
    ")\n",
    "num_steps = len(xla_random_layouts[\"train\"]) * num_epochs\n",
    "warmup_steps = int(num_steps * warmup_ratio)\n",
    "\n",
    "optimizer = optim.Adam(\n",
    "    model.parameters(), lr=learning_rate, weight_decay=weight_decay\n",
    ")\n",
    "\n",
    "scheduler = CosineAnnealingWarmupRestarts(\n",
    "    optimizer=optimizer,\n",
    "    first_cycle_steps=num_steps,\n",
    "    min_lr=min_lr,\n",
    "    max_lr=learning_rate,\n",
    "    warmup_steps=warmup_steps,\n",
    ")"
   ]
  },
  {
   "cell_type": "code",
   "execution_count": 7,
   "metadata": {},
   "outputs": [],
   "source": [
    "# train_dataset = LayoutDataset(xla_random_layouts[\"train\"], max_configs=1000, num_configs=100)\n",
    "\n",
    "# record = train_dataset[0]\n",
    "# node_feat = record[\"node_feat\"]\n",
    "# node_opcode = record[\"node_opcode\"]\n",
    "# edge_index = record[\"edge_index\"]\n",
    "# node_config_feat = record[\"node_config_feat\"]\n",
    "# node_config_ids = record[\"node_config_ids\"]\n",
    "# config_runtime = record[\"config_runtime\"]\n",
    "\n",
    "# (\n",
    "#     node_feat,\n",
    "#     node_opcode,\n",
    "#     edge_index,\n",
    "#     node_config_feat,\n",
    "#     node_config_ids,\n",
    "#     config_runtime,\n",
    "# ) = (\n",
    "#     node_feat.to(device),\n",
    "#     node_opcode.to(device),\n",
    "#     edge_index.to(device),\n",
    "#     node_config_feat.to(device),\n",
    "#     node_config_ids.to(device),\n",
    "#     config_runtime.to(device),\n",
    "# )\n",
    "\n",
    "# out = model(\n",
    "#     node_feat,\n",
    "#     node_opcode,\n",
    "#     edge_index,\n",
    "#     node_config_feat,\n",
    "#     node_config_ids,\n",
    "# )\n",
    "# out.shape\n"
   ]
  },
  {
   "cell_type": "code",
   "execution_count": 8,
   "metadata": {},
   "outputs": [
    {
     "name": "stderr",
     "output_type": "stream",
     "text": [
      "Loading data:   0%|          | 0/61 [00:00<?, ?it/s]"
     ]
    },
    {
     "name": "stderr",
     "output_type": "stream",
     "text": [
      "Loading data: 100%|██████████| 61/61 [00:31<00:00,  1.92it/s]\n",
      "Loading data: 100%|██████████| 7/7 [00:04<00:00,  1.46it/s]\n",
      "                                                                         \r"
     ]
    },
    {
     "name": "stdout",
     "output_type": "stream",
     "text": [
      "epoch 9, max_score = 0.0079, mean_score = -0.0030,\n",
      "Best score updated: -0.0030\n"
     ]
    },
    {
     "name": "stderr",
     "output_type": "stream",
     "text": [
      "                                                                        \r"
     ]
    },
    {
     "name": "stdout",
     "output_type": "stream",
     "text": [
      "epoch 19, max_score = 0.0114, mean_score = -0.0031,\n"
     ]
    },
    {
     "name": "stderr",
     "output_type": "stream",
     "text": [
      "                                                                       \r"
     ]
    },
    {
     "name": "stdout",
     "output_type": "stream",
     "text": [
      "epoch 29, max_score = 0.0180, mean_score = 0.0056,\n",
      "Best score updated: 0.0056\n"
     ]
    },
    {
     "name": "stderr",
     "output_type": "stream",
     "text": [
      "                                                                       \r"
     ]
    },
    {
     "name": "stdout",
     "output_type": "stream",
     "text": [
      "epoch 39, max_score = 0.0189, mean_score = -0.0002,\n"
     ]
    },
    {
     "name": "stderr",
     "output_type": "stream",
     "text": [
      "                                                                      \r"
     ]
    },
    {
     "name": "stdout",
     "output_type": "stream",
     "text": [
      "epoch 49, max_score = 0.0107, mean_score = 0.0024,\n"
     ]
    },
    {
     "name": "stderr",
     "output_type": "stream",
     "text": [
      "                                                                      \r"
     ]
    },
    {
     "name": "stdout",
     "output_type": "stream",
     "text": [
      "epoch 59, max_score = 0.0188, mean_score = 0.0048,\n"
     ]
    },
    {
     "name": "stderr",
     "output_type": "stream",
     "text": [
      "                                                                      \r"
     ]
    },
    {
     "name": "stdout",
     "output_type": "stream",
     "text": [
      "epoch 69, max_score = -0.0002, mean_score = -0.0059,\n"
     ]
    },
    {
     "name": "stderr",
     "output_type": "stream",
     "text": [
      "                                                                      \r"
     ]
    },
    {
     "name": "stdout",
     "output_type": "stream",
     "text": [
      "epoch 79, max_score = 0.0025, mean_score = -0.0043,\n"
     ]
    },
    {
     "name": "stderr",
     "output_type": "stream",
     "text": [
      "                                                                      \r"
     ]
    },
    {
     "name": "stdout",
     "output_type": "stream",
     "text": [
      "epoch 89, max_score = 0.0044, mean_score = -0.0030,\n"
     ]
    },
    {
     "name": "stderr",
     "output_type": "stream",
     "text": [
      "                                                                      "
     ]
    },
    {
     "name": "stdout",
     "output_type": "stream",
     "text": [
      "epoch 99, max_score = 0.0090, mean_score = -0.0009,\n"
     ]
    },
    {
     "name": "stderr",
     "output_type": "stream",
     "text": [
      "\r"
     ]
    }
   ],
   "source": [
    "NUM_VAL_EPOCHS = 10\n",
    "\n",
    "if not DEBUG:\n",
    "    run = wandb.init(\n",
    "        project=WANDB_PROJECT,\n",
    "        dir=WANDB_DIR,\n",
    "        name=WANDB_RUN_NAME,\n",
    "        config=configs,\n",
    "        tags=TAGS,\n",
    "    )\n",
    "    run.watch(model, log=\"all\")\n",
    "\n",
    "    time_str = datetime.now().strftime(\"%Y%m%d_%H%M%S\")\n",
    "    log_dir = f\"../../logs/{WANDB_RUN_NAME}/{time_str}\"\n",
    "    os.makedirs(log_dir, exist_ok=True)\n",
    "\n",
    "best_score_mean = -1\n",
    "\n",
    "train_dataset = LayoutDataset(\n",
    "    xla_random_layouts[\"train\"],\n",
    "    max_configs=max_configs,\n",
    "    num_configs=num_configs,\n",
    ")\n",
    "val_dataset = LayoutDataset(xla_random_layouts[\"valid\"], permute=False)\n",
    "\n",
    "for epoch in range(num_epochs):\n",
    "    # Shuffle the training dataset\n",
    "    permutation = np.random.permutation(len(train_dataset))\n",
    "    # train_layouts = [xla_random_layouts[\"train\"][i] for i in permutation]\n",
    "    # train_dataset = LayoutDataset(train_layouts, max_configs=max_configs)\n",
    "\n",
    "    model.train()\n",
    "    pbar = tqdm(permutation, leave=False)\n",
    "\n",
    "    for i in pbar:\n",
    "        record = train_dataset[i]\n",
    "        node_feat = record[\"node_feat\"]\n",
    "        node_opcode = record[\"node_opcode\"]\n",
    "        edge_index = record[\"edge_index\"]\n",
    "        node_config_feat = record[\"node_config_feat\"]\n",
    "        node_config_ids = record[\"node_config_ids\"]\n",
    "        config_runtime = record[\"config_runtime\"]\n",
    "\n",
    "        (\n",
    "            node_feat,\n",
    "            node_opcode,\n",
    "            edge_index,\n",
    "            node_config_feat,\n",
    "            node_config_ids,\n",
    "            config_runtime,\n",
    "        ) = (\n",
    "            node_feat.to(device),\n",
    "            node_opcode.to(device),\n",
    "            edge_index.to(device),\n",
    "            node_config_feat.to(device),\n",
    "            node_config_ids.to(device),\n",
    "            config_runtime.to(device),\n",
    "        )\n",
    "\n",
    "        out = model(\n",
    "            node_feat,\n",
    "            node_opcode,\n",
    "            edge_index,\n",
    "            node_config_feat,\n",
    "            node_config_ids,\n",
    "        )\n",
    "\n",
    "        # loss = criterion(out, config_runtime)\n",
    "        loss = listMLE(out.view(1, -1), config_runtime[None])\n",
    "        loss.backward()\n",
    "        torch.nn.utils.clip_grad_norm_(model.parameters(), 1e-2)\n",
    "\n",
    "        scheduler.step()\n",
    "        optimizer.step()\n",
    "        optimizer.zero_grad()\n",
    "\n",
    "        if not DEBUG:\n",
    "            wandb.log(\n",
    "                {\n",
    "                    \"epoch\": epoch,\n",
    "                    \"train/lr\": scheduler.get_lr()[0],\n",
    "                    \"train/loss\": loss.item(),\n",
    "                }\n",
    "            )\n",
    "\n",
    "        pbar.set_description(f\"epoch: {epoch} loss: {(loss.item()):.2f}\")\n",
    "\n",
    "    pbar.close()\n",
    "    if (epoch + 1) % NUM_VAL_EPOCHS != 0:\n",
    "        continue\n",
    "\n",
    "    model.eval()\n",
    "    layout_xla_scores = []\n",
    "\n",
    "    with torch.no_grad():\n",
    "        for record in tqdm(val_dataset, desc=\"valid\", leave=False):\n",
    "            node_feat = record[\"node_feat\"]\n",
    "            node_opcode = record[\"node_opcode\"]\n",
    "            edge_index = record[\"edge_index\"]\n",
    "            node_config_feat = record[\"node_config_feat\"]\n",
    "            node_config_ids = record[\"node_config_ids\"]\n",
    "            config_runtime = record[\"config_runtime\"]\n",
    "\n",
    "            (\n",
    "                node_feat,\n",
    "                node_opcode,\n",
    "                edge_index,\n",
    "                node_config_feat,\n",
    "                node_config_ids,\n",
    "            ) = (\n",
    "                node_feat.to(device),\n",
    "                node_opcode.to(device),\n",
    "                edge_index.to(device),\n",
    "                node_config_feat.to(device),\n",
    "                node_config_ids.to(device),\n",
    "            )\n",
    "            config_runtime = config_runtime.numpy()\n",
    "            num_configs = config_runtime.shape[-1]\n",
    "            outs = []\n",
    "\n",
    "            for i in range(0, num_configs, _INFERENCE_CONFIGS_BATCH_SIZE):\n",
    "                end_i = min(i + _INFERENCE_CONFIGS_BATCH_SIZE, num_configs)\n",
    "                out: torch.Tensor = model(\n",
    "                    node_feat,\n",
    "                    node_opcode,\n",
    "                    edge_index,\n",
    "                    node_config_feat[i:end_i],\n",
    "                    node_config_ids,\n",
    "                )\n",
    "                outs.append(out.detach().cpu())\n",
    "\n",
    "            pred_idx = np.argsort(torch.concat(outs).numpy())\n",
    "            true_idx = np.argsort(config_runtime)\n",
    "\n",
    "            score = metric_for_layout_collections(pred_idx, true_idx)\n",
    "            layout_xla_scores.append(score)\n",
    "\n",
    "    score_mean = np.mean(layout_xla_scores)\n",
    "    score_max = np.max(layout_xla_scores)\n",
    "\n",
    "    if not DEBUG:\n",
    "        wandb.log(\n",
    "            {\n",
    "                \"val/kendalltau\": score_mean,\n",
    "            }\n",
    "        )\n",
    "\n",
    "    print(\n",
    "        f\"epoch {epoch}, max_score = {score_max:.4f}, mean_score = {score_mean:.4f},\"\n",
    "    )\n",
    "\n",
    "    # Update best scores and save the model if the mean score improves\n",
    "    if score_mean > best_score_mean:\n",
    "        best_score_mean = score_mean\n",
    "        best_score_max = score_max\n",
    "        print(f\"Best score updated: {best_score_mean:.4f}\")\n",
    "        if not DEBUG:\n",
    "            torch.save(\n",
    "                model.state_dict(), f\"{log_dir}/{epoch}_{score_mean:.4f}.pth\"\n",
    "            )\n",
    "\n",
    "if not DEBUG:\n",
    "    run.finish()"
   ]
  },
  {
   "cell_type": "code",
   "execution_count": null,
   "metadata": {},
   "outputs": [],
   "source": []
  }
 ],
 "metadata": {
  "kernelspec": {
   "display_name": "gfos",
   "language": "python",
   "name": "python3"
  },
  "language_info": {
   "codemirror_mode": {
    "name": "ipython",
    "version": 3
   },
   "file_extension": ".py",
   "mimetype": "text/x-python",
   "name": "python",
   "nbconvert_exporter": "python",
   "pygments_lexer": "ipython3",
   "version": "3.10.12"
  },
  "orig_nbformat": 4
 },
 "nbformat": 4,
 "nbformat_minor": 2
}
