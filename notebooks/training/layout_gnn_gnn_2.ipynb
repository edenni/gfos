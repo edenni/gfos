{
 "cells": [
  {
   "cell_type": "code",
   "execution_count": 1,
   "metadata": {},
   "outputs": [],
   "source": [
    "import os\n",
    "\n",
    "from datetime import datetime\n",
    "from typing import Literal\n",
    "\n",
    "import torch\n",
    "import wandb\n",
    "import numpy as np\n",
    "import tensorflow as tf\n",
    "import tensorflow_ranking as tfr\n",
    "from torch import nn\n",
    "from torch import optim\n",
    "import torch_geometric.nn as geonn\n",
    "from torch_geometric.data import Data, Batch\n",
    "from tqdm import tqdm\n",
    "\n",
    "from gfos.data.utils import load_layout\n",
    "from gfos.data.dataset import LayoutDataset, Normalizer\n",
    "from gfos.metrics import kendall, topk_error\n",
    "from gfos.loss import MultiElementRankLoss\n",
    "from gfos.utils.misc import seed_everything\n",
    "\n",
    "\n",
    "SEED = 42\n",
    "DEBUG = False\n",
    "\n",
    "seed_everything(SEED)\n",
    "device = \"cuda\" if torch.cuda.is_available() else \"cpu\"\n",
    "\n",
    "os.environ[\"WANDB_NOTEBOOK_NAME\"] = \"layout_gnn_gnn_2.ipynb\"\n"
   ]
  },
  {
   "cell_type": "markdown",
   "metadata": {},
   "source": [
    "## Configs"
   ]
  },
  {
   "cell_type": "code",
   "execution_count": 2,
   "metadata": {},
   "outputs": [],
   "source": [
    "LAYOUT_DIR = r\"H:\\data\\gfos\\predict-ai-model-runtime\\npz_all\\npz\\layout\"\n",
    "NORMALIZER_PATH = \"../../data/normalizer.json\"\n",
    "\n",
    "# configs = dict(\n",
    "#     conv_layer=\"SAGEConv\",\n",
    "#     op_embedding_dim=32,\n",
    "#     config_dim=64,\n",
    "#     graph_dim=64,\n",
    "#     num_epochs=4000,\n",
    "#     learning_rate=5e-3,\n",
    "#     weight_decay=1e-5,\n",
    "#     min_lr=1e-7,\n",
    "#     max_configs=2000,\n",
    "#     num_configs=32,\n",
    "#     loss_margin=0.2,\n",
    "#     loss_num_permutations=10,\n",
    "#     accum_iter=8,\n",
    "#     grad_clip=1e-1,\n",
    "# )\n",
    "\n",
    "configs = dict(\n",
    "    conv_layer=\"SAGEConv\",\n",
    "    op_embedding_dim=32,\n",
    "    config_dim=64,\n",
    "    graph_dim=64,\n",
    "    num_epochs=2000,\n",
    "    learning_rate=5e-3,\n",
    "    weight_decay=1e-7,\n",
    "    min_lr=1e-7,\n",
    "    max_configs=6400,\n",
    "    num_configs=128,\n",
    "    loss_margin=0.5,\n",
    "    loss_num_permutations=100,\n",
    "    accum_iter=4,\n",
    "    grad_clip=1e-1,\n",
    ")\n",
    "\n",
    "SOURCE = \"xla\"\n",
    "SEARCH = \"default\"\n",
    "WANDB_PROJECT = \"gfos\"\n",
    "WANDB_DIR = \"../../logs/\"\n",
    "WANDB_RUN_NAME = f\"layout_{SOURCE}_{SEARCH}\"\n",
    "TAGS = [\"train\", \"layout\", SOURCE, SEARCH]\n",
    "\n",
    "NUM_VAL_EPOCHS = 25\n",
    "INFERENCE_CONFIGS_BATCH_SIZE = 50\n"
   ]
  },
  {
   "cell_type": "markdown",
   "metadata": {},
   "source": [
    "## Model"
   ]
  },
  {
   "cell_type": "code",
   "execution_count": 3,
   "metadata": {},
   "outputs": [],
   "source": [
    "def aggregate_neighbors(node_feat: torch.Tensor, edge_index: torch.Tensor):\n",
    "    source_nodes = edge_index[0]\n",
    "    target_nodes = edge_index[1]\n",
    "\n",
    "    in_degree_features = torch.zeros_like(node_feat, device=node_feat.device)\n",
    "    out_degree_features = torch.zeros_like(node_feat, device=node_feat.device)\n",
    "\n",
    "    source_node_features = node_feat[source_nodes]\n",
    "    target_node_features = node_feat[target_nodes]\n",
    "\n",
    "    in_degree_features.scatter_reduce_(\n",
    "        0,\n",
    "        target_nodes.unsqueeze(-1).expand_as(source_node_features),\n",
    "        source_node_features,\n",
    "        reduce=\"mean\",\n",
    "        include_self=False,\n",
    "    )\n",
    "\n",
    "    out_degree_features.scatter_reduce_(\n",
    "        0,\n",
    "        source_nodes.unsqueeze(-1).expand_as(target_node_features),\n",
    "        target_node_features,\n",
    "        reduce=\"mean\",\n",
    "        include_self=False,\n",
    "    )\n",
    "\n",
    "    return out_degree_features - in_degree_features"
   ]
  },
  {
   "cell_type": "code",
   "execution_count": 4,
   "metadata": {},
   "outputs": [],
   "source": [
    "class LayoutModel(torch.nn.Module):\n",
    "    def __init__(\n",
    "        self,\n",
    "        conv_layer: Literal[\"GATConv\", \"GCNConv\", \"SAGEConv\"],\n",
    "        op_embedding_dim: int = 32,\n",
    "        config_dim: int = 64,\n",
    "        graph_dim: int = 64,\n",
    "        node_feat_dim: int = 140,\n",
    "        node_config_dim: int = 18,\n",
    "    ):\n",
    "        super().__init__()\n",
    "\n",
    "        NUM_OPCODE = 120\n",
    "\n",
    "        conv_layer = getattr(geonn, conv_layer)\n",
    "\n",
    "        merged_node_dim = 2 * graph_dim + config_dim\n",
    "\n",
    "        self.embedding = torch.nn.Embedding(\n",
    "            NUM_OPCODE,\n",
    "            op_embedding_dim,\n",
    "        )\n",
    "        in_channels = op_embedding_dim + node_feat_dim\n",
    "\n",
    "        self.model_gnn = geonn.Sequential(\n",
    "            \"x, edge_index\",\n",
    "            [\n",
    "                (conv_layer(in_channels, graph_dim), \"x, edge_index -> x1\"),\n",
    "                nn.LeakyReLU(inplace=True),\n",
    "                (conv_layer(graph_dim, graph_dim), \"x1, edge_index -> x2\"),\n",
    "                (lambda x1, x2: x1 + x2, \"x1, x2 -> x3\"),\n",
    "                nn.LeakyReLU(inplace=True),\n",
    "                (conv_layer(graph_dim, graph_dim), \"x3, edge_index -> x4\"),\n",
    "                nn.LeakyReLU(inplace=True),\n",
    "                (conv_layer(graph_dim, graph_dim), \"x4, edge_index -> x5\"),\n",
    "                (lambda x4, x5: x4 + x5, \"x4, x5 -> x6\"),\n",
    "                nn.LeakyReLU(inplace=True),\n",
    "                # (conv_layer(graph_dim, graph_dim), \"x5, edge_index -> x6\"),\n",
    "                # nn.LeakyReLU(inplace=True),\n",
    "                # (conv_layer(graph_dim, graph_dim), \"x6, edge_index -> x7\"),\n",
    "                # (lambda x6, x7: x6 + x7, \"x6, x7 -> x8\"),\n",
    "                # nn.LeakyReLU(inplace=True),\n",
    "                # (conv_layer(graph_dim, graph_dim), \"x8, edge_index -> x9\"),\n",
    "                # nn.LeakyReLU(inplace=True),\n",
    "                # (conv_layer(graph_dim, graph_dim), \"x9, edge_index -> x10\"),\n",
    "                # (lambda x9, x10: x9 + x10, \"x9, x10 -> x11\"),\n",
    "                # nn.LeakyReLU(inplace=True),\n",
    "            ],\n",
    "        )\n",
    "\n",
    "        self.config_mp = geonn.Sequential(\n",
    "            \"x, edge_index\",\n",
    "            [\n",
    "                (geonn.GATConv(graph_dim, graph_dim), \"x, edge_index -> x1\"),\n",
    "                nn.LeakyReLU(inplace=True),\n",
    "                (geonn.GATConv(graph_dim, graph_dim), \"x1, edge_index -> x2\"),\n",
    "                (lambda x1, x2: x1 + x2, \"x1, x2 -> x3\"),\n",
    "                nn.LeakyReLU(inplace=True),\n",
    "            ],\n",
    "        )\n",
    "\n",
    "        self.config_gnn = geonn.Sequential(\n",
    "            \"x, edge_index\",\n",
    "            [\n",
    "                (nn.Dropout(p=0.2), \"x -> x\"),\n",
    "                (\n",
    "                    conv_layer(merged_node_dim, config_dim),\n",
    "                    \"x, edge_index -> x1\",\n",
    "                ),\n",
    "                nn.LeakyReLU(inplace=True),\n",
    "                (conv_layer(config_dim, config_dim), \"x1, edge_index -> x2\"),\n",
    "                (lambda x1, x2: x1 + x2, \"x1, x2 -> x3\"),\n",
    "                nn.LeakyReLU(inplace=True),\n",
    "                (conv_layer(config_dim, config_dim), \"x3, edge_index -> x4\"),\n",
    "                nn.LeakyReLU(inplace=True),\n",
    "                (\n",
    "                    conv_layer(config_dim, config_dim),\n",
    "                    \"x4, edge_index -> x5\",\n",
    "                ),\n",
    "                (lambda x4, x5: x4 + x5, \"x4, x5 -> x6\"),\n",
    "                nn.LeakyReLU(inplace=True),\n",
    "            ],\n",
    "        )\n",
    "\n",
    "        self.config_prj = nn.Sequential(\n",
    "            nn.Linear(node_config_dim, config_dim),\n",
    "            nn.LeakyReLU(),\n",
    "        )\n",
    "\n",
    "        self.dense = torch.nn.Sequential(\n",
    "            nn.Dropout(0.2),\n",
    "            nn.Linear(config_dim, 64, bias=False),\n",
    "            nn.LeakyReLU(),\n",
    "            nn.Linear(64, 64, bias=False),\n",
    "            nn.LeakyReLU(),\n",
    "            nn.Linear(64, 1, bias=False),\n",
    "        )\n",
    "\n",
    "    def forward(\n",
    "        self,\n",
    "        node_feat: torch.Tensor,\n",
    "        node_opcode: torch.Tensor,\n",
    "        edge_index: torch.Tensor,\n",
    "        node_config_feat: torch.Tensor,\n",
    "        node_config_ids: torch.Tensor,\n",
    "        config_edge_index: torch.Tensor,\n",
    "    ) -> torch.Tensor:\n",
    "        # Get graph features\n",
    "        c = node_config_feat.size(0)\n",
    "\n",
    "        x = torch.cat([node_feat, self.embedding(node_opcode)], dim=1)\n",
    "\n",
    "        # Get graph features\n",
    "        x = self.model_gnn(x, edge_index)\n",
    "\n",
    "        config_neighbors = aggregate_neighbors(x, edge_index)[node_config_ids]\n",
    "        config_neighbors = nn.functional.normalize(config_neighbors, dim=-1)\n",
    "        config_neighbors = self.config_mp(config_neighbors, config_edge_index)\n",
    "\n",
    "        # (N, graph_out) -> (NC, graph_out)\n",
    "        x = x[node_config_ids]\n",
    "        # x += config_neighbors\n",
    "\n",
    "        # Merge graph features with config features\n",
    "        # (C, NC, 18) -> (C, NC, config_dim)\n",
    "        node_config_feat = self.config_prj(node_config_feat)\n",
    "        # pos_embedding = self.deg_prj(neighbor_feat)\n",
    "\n",
    "        # (C, NC, 2*graph_out + config_dim)\n",
    "        x = torch.cat(\n",
    "            [\n",
    "                config_neighbors.repeat((c, 1, 1)),\n",
    "                x.repeat((c, 1, 1)),\n",
    "                node_config_feat,\n",
    "            ],\n",
    "            dim=-1,\n",
    "        )\n",
    "        # x += pos_embedding\n",
    "        x = nn.functional.normalize(x, dim=-1)\n",
    "\n",
    "        datas = [\n",
    "            Data(x=x[i], edge_index=config_edge_index)\n",
    "            for i in range(x.shape[0])\n",
    "        ]\n",
    "        batch = Batch.from_data_list(datas)\n",
    "\n",
    "        x = self.config_gnn(batch.x, batch.edge_index)\n",
    "        x = geonn.pool.global_mean_pool(x, batch.batch)\n",
    "\n",
    "        x = self.dense(x).flatten()\n",
    "\n",
    "        return x"
   ]
  },
  {
   "cell_type": "markdown",
   "metadata": {},
   "source": [
    "## Prepare for training"
   ]
  },
  {
   "cell_type": "markdown",
   "metadata": {},
   "source": [
    "### Expand configs"
   ]
  },
  {
   "cell_type": "code",
   "execution_count": 5,
   "metadata": {},
   "outputs": [],
   "source": [
    "conv_layer = configs[\"conv_layer\"]\n",
    "op_embedding_dim = configs[\"op_embedding_dim\"]\n",
    "config_dim = configs[\"config_dim\"]\n",
    "graph_dim = configs[\"graph_dim\"]\n",
    "num_epochs = configs[\"num_epochs\"]\n",
    "learning_rate = configs[\"learning_rate\"]\n",
    "weight_decay = configs[\"weight_decay\"]\n",
    "min_lr = configs[\"min_lr\"]\n",
    "max_configs = configs[\"max_configs\"]\n",
    "num_configs = configs[\"num_configs\"]\n",
    "accum_iter = configs[\"accum_iter\"]\n",
    "grad_clip = configs[\"grad_clip\"]\n",
    "margin = configs[\"loss_margin\"]\n",
    "number_permutations = configs[\"loss_num_permutations\"]\n"
   ]
  },
  {
   "cell_type": "markdown",
   "metadata": {},
   "source": [
    "### Read data"
   ]
  },
  {
   "cell_type": "code",
   "execution_count": 6,
   "metadata": {},
   "outputs": [
    {
     "name": "stderr",
     "output_type": "stream",
     "text": [
      "Loading data: 100%|██████████| 61/61 [00:35<00:00,  1.72it/s]\n",
      "Loading data: 100%|██████████| 7/7 [00:05<00:00,  1.34it/s]\n"
     ]
    }
   ],
   "source": [
    "normalizer = Normalizer.from_json(NORMALIZER_PATH, SOURCE, SEARCH)\n",
    "\n",
    "layout_data = load_layout(\n",
    "    LAYOUT_DIR,\n",
    "    model_type=SOURCE,\n",
    "    compile_type=SEARCH,\n",
    ")\n",
    "\n",
    "train_dataset = LayoutDataset(\n",
    "    layout_data[\"train\"],\n",
    "    max_configs=max_configs,\n",
    "    num_configs=num_configs,\n",
    "    config_edges=\"simple\",\n",
    "    normalizer=normalizer,\n",
    ")\n",
    "val_dataset = LayoutDataset(\n",
    "    layout_data[\"valid\"],\n",
    "    config_edges=\"simple\",\n",
    "    normalizer=normalizer,\n",
    ")\n",
    "\n",
    "\n",
    "# pickle.dump(train_dataset, open(\"../../data/train_dataset.pkl\", \"wb\"))\n",
    "# pickle.dump(val_dataset, open(\"../../data/val_dataset.pkl\", \"wb\"))\n",
    "\n",
    "# train_dataset = pickle.load(open(\"../../data/train_dataset.pkl\", \"rb\"))\n",
    "# val_dataset = pickle.load(open(\"../../data/val_dataset.pkl\", \"rb\"))"
   ]
  },
  {
   "cell_type": "code",
   "execution_count": 7,
   "metadata": {},
   "outputs": [],
   "source": [
    "node_feat_dim = train_dataset[0][\"node_feat\"].shape[-1]\n",
    "node_config_dim = train_dataset[0][\"node_config_feat\"].shape[-1]"
   ]
  },
  {
   "cell_type": "markdown",
   "metadata": {},
   "source": [
    "### Model, loss, optimizer, scheduler"
   ]
  },
  {
   "cell_type": "code",
   "execution_count": 8,
   "metadata": {},
   "outputs": [],
   "source": [
    "model = LayoutModel(\n",
    "    conv_layer=conv_layer,\n",
    "    op_embedding_dim=op_embedding_dim,\n",
    "    config_dim=config_dim,\n",
    "    graph_dim=graph_dim,\n",
    "    node_feat_dim=node_feat_dim,\n",
    "    node_config_dim=node_config_dim,\n",
    ").to(device)\n",
    "\n",
    "criterion = MultiElementRankLoss(\n",
    "    margin=margin, number_permutations=number_permutations\n",
    ")\n",
    "\n",
    "optimizer = optim.AdamW([\n",
    "    {\"name\": \"lr_embed\", 'params': model.embedding.parameters(), 'lr': learning_rate / 10},\n",
    "    {\"name\": \"lr_model_gnn\", 'params': model.model_gnn.parameters(), 'lr': learning_rate / 10},\n",
    "    {\"name\": \"lr_config_prj\", 'params': model.config_prj.parameters(), 'lr': learning_rate / 10},\n",
    "    {\"name\": \"lr_config_mp\", 'params': model.config_mp.parameters(), 'lr': learning_rate / 10},\n",
    "    {\"name\": \"lr_config_gnn\", 'params': model.config_gnn.parameters(), 'lr': learning_rate},\n",
    "    {\"name\": \"lr_dense\", 'params': model.dense.parameters(), 'lr': learning_rate},\n",
    "], betas=[0.85, 0.9], weight_decay=weight_decay)\n",
    "\n",
    "# num_steps = len(layout_data[\"train\"]) * num_epochs\n",
    "# warmup_steps = int(num_steps * warmup_ratio)\n",
    "\n",
    "# scheduler = CosineAnnealingWarmupRestarts(\n",
    "#     optimizer=optimizer,\n",
    "#     first_cycle_steps=num_steps,\n",
    "#     min_lr=min_lr,\n",
    "#     max_lr=learning_rate,\n",
    "#     warmup_steps=warmup_steps,\n",
    "# )\n",
    "# scheduler = optim.lr_scheduler.CosineAnnealingLR(\n",
    "#     optimizer,\n",
    "#     T_max=num_steps,\n",
    "#     eta_min=min_lr,\n",
    "# )\n",
    "scheduler = optim.lr_scheduler.ReduceLROnPlateau(\n",
    "    optimizer=optimizer,\n",
    "    mode=\"max\",\n",
    "    factor=0.1,\n",
    "    patience=2, # 5 times evaluation = 5 * NUM_VAL_EPOCHS epochs\n",
    "    threshold=0.01,\n",
    "    min_lr=min_lr,\n",
    ")"
   ]
  },
  {
   "cell_type": "code",
   "execution_count": 9,
   "metadata": {},
   "outputs": [],
   "source": [
    "# tf.config.set_visible_devices([], 'GPU')\n",
    "\n",
    "# # Don't know why but this cost huge amount of VRAM\n",
    "# opa = tfr.keras.metrics.OPAMetric()\n"
   ]
  },
  {
   "cell_type": "markdown",
   "metadata": {},
   "source": [
    "### Init wandb and train&valid dataset"
   ]
  },
  {
   "cell_type": "code",
   "execution_count": 10,
   "metadata": {},
   "outputs": [
    {
     "name": "stderr",
     "output_type": "stream",
     "text": [
      "\u001b[34m\u001b[1mwandb\u001b[0m: Currently logged in as: \u001b[33medenn0\u001b[0m. Use \u001b[1m`wandb login --relogin`\u001b[0m to force relogin\n"
     ]
    },
    {
     "data": {
      "text/html": [
       "wandb version 0.15.12 is available!  To upgrade, please run:\n",
       " $ pip install wandb --upgrade"
      ],
      "text/plain": [
       "<IPython.core.display.HTML object>"
      ]
     },
     "metadata": {},
     "output_type": "display_data"
    },
    {
     "data": {
      "text/html": [
       "Tracking run with wandb version 0.15.11"
      ],
      "text/plain": [
       "<IPython.core.display.HTML object>"
      ]
     },
     "metadata": {},
     "output_type": "display_data"
    },
    {
     "data": {
      "text/html": [
       "Run data is saved locally in <code>../../logs/wandb\\run-20231006_014709-e60kr82x</code>"
      ],
      "text/plain": [
       "<IPython.core.display.HTML object>"
      ]
     },
     "metadata": {},
     "output_type": "display_data"
    },
    {
     "data": {
      "text/html": [
       "Syncing run <strong><a href='https://wandb.ai/edenn0/gfos/runs/e60kr82x' target=\"_blank\">layout_xla_default</a></strong> to <a href='https://wandb.ai/edenn0/gfos' target=\"_blank\">Weights & Biases</a> (<a href='https://wandb.me/run' target=\"_blank\">docs</a>)<br/>"
      ],
      "text/plain": [
       "<IPython.core.display.HTML object>"
      ]
     },
     "metadata": {},
     "output_type": "display_data"
    },
    {
     "data": {
      "text/html": [
       " View project at <a href='https://wandb.ai/edenn0/gfos' target=\"_blank\">https://wandb.ai/edenn0/gfos</a>"
      ],
      "text/plain": [
       "<IPython.core.display.HTML object>"
      ]
     },
     "metadata": {},
     "output_type": "display_data"
    },
    {
     "data": {
      "text/html": [
       " View run at <a href='https://wandb.ai/edenn0/gfos/runs/e60kr82x' target=\"_blank\">https://wandb.ai/edenn0/gfos/runs/e60kr82x</a>"
      ],
      "text/plain": [
       "<IPython.core.display.HTML object>"
      ]
     },
     "metadata": {},
     "output_type": "display_data"
    }
   ],
   "source": [
    "if not DEBUG:\n",
    "    run = wandb.init(\n",
    "        project=WANDB_PROJECT,\n",
    "        dir=WANDB_DIR,\n",
    "        name=WANDB_RUN_NAME,\n",
    "        config=configs,\n",
    "        tags=TAGS,\n",
    "    )\n",
    "    run.watch(model, log=\"all\")\n",
    "    run.log_code(\"../\")\n",
    "\n",
    "    time_str = datetime.now().strftime(\"%Y%m%d_%H%M%S\")\n",
    "    log_dir = f\"../../logs/{WANDB_RUN_NAME}/{time_str}\"\n",
    "    os.makedirs(log_dir, exist_ok=True)\n",
    "\n",
    "best_score = -1\n",
    "\n"
   ]
  },
  {
   "cell_type": "markdown",
   "metadata": {},
   "source": [
    "## Training"
   ]
  },
  {
   "cell_type": "code",
   "execution_count": 11,
   "metadata": {},
   "outputs": [
    {
     "name": "stderr",
     "output_type": "stream",
     "text": [
      "                                                                       \r"
     ]
    },
    {
     "name": "stdout",
     "output_type": "stream",
     "text": [
      "epoch 24, kendall = 0.0249, top500 = 0.8614\n",
      "Best score updated: 0.0249\n"
     ]
    },
    {
     "name": "stderr",
     "output_type": "stream",
     "text": [
      "                                                                       \r"
     ]
    },
    {
     "name": "stdout",
     "output_type": "stream",
     "text": [
      "epoch 49, kendall = 0.0384, top500 = 0.8917\n",
      "Best score updated: 0.0384\n"
     ]
    },
    {
     "name": "stderr",
     "output_type": "stream",
     "text": [
      "                                                                       \r"
     ]
    },
    {
     "name": "stdout",
     "output_type": "stream",
     "text": [
      "epoch 74, kendall = 0.0259, top500 = 0.8969\n"
     ]
    },
    {
     "name": "stderr",
     "output_type": "stream",
     "text": [
      "                                                                       \r"
     ]
    },
    {
     "name": "stdout",
     "output_type": "stream",
     "text": [
      "epoch 99, kendall = 0.0266, top500 = 0.8960\n"
     ]
    },
    {
     "name": "stderr",
     "output_type": "stream",
     "text": [
      "                                                                        \r"
     ]
    },
    {
     "name": "stdout",
     "output_type": "stream",
     "text": [
      "epoch 124, kendall = 0.0413, top500 = 0.9074\n",
      "Best score updated: 0.0413\n"
     ]
    },
    {
     "name": "stderr",
     "output_type": "stream",
     "text": [
      "                                                                        \r"
     ]
    },
    {
     "name": "stdout",
     "output_type": "stream",
     "text": [
      "epoch 149, kendall = 0.0348, top500 = 0.8900\n"
     ]
    },
    {
     "name": "stderr",
     "output_type": "stream",
     "text": [
      "                                                                        \r"
     ]
    },
    {
     "name": "stdout",
     "output_type": "stream",
     "text": [
      "epoch 174, kendall = 0.0410, top500 = 0.9031\n"
     ]
    },
    {
     "name": "stderr",
     "output_type": "stream",
     "text": [
      "                                                                        \r"
     ]
    },
    {
     "name": "stdout",
     "output_type": "stream",
     "text": [
      "epoch 199, kendall = 0.0378, top500 = 0.9189\n"
     ]
    },
    {
     "name": "stderr",
     "output_type": "stream",
     "text": [
      "                                                                        \r"
     ]
    },
    {
     "name": "stdout",
     "output_type": "stream",
     "text": [
      "epoch 224, kendall = 0.0548, top500 = 0.9174\n",
      "Best score updated: 0.0548\n"
     ]
    },
    {
     "name": "stderr",
     "output_type": "stream",
     "text": [
      "                                                                        \r"
     ]
    },
    {
     "name": "stdout",
     "output_type": "stream",
     "text": [
      "epoch 249, kendall = 0.0622, top500 = 0.9166\n",
      "Best score updated: 0.0622\n"
     ]
    },
    {
     "name": "stderr",
     "output_type": "stream",
     "text": [
      "                                                                        \r"
     ]
    },
    {
     "name": "stdout",
     "output_type": "stream",
     "text": [
      "epoch 274, kendall = 0.0638, top500 = 0.9157\n",
      "Best score updated: 0.0638\n"
     ]
    },
    {
     "name": "stderr",
     "output_type": "stream",
     "text": [
      "                                                                        \r"
     ]
    },
    {
     "name": "stdout",
     "output_type": "stream",
     "text": [
      "epoch 299, kendall = 0.0671, top500 = 0.9140\n",
      "Best score updated: 0.0671\n"
     ]
    },
    {
     "name": "stderr",
     "output_type": "stream",
     "text": [
      "                                                                        \r"
     ]
    },
    {
     "name": "stdout",
     "output_type": "stream",
     "text": [
      "epoch 324, kendall = 0.0736, top500 = 0.9151\n",
      "Best score updated: 0.0736\n"
     ]
    },
    {
     "name": "stderr",
     "output_type": "stream",
     "text": [
      "                                                                        \r"
     ]
    },
    {
     "name": "stdout",
     "output_type": "stream",
     "text": [
      "epoch 349, kendall = 0.0666, top500 = 0.9166\n"
     ]
    },
    {
     "name": "stderr",
     "output_type": "stream",
     "text": [
      "                                                                        \r"
     ]
    },
    {
     "name": "stdout",
     "output_type": "stream",
     "text": [
      "epoch 374, kendall = 0.0635, top500 = 0.9154\n"
     ]
    },
    {
     "name": "stderr",
     "output_type": "stream",
     "text": [
      "                                                                        \r"
     ]
    },
    {
     "name": "stdout",
     "output_type": "stream",
     "text": [
      "epoch 399, kendall = 0.0567, top500 = 0.9160\n"
     ]
    },
    {
     "name": "stderr",
     "output_type": "stream",
     "text": [
      "                                                                        \r"
     ]
    },
    {
     "name": "stdout",
     "output_type": "stream",
     "text": [
      "epoch 424, kendall = 0.0627, top500 = 0.9151\n"
     ]
    },
    {
     "name": "stderr",
     "output_type": "stream",
     "text": [
      "                                                                        \r"
     ]
    },
    {
     "name": "stdout",
     "output_type": "stream",
     "text": [
      "epoch 449, kendall = 0.0631, top500 = 0.9146\n"
     ]
    },
    {
     "name": "stderr",
     "output_type": "stream",
     "text": [
      "                                                                        \r"
     ]
    },
    {
     "name": "stdout",
     "output_type": "stream",
     "text": [
      "epoch 474, kendall = 0.0653, top500 = 0.9146\n"
     ]
    },
    {
     "name": "stderr",
     "output_type": "stream",
     "text": [
      "                                                                        \r"
     ]
    },
    {
     "name": "stdout",
     "output_type": "stream",
     "text": [
      "epoch 499, kendall = 0.0648, top500 = 0.9151\n"
     ]
    },
    {
     "name": "stderr",
     "output_type": "stream",
     "text": [
      "                                                                        \r"
     ]
    },
    {
     "name": "stdout",
     "output_type": "stream",
     "text": [
      "epoch 524, kendall = 0.0640, top500 = 0.9151\n"
     ]
    },
    {
     "name": "stderr",
     "output_type": "stream",
     "text": [
      "                                                                        \r"
     ]
    },
    {
     "name": "stdout",
     "output_type": "stream",
     "text": [
      "epoch 549, kendall = 0.0663, top500 = 0.9149\n"
     ]
    },
    {
     "name": "stderr",
     "output_type": "stream",
     "text": [
      "                                                                        \r"
     ]
    },
    {
     "name": "stdout",
     "output_type": "stream",
     "text": [
      "epoch 574, kendall = 0.0657, top500 = 0.9149\n"
     ]
    },
    {
     "name": "stderr",
     "output_type": "stream",
     "text": [
      "                                                                        \r"
     ]
    },
    {
     "name": "stdout",
     "output_type": "stream",
     "text": [
      "epoch 599, kendall = 0.0648, top500 = 0.9149\n"
     ]
    },
    {
     "name": "stderr",
     "output_type": "stream",
     "text": [
      "                                                                        \r"
     ]
    },
    {
     "ename": "KeyboardInterrupt",
     "evalue": "",
     "output_type": "error",
     "traceback": [
      "\u001b[1;31m---------------------------------------------------------------------------\u001b[0m",
      "\u001b[1;31mKeyboardInterrupt\u001b[0m                         Traceback (most recent call last)",
      "\u001b[1;32mg:\\projects\\gfos\\notebooks\\training\\layout_gnn_gnn_2.ipynb Cell 19\u001b[0m line \u001b[0;36m5\n\u001b[0;32m     <a href='vscode-notebook-cell:/g%3A/projects/gfos/notebooks/training/layout_gnn_gnn_2.ipynb#X24sZmlsZQ%3D%3D?line=49'>50</a>\u001b[0m loss \u001b[39m=\u001b[39m loss \u001b[39m/\u001b[39m accum_iter\n\u001b[0;32m     <a href='vscode-notebook-cell:/g%3A/projects/gfos/notebooks/training/layout_gnn_gnn_2.ipynb#X24sZmlsZQ%3D%3D?line=50'>51</a>\u001b[0m loss_mean \u001b[39m+\u001b[39m\u001b[39m=\u001b[39m loss\u001b[39m.\u001b[39mitem()\n\u001b[1;32m---> <a href='vscode-notebook-cell:/g%3A/projects/gfos/notebooks/training/layout_gnn_gnn_2.ipynb#X24sZmlsZQ%3D%3D?line=51'>52</a>\u001b[0m loss\u001b[39m.\u001b[39;49mbackward()\n\u001b[0;32m     <a href='vscode-notebook-cell:/g%3A/projects/gfos/notebooks/training/layout_gnn_gnn_2.ipynb#X24sZmlsZQ%3D%3D?line=52'>53</a>\u001b[0m \u001b[39m# scaler.scale(loss).backward()\u001b[39;00m\n\u001b[0;32m     <a href='vscode-notebook-cell:/g%3A/projects/gfos/notebooks/training/layout_gnn_gnn_2.ipynb#X24sZmlsZQ%3D%3D?line=53'>54</a>\u001b[0m torch\u001b[39m.\u001b[39mnn\u001b[39m.\u001b[39mutils\u001b[39m.\u001b[39mclip_grad_norm_(model\u001b[39m.\u001b[39mparameters(), grad_clip)\n",
      "File \u001b[1;32mc:\\Users\\ntj_0\\Anaconda3\\envs\\gfos\\lib\\site-packages\\torch\\_tensor.py:487\u001b[0m, in \u001b[0;36mTensor.backward\u001b[1;34m(self, gradient, retain_graph, create_graph, inputs)\u001b[0m\n\u001b[0;32m    477\u001b[0m \u001b[39mif\u001b[39;00m has_torch_function_unary(\u001b[39mself\u001b[39m):\n\u001b[0;32m    478\u001b[0m     \u001b[39mreturn\u001b[39;00m handle_torch_function(\n\u001b[0;32m    479\u001b[0m         Tensor\u001b[39m.\u001b[39mbackward,\n\u001b[0;32m    480\u001b[0m         (\u001b[39mself\u001b[39m,),\n\u001b[1;32m   (...)\u001b[0m\n\u001b[0;32m    485\u001b[0m         inputs\u001b[39m=\u001b[39minputs,\n\u001b[0;32m    486\u001b[0m     )\n\u001b[1;32m--> 487\u001b[0m torch\u001b[39m.\u001b[39;49mautograd\u001b[39m.\u001b[39;49mbackward(\n\u001b[0;32m    488\u001b[0m     \u001b[39mself\u001b[39;49m, gradient, retain_graph, create_graph, inputs\u001b[39m=\u001b[39;49minputs\n\u001b[0;32m    489\u001b[0m )\n",
      "File \u001b[1;32mc:\\Users\\ntj_0\\Anaconda3\\envs\\gfos\\lib\\site-packages\\torch\\autograd\\__init__.py:200\u001b[0m, in \u001b[0;36mbackward\u001b[1;34m(tensors, grad_tensors, retain_graph, create_graph, grad_variables, inputs)\u001b[0m\n\u001b[0;32m    195\u001b[0m     retain_graph \u001b[39m=\u001b[39m create_graph\n\u001b[0;32m    197\u001b[0m \u001b[39m# The reason we repeat same the comment below is that\u001b[39;00m\n\u001b[0;32m    198\u001b[0m \u001b[39m# some Python versions print out the first line of a multi-line function\u001b[39;00m\n\u001b[0;32m    199\u001b[0m \u001b[39m# calls in the traceback and some print out the last line\u001b[39;00m\n\u001b[1;32m--> 200\u001b[0m Variable\u001b[39m.\u001b[39;49m_execution_engine\u001b[39m.\u001b[39;49mrun_backward(  \u001b[39m# Calls into the C++ engine to run the backward pass\u001b[39;49;00m\n\u001b[0;32m    201\u001b[0m     tensors, grad_tensors_, retain_graph, create_graph, inputs,\n\u001b[0;32m    202\u001b[0m     allow_unreachable\u001b[39m=\u001b[39;49m\u001b[39mTrue\u001b[39;49;00m, accumulate_grad\u001b[39m=\u001b[39;49m\u001b[39mTrue\u001b[39;49;00m)\n",
      "\u001b[1;31mKeyboardInterrupt\u001b[0m: "
     ]
    }
   ],
   "source": [
    "# scaler = GradScaler()\n",
    "loss_mean = 0\n",
    "for epoch in range(num_epochs):\n",
    "    # Shuffle the training dataset\n",
    "    permutation = np.random.permutation(len(train_dataset))\n",
    "\n",
    "    # Training phase\n",
    "    model.train()\n",
    "    pbar = tqdm(permutation, leave=False)\n",
    "\n",
    "    for i in pbar:\n",
    "        record = train_dataset[i]\n",
    "        node_feat = record[\"node_feat\"]\n",
    "        node_opcode = record[\"node_opcode\"]\n",
    "        edge_index = record[\"edge_index\"]\n",
    "        node_config_feat = record[\"node_config_feat\"]\n",
    "        node_config_ids = record[\"node_config_ids\"]\n",
    "        config_runtime = record[\"config_runtime\"]\n",
    "        config_edge_index = record[\"config_edge_index\"]\n",
    "\n",
    "        (\n",
    "            node_feat,\n",
    "            node_opcode,\n",
    "            edge_index,\n",
    "            node_config_feat,\n",
    "            node_config_ids,\n",
    "            config_runtime,\n",
    "            config_edge_index,\n",
    "        ) = (\n",
    "            node_feat.to(device),\n",
    "            node_opcode.to(device),\n",
    "            edge_index.to(device),\n",
    "            node_config_feat.to(device),\n",
    "            node_config_ids.to(device),\n",
    "            config_runtime.to(device),\n",
    "            config_edge_index.to(device),\n",
    "        )\n",
    "\n",
    "        # with autocast():\n",
    "        out = model(\n",
    "            node_feat,\n",
    "            node_opcode,\n",
    "            edge_index,\n",
    "            node_config_feat,\n",
    "            node_config_ids,\n",
    "            config_edge_index,\n",
    "        )\n",
    "\n",
    "        loss = criterion(out, config_runtime)\n",
    "        loss = loss / accum_iter\n",
    "        loss_mean += loss.item()\n",
    "        loss.backward()\n",
    "        # scaler.scale(loss).backward()\n",
    "        torch.nn.utils.clip_grad_norm_(model.parameters(), grad_clip)\n",
    "        \n",
    "        pbar.set_description(f\"epoch: {epoch} loss: {loss_mean:.4f}\")\n",
    "\n",
    "        if ((i + 1) % accum_iter == 0) or (i + 1 == len(train_dataset)):\n",
    "            # scaler.step(optimizer)\n",
    "            # scaler.update()\n",
    "            optimizer.step()\n",
    "            optimizer.zero_grad()\n",
    "\n",
    "            if not DEBUG:\n",
    "                wandb.log(\n",
    "                    {\n",
    "                        \"epoch\": epoch,\n",
    "                        \"train/lr_slow\": optimizer.param_groups[0][\"lr\"],\n",
    "                        \"train/lr_fast\": optimizer.param_groups[-1][\"lr\"],\n",
    "                        \"train/loss\": loss_mean,\n",
    "                    }\n",
    "                )\n",
    "            loss_mean = 0\n",
    "\n",
    "    pbar.close()\n",
    "\n",
    "    if (epoch + 1) % NUM_VAL_EPOCHS != 0 and epoch != num_epochs - 1:\n",
    "        continue\n",
    "\n",
    "    model.eval()\n",
    "\n",
    "    # Validation phase\n",
    "    # Scores placeholder\n",
    "    val_loss = []\n",
    "    kendalltau_scores = []\n",
    "    opa_scores = []\n",
    "    top500_scores = []\n",
    "    top100_scores = []\n",
    "\n",
    "    with torch.no_grad():\n",
    "        for record in tqdm(val_dataset, desc=\"valid\", leave=False):\n",
    "            node_feat = record[\"node_feat\"]\n",
    "            node_opcode = record[\"node_opcode\"]\n",
    "            edge_index = record[\"edge_index\"]\n",
    "            node_config_feat = record[\"node_config_feat\"]\n",
    "            node_config_ids = record[\"node_config_ids\"]\n",
    "            config_runtime = record[\"config_runtime\"]\n",
    "            config_edge_index = record[\"config_edge_index\"]\n",
    "\n",
    "            (\n",
    "                node_feat,\n",
    "                node_opcode,\n",
    "                edge_index,\n",
    "                node_config_feat,\n",
    "                node_config_ids,\n",
    "                config_edge_index,\n",
    "            ) = (\n",
    "                node_feat.to(device),\n",
    "                node_opcode.to(device),\n",
    "                edge_index.to(device),\n",
    "                node_config_feat.to(device),\n",
    "                node_config_ids.to(device),\n",
    "                config_edge_index.to(device),\n",
    "            )\n",
    "            config_runtime = config_runtime.numpy()\n",
    "            num_configs = config_runtime.shape[-1]\n",
    "            outs = []\n",
    "\n",
    "            for i in range(0, num_configs, INFERENCE_CONFIGS_BATCH_SIZE):\n",
    "                end_i = min(i + INFERENCE_CONFIGS_BATCH_SIZE, num_configs)\n",
    "                out: torch.Tensor = model(\n",
    "                    node_feat,\n",
    "                    node_opcode,\n",
    "                    edge_index,\n",
    "                    node_config_feat[i:end_i],\n",
    "                    node_config_ids,\n",
    "                    config_edge_index,\n",
    "                )\n",
    "                outs.append(out.detach().cpu())\n",
    "\n",
    "            outs = torch.concat(outs).numpy()\n",
    "\n",
    "            kendalltau_scores.append(kendall(np.argsort(outs), np.argsort(config_runtime)))\n",
    "            # opa_scores.append(opa(config_runtime[None], outs[None]))\n",
    "            top100_scores.append(topk_error(outs, config_runtime, top_k=100))\n",
    "            top500_scores.append(topk_error(outs, config_runtime, top_k=500))\n",
    "\n",
    "    kendalltau_mean = np.mean(kendalltau_scores)\n",
    "    # opa_mean = np.mean(opa_scores)\n",
    "    top100_mean = np.mean(top100_scores)\n",
    "    top500_mean = np.mean(top500_scores)\n",
    "    scheduler.step(kendalltau_mean)\n",
    "\n",
    "    if not DEBUG:\n",
    "        wandb.log(\n",
    "            {\n",
    "                \"val/kendalltau\": kendalltau_mean,\n",
    "                # \"val/opa\": opa_mean,\n",
    "                \"val/top100_error\": top100_mean,\n",
    "                \"val/top500_error\": top500_mean,\n",
    "            }\n",
    "        )\n",
    "\n",
    "    print(\n",
    "        f\"epoch {epoch}, kendall = {kendalltau_mean:.4f}, \"\n",
    "        # f\"opa = {opa_mean:.4f}, \"\n",
    "        f\"top500 = {top500_mean:.4f}\"\n",
    "    )\n",
    "\n",
    "    # Update best scores and save the model if the mean score improves\n",
    "    if kendalltau_mean > best_score:\n",
    "        best_score = kendalltau_mean\n",
    "        print(f\"Best score updated: {best_score:.4f}\")\n",
    "        if not DEBUG:\n",
    "            filename = f\"{epoch}_{kendalltau_mean:.4f}.pth\"\n",
    "            path = os.path.join(wandb.run.dir, filename)\n",
    "            torch.save(\n",
    "                model.state_dict(),\n",
    "                path,\n",
    "            )\n",
    "\n",
    "if not DEBUG:\n",
    "    run.finish()"
   ]
  }
 ],
 "metadata": {
  "kernelspec": {
   "display_name": "gfos",
   "language": "python",
   "name": "python3"
  },
  "language_info": {
   "codemirror_mode": {
    "name": "ipython",
    "version": 3
   },
   "file_extension": ".py",
   "mimetype": "text/x-python",
   "name": "python",
   "nbconvert_exporter": "python",
   "pygments_lexer": "ipython3",
   "version": "3.10.12"
  },
  "orig_nbformat": 4
 },
 "nbformat": 4,
 "nbformat_minor": 2
}
