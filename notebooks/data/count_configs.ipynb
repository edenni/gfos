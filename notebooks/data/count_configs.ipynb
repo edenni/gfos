{
 "cells": [
  {
   "cell_type": "code",
   "execution_count": 13,
   "metadata": {},
   "outputs": [],
   "source": [
    "import numpy as np\n",
    "from tqdm import tqdm\n",
    "\n",
    "from gfos.data.utils import load_layout"
   ]
  },
  {
   "cell_type": "code",
   "execution_count": 14,
   "metadata": {},
   "outputs": [],
   "source": [
    "data_root = r\"H:\\data\\gfos\\predict-ai-model-runtime\\npz_all\\npz\\layout\"\n",
    "max_configs = 5000\n"
   ]
  },
  {
   "cell_type": "code",
   "execution_count": 15,
   "metadata": {},
   "outputs": [
    {
     "data": {
      "text/plain": [
       "0.09165128949712094"
      ]
     },
     "execution_count": 15,
     "metadata": {},
     "output_type": "execute_result"
    }
   ],
   "source": [
    "layouts = load_layout(data_root)\n",
    "\n",
    "num_configs = [len(np.load(file)[\"config_runtime\"]) for file in layouts[\"train\"]]\n",
    "\n",
    "used_configs = [min(num, max_configs) for num in num_configs]\n",
    "np.sum(used_configs) / np.sum(num_configs)"
   ]
  },
  {
   "cell_type": "code",
   "execution_count": 16,
   "metadata": {},
   "outputs": [
    {
     "data": {
      "text/plain": [
       "0.2845274070563867"
      ]
     },
     "execution_count": 16,
     "metadata": {},
     "output_type": "execute_result"
    }
   ],
   "source": [
    "layouts = load_layout(data_root, compile_type=\"default\", model_type=\"xla\")\n",
    "\n",
    "num_configs = [len(np.load(file)[\"config_runtime\"]) for file in layouts[\"train\"]]\n",
    "\n",
    "used_configs = [min(num, max_configs) for num in num_configs]\n",
    "np.sum(used_configs) / np.sum(num_configs)"
   ]
  }
 ],
 "metadata": {
  "kernelspec": {
   "display_name": "gfos",
   "language": "python",
   "name": "python3"
  },
  "language_info": {
   "codemirror_mode": {
    "name": "ipython",
    "version": 3
   },
   "file_extension": ".py",
   "mimetype": "text/x-python",
   "name": "python",
   "nbconvert_exporter": "python",
   "pygments_lexer": "ipython3",
   "version": "3.10.12"
  },
  "orig_nbformat": 4
 },
 "nbformat": 4,
 "nbformat_minor": 2
}
