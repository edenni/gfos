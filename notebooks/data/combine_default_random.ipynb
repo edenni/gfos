{
 "cells": [
  {
   "cell_type": "code",
   "execution_count": 10,
   "metadata": {},
   "outputs": [],
   "source": [
    "import warnings\n",
    "from pathlib import Path\n",
    "\n",
    "import numpy as np\n",
    "from tqdm import tqdm\n",
    "from sklearn.model_selection import KFold\n",
    "\n",
    "from gfos.data.utils import load_layout\n",
    "from gfos.data.dataset import sample_configs\n",
    "from gfos.utils.misc import seed_everything\n",
    "\n",
    "SEED = 42\n",
    "LAYOUT_DIR = r\"H:\\data\\gfos\\predict-ai-model-runtime\\npz_all\\npz\\layout\"\n",
    "# LAYOUT_DIR = \"../../input/npz_all/npz/layout/\"\n",
    "SOURCE = \"xla\"\n",
    "SEARCH = \"default\"\n",
    "MAX_CONFIGS = 10240\n",
    "NUM_FOLDS = 10\n",
    "OUTPUT_ROOT = \"../../data/indices_combine\"\n",
    "\n",
    "\n",
    "data_root = Path(OUTPUT_ROOT)\n",
    "data_root.mkdir(exist_ok=True)\n",
    "\n",
    "seed_everything(SEED)\n",
    "warnings.filterwarnings(\"ignore\")"
   ]
  },
  {
   "cell_type": "code",
   "execution_count": 20,
   "metadata": {},
   "outputs": [],
   "source": [
    "out_dir = Path(LAYOUT_DIR) / SOURCE / SEARCH / \"combined\" / \"train\"\n",
    "out_dir.mkdir(exist_ok=True, parents=True)"
   ]
  },
  {
   "cell_type": "code",
   "execution_count": 11,
   "metadata": {},
   "outputs": [],
   "source": [
    "default_files = load_layout(LAYOUT_DIR, model_type=SOURCE, compile_type=SEARCH)\n",
    "random_files = load_layout(LAYOUT_DIR, model_type=SOURCE, compile_type=\"random\")\n"
   ]
  },
  {
   "cell_type": "code",
   "execution_count": 12,
   "metadata": {},
   "outputs": [],
   "source": [
    "random_id2path = {Path(p).stem: p for p in random_files[\"train\"]}"
   ]
  },
  {
   "cell_type": "code",
   "execution_count": 21,
   "metadata": {},
   "outputs": [
    {
     "name": "stderr",
     "output_type": "stream",
     "text": [
      " 16%|█▋        | 10/61 [02:14<07:09,  8.43s/it]"
     ]
    }
   ],
   "source": [
    "for file in tqdm(default_files[\"train\"]):\n",
    "    model_id = Path(file).stem\n",
    "    random_path = random_id2path[model_id]\n",
    "\n",
    "    default_data = dict(np.load(file))\n",
    "    random_data = np.load(random_path)\n",
    "\n",
    "    default_data[\"node_config_feat\"] = np.concatenate(\n",
    "        [default_data[\"node_config_feat\"], random_data[\"node_config_feat\"]], axis=0\n",
    "    )\n",
    "    default_data[\"config_runtime\"] = np.concatenate(\n",
    "        [default_data[\"config_runtime\"], random_data[\"config_runtime\"]]\n",
    "    )\n",
    "    np.savez_compressed(out_dir / f\"{model_id}.npz\", **default_data)    "
   ]
  },
  {
   "cell_type": "code",
   "execution_count": null,
   "metadata": {},
   "outputs": [],
   "source": [
    "for fold, (train_files, valid_files) in enumerate(10):\n",
    "    fold_dir = data_root / f\"{SOURCE}_{SEARCH}\" / f\"{fold}\"\n",
    "    train_dir = fold_dir / \"train\"\n",
    "    train_dir.mkdir(exist_ok=True, parents=True)\n",
    "    valid_dir = fold_dir / \"valid\"\n",
    "    valid_dir.mkdir(exist_ok=True, parents=True)\n",
    "\n",
    "    for file in train_files:\n",
    "        model_id = Path(file).stem\n",
    "        npz = np.load(file)\n",
    "        config_runtime = npz[\"config_runtime\"]\n",
    "        \n",
    "        c = len(config_runtime)\n",
    "        mc = min(MAX_CONFIGS, c) if MAX_CONFIGS > 0 else c\n",
    "        third = MAX_CONFIGS // 3\n",
    "\n",
    "        sorted_indices = np.argsort(config_runtime)\n",
    "        \n",
    "        # if third * NUM_FOLDS > c or 2 * (third * NUM_FOLDS) > c:\n",
    "        #     third = mc // 3\n",
    "        keep_indices = np.concatenate(\n",
    "            [\n",
    "                sorted_indices[:third],  # Good configs.\n",
    "                sorted_indices[-third:],  # Bad configs.\n",
    "                np.random.choice(\n",
    "                    sorted_indices[third:-third],\n",
    "                    mc - 2 * third,\n",
    "                ),\n",
    "            ]\n",
    "        )\n",
    "\n",
    "        np.save(train_dir / f\"{model_id}.npy\", keep_indices)\n",
    "\n",
    "    for file in valid_files:\n",
    "        model_id = Path(file).stem\n",
    "        all_indices = np.arange(len(np.load(file)[\"config_runtime\"]))\n",
    "        np.save(valid_dir / f\"{model_id}.npy\", all_indices)"
   ]
  }
 ],
 "metadata": {
  "kernelspec": {
   "display_name": "gfos",
   "language": "python",
   "name": "python3"
  },
  "language_info": {
   "codemirror_mode": {
    "name": "ipython",
    "version": 3
   },
   "file_extension": ".py",
   "mimetype": "text/x-python",
   "name": "python",
   "nbconvert_exporter": "python",
   "pygments_lexer": "ipython3",
   "version": "3.10.12"
  }
 },
 "nbformat": 4,
 "nbformat_minor": 2
}
