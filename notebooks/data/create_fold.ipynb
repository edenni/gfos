{
 "cells": [
  {
   "cell_type": "code",
   "execution_count": 1,
   "metadata": {},
   "outputs": [],
   "source": [
    "import warnings\n",
    "from pathlib import Path\n",
    "\n",
    "import numpy as np\n",
    "from sklearn.model_selection import KFold\n",
    "\n",
    "from gfos.data.utils import load_layout\n",
    "from gfos.data.dataset import sample_configs\n",
    "from gfos.utils.misc import seed_everything\n",
    "\n",
    "SEED = 42\n",
    "LAYOUT_DIR = r\"H:\\data\\gfos\\predict-ai-model-runtime\\npz_all\\npz\\layout\"\n",
    "SOURCE = \"nlp\"\n",
    "SEARCH = \"random\"\n",
    "MAX_CONFIGS = 10240\n",
    "NUM_FOLDS = 10\n",
    "OUTPUT_ROOT = \"../../data/indices\"\n",
    "\n",
    "\n",
    "data_root = Path(OUTPUT_ROOT)\n",
    "data_root.mkdir(exist_ok=True)\n",
    "\n",
    "seed_everything(SEED)\n",
    "warnings.filterwarnings(\"ignore\")"
   ]
  },
  {
   "cell_type": "code",
   "execution_count": 2,
   "metadata": {},
   "outputs": [
    {
     "name": "stdout",
     "output_type": "stream",
     "text": [
      "Fewest configs: 10750\n",
      "Most configs: 100040\n"
     ]
    }
   ],
   "source": [
    "files = load_layout(LAYOUT_DIR, model_type=SOURCE, compile_type=SEARCH)\n",
    "train_val_file = files[\"train\"] + files[\"valid\"]\n",
    "cs = [len(np.load(file)[\"config_runtime\"]) for file in train_val_file]\n",
    "\n",
    "print(f\"Fewest configs: {min(cs)}\")\n",
    "print(f\"Most configs: {max(cs)}\")"
   ]
  },
  {
   "cell_type": "markdown",
   "metadata": {},
   "source": [
    "Split training and valid"
   ]
  },
  {
   "cell_type": "code",
   "execution_count": 3,
   "metadata": {},
   "outputs": [],
   "source": [
    "folds = []\n",
    "for train_idx, valid_idx in KFold(n_splits=NUM_FOLDS, shuffle=True, random_state=SEED).split(train_val_file):\n",
    "    folds.append(\n",
    "        (\n",
    "            [train_val_file[idx] for idx in train_idx],\n",
    "            [train_val_file[idx] for idx in valid_idx],\n",
    "        )\n",
    "    )\n"
   ]
  },
  {
   "cell_type": "code",
   "execution_count": 4,
   "metadata": {},
   "outputs": [
    {
     "name": "stdout",
     "output_type": "stream",
     "text": [
      "File in each fold:\n",
      "Train: 204, Val: 23\n",
      "Train: 204, Val: 23\n",
      "Train: 204, Val: 23\n",
      "Train: 204, Val: 23\n",
      "Train: 204, Val: 23\n",
      "Train: 204, Val: 23\n",
      "Train: 204, Val: 23\n",
      "Train: 205, Val: 22\n",
      "Train: 205, Val: 22\n",
      "Train: 205, Val: 22\n"
     ]
    }
   ],
   "source": [
    "print(\"File in each fold:\")\n",
    "\n",
    "for train_files, val_files in folds:\n",
    "    print(f\"Train: {len(train_files)}, Val: {len(val_files)}\")"
   ]
  },
  {
   "cell_type": "markdown",
   "metadata": {},
   "source": [
    "Sample indices in training files"
   ]
  },
  {
   "cell_type": "code",
   "execution_count": 5,
   "metadata": {},
   "outputs": [],
   "source": [
    "for fold, (train_files, valid_files) in enumerate(folds):\n",
    "    fold_dir = data_root / f\"{SOURCE}_{SEARCH}\" / f\"{fold}\"\n",
    "    train_dir = fold_dir / \"train\"\n",
    "    train_dir.mkdir(exist_ok=True, parents=True)\n",
    "    valid_dir = fold_dir / \"valid\"\n",
    "    valid_dir.mkdir(exist_ok=True, parents=True)\n",
    "\n",
    "    for file in train_files:\n",
    "        model_id = Path(file).stem\n",
    "        npz = np.load(file)\n",
    "        config_runtime = npz[\"config_runtime\"]\n",
    "        \n",
    "        c = len(config_runtime)\n",
    "        mc = min(MAX_CONFIGS, c) if MAX_CONFIGS > 0 else c\n",
    "        third = MAX_CONFIGS // 3\n",
    "\n",
    "        sorted_indices = np.argsort(config_runtime)\n",
    "        \n",
    "        if third * NUM_FOLDS > c or 2 * (third * NUM_FOLDS) > c:\n",
    "            third = mc // 3\n",
    "            keep_indices = np.concatenate(\n",
    "                [\n",
    "                    sorted_indices[:third],  # Good configs.\n",
    "                    sorted_indices[-third:],  # Bad configs.\n",
    "                    np.random.choice(\n",
    "                        sorted_indices[third:-third],\n",
    "                        mc - 2 * third,\n",
    "                    ),\n",
    "                ]\n",
    "            )\n",
    "        else:\n",
    "            keep_indices = np.concatenate(\n",
    "                [\n",
    "                    np.random.choice(\n",
    "                        sorted_indices[:third * NUM_FOLDS],\n",
    "                        third,\n",
    "                    ), # Good configs.\n",
    "                    np.random.choice(\n",
    "                        sorted_indices[-third * NUM_FOLDS:],\n",
    "                        third,\n",
    "                    ), # Bad configs.\n",
    "                    np.random.choice(\n",
    "                        sorted_indices[third * NUM_FOLDS: -third * NUM_FOLDS],\n",
    "                        mc - 2 * third,\n",
    "                    ),\n",
    "                ]\n",
    "            )\n",
    "\n",
    "        np.save(train_dir / f\"{model_id}.npy\", keep_indices)\n",
    "\n",
    "    for file in valid_files:\n",
    "        keep_indices = np.arange(len(np.load(file)[\"config_runtime\"]))\n",
    "        np.save(valid_dir / f\"{Path(file).stem}.npy\", keep_indices)\n"
   ]
  },
  {
   "cell_type": "code",
   "execution_count": null,
   "metadata": {},
   "outputs": [],
   "source": [
    "# import matplotlib.pyplot as plt\n",
    "# import seaborn as sns\n",
    "\n",
    "\n",
    "# # Original hist\n",
    "# cs = [len(np.load(file)[\"config_runtime\"]) for file in train_val_file]\n",
    "\n",
    "# axes = plt.subplots(NUM_FOLDS + 1, 2, figsize=(12, 5))[1].flatten()\n",
    "\n",
    "# fewest_configs_idx = np.argmin(cs)\n",
    "# model = Path(train_val_file[fewest_configs_idx]).stem\n",
    "# print(f\"{model} has {cs[fewest_configs_idx]} configs.\")\n",
    "# indices_folds = [np.load(data_root / f\"{SOURCE}_{SEARCH}\" / f\"{i}\" / \"train\" /  f\"{model}.npy\") for i in range(NUM_FOLDS)]\n",
    "# runtime = np.load(train_val_file[fewest_configs_idx])[\"config_runtime\"]\n",
    "# sns.histplot(runtime, kde=True, bins=200, ax=axes[0])\n",
    "# axes[0].set_title(\"Original\")\n",
    "# for i in range(NUM_FOLDS):\n",
    "#     runtime_fold = runtime[indices_folds[i]]\n",
    "#     sns.histplot(runtime_fold, kde=True, ax=axes[2*(i+1)], bins=200)\n",
    "#     axes[2*(i+1)].set_title(f\"Fold {i+1}\")\n",
    "\n",
    "\n",
    "# most_configs_idx = np.argmax(cs)\n",
    "# model = Path(train_val_file[most_configs_idx]).stem\n",
    "# print(f\"{model} has {cs[most_configs_idx]} configs.\")\n",
    "# indices_folds = [np.load(data_root / f\"{SOURCE}_{SEARCH}\" / f\"{i}\" / \"valid\" / f\"{model}.npy\") for i in range(NUM_FOLDS)]\n",
    "# runtime = np.load(train_val_file[most_configs_idx])[\"config_runtime\"]\n",
    "# sns.histplot(runtime, kde=True, bins=200, ax=axes[1])\n",
    "# axes[1].set_title(\"Original\")\n",
    "# for i in range(NUM_FOLDS):\n",
    "#     runtime_fold = runtime[indices_folds[i]]\n",
    "#     sns.histplot(runtime_fold, kde=True, ax=axes[2*i+3], bins=200)\n",
    "#     axes[2*i+3].set_title(f\"Fold {i+1}\")\n",
    "\n",
    "# plt.tight_layout()"
   ]
  }
 ],
 "metadata": {
  "kernelspec": {
   "display_name": "gfos",
   "language": "python",
   "name": "python3"
  },
  "language_info": {
   "codemirror_mode": {
    "name": "ipython",
    "version": 3
   },
   "file_extension": ".py",
   "mimetype": "text/x-python",
   "name": "python",
   "nbconvert_exporter": "python",
   "pygments_lexer": "ipython3",
   "version": "3.10.12"
  }
 },
 "nbformat": 4,
 "nbformat_minor": 2
}
