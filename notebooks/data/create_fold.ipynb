{
 "cells": [
  {
   "cell_type": "code",
   "execution_count": 51,
   "metadata": {},
   "outputs": [],
   "source": [
    "import os\n",
    "import numpy as np\n",
    "from pathlib import Path\n",
    "from gfos.data.utils import load_layout\n",
    "from gfos.data.dataset import sample_configs\n",
    "\n",
    "\n",
    "LAYOUT_DIR = r\"H:\\data\\gfos\\predict-ai-model-runtime\\npz_all\\npz\\layout\"\n",
    "SOURCE = \"xla\"\n",
    "SEARCH = \"random\""
   ]
  },
  {
   "cell_type": "code",
   "execution_count": 52,
   "metadata": {},
   "outputs": [],
   "source": [
    "files = load_layout(LAYOUT_DIR, model_type=SOURCE, compile_type=SEARCH)"
   ]
  },
  {
   "cell_type": "code",
   "execution_count": 53,
   "metadata": {},
   "outputs": [],
   "source": [
    "train_val_file = files[\"train\"] + files[\"valid\"]"
   ]
  },
  {
   "cell_type": "code",
   "execution_count": 54,
   "metadata": {},
   "outputs": [],
   "source": [
    "num_configs = [len(np.load(file)[\"config_runtime\"]) for file in train_val_file]"
   ]
  },
  {
   "cell_type": "code",
   "execution_count": 55,
   "metadata": {},
   "outputs": [],
   "source": [
    "max_configs = 9000\n",
    "num_folds = 3\n",
    "data_root = Path(\"../../data/indices\")\n",
    "\n",
    "data_root.mkdir(exist_ok=True)"
   ]
  },
  {
   "cell_type": "code",
   "execution_count": 56,
   "metadata": {},
   "outputs": [],
   "source": [
    "for file in train_val_file:\n",
    "    model_id = Path(file).stem\n",
    "    npz = np.load(file)\n",
    "    config_runtime = npz[\"config_runtime\"]\n",
    "    \n",
    "    c = len(config_runtime)\n",
    "    max_configs = min(max_configs, c) if max_configs > 0 else c\n",
    "    third = max_configs // 3\n",
    "\n",
    "    sorted_indices = np.argsort(config_runtime)\n",
    "\n",
    "    for i in range(num_folds):\n",
    "        keep_indices = np.concatenate(\n",
    "            [\n",
    "                sorted_indices[:third],  # Good configs.\n",
    "                sorted_indices[-third:],  # Bad configs.\n",
    "                np.random.choice(\n",
    "                    sorted_indices[third:-third],\n",
    "                    max_configs - 2 * third,\n",
    "                ),\n",
    "            ]\n",
    "        )\n",
    "        \n",
    "        fold_dir = data_root / f\"{SOURCE}_{SEARCH}\" / f\"{i}\"\n",
    "        fold_dir.mkdir(exist_ok=True, parents=True)\n",
    "        np.save(fold_dir / f\"{model_id}.npy\", keep_indices)\n",
    "        "
   ]
  },
  {
   "cell_type": "code",
   "execution_count": 45,
   "metadata": {},
   "outputs": [],
   "source": [
    "model = \"alexnet_train_batch_32\"\n",
    "indices_fold1 = np.load(data_root / f\"{SOURCE}_{SEARCH}\" / \"0\" / f\"{model}.npy\")\n",
    "indices_fold2 = np.load(data_root / f\"{SOURCE}_{SEARCH}\" / \"1\" / f\"{model}.npy\")\n",
    "indices_fold3 = np.load(data_root / f\"{SOURCE}_{SEARCH}\" / \"2\" / f\"{model}.npy\")\n"
   ]
  },
  {
   "cell_type": "code",
   "execution_count": 50,
   "metadata": {},
   "outputs": [
    {
     "data": {
      "text/plain": [
       "<matplotlib.collections.LineCollection at 0x29638a2f850>"
      ]
     },
     "execution_count": 50,
     "metadata": {},
     "output_type": "execute_result"
    },
    {
     "data": {
      "image/png": "[encoded data removed]",
      "text/plain": [
       "<Figure size 640x480 with 1 Axes>"
      ]
     },
     "metadata": {},
     "output_type": "display_data"
    }
   ],
   "source": [
    "import matplotlib.pyplot as plt\n",
    "\n",
    "# plt.vlines(indices_fold1, 0, 1, color=\"red\")\n",
    "# plt.vlines(indices_fold2, 0, 1, color=\"green\")\n",
    "plt.vlines(indices_fold3, 0, 200, color=\"blue\", linestyles=\"dashed\", linewidth=0.05)"
   ]
  },
  {
   "cell_type": "code",
   "execution_count": 14,
   "metadata": {},
   "outputs": [
    {
     "data": {
      "text/plain": [
       "{'H:\\\\data\\\\gfos\\\\predict-ai-model-runtime\\\\npz_all\\\\npz\\\\layout\\\\xla\\\\random\\\\train\\\\alexnet_train_batch_32.npz': 29144,\n",
       " 'H:\\\\data\\\\gfos\\\\predict-ai-model-runtime\\\\npz_all\\\\npz\\\\layout\\\\xla\\\\random\\\\train\\\\bert_classifier.2x2.fp32.npz': 10760,\n",
       " 'H:\\\\data\\\\gfos\\\\predict-ai-model-runtime\\\\npz_all\\\\npz\\\\layout\\\\xla\\\\random\\\\train\\\\bert_classifier.2x2.fp32.performance.npz': 22944,\n",
       " 'H:\\\\data\\\\gfos\\\\predict-ai-model-runtime\\\\npz_all\\\\npz\\\\layout\\\\xla\\\\random\\\\train\\\\bert_pretraining.2x2.fp16.npz': 18776,\n",
       " 'H:\\\\data\\\\gfos\\\\predict-ai-model-runtime\\\\npz_all\\\\npz\\\\layout\\\\xla\\\\random\\\\train\\\\bert_pretraining.8x16.fp16.npz': 19128,\n",
       " 'H:\\\\data\\\\gfos\\\\predict-ai-model-runtime\\\\npz_all\\\\npz\\\\layout\\\\xla\\\\random\\\\train\\\\bert_pretraining.8x8.fp32.performance.npz': 18368,\n",
       " 'H:\\\\data\\\\gfos\\\\predict-ai-model-runtime\\\\npz_all\\\\npz\\\\layout\\\\xla\\\\random\\\\train\\\\bert_squad.2x2.fp32.npz': 9760,\n",
       " 'H:\\\\data\\\\gfos\\\\predict-ai-model-runtime\\\\npz_all\\\\npz\\\\layout\\\\xla\\\\random\\\\train\\\\brax_es.npz': 100040,\n",
       " 'H:\\\\data\\\\gfos\\\\predict-ai-model-runtime\\\\npz_all\\\\npz\\\\layout\\\\xla\\\\random\\\\train\\\\efficientnet_b7_eval_batch_1.npz': 1871,\n",
       " 'H:\\\\data\\\\gfos\\\\predict-ai-model-runtime\\\\npz_all\\\\npz\\\\layout\\\\xla\\\\random\\\\train\\\\inception_v2_batch_128_train.npz': 5744,\n",
       " 'H:\\\\data\\\\gfos\\\\predict-ai-model-runtime\\\\npz_all\\\\npz\\\\layout\\\\xla\\\\random\\\\train\\\\inception_v2_batch_8_train.npz': 7584,\n",
       " 'H:\\\\data\\\\gfos\\\\predict-ai-model-runtime\\\\npz_all\\\\npz\\\\layout\\\\xla\\\\random\\\\train\\\\inception_v3_batch_8_train.npz': 7088,\n",
       " 'H:\\\\data\\\\gfos\\\\predict-ai-model-runtime\\\\npz_all\\\\npz\\\\layout\\\\xla\\\\random\\\\train\\\\inference_mlperf_resnet_batch_16.npz': 31584,\n",
       " 'H:\\\\data\\\\gfos\\\\predict-ai-model-runtime\\\\npz_all\\\\npz\\\\layout\\\\xla\\\\random\\\\train\\\\inference_mlperf_resnet_batch_256.npz': 21736,\n",
       " 'H:\\\\data\\\\gfos\\\\predict-ai-model-runtime\\\\npz_all\\\\npz\\\\layout\\\\xla\\\\random\\\\train\\\\inference_mlperf_ssd_1200_batch_1.npz': 10480,\n",
       " 'H:\\\\data\\\\gfos\\\\predict-ai-model-runtime\\\\npz_all\\\\npz\\\\layout\\\\xla\\\\random\\\\train\\\\inference_mlperf_ssd_1200_batch_128.npz': 3718,\n",
       " 'H:\\\\data\\\\gfos\\\\predict-ai-model-runtime\\\\npz_all\\\\npz\\\\layout\\\\xla\\\\random\\\\train\\\\inference_mlperf_ssd_1200_batch_2.npz': 11240,\n",
       " 'H:\\\\data\\\\gfos\\\\predict-ai-model-runtime\\\\npz_all\\\\npz\\\\layout\\\\xla\\\\random\\\\train\\\\magenta.npz': 36920,\n",
       " 'H:\\\\data\\\\gfos\\\\predict-ai-model-runtime\\\\npz_all\\\\npz\\\\layout\\\\xla\\\\random\\\\train\\\\magenta_dynamic.npz': 100040,\n",
       " 'H:\\\\data\\\\gfos\\\\predict-ai-model-runtime\\\\npz_all\\\\npz\\\\layout\\\\xla\\\\random\\\\train\\\\mask_rcnn_batch_16_bf16_img1024.npz': 1152,\n",
       " 'H:\\\\data\\\\gfos\\\\predict-ai-model-runtime\\\\npz_all\\\\npz\\\\layout\\\\xla\\\\random\\\\train\\\\mask_rcnn_batch_4_bf16_img1408.npz': 1140,\n",
       " 'H:\\\\data\\\\gfos\\\\predict-ai-model-runtime\\\\npz_all\\\\npz\\\\layout\\\\xla\\\\random\\\\train\\\\mask_rcnn_resnet50.4x4.bf16.performance.npz': 2239,\n",
       " 'H:\\\\data\\\\gfos\\\\predict-ai-model-runtime\\\\npz_all\\\\npz\\\\layout\\\\xla\\\\random\\\\train\\\\mlperf_maskrcnn_1_shard_batch_4.npz': 148,\n",
       " 'H:\\\\data\\\\gfos\\\\predict-ai-model-runtime\\\\npz_all\\\\npz\\\\layout\\\\xla\\\\random\\\\train\\\\mlperf_maskrcnn_batch_2.npz': 20,\n",
       " 'H:\\\\data\\\\gfos\\\\predict-ai-model-runtime\\\\npz_all\\\\npz\\\\layout\\\\xla\\\\random\\\\train\\\\mlperf_maskrcnn_batch_4.npz': 156,\n",
       " 'H:\\\\data\\\\gfos\\\\predict-ai-model-runtime\\\\npz_all\\\\npz\\\\layout\\\\xla\\\\random\\\\train\\\\mlperf_nmt_1_shard_batch_8.npz': 20,\n",
       " 'H:\\\\data\\\\gfos\\\\predict-ai-model-runtime\\\\npz_all\\\\npz\\\\layout\\\\xla\\\\random\\\\train\\\\mlperf_nmt_batch_64.npz': 9744,\n",
       " 'H:\\\\data\\\\gfos\\\\predict-ai-model-runtime\\\\npz_all\\\\npz\\\\layout\\\\xla\\\\random\\\\train\\\\mlperf_nmt_batch_8.npz': 20,\n",
       " 'H:\\\\data\\\\gfos\\\\predict-ai-model-runtime\\\\npz_all\\\\npz\\\\layout\\\\xla\\\\random\\\\train\\\\mlperf_resnet.npz': 11296,\n",
       " 'H:\\\\data\\\\gfos\\\\predict-ai-model-runtime\\\\npz_all\\\\npz\\\\layout\\\\xla\\\\random\\\\train\\\\mlperf_resnet_batch_128_1_shard.npz': 11880,\n",
       " 'H:\\\\data\\\\gfos\\\\predict-ai-model-runtime\\\\npz_all\\\\npz\\\\layout\\\\xla\\\\random\\\\train\\\\mlperf_ssd_1_shard_batch_8_fast_epoch.npz': 2994,\n",
       " 'H:\\\\data\\\\gfos\\\\predict-ai-model-runtime\\\\npz_all\\\\npz\\\\layout\\\\xla\\\\random\\\\train\\\\mlperf_ssd_2_shard_batch_8_fast_epoch.npz': 2887,\n",
       " 'H:\\\\data\\\\gfos\\\\predict-ai-model-runtime\\\\npz_all\\\\npz\\\\layout\\\\xla\\\\random\\\\train\\\\mlperf_transformer.npz': 1632,\n",
       " 'H:\\\\data\\\\gfos\\\\predict-ai-model-runtime\\\\npz_all\\\\npz\\\\layout\\\\xla\\\\random\\\\train\\\\mnasnet_a1_batch_128.npz': 7440,\n",
       " 'H:\\\\data\\\\gfos\\\\predict-ai-model-runtime\\\\npz_all\\\\npz\\\\layout\\\\xla\\\\random\\\\train\\\\mnasnet_b1_batch_128.npz': 8376,\n",
       " 'H:\\\\data\\\\gfos\\\\predict-ai-model-runtime\\\\npz_all\\\\npz\\\\layout\\\\xla\\\\random\\\\train\\\\ncf.2x2.fp32.npz': 100040,\n",
       " 'H:\\\\data\\\\gfos\\\\predict-ai-model-runtime\\\\npz_all\\\\npz\\\\layout\\\\xla\\\\random\\\\train\\\\openai_v0_rnn_natural.npz': 20,\n",
       " 'H:\\\\data\\\\gfos\\\\predict-ai-model-runtime\\\\npz_all\\\\npz\\\\layout\\\\xla\\\\random\\\\train\\\\openai_v0_rnn_optimized.npz': 20,\n",
       " 'H:\\\\data\\\\gfos\\\\predict-ai-model-runtime\\\\npz_all\\\\npz\\\\layout\\\\xla\\\\random\\\\train\\\\resnet50.2x2.fp16.npz': 7384,\n",
       " 'H:\\\\data\\\\gfos\\\\predict-ai-model-runtime\\\\npz_all\\\\npz\\\\layout\\\\xla\\\\random\\\\train\\\\resnet50.2x2.fp32.npz': 9600,\n",
       " 'H:\\\\data\\\\gfos\\\\predict-ai-model-runtime\\\\npz_all\\\\npz\\\\layout\\\\xla\\\\random\\\\train\\\\resnet50.4x4.bf16.npz': 7560,\n",
       " 'H:\\\\data\\\\gfos\\\\predict-ai-model-runtime\\\\npz_all\\\\npz\\\\layout\\\\xla\\\\random\\\\train\\\\resnet50.4x4.bf16.performance.npz': 7464,\n",
       " 'H:\\\\data\\\\gfos\\\\predict-ai-model-runtime\\\\npz_all\\\\npz\\\\layout\\\\xla\\\\random\\\\train\\\\resnet50.8x16.fp16.npz': 10224,\n",
       " 'H:\\\\data\\\\gfos\\\\predict-ai-model-runtime\\\\npz_all\\\\npz\\\\layout\\\\xla\\\\random\\\\train\\\\resnet50.8x8.fp16.npz': 9536,\n",
       " 'H:\\\\data\\\\gfos\\\\predict-ai-model-runtime\\\\npz_all\\\\npz\\\\layout\\\\xla\\\\random\\\\train\\\\resnet50.8x8.fp32.npz': 10664,\n",
       " 'H:\\\\data\\\\gfos\\\\predict-ai-model-runtime\\\\npz_all\\\\npz\\\\layout\\\\xla\\\\random\\\\train\\\\resnet50_3d.2x2.bf16.npz': 3736,\n",
       " 'H:\\\\data\\\\gfos\\\\predict-ai-model-runtime\\\\npz_all\\\\npz\\\\layout\\\\xla\\\\random\\\\train\\\\resnet_v1_50_official_batch_128_f32.npz': 7208,\n",
       " 'H:\\\\data\\\\gfos\\\\predict-ai-model-runtime\\\\npz_all\\\\npz\\\\layout\\\\xla\\\\random\\\\train\\\\resnet_v1_50_official_batch_32_bf16.npz': 9552,\n",
       " 'H:\\\\data\\\\gfos\\\\predict-ai-model-runtime\\\\npz_all\\\\npz\\\\layout\\\\xla\\\\random\\\\train\\\\resnet_v2_101_batch_128.npz': 7040,\n",
       " 'H:\\\\data\\\\gfos\\\\predict-ai-model-runtime\\\\npz_all\\\\npz\\\\layout\\\\xla\\\\random\\\\train\\\\resnet_v2_152_batch_128.npz': 6080,\n",
       " 'H:\\\\data\\\\gfos\\\\predict-ai-model-runtime\\\\npz_all\\\\npz\\\\layout\\\\xla\\\\random\\\\train\\\\resnet_v2_152_batch_64.npz': 6792,\n",
       " 'H:\\\\data\\\\gfos\\\\predict-ai-model-runtime\\\\npz_all\\\\npz\\\\layout\\\\xla\\\\random\\\\train\\\\resnet_v2_200_batch_32.npz': 6015,\n",
       " 'H:\\\\data\\\\gfos\\\\predict-ai-model-runtime\\\\npz_all\\\\npz\\\\layout\\\\xla\\\\random\\\\train\\\\resnet_v2_200_batch_64.npz': 5502,\n",
       " 'H:\\\\data\\\\gfos\\\\predict-ai-model-runtime\\\\npz_all\\\\npz\\\\layout\\\\xla\\\\random\\\\train\\\\resnet_v2_50_batch_128.npz': 8368,\n",
       " 'H:\\\\data\\\\gfos\\\\predict-ai-model-runtime\\\\npz_all\\\\npz\\\\layout\\\\xla\\\\random\\\\train\\\\resnet_v2_50_batch_16.npz': 11336,\n",
       " 'H:\\\\data\\\\gfos\\\\predict-ai-model-runtime\\\\npz_all\\\\npz\\\\layout\\\\xla\\\\random\\\\train\\\\retinanet.2x2.fp32.npz': 1155,\n",
       " 'H:\\\\data\\\\gfos\\\\predict-ai-model-runtime\\\\npz_all\\\\npz\\\\layout\\\\xla\\\\random\\\\train\\\\retinanet.4x4.bf16.performance.npz': 2118,\n",
       " 'H:\\\\data\\\\gfos\\\\predict-ai-model-runtime\\\\npz_all\\\\npz\\\\layout\\\\xla\\\\random\\\\train\\\\retinanet.4x4.fp32.npz': 1489,\n",
       " 'H:\\\\data\\\\gfos\\\\predict-ai-model-runtime\\\\npz_all\\\\npz\\\\layout\\\\xla\\\\random\\\\train\\\\shapemask.4x4.fp32.npz': 2374,\n",
       " 'H:\\\\data\\\\gfos\\\\predict-ai-model-runtime\\\\npz_all\\\\npz\\\\layout\\\\xla\\\\random\\\\train\\\\tf2_bert_pretrain_dynamic_sequence_length.npz': 17088,\n",
       " 'H:\\\\data\\\\gfos\\\\predict-ai-model-runtime\\\\npz_all\\\\npz\\\\layout\\\\xla\\\\random\\\\train\\\\tf2_bert_squad_dynamic.npz': 17592,\n",
       " 'H:\\\\data\\\\gfos\\\\predict-ai-model-runtime\\\\npz_all\\\\npz\\\\layout\\\\xla\\\\random\\\\train\\\\transformer.2x2.fp32.npz': 22992,\n",
       " 'H:\\\\data\\\\gfos\\\\predict-ai-model-runtime\\\\npz_all\\\\npz\\\\layout\\\\xla\\\\random\\\\train\\\\transformer.4x4.bf16.npz': 12720,\n",
       " 'H:\\\\data\\\\gfos\\\\predict-ai-model-runtime\\\\npz_all\\\\npz\\\\layout\\\\xla\\\\random\\\\train\\\\transformer.4x4.fp16.npz': 22632,\n",
       " 'H:\\\\data\\\\gfos\\\\predict-ai-model-runtime\\\\npz_all\\\\npz\\\\layout\\\\xla\\\\random\\\\train\\\\transformer.4x4.fp32.performance.npz': 15704,\n",
       " 'H:\\\\data\\\\gfos\\\\predict-ai-model-runtime\\\\npz_all\\\\npz\\\\layout\\\\xla\\\\random\\\\train\\\\transformer_tf2_dynamic_shape.npz': 12320,\n",
       " 'H:\\\\data\\\\gfos\\\\predict-ai-model-runtime\\\\npz_all\\\\npz\\\\layout\\\\xla\\\\random\\\\train\\\\trax_lsh_attention.npz': 100040,\n",
       " 'H:\\\\data\\\\gfos\\\\predict-ai-model-runtime\\\\npz_all\\\\npz\\\\layout\\\\xla\\\\random\\\\train\\\\unet3d.npz': 380,\n",
       " 'H:\\\\data\\\\gfos\\\\predict-ai-model-runtime\\\\npz_all\\\\npz\\\\layout\\\\xla\\\\random\\\\train\\\\xception_imagenet.npz': 15112,\n",
       " 'H:\\\\data\\\\gfos\\\\predict-ai-model-runtime\\\\npz_all\\\\npz\\\\layout\\\\xla\\\\random\\\\valid\\\\bert_pretraining.4x4.fp16.npz': 19040,\n",
       " 'H:\\\\data\\\\gfos\\\\predict-ai-model-runtime\\\\npz_all\\\\npz\\\\layout\\\\xla\\\\random\\\\valid\\\\inception_v3_batch_128_train.npz': 4688,\n",
       " 'H:\\\\data\\\\gfos\\\\predict-ai-model-runtime\\\\npz_all\\\\npz\\\\layout\\\\xla\\\\random\\\\valid\\\\mlperf_bert_batch_24_2x2.npz': 5288,\n",
       " 'H:\\\\data\\\\gfos\\\\predict-ai-model-runtime\\\\npz_all\\\\npz\\\\layout\\\\xla\\\\random\\\\valid\\\\resnet50.4x4.fp16.npz': 5704,\n",
       " 'H:\\\\data\\\\gfos\\\\predict-ai-model-runtime\\\\npz_all\\\\npz\\\\layout\\\\xla\\\\random\\\\valid\\\\resnet_v1_50_official_batch_128_bf16.npz': 7248,\n",
       " 'H:\\\\data\\\\gfos\\\\predict-ai-model-runtime\\\\npz_all\\\\npz\\\\layout\\\\xla\\\\random\\\\valid\\\\tf2_bert_pretrain_dynamic_batch_size.npz': 17360,\n",
       " 'H:\\\\data\\\\gfos\\\\predict-ai-model-runtime\\\\npz_all\\\\npz\\\\layout\\\\xla\\\\random\\\\valid\\\\unet_3d.4x4.bf16.npz': 481}"
      ]
     },
     "execution_count": 14,
     "metadata": {},
     "output_type": "execute_result"
    }
   ],
   "source": [
    "dict(zip(train_val_file, num_configs))"
   ]
  }
 ],
 "metadata": {
  "kernelspec": {
   "display_name": "gfos",
   "language": "python",
   "name": "python3"
  },
  "language_info": {
   "codemirror_mode": {
    "name": "ipython",
    "version": 3
   },
   "file_extension": ".py",
   "mimetype": "text/x-python",
   "name": "python",
   "nbconvert_exporter": "python",
   "pygments_lexer": "ipython3",
   "version": "3.10.12"
  }
 },
 "nbformat": 4,
 "nbformat_minor": 2
}
