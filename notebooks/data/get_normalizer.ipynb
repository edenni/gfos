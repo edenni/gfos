{
 "cells": [
  {
   "cell_type": "code",
   "execution_count": 2,
   "metadata": {},
   "outputs": [],
   "source": [
    "import os\n",
    "from collections import defaultdict\n",
    "from functools import reduce\n",
    "\n",
    "import numpy as np\n",
    "\n",
    "from gfos.data.utils import load_layout\n",
    "from gfos.data.constants import mask_min_max"
   ]
  },
  {
   "cell_type": "code",
   "execution_count": 3,
   "metadata": {},
   "outputs": [],
   "source": [
    "LAYOUT_DIR = \"../../data/npz_all/npz/layout\"\n",
    "sources = (\"xla\", \"nlp\")\n",
    "searchs = (\"default\", \"random\")\n",
    "features = (\"node_feat\", \"node_config_feat\")"
   ]
  },
  {
   "cell_type": "code",
   "execution_count": 4,
   "metadata": {},
   "outputs": [],
   "source": [
    "data_dir = os.path.join(LAYOUT_DIR, sources[0], searchs[0])\n",
    "files: dict = load_layout(LAYOUT_DIR, compile_type=\"random\", model_type=\"xla\")\n",
    "all_files = reduce(lambda x, y: x + y, files.values())"
   ]
  },
  {
   "cell_type": "code",
   "execution_count": 5,
   "metadata": {},
   "outputs": [
    {
     "name": "stdout",
     "output_type": "stream",
     "text": [
      "xla default node_feat finished\n"
     ]
    },
    {
     "ename": "",
     "evalue": "",
     "output_type": "error",
     "traceback": [
      "\u001b[1;31mThe Kernel crashed while executing code in the the current cell or a previous cell. Please review the code in the cell(s) to identify a possible cause of the failure. Click <a href='https://aka.ms/vscodeJupyterKernelCrash'>here</a> for more info. View Jupyter <a href='command:jupyter.viewOutput'>log</a> for further details."
     ]
    }
   ],
   "source": [
    "normalizer = defaultdict(lambda: defaultdict(dict))\n",
    "\n",
    "for source in sources:\n",
    "    for search in searchs:\n",
    "        for feature in features:\n",
    "            feats = [np.load(file)[feature] for file in all_files]\n",
    "            feats = np.concatenate(feats, axis=0)\n",
    "            node_min = np.min(feats, axis=0)\n",
    "            node_max = np.max(feats, axis=0)\n",
    "            mask = node_max != node_min\n",
    "            \n",
    "            normalizer[source][search][feature] = {\n",
    "                f\"{feature}_mask\": mask,\n",
    "                f\"{feature}_min\": node_min,\n",
    "                f\"{feature}_max\": node_max,\n",
    "            }\n",
    "            \n",
    "            print(f\"{source} {search} {feature} finished\")"
   ]
  },
  {
   "cell_type": "code",
   "execution_count": null,
   "metadata": {},
   "outputs": [],
   "source": []
  }
 ],
 "metadata": {
  "kernelspec": {
   "display_name": "gfos",
   "language": "python",
   "name": "python3"
  },
  "language_info": {
   "codemirror_mode": {
    "name": "ipython",
    "version": 3
   },
   "file_extension": ".py",
   "mimetype": "text/x-python",
   "name": "python",
   "nbconvert_exporter": "python",
   "pygments_lexer": "ipython3",
   "version": "3.10.13"
  },
  "orig_nbformat": 4
 },
 "nbformat": 4,
 "nbformat_minor": 2
}
