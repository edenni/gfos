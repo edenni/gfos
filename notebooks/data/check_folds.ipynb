{
 "cells": [
  {
   "cell_type": "code",
   "execution_count": 1,
   "metadata": {},
   "outputs": [],
   "source": [
    "from pathlib import Path\n",
    "import numpy as np"
   ]
  },
  {
   "cell_type": "code",
   "execution_count": 2,
   "metadata": {},
   "outputs": [],
   "source": [
    "path = Path(r\"G:\\projects\\gfos\\data\\indices_full\\xla_default\\0\\train\")"
   ]
  },
  {
   "cell_type": "code",
   "execution_count": 5,
   "metadata": {},
   "outputs": [
    {
     "name": "stdout",
     "output_type": "stream",
     "text": [
      "alexnet_train_batch_32 10240\n",
      "bert_classifier.2x2.fp32 10240\n",
      "bert_classifier.2x2.fp32.performance 10240\n",
      "bert_pretraining.2x2.fp16 10240\n",
      "bert_pretraining.4x4.fp16 10240\n",
      "bert_pretraining.8x16.fp16 10240\n",
      "bert_pretraining.8x8.fp32.performance 10240\n",
      "bert_squad.2x2.fp32 9816\n",
      "brax_es 10240\n",
      "efficientnet_b7_eval_batch_1 1960\n",
      "inception_v2_batch_128_train 7592\n",
      "inception_v2_batch_8_train 10240\n",
      "inception_v3_batch_128_train 5984\n",
      "inception_v3_batch_8_train 10016\n",
      "inference_mlperf_resnet_batch_16 10240\n",
      "inference_mlperf_resnet_batch_256 10240\n",
      "inference_mlperf_ssd_1200_batch_1 10240\n",
      "inference_mlperf_ssd_1200_batch_128 6228\n",
      "inference_mlperf_ssd_1200_batch_2 10240\n",
      "magenta 10240\n",
      "magenta_dynamic 10240\n",
      "mask_rcnn_batch_16_bf16_img1024 4999\n",
      "mask_rcnn_batch_4_bf16_img1408 5820\n",
      "mask_rcnn_resnet50.4x4.bf16.performance 4692\n",
      "mlperf_bert_batch_24_2x2 6048\n",
      "mlperf_nmt_batch_64 10240\n",
      "mlperf_resnet 10240\n",
      "mlperf_resnet_batch_128_1_shard 10240\n",
      "mlperf_ssd_1_shard_batch_8_fast_epoch 7584\n",
      "mlperf_ssd_2_shard_batch_8_fast_epoch 6797\n",
      "mlperf_transformer 5192\n",
      "mnasnet_a1_batch_128 5408\n",
      "mnasnet_b1_batch_128 6344\n",
      "ncf.2x2.fp32 10240\n",
      "resnet50.2x2.fp16 8632\n",
      "resnet50.2x2.fp32 9912\n",
      "resnet50.4x4.bf16 8552\n",
      "resnet50.4x4.bf16.performance 8560\n",
      "resnet50.4x4.fp16 6120\n",
      "resnet50.8x16.fp16 10240\n",
      "resnet50.8x8.fp16 10240\n",
      "resnet50.8x8.fp32 10240\n",
      "resnet50_3d.2x2.bf16 5304\n",
      "resnet_v1_50_official_batch_128_bf16 8512\n",
      "resnet_v1_50_official_batch_128_f32 9224\n",
      "resnet_v1_50_official_batch_32_bf16 10240\n",
      "resnet_v2_101_batch_128 7688\n",
      "resnet_v2_152_batch_128 6488\n",
      "resnet_v2_152_batch_64 7576\n",
      "resnet_v2_200_batch_32 7768\n",
      "resnet_v2_200_batch_64 6288\n",
      "resnet_v2_50_batch_128 9176\n",
      "resnet_v2_50_batch_16 10240\n",
      "retinanet.2x2.fp32 6558\n",
      "retinanet.4x4.bf16.performance 5688\n",
      "retinanet.4x4.fp32 6623\n",
      "shapemask.4x4.fp32 5471\n",
      "tf2_bert_pretrain_dynamic_batch_size 10240\n",
      "tf2_bert_pretrain_dynamic_sequence_length 10240\n",
      "tf2_bert_squad_dynamic 10240\n",
      "transformer.2x2.fp32 10240\n",
      "transformer.4x4.bf16 10240\n",
      "transformer.4x4.fp16 10240\n",
      "transformer.4x4.fp32.performance 10240\n",
      "transformer_tf2_dynamic_shape 10240\n",
      "unet3d 1159\n",
      "unet_3d.4x4.bf16 1965\n",
      "xception_imagenet 10240\n"
     ]
    }
   ],
   "source": [
    "for file in path.iterdir():\n",
    "    data = np.load(file)\n",
    "    print(file.stem, len(data))"
   ]
  },
  {
   "cell_type": "code",
   "execution_count": 6,
   "metadata": {},
   "outputs": [],
   "source": [
    "path1 = Path(r\"G:\\projects\\gfos\\data\\indices_full\\xla_default\\0\\train\")\n",
    "path2 = Path(r\"G:\\projects\\gfos\\data\\indices_full\\xla_default\\1\\train\")\n"
   ]
  },
  {
   "cell_type": "code",
   "execution_count": 11,
   "metadata": {},
   "outputs": [
    {
     "name": "stdout",
     "output_type": "stream",
     "text": [
      "alexnet_train_batch_32 10240 1809\n",
      "bert_classifier.2x2.fp32 10240 8167\n",
      "bert_classifier.2x2.fp32.performance 10240 7453\n",
      "bert_pretraining.2x2.fp16 10240 7558\n",
      "bert_pretraining.4x4.fp16 10240 7497\n",
      "bert_pretraining.8x16.fp16 10240 7530\n",
      "bert_pretraining.8x8.fp32.performance 10240 7601\n",
      "bert_squad.2x2.fp32 9816 7834\n",
      "brax_es 10240 1343\n",
      "efficientnet_b7_eval_batch_1 1960 1577\n",
      "inception_v2_batch_128_train 7592 6108\n",
      "inception_v2_batch_8_train 10240 7913\n",
      "inception_v3_batch_128_train 5984 4772\n",
      "inception_v3_batch_8_train 10016 7979\n",
      "inference_mlperf_resnet_batch_16 10240 1708\n",
      "inference_mlperf_resnet_batch_256 10240 1233\n",
      "inference_mlperf_ssd_1200_batch_1 10240 8068\n",
      "inference_mlperf_ssd_1200_batch_128 6228 5005\n",
      "inference_mlperf_ssd_1200_batch_2 10240 7944\n",
      "magenta 10240 2259\n",
      "magenta_dynamic 10240 1299\n",
      "mask_rcnn_batch_16_bf16_img1024 4999 4027\n",
      "mask_rcnn_batch_4_bf16_img1408 5820 4673\n",
      "mask_rcnn_resnet50.4x4.bf16.performance 4692 3779\n",
      "mlperf_bert_batch_24_2x2 6048 4854\n",
      "mlperf_nmt_batch_64 10240 8159\n",
      "mlperf_resnet 10240 8130\n",
      "mlperf_resnet_batch_128_1_shard 10240 8042\n",
      "mlperf_ssd_1_shard_batch_8_fast_epoch 7584 6049\n",
      "mlperf_ssd_2_shard_batch_8_fast_epoch 6797 5477\n",
      "mlperf_transformer 5192 4140\n",
      "mnasnet_a1_batch_128 5408 4300\n",
      "mnasnet_b1_batch_128 6344 5057\n",
      "ncf.2x2.fp32 10240 1286\n",
      "resnet50.2x2.fp16 8632 6926\n",
      "resnet50.2x2.fp32 9912 7903\n",
      "resnet50.4x4.bf16 8552 6843\n",
      "resnet50.4x4.bf16.performance 8560 6846\n",
      "resnet50.4x4.fp16 6120 4894\n",
      "resnet50.8x16.fp16 10240 7961\n",
      "resnet50.8x8.fp16 10240 8145\n",
      "resnet50.8x8.fp32 10240 8095\n",
      "resnet50_3d.2x2.bf16 5304 4230\n",
      "resnet_v1_50_official_batch_128_bf16 8512 6785\n",
      "resnet_v1_50_official_batch_128_f32 9224 7369\n",
      "resnet_v1_50_official_batch_32_bf16 10240 7958\n",
      "resnet_v2_101_batch_128 7688 6123\n",
      "resnet_v2_152_batch_128 6488 5204\n",
      "resnet_v2_152_batch_64 7576 6062\n",
      "resnet_v2_200_batch_32 7768 6176\n",
      "resnet_v2_200_batch_64 6288 5028\n",
      "resnet_v2_50_batch_128 9176 7309\n",
      "resnet_v2_50_batch_16 10240 7608\n",
      "retinanet.2x2.fp32 6558 5248\n",
      "retinanet.4x4.bf16.performance 5688 4571\n",
      "retinanet.4x4.fp32 6623 5299\n",
      "shapemask.4x4.fp32 5471 4388\n",
      "tf2_bert_pretrain_dynamic_batch_size 10240 7570\n",
      "tf2_bert_pretrain_dynamic_sequence_length 10240 7563\n",
      "tf2_bert_squad_dynamic 10240 7581\n",
      "transformer.2x2.fp32 10240 7312\n",
      "transformer.4x4.bf16 10240 7958\n",
      "transformer.4x4.fp16 10240 7358\n",
      "transformer.4x4.fp32.performance 10240 7785\n",
      "transformer_tf2_dynamic_shape 10240 8043\n",
      "unet3d 1159 923\n",
      "unet_3d.4x4.bf16 1965 1558\n",
      "xception_imagenet 10240 7691\n"
     ]
    }
   ],
   "source": [
    "for file1, ffile2 in zip(path1.iterdir(), path2.iterdir()):\n",
    "    data1 = np.load(file1)\n",
    "    data2 = np.load(ffile2)\n",
    "    \n",
    "    duplicates = np.intersect1d(data1, data2)\n",
    "    print(file1.stem ,len(data1), len(duplicates))"
   ]
  }
 ],
 "metadata": {
  "kernelspec": {
   "display_name": "gfos",
   "language": "python",
   "name": "python3"
  },
  "language_info": {
   "codemirror_mode": {
    "name": "ipython",
    "version": 3
   },
   "file_extension": ".py",
   "mimetype": "text/x-python",
   "name": "python",
   "nbconvert_exporter": "python",
   "pygments_lexer": "ipython3",
   "version": "3.10.12"
  }
 },
 "nbformat": 4,
 "nbformat_minor": 2
}
