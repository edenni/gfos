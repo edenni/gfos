{
 "cells": [
  {
   "cell_type": "code",
   "execution_count": 1,
   "metadata": {},
   "outputs": [
    {
     "name": "stdout",
     "output_type": "stream",
     "text": [
      "Trimmed and Merged Graph:\n"
     ]
    }
   ],
   "source": [
    "from collections import defaultdict\n",
    "\n",
    "class Graph:\n",
    "    def __init__(self):\n",
    "        self.graph = defaultdict(list)\n",
    "\n",
    "    def addEdge(self, u, v):\n",
    "        self.graph[u].append(v)\n",
    "\n",
    "    def dfs(self, start, end, specified):\n",
    "        stack = [(start, [start])]\n",
    "        paths = []\n",
    "        \n",
    "        while stack:\n",
    "            node, path = stack.pop()\n",
    "            if node == end:\n",
    "                if any(spec_node in path for spec_node in specified):\n",
    "                    paths.append(path)\n",
    "                continue\n",
    "            \n",
    "            for neighbor in self.graph[node]:\n",
    "                if neighbor not in path:\n",
    "                    stack.append((neighbor, path + [neighbor]))\n",
    "                    \n",
    "        return paths\n",
    "    \n",
    "    def find_sources_and_sinks(self):\n",
    "        in_degree = defaultdict(int)\n",
    "        out_degree = defaultdict(int)\n",
    "        \n",
    "        for node, neighbors in self.graph.items():\n",
    "            out_degree[node] += len(neighbors)\n",
    "            for neighbor in neighbors:\n",
    "                in_degree[neighbor] += 1\n",
    "                \n",
    "        sources = [node for node, degree in in_degree.items() if degree == 0]\n",
    "        sinks = [node for node, degree in out_degree.items() if degree == 0]\n",
    "        \n",
    "        return sources, sinks\n",
    "    \n",
    "    def trim_and_merge(self, specified):\n",
    "        sources, sinks = self.find_sources_and_sinks()\n",
    "        \n",
    "        merged_graph = Graph()\n",
    "        \n",
    "        for start in sources:\n",
    "            for end in sinks:\n",
    "                paths = self.dfs(start, end, specified)\n",
    "                for path in paths:\n",
    "                    merge_node = None\n",
    "                    for node in path:\n",
    "                        if node in specified:\n",
    "                            if merge_node:\n",
    "                                merged_graph.addEdge(merge_node, node)\n",
    "                            merge_node = node\n",
    "                        elif merge_node is None:\n",
    "                            merge_node = node\n",
    "                        \n",
    "                    if merge_node and merge_node != end:\n",
    "                        merged_graph.addEdge(merge_node, end)\n",
    "        \n",
    "        return merged_graph\n",
    "\n",
    "\n",
    "# Example\n",
    "specified = {2, 3, 6}  # Specified nodes\n",
    "g = Graph()\n",
    "g.addEdge(1, 2)\n",
    "g.addEdge(2, 3)\n",
    "g.addEdge(3, 4)\n",
    "g.addEdge(4, 5)\n",
    "g.addEdge(5, 6)\n",
    "\n",
    "new_g = g.trim_and_merge(specified)\n",
    "\n",
    "# Now, new_g is the new graph where nodes have been merged and trimmed\n",
    "# according to the specified nodes and the rule described.\n",
    "print(\"Trimmed and Merged Graph:\")\n",
    "for node, neighbors in new_g.graph.items():\n",
    "    print(f\"{node} -> {neighbors}\")"
   ]
  },
  {
   "cell_type": "code",
   "execution_count": 6,
   "metadata": {},
   "outputs": [
    {
     "name": "stdout",
     "output_type": "stream",
     "text": [
      "{'c': {'merged_node'}, 'merged_node': {'c', 'e'}}\n"
     ]
    }
   ],
   "source": [
    "from collections import defaultdict, deque\n",
    "\n",
    "class Graph:\n",
    "    def __init__(self):\n",
    "        self.graph = defaultdict(set)\n",
    "\n",
    "    def add_edge(self, u, v):\n",
    "        self.graph[u].add(v)\n",
    "\n",
    "    def trim_and_merge(self, specified_nodes):\n",
    "        ancestors = set(specified_nodes)\n",
    "        to_merge = set()\n",
    "\n",
    "        # Find ancestors of specified nodes using BFS\n",
    "        queue = deque(specified_nodes)\n",
    "        while queue:\n",
    "            node = queue.popleft()\n",
    "            for parent in self.graph:\n",
    "                if node in self.graph[parent]:\n",
    "                    if parent not in ancestors:\n",
    "                        ancestors.add(parent)\n",
    "                        queue.append(parent)\n",
    "                        if parent not in specified_nodes:\n",
    "                            to_merge.add(parent)\n",
    "\n",
    "        # Create a new graph with trimmed and merged nodes\n",
    "        trimmed_graph = defaultdict(set)\n",
    "        for node in ancestors:\n",
    "            if node not in to_merge:\n",
    "                for child in self.graph[node]:\n",
    "                    if child in to_merge:\n",
    "                        trimmed_graph[node].add('merged_node')\n",
    "                    else:\n",
    "                        trimmed_graph[node].add(child)\n",
    "\n",
    "        # Add the merged node\n",
    "        if to_merge:\n",
    "            for node in to_merge:\n",
    "                for child in self.graph[node]:\n",
    "                    if child not in to_merge:\n",
    "                        trimmed_graph['merged_node'].add(child)\n",
    "\n",
    "        return trimmed_graph\n",
    "\n",
    "# Usage\n",
    "g = Graph()\n",
    "g.add_edge('a', 'b')\n",
    "g.add_edge('b', 'c')\n",
    "g.add_edge('c', 'd')\n",
    "g.add_edge('d', 'e')\n",
    "\n",
    "specified_nodes = ['c', 'e']\n",
    "trimmed_graph = g.trim_and_merge(specified_nodes)\n",
    "print(dict(trimmed_graph))  "
   ]
  },
  {
   "cell_type": "code",
   "execution_count": 40,
   "metadata": {},
   "outputs": [],
   "source": [
    "from collections import defaultdict, deque\n",
    "\n",
    "\n",
    "class Graph:\n",
    "    def __init__(self):\n",
    "        self.graph = defaultdict(set)\n",
    "\n",
    "    def add_edge(self, u, v):\n",
    "        self.graph[u].add(v)\n",
    "\n",
    "    def trim_and_merge(self, specified_nodes):\n",
    "        trimmed_graph = defaultdict(set)\n",
    "\n",
    "        specified_nodes = set(specified_nodes)\n",
    "\n",
    "        for i, src in enumerate(specified_nodes):\n",
    "            other_specified_nodes = specified_nodes - {src}\n",
    "\n",
    "            visited = set()\n",
    "            queue = deque([src])\n",
    "            while queue:\n",
    "                node = queue.popleft()\n",
    "                if node in other_specified_nodes:\n",
    "                    trimmed_graph[src].add(node)\n",
    "                visited.add(node)\n",
    "                for neighbor in self.graph[node]:\n",
    "                    if neighbor not in visited and neighbor not in queue:\n",
    "                        queue.append(neighbor)\n",
    "                            \n",
    "        # Ensure all specified nodes are in the graph even if they are isolated\n",
    "        for node in specified_nodes:\n",
    "            if node not in trimmed_graph:\n",
    "                trimmed_graph[node] = set()\n",
    "\n",
    "        return dict(trimmed_graph)  # convert defaultdict to dict for cleaner representation"
   ]
  },
  {
   "cell_type": "code",
   "execution_count": 33,
   "metadata": {},
   "outputs": [],
   "source": [
    "g = Graph()\n",
    "g.add_edge('a', 'b')\n",
    "g.add_edge('a', 'c')\n",
    "g.add_edge('b', 'c')\n",
    "g.add_edge('c', 'd')\n",
    "g.add_edge('d', 'e')\n",
    "g.add_edge('c', 'e')\n",
    "g.add_edge('e', 'f')"
   ]
  },
  {
   "cell_type": "code",
   "execution_count": 34,
   "metadata": {},
   "outputs": [
    {
     "name": "stdout",
     "output_type": "stream",
     "text": [
      "Specified nodes: {'f'}\n",
      "deque(['c'])\n",
      "deque(['e', 'd'])\n",
      "deque(['d', 'f'])\n",
      "deque(['f'])\n",
      "Specified nodes: {'c'}\n",
      "deque(['f'])\n"
     ]
    },
    {
     "data": {
      "text/plain": [
       "{'c': {'f'}, 'f': set()}"
      ]
     },
     "execution_count": 34,
     "metadata": {},
     "output_type": "execute_result"
    }
   ],
   "source": [
    "g.trim_and_merge(['c', 'f'])\n"
   ]
  },
  {
   "cell_type": "code",
   "execution_count": 1,
   "metadata": {},
   "outputs": [],
   "source": [
    "import numpy as np\n",
    "\n",
    "file = np.load(r'H:\\data\\gfos\\predict-ai-model-runtime\\npz_all\\npz\\layout\\xla\\default\\train\\alexnet_train_batch_32.npz')\n",
    "edge_index = file['edge_index']\n",
    "node_config_ids = file['node_config_ids']"
   ]
  },
  {
   "cell_type": "code",
   "execution_count": 41,
   "metadata": {},
   "outputs": [],
   "source": [
    "g = Graph()\n",
    "\n",
    "for src, tgt in edge_index:\n",
    "    g.add_edge(src, tgt)\n",
    "    \n",
    "trimmed_graph = g.trim_and_merge(node_config_ids.tolist())\n",
    "\n",
    "trimmed_edges = []\n",
    "\n",
    "for src, tgts in trimmed_graph.items():\n",
    "    if not tgts:\n",
    "        continue\n",
    "    for tgt in tgts:\n",
    "        trimmed_edges.append([src, tgt])\n",
    "        \n",
    "trimmed_edges = np.array(trimmed_edges)"
   ]
  },
  {
   "cell_type": "code",
   "execution_count": 44,
   "metadata": {},
   "outputs": [],
   "source": [
    "import matplotlib.pyplot as plt\n",
    "import networkx as nx\n",
    "\n",
    "def draw_graph(graph_dict, title=\"Graph\"):\n",
    "    G = nx.DiGraph()\n",
    "    for node, children in graph_dict.items():\n",
    "        for child in children:\n",
    "            G.add_edge(node, child)\n",
    "            \n",
    "    pos = nx.spring_layout(G, seed=42)\n",
    "    plt.figure(figsize=(8, 6))\n",
    "    nx.draw(G, pos, with_labels=True, node_color='skyblue', node_size=2000, edge_color='black', linewidths=1, font_size=15, arrowsize=20, connectionstyle='arc3,rad=0.1')\n",
    "    plt.title(title)\n",
    "    plt.show()"
   ]
  },
  {
   "cell_type": "code",
   "execution_count": 25,
   "metadata": {},
   "outputs": [],
   "source": [
    "import numpy as np\n",
    "from collections import defaultdict, deque\n",
    "\n",
    "\n",
    "class Graph:\n",
    "    def __init__(self):\n",
    "        self.graph = defaultdict(set)\n",
    "\n",
    "    def add_edge(self, u, v):\n",
    "        self.graph[u].add(v)\n",
    "\n",
    "    def trim_and_merge(self, specified_nodes: set, return_distance: bool):\n",
    "        trimmed_graph = defaultdict(set)\n",
    "        visited_global = set()  # to keep track of globally visited nodes\n",
    "        if return_distance:\n",
    "            distance_between_nodes = defaultdict(lambda: defaultdict(int))\n",
    "\n",
    "        for src in specified_nodes:\n",
    "            if src in visited_global:  # skip already visited nodes\n",
    "                continue\n",
    "\n",
    "            visited = set([src])\n",
    "\n",
    "            if return_distance:\n",
    "                queue = deque([(src, 1)])\n",
    "            else:\n",
    "                queue = deque([src])\n",
    "\n",
    "            while queue:\n",
    "                if return_distance:\n",
    "                    node, distance = queue.popleft()\n",
    "                else:\n",
    "                    node = queue.popleft()\n",
    "                visited_global.add(node)\n",
    "                for neighbor in self.graph[node]:\n",
    "                    if neighbor in specified_nodes:\n",
    "                        trimmed_graph[src].add(neighbor)\n",
    "                        if return_distance:\n",
    "                            distance_between_nodes[src][neighbor] = (\n",
    "                                distance + 1\n",
    "                            )\n",
    "                    elif neighbor not in visited:\n",
    "                        visited.add(neighbor)\n",
    "                        if return_distance:\n",
    "                            queue.append((neighbor, distance + 1))\n",
    "                        else:\n",
    "                            queue.append(neighbor)\n",
    "\n",
    "        if return_distance:\n",
    "            return trimmed_graph, distance_between_nodes\n",
    "        else:\n",
    "            return trimmed_graph\n",
    "\n",
    "\n",
    "def get_config_graph(origin_edges, config_node_ids, return_distance=False):\n",
    "    g = Graph()\n",
    "\n",
    "    for src, tgt in origin_edges:\n",
    "        g.add_edge(src, tgt)\n",
    "\n",
    "    trimmed_graph = g.trim_and_merge(config_node_ids.tolist(), return_distance)\n",
    "    if return_distance:\n",
    "        trimmed_graph, distances = trimmed_graph\n",
    "\n",
    "    trimmed_edges = []\n",
    "\n",
    "    for src, tgts in trimmed_graph.items():\n",
    "        if not tgts:\n",
    "            continue\n",
    "        for tgt in tgts:\n",
    "            trimmed_edges.append([src, tgt])\n",
    "\n",
    "    trimmed_edges = np.array(trimmed_edges)\n",
    "    weights = [distances[src][tgt] for src, tgt in trimmed_edges]\n",
    "    weights = np.array(weights)\n",
    "    weights = weights.max() / weights\n",
    "\n",
    "    return trimmed_edges, weights if return_distance else trimmed_edges"
   ]
  },
  {
   "cell_type": "code",
   "execution_count": 22,
   "metadata": {},
   "outputs": [],
   "source": [
    "g = Graph()\n",
    "\n",
    "for src, tgt in edge_index:\n",
    "    g.add_edge(src, tgt)\n",
    "    \n",
    "trimmed_graph, distances = g.trim_and_merge_with_distance(node_config_ids.tolist())\n",
    "\n",
    "trimmed_edges = []\n",
    "\n",
    "for src, tgts in trimmed_graph.items():\n",
    "    if not tgts:\n",
    "        continue\n",
    "    for tgt in tgts:\n",
    "        trimmed_edges.append([src, tgt])\n",
    "        \n",
    "trimmed_edges = np.array(trimmed_edges)"
   ]
  },
  {
   "cell_type": "code",
   "execution_count": 23,
   "metadata": {},
   "outputs": [],
   "source": [
    "edge_weights = [\n",
    "    distances[src][tgt]\n",
    "    for src, tgt in trimmed_edges\n",
    "]"
   ]
  },
  {
   "cell_type": "code",
   "execution_count": 27,
   "metadata": {},
   "outputs": [],
   "source": [
    "trimmed_edges, edge_weights = get_config_graph(edge_index, node_config_ids, return_distance=True)"
   ]
  },
  {
   "cell_type": "code",
   "execution_count": 2,
   "metadata": {},
   "outputs": [],
   "source": [
    "from gfos.data.graph import get_config_graph"
   ]
  },
  {
   "cell_type": "code",
   "execution_count": 3,
   "metadata": {},
   "outputs": [],
   "source": [
    "trimmed_edges = get_config_graph(edge_index, node_config_ids, return_distance=False)"
   ]
  },
  {
   "cell_type": "code",
   "execution_count": 46,
   "metadata": {},
   "outputs": [
    {
     "data": {
      "text/plain": [
       "'..\\\\..\\\\output\\\\original_graph.gv.pdf'"
      ]
     },
     "execution_count": 46,
     "metadata": {},
     "output_type": "execute_result"
    }
   ],
   "source": [
    "import graphviz\n",
    "\n",
    "dot = graphviz.Digraph(\"original_graph\")\n",
    "\n",
    "# Add nodes and edges to the graph\n",
    "for edge in edge_index:\n",
    "    dot.edge(str(edge[0]), str(edge[1]))\n",
    "\n",
    "# Set configurable nodes to red\n",
    "for node in node_config_ids:\n",
    "    dot.node(str(node), fillcolor=\"red\", style=\"filled\")\n",
    "\n",
    "# # Set operation names as labels\n",
    "# for node, node_idx in enumerate(model[\"node_opcode\"]):\n",
    "#     dot.node(str(node), label=node_idx2name[node_idx])\n",
    "\n",
    "dot.render(f\"../../output/original_graph.gv\")"
   ]
  },
  {
   "cell_type": "code",
   "execution_count": 50,
   "metadata": {},
   "outputs": [
    {
     "data": {
      "text/plain": [
       "'..\\\\..\\\\output\\\\trimmed_graph.gv.pdf'"
      ]
     },
     "execution_count": 50,
     "metadata": {},
     "output_type": "execute_result"
    }
   ],
   "source": [
    "dot = graphviz.Digraph(\"trimmed_graph\")\n",
    "\n",
    "# Add nodes and edges to the graph\n",
    "for edge in trimmed_edges:\n",
    "    dot.edge(str(edge[0]), str(edge[1]))\n",
    "\n",
    "# Set configurable nodes to red\n",
    "for node in node_config_ids:\n",
    "    dot.node(str(node), fillcolor=\"red\", style=\"filled\")\n",
    "\n",
    "# # Set operation names as labels\n",
    "# for node, node_idx in enumerate(model[\"node_opcode\"]):\n",
    "#     dot.node(str(node), label=node_idx2name[node_idx])\n",
    "\n",
    "dot.render(f\"../../output/trimmed_graph.gv\")"
   ]
  },
  {
   "cell_type": "code",
   "execution_count": null,
   "metadata": {},
   "outputs": [],
   "source": [
    "import graphviz\n",
    "\n",
    "\n",
    "dot = graphviz.Digraph(\"trimmed_graph_2\")\n",
    "\n",
    "# Add nodes and edges to the graph\n",
    "for edge, distance in zip(trimmed_edges, edge_weights):\n",
    "    dot.edge(str(edge[0]), str(edge[1]), label=str(distance))\n",
    "\n",
    "# Set configurable nodes to red\n",
    "for node in node_config_ids:\n",
    "    dot.node(str(node), fillcolor=\"red\", style=\"filled\")\n",
    "\n",
    "# # Set operation names as labels\n",
    "# for node, node_idx in enumerate(model[\"node_opcode\"]):\n",
    "#     dot.node(str(node), label=node_idx2name[node_idx])\n",
    "\n",
    "dot.render(f\"../../output/trimmed_graph_2_weights_src.gv\")"
   ]
  },
  {
   "cell_type": "code",
   "execution_count": 4,
   "metadata": {},
   "outputs": [
    {
     "data": {
      "text/plain": [
       "'..\\\\..\\\\output\\\\trimmed_graph_2_src.gv.pdf'"
      ]
     },
     "execution_count": 4,
     "metadata": {},
     "output_type": "execute_result"
    }
   ],
   "source": [
    "import graphviz\n",
    "\n",
    "\n",
    "dot = graphviz.Digraph(\"trimmed_graph_2\")\n",
    "\n",
    "# Add nodes and edges to the graph\n",
    "for edge in trimmed_edges:\n",
    "    dot.edge(str(edge[0]), str(edge[1]))\n",
    "\n",
    "# Set configurable nodes to red\n",
    "for node in node_config_ids:\n",
    "    dot.node(str(node), fillcolor=\"red\", style=\"filled\")\n",
    "\n",
    "# # Set operation names as labels\n",
    "# for node, node_idx in enumerate(model[\"node_opcode\"]):\n",
    "#     dot.node(str(node), label=node_idx2name[node_idx])\n",
    "\n",
    "dot.render(f\"../../output/trimmed_graph_2_src.gv\")"
   ]
  }
 ],
 "metadata": {
  "kernelspec": {
   "display_name": "gfos",
   "language": "python",
   "name": "python3"
  },
  "language_info": {
   "codemirror_mode": {
    "name": "ipython",
    "version": 3
   },
   "file_extension": ".py",
   "mimetype": "text/x-python",
   "name": "python",
   "nbconvert_exporter": "python",
   "pygments_lexer": "ipython3",
   "version": "3.10.12"
  },
  "orig_nbformat": 4
 },
 "nbformat": 4,
 "nbformat_minor": 2
}
