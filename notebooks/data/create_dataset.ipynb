{
 "cells": [
  {
   "cell_type": "code",
   "execution_count": 1,
   "metadata": {},
   "outputs": [],
   "source": [
    "import os\n",
    "\n",
    "import torch\n",
    "import webdataset as wds\n",
    "import numpy as np\n",
    "import pandas as pd\n",
    "from torch import nn\n",
    "from torch_geometric.nn import GCNConv,SAGEConv\n",
    "from torch.utils.data import DataLoader, Dataset\n",
    "from tqdm import tqdm \n",
    "import matplotlib.pyplot as plt\n",
    "\n",
    "device = 'cuda' if torch.cuda.is_available() else 'cpu'"
   ]
  },
  {
   "cell_type": "code",
   "execution_count": 2,
   "metadata": {},
   "outputs": [],
   "source": [
    "layout_dir = r\"H:\\data\\gfos\\predict-ai-model-runtime\\npz_all\\npz\\layout\""
   ]
  },
  {
   "cell_type": "code",
   "execution_count": null,
   "metadata": {},
   "outputs": [],
   "source": [
    "sink = wds.TarWriter(\"dest.tar\", encoder=False)\n",
    "for basename in basenames:\n",
    "    with open(f\"{basename}.png\", \"rb\") as stream):\n",
    "        image = stream.read()\n",
    "    cls = lookup_cls(basename)\n",
    "    sample = {\n",
    "        \"__key__\": basename,\n",
    "        \"input.png\": image,\n",
    "        \"target.cls\": cls\n",
    "    }\n",
    "    sink.write(sample)\n",
    "sink.close()"
   ]
  },
  {
   "cell_type": "code",
   "execution_count": 7,
   "metadata": {},
   "outputs": [
    {
     "data": {
      "text/plain": [
       "dict_keys(['node_feat', 'node_opcode', 'edge_index', 'node_config_feat', 'node_config_ids', 'config_runtime', 'node_splits'])"
      ]
     },
     "execution_count": 7,
     "metadata": {},
     "output_type": "execute_result"
    }
   ],
   "source": [
    "all['H:\\\\data\\\\gfos\\\\predict-ai-model-runtime\\\\npz_all\\\\npz\\\\layout\\\\xla\\\\random\\\\train\\\\alexnet_train_batch_32.npz'].keys()"
   ]
  },
  {
   "cell_type": "code",
   "execution_count": null,
   "metadata": {},
   "outputs": [],
   "source": [
    "all = {}\n",
    "\n",
    "for model_type in (\"xla\", \"nlp\"):\n",
    "    for compile_type in (\"random\",):\n",
    "        for split in (\"train\", \"valid\"):\n",
    "            path = os.path.join(layout_dir, model_type, compile_type, split)\n",
    "            print(\"Start loading files from\", path)\n",
    "\n",
    "            files = os.listdir(path)\n",
    "            list_df = []\n",
    "\n",
    "            for file in tqdm(files):\n",
    "                file = os.path.join(path, file)            \n",
    "                all[file] = dict(np.load(file))"
   ]
  },
  {
   "cell_type": "code",
   "execution_count": null,
   "metadata": {},
   "outputs": [],
   "source": [
    "import tarfile\n",
    "import numpy as np\n",
    "import os\n",
    "\n",
    "def npz_to_tar(npz_path, tar_directory):\n",
    "    base_name = os.path.basename(npz_path).replace(\".npz\", \".tar\")\n",
    "    tar_path = os.path.join(tar_directory, base_name)\n",
    "    \n",
    "    with tarfile.open(tar_path, \"w\") as tar:\n",
    "        with np.load(npz_path, allow_pickle=True) as data:\n",
    "            c = data['config_runtime'].shape[0]\n",
    "            for idx in range(c):\n",
    "                for key in data.files:\n",
    "                    if data[key].ndim == 1 and key != 'config_runtime':\n",
    "                        content = data[key]\n",
    "                    elif key == 'config_runtime':\n",
    "                        content = data[key][idx:idx+1]\n",
    "                    else:\n",
    "                        content = data[key][idx]\n",
    "                    save_path = f\"{idx}.{key}.npy\"\n",
    "                    content.tofile(save_path)\n",
    "                    tar.add(save_path, arcname=save_path)\n",
    "                    os.remove(save_path)  # Remove the temporary .npy file\n",
    "\n",
    "# For each npz file, convert it to tar and save in the tar_files_directory\n",
    "npz_files = [\"path_to_file1.npz\", \"path_to_file2.npz\", ...]\n",
    "tar_directory = \"tar_files_directory\"\n",
    "os.makedirs(tar_directory, exist_ok=True)\n",
    "for npz_path in npz_files:\n",
    "    npz_to_tar(npz_path, tar_directory)"
   ]
  }
 ],
 "metadata": {
  "kernelspec": {
   "display_name": "gfos",
   "language": "python",
   "name": "python3"
  },
  "language_info": {
   "codemirror_mode": {
    "name": "ipython",
    "version": 3
   },
   "file_extension": ".py",
   "mimetype": "text/x-python",
   "name": "python",
   "nbconvert_exporter": "python",
   "pygments_lexer": "ipython3",
   "version": "3.10.12"
  },
  "orig_nbformat": 4
 },
 "nbformat": 4,
 "nbformat_minor": 2
}
