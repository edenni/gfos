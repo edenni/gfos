{
 "cells": [
  {
   "cell_type": "code",
   "execution_count": 1,
   "metadata": {},
   "outputs": [],
   "source": [
    "import pandas as pd\n",
    "\n",
    "sample_sub = pd.read_csv(\"../../output/submission.csv\")\n",
    "xla_default = pd.read_csv(\"../../output/results_1695200413859_xla_default.csv\")\n",
    "# xla_random = pd.read_csv(\"../../output/results_1695227430358_xla_random.csv\")\n",
    "nlp_default = pd.read_csv(\"../../output/results_1695942543728_nlp_default.csv\")\n",
    "nlp_random = pd.read_csv(\"../../output/results_1695901279689_nlp_random.csv\")\n",
    "xla_random = pd.read_csv(\"../../output/xla_random.csv\")"
   ]
  },
  {
   "cell_type": "code",
   "execution_count": 2,
   "metadata": {},
   "outputs": [],
   "source": [
    "sample_sub.set_index(\"ID\", inplace=True)\n",
    "xla_default.set_index(\"ID\", inplace=True)\n",
    "xla_random.set_index(\"ID\", inplace=True)\n",
    "nlp_default.set_index(\"ID\", inplace=True)\n",
    "nlp_random.set_index(\"ID\", inplace=True)"
   ]
  },
  {
   "cell_type": "code",
   "execution_count": 3,
   "metadata": {},
   "outputs": [],
   "source": [
    "sample_sub.loc[xla_default.index, \"TopConfigs\"] = xla_default[\"TopConfigs\"]\n",
    "sample_sub.loc[xla_random.index, \"TopConfigs\"] = xla_random[\"TopConfigs\"]\n",
    "sample_sub.loc[nlp_default.index, \"TopConfigs\"] = nlp_default[\"TopConfigs\"]\n",
    "sample_sub.loc[nlp_random.index, \"TopConfigs\"] = nlp_random[\"TopConfigs\"]"
   ]
  },
  {
   "cell_type": "code",
   "execution_count": 5,
   "metadata": {},
   "outputs": [],
   "source": [
    "from datetime import datetime\n",
    "\n",
    "dt = datetime.now().strftime(\"%Y%m%d%H%M%S\")\n",
    "sample_sub.reset_index().to_csv(f\"../../output/submission_{dt}.csv\", index=False)"
   ]
  }
 ],
 "metadata": {
  "kernelspec": {
   "display_name": "gfos",
   "language": "python",
   "name": "python3"
  },
  "language_info": {
   "codemirror_mode": {
    "name": "ipython",
    "version": 3
   },
   "file_extension": ".py",
   "mimetype": "text/x-python",
   "name": "python",
   "nbconvert_exporter": "python",
   "pygments_lexer": "ipython3",
   "version": "3.10.12"
  },
  "orig_nbformat": 4
 },
 "nbformat": 4,
 "nbformat_minor": 2
}
