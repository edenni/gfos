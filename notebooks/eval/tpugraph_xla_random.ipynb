{
 "cells": [
  {
   "cell_type": "code",
   "execution_count": 1,
   "metadata": {},
   "outputs": [],
   "source": [
    "import os\n",
    "\n",
    "import tqdm\n",
    "import numpy as np\n",
    "import tensorflow as tf\n",
    "import tensorflow_gnn as tfgnn\n",
    "import tensorflow_ranking as tfr\n",
    "\n",
    "from tpu_graphs.baselines.layout.data import get_npz_split, get_npz_dataset\n",
    "from tpu_graphs.baselines.layout.models import ResModel\n",
    "from gfos.data.utils import load_layout\n",
    "from gfos.metrics import metric_for_layout_collections\n"
   ]
  },
  {
   "cell_type": "code",
   "execution_count": 65,
   "metadata": {},
   "outputs": [],
   "source": [
    "data_root_dir = r\"H:\\data\\gfos\\predict-ai-model-runtime\\npz_all\\npz\\layout\\nlp\\default\\valid\"\n",
    "num_configs = 16\n",
    "max_configs = 1000\n",
    "batch_size = 8"
   ]
  },
  {
   "cell_type": "code",
   "execution_count": 3,
   "metadata": {},
   "outputs": [
    {
     "data": {
      "text/plain": [
       "[PhysicalDevice(name='/physical_device:GPU:0', device_type='GPU')]"
      ]
     },
     "execution_count": 3,
     "metadata": {},
     "output_type": "execute_result"
    }
   ],
   "source": [
    "tf.config.list_physical_devices('GPU')"
   ]
  },
  {
   "cell_type": "code",
   "execution_count": 88,
   "metadata": {},
   "outputs": [
    {
     "name": "stderr",
     "output_type": "stream",
     "text": [
      "100%|██████████| 20/20 [00:14<00:00,  1.41it/s]\n"
     ]
    }
   ],
   "source": [
    "valid_dataset = get_npz_split(\n",
    "    data_root_dir,\n",
    "    min_configs=num_configs,\n",
    "    max_configs=2000,\n",
    "    cache_dir=None,\n",
    ")"
   ]
  },
  {
   "cell_type": "code",
   "execution_count": 89,
   "metadata": {},
   "outputs": [],
   "source": [
    "def _graph_and_label(graph: tfgnn.GraphTensor):\n",
    "    # Return runtimes divded over large number: only ranking is required. The\n",
    "    # runtimes are in the 100K range\n",
    "    label = tf.cast(graph.node_sets[\"g\"][\"runtimes\"], tf.float32) / 1e7\n",
    "    return graph, label\n",
    "\n",
    "valid_ds = (\n",
    "    valid_dataset.get_graph_tensors_dataset(num_configs)\n",
    "    .batch(batch_size, drop_remainder=False)\n",
    "    .map(tfgnn.GraphTensor.merge_batch_to_components)\n",
    "    .map(_graph_and_label)\n",
    ")"
   ]
  },
  {
   "cell_type": "code",
   "execution_count": 82,
   "metadata": {},
   "outputs": [
    {
     "name": "stdout",
     "output_type": "stream",
     "text": [
      "GraphTensor(\n",
      "  context=Context(features={}, sizes=[1 1 1 1 1 1 1 1], shape=(), indices_dtype=tf.int32),\n",
      "  node_set_names=['op', 'nconfig', 'g'],\n",
      "  edge_set_names=['config', 'feed', 'g_op', 'g_config', 'sampled_config', 'sampled_feed'])\n"
     ]
    }
   ],
   "source": [
    "for graph, label in valid_ds:\n",
    "    print(graph)\n",
    "    break"
   ]
  },
  {
   "cell_type": "code",
   "execution_count": 92,
   "metadata": {},
   "outputs": [],
   "source": [
    "import gzip\n",
    "import json\n",
    "\n",
    "\n",
    "args = json.load(gzip.open(\"../../src/tpu_graphs/output/run_aaa7c9876d5bde19db56594f7334657c.jsonz\"))[\"args\"]\n",
    "\n",
    "model = ResModel(16, 101)\n",
    "sample_graph, = valid_dataset.get_graph_tensors_dataset(num_configs).take(1)  # Example graph to invoke `model.forward`.\n",
    "model.forward(sample_graph, num_configs)\n",
    "del sample_graph  # No longer need a toy example.\n",
    "\n",
    "# xla random\n",
    "# loaded = tf.keras.models.load_model(\n",
    "#     \"../../src/tpu_graphs/output/model_801628c441d4b633a0fe36b72248f8e5/\",\n",
    "#     custom_objects={\"opa_metric\": tfr.keras.metrics.OPAMetric},\n",
    "# )\n",
    "\n",
    "# xla default\n",
    "# loaded = tf.keras.models.load_model(\n",
    "#     \"../../src/tpu_graphs/output/model_5260f25ba9d0eae9c5e563a16848fd08\",\n",
    "#     custom_objects={\"opa_metric\": tfr.keras.metrics.OPAMetric},\n",
    "# )\n",
    "\n",
    "# model.forward(subconfigs_graph, num_configs=100, backprop=False)\n",
    "# # nlp default\n",
    "loaded = tf.keras.models.load_model(\n",
    "    \"../../src/tpu_graphs/output/model_aaa7c9876d5bde19db56594f7334657c\",\n",
    "    custom_objects={\"opa_metric\": tfr.keras.metrics.OPAMetric},\n",
    ")\n",
    "\n",
    "\n",
    "# for v, lv in zip(model.variables, loaded.variables):\n",
    "#     v.assign(lv.value())"
   ]
  },
  {
   "cell_type": "code",
   "execution_count": 94,
   "metadata": {},
   "outputs": [
    {
     "ename": "AssertionError",
     "evalue": "(80, 32) != (190, 32)",
     "output_type": "error",
     "traceback": [
      "\u001b[1;31m---------------------------------------------------------------------------\u001b[0m",
      "\u001b[1;31mAssertionError\u001b[0m                            Traceback (most recent call last)",
      "\u001b[1;32mg:\\projects\\gfos\\notebooks\\eval\\tpugraph_xla_random.ipynb Cell 8\u001b[0m line \u001b[0;36m5\n\u001b[0;32m      <a href='vscode-notebook-cell:/g%3A/projects/gfos/notebooks/eval/tpugraph_xla_random.ipynb#X34sZmlsZQ%3D%3D?line=2'>3</a>\u001b[0m \u001b[39massert\u001b[39;00m \u001b[39mlen\u001b[39m(target_vars) \u001b[39m==\u001b[39m \u001b[39mlen\u001b[39m(source_vars)\n\u001b[0;32m      <a href='vscode-notebook-cell:/g%3A/projects/gfos/notebooks/eval/tpugraph_xla_random.ipynb#X34sZmlsZQ%3D%3D?line=3'>4</a>\u001b[0m \u001b[39mfor\u001b[39;00m tv, sv \u001b[39min\u001b[39;00m \u001b[39mzip\u001b[39m(target_vars, source_vars):\n\u001b[1;32m----> <a href='vscode-notebook-cell:/g%3A/projects/gfos/notebooks/eval/tpugraph_xla_random.ipynb#X34sZmlsZQ%3D%3D?line=4'>5</a>\u001b[0m     \u001b[39massert\u001b[39;00m sv\u001b[39m.\u001b[39mshape \u001b[39m==\u001b[39m tv\u001b[39m.\u001b[39mshape, \u001b[39mf\u001b[39m\u001b[39m\"\u001b[39m\u001b[39m{\u001b[39;00msv\u001b[39m.\u001b[39mshape\u001b[39m}\u001b[39;00m\u001b[39m != \u001b[39m\u001b[39m{\u001b[39;00mtv\u001b[39m.\u001b[39mshape\u001b[39m}\u001b[39;00m\u001b[39m\"\u001b[39m\n\u001b[0;32m      <a href='vscode-notebook-cell:/g%3A/projects/gfos/notebooks/eval/tpugraph_xla_random.ipynb#X34sZmlsZQ%3D%3D?line=5'>6</a>\u001b[0m     tv\u001b[39m.\u001b[39massign(sv)\n",
      "\u001b[1;31mAssertionError\u001b[0m: (80, 32) != (190, 32)"
     ]
    }
   ],
   "source": [
    "target_vars = model.trainable_variables\n",
    "source_vars = loaded.trainable_variables\n",
    "assert len(target_vars) == len(source_vars)\n",
    "for tv, sv in zip(target_vars, source_vars):\n",
    "    assert sv.shape == tv.shape, f\"{sv.shape} != {tv.shape}\"\n",
    "    tv.assign(sv)"
   ]
  },
  {
   "cell_type": "code",
   "execution_count": 75,
   "metadata": {},
   "outputs": [
    {
     "name": "stderr",
     "output_type": "stream",
     "text": [
      "Inference:   0%|          | 0/20 [00:00<?, ?it/s]\n"
     ]
    },
    {
     "ename": "AttributeError",
     "evalue": "'ResModel' object has no attribute 'forward'",
     "output_type": "error",
     "traceback": [
      "\u001b[1;31m---------------------------------------------------------------------------\u001b[0m",
      "\u001b[1;31mAttributeError\u001b[0m                            Traceback (most recent call last)",
      "\u001b[1;32mg:\\projects\\gfos\\notebooks\\eval\\tpugraph_xla_random.ipynb Cell 8\u001b[0m line \u001b[0;36m4\n\u001b[0;32m     <a href='vscode-notebook-cell:/g%3A/projects/gfos/notebooks/eval/tpugraph_xla_random.ipynb#X10sZmlsZQ%3D%3D?line=17'>18</a>\u001b[0m     node_set_g \u001b[39m=\u001b[39m graph\u001b[39m.\u001b[39mnode_sets[\u001b[39m\"\u001b[39m\u001b[39mg\u001b[39m\u001b[39m\"\u001b[39m]\n\u001b[0;32m     <a href='vscode-notebook-cell:/g%3A/projects/gfos/notebooks/eval/tpugraph_xla_random.ipynb#X10sZmlsZQ%3D%3D?line=18'>19</a>\u001b[0m     subconfigs_graph \u001b[39m=\u001b[39m tfgnn\u001b[39m.\u001b[39mGraphTensor\u001b[39m.\u001b[39mfrom_pieces(\n\u001b[0;32m     <a href='vscode-notebook-cell:/g%3A/projects/gfos/notebooks/eval/tpugraph_xla_random.ipynb#X10sZmlsZQ%3D%3D?line=19'>20</a>\u001b[0m         edge_sets\u001b[39m=\u001b[39mgraph\u001b[39m.\u001b[39medge_sets,\n\u001b[0;32m     <a href='vscode-notebook-cell:/g%3A/projects/gfos/notebooks/eval/tpugraph_xla_random.ipynb#X10sZmlsZQ%3D%3D?line=20'>21</a>\u001b[0m         node_sets\u001b[39m=\u001b[39m{\n\u001b[1;32m   (...)\u001b[0m\n\u001b[0;32m     <a href='vscode-notebook-cell:/g%3A/projects/gfos/notebooks/eval/tpugraph_xla_random.ipynb#X10sZmlsZQ%3D%3D?line=38'>39</a>\u001b[0m         },\n\u001b[0;32m     <a href='vscode-notebook-cell:/g%3A/projects/gfos/notebooks/eval/tpugraph_xla_random.ipynb#X10sZmlsZQ%3D%3D?line=39'>40</a>\u001b[0m     )\n\u001b[1;32m---> <a href='vscode-notebook-cell:/g%3A/projects/gfos/notebooks/eval/tpugraph_xla_random.ipynb#X10sZmlsZQ%3D%3D?line=40'>41</a>\u001b[0m     h \u001b[39m=\u001b[39m model\u001b[39m.\u001b[39;49mforward(\n\u001b[0;32m     <a href='vscode-notebook-cell:/g%3A/projects/gfos/notebooks/eval/tpugraph_xla_random.ipynb#X10sZmlsZQ%3D%3D?line=41'>42</a>\u001b[0m         subconfigs_graph, num_configs\u001b[39m=\u001b[39mend_i\u001b[39m-\u001b[39mi, backprop\u001b[39m=\u001b[39m\u001b[39mFalse\u001b[39;00m\n\u001b[0;32m     <a href='vscode-notebook-cell:/g%3A/projects/gfos/notebooks/eval/tpugraph_xla_random.ipynb#X10sZmlsZQ%3D%3D?line=42'>43</a>\u001b[0m     )\n\u001b[0;32m     <a href='vscode-notebook-cell:/g%3A/projects/gfos/notebooks/eval/tpugraph_xla_random.ipynb#X10sZmlsZQ%3D%3D?line=43'>44</a>\u001b[0m     all_scores\u001b[39m.\u001b[39mappend(h[\u001b[39m0\u001b[39m])\n\u001b[0;32m     <a href='vscode-notebook-cell:/g%3A/projects/gfos/notebooks/eval/tpugraph_xla_random.ipynb#X10sZmlsZQ%3D%3D?line=45'>46</a>\u001b[0m all_scores \u001b[39m=\u001b[39m tf\u001b[39m.\u001b[39mconcat(all_scores, axis\u001b[39m=\u001b[39m\u001b[39m0\u001b[39m)\n",
      "\u001b[1;31mAttributeError\u001b[0m: 'ResModel' object has no attribute 'forward'"
     ]
    }
   ],
   "source": [
    "_INFERENCE_CONFIGS_BATCH_SIZE = 100\n",
    "\n",
    "test_rankings = []\n",
    "\n",
    "assert valid_dataset.graph_id is not None\n",
    "\n",
    "for graph in tqdm.tqdm(\n",
    "    valid_dataset.iter_graph_tensors(),\n",
    "    total=valid_dataset.graph_id.shape[-1],\n",
    "    desc=\"Inference\",\n",
    "):\n",
    "    num_configs = graph.node_sets[\"g\"][\"runtimes\"].shape[-1]\n",
    "    all_scores = []\n",
    "\n",
    "    for i in range(0, num_configs, _INFERENCE_CONFIGS_BATCH_SIZE):\n",
    "        end_i = min(i + _INFERENCE_CONFIGS_BATCH_SIZE, num_configs)\n",
    "        # Take a cut of the configs.\n",
    "        node_set_g = graph.node_sets[\"g\"]\n",
    "        subconfigs_graph = tfgnn.GraphTensor.from_pieces(\n",
    "            edge_sets=graph.edge_sets,\n",
    "            node_sets={\n",
    "                \"op\": graph.node_sets[\"op\"],\n",
    "                \"nconfig\": tfgnn.NodeSet.from_fields(\n",
    "                    sizes=graph.node_sets[\"nconfig\"].sizes,\n",
    "                    features={\n",
    "                        \"feats\": graph.node_sets[\"nconfig\"][\"feats\"][\n",
    "                            :, i:end_i\n",
    "                        ],\n",
    "                    },\n",
    "                ),\n",
    "                \"g\": tfgnn.NodeSet.from_fields(\n",
    "                    sizes=tf.constant([1]),\n",
    "                    features={\n",
    "                        \"graph_id\": node_set_g[\"graph_id\"],\n",
    "                        \"runtimes\": node_set_g[\"runtimes\"][:, i:end_i],\n",
    "                        \"kept_node_ratio\": node_set_g[\"kept_node_ratio\"],\n",
    "                    },\n",
    "                ),\n",
    "            },\n",
    "        )\n",
    "        h = model.forward(\n",
    "            subconfigs_graph, num_configs=end_i-i, backprop=False\n",
    "        )\n",
    "        all_scores.append(h[0])\n",
    "\n",
    "    all_scores = tf.concat(all_scores, axis=0)\n",
    "    graph_id = graph.node_sets[\"g\"][\"graph_id\"][0].numpy().decode()\n",
    "    sorted_indices = (\n",
    "        tf.strings.join(tf.strings.as_string(tf.argsort(all_scores)), \";\")\n",
    "        .numpy()\n",
    "        .decode()\n",
    "    )\n",
    "    test_rankings.append((graph_id, sorted_indices))"
   ]
  },
  {
   "cell_type": "code",
   "execution_count": null,
   "metadata": {},
   "outputs": [],
   "source": [
    "LAYOUT_DIR = r\"H:\\data\\gfos\\predict-ai-model-runtime\\npz_all\\npz\\layout\"\n",
    "layouts = load_layout(LAYOUT_DIR, model_type=\"nlp\", compile_type=\"default\")\n"
   ]
  },
  {
   "cell_type": "code",
   "execution_count": null,
   "metadata": {},
   "outputs": [],
   "source": [
    "opa_metric = tfr.keras.metrics.OPAMetric()"
   ]
  },
  {
   "cell_type": "code",
   "execution_count": null,
   "metadata": {},
   "outputs": [],
   "source": [
    "pred_dict = dict(test_rankings)\n",
    "scores = []\n",
    "opas = []\n",
    "\n",
    "\n",
    "for file in layouts[\"valid\"]:\n",
    "    filename = os.path.basename(file)[:-4]\n",
    "    idx = pred_dict[filename].split(\";\")\n",
    "    pred = [int(i) for i in idx]\n",
    "    \n",
    "    runtime = np.load(file)[\"config_runtime\"]\n",
    "    gt = np.argsort(runtime)\n",
    "\n",
    "    score = metric_for_layout_collections(pred, gt[:len(pred)])\n",
    "    opa = opa_metric(pred, gt)\n",
    "    scores.append(score)\n",
    "    opas.append(opa)\n"
   ]
  },
  {
   "cell_type": "code",
   "execution_count": null,
   "metadata": {},
   "outputs": [],
   "source": []
  },
  {
   "cell_type": "code",
   "execution_count": null,
   "metadata": {},
   "outputs": [],
   "source": [
    "gt"
   ]
  },
  {
   "cell_type": "code",
   "execution_count": null,
   "metadata": {},
   "outputs": [],
   "source": [
    "scores"
   ]
  },
  {
   "cell_type": "code",
   "execution_count": null,
   "metadata": {},
   "outputs": [],
   "source": [
    "np.mean(scores)"
   ]
  },
  {
   "cell_type": "code",
   "execution_count": null,
   "metadata": {},
   "outputs": [],
   "source": []
  }
 ],
 "metadata": {
  "kernelspec": {
   "display_name": "gfos",
   "language": "python",
   "name": "python3"
  },
  "language_info": {
   "codemirror_mode": {
    "name": "ipython",
    "version": 3
   },
   "file_extension": ".py",
   "mimetype": "text/x-python",
   "name": "python",
   "nbconvert_exporter": "python",
   "pygments_lexer": "ipython3",
   "version": "3.10.12"
  },
  "orig_nbformat": 4
 },
 "nbformat": 4,
 "nbformat_minor": 2
}
