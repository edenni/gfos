{
 "cells": [
  {
   "cell_type": "code",
   "execution_count": 1,
   "metadata": {},
   "outputs": [],
   "source": [
    "import torch\n",
    "from tqdm import tqdm\n",
    "\n",
    "from gfos.model.gnn import LayoutModel\n",
    "from gfos.data.dataset import LayoutDataset, Normalizer\n",
    "from gfos.data.utils import load_layout"
   ]
  },
  {
   "cell_type": "code",
   "execution_count": 2,
   "metadata": {},
   "outputs": [],
   "source": [
    "LAYOUT_DIR = r\"H:\\data\\gfos\\predict-ai-model-runtime\\npz_all\\npz\\layout\"\n",
    "NORMALIZER_PATH = \"../../data/normalizer.json\"\n",
    "\n",
    "SOURCE = \"nlp\"\n",
    "SEARCH = \"default\""
   ]
  },
  {
   "cell_type": "code",
   "execution_count": 3,
   "metadata": {},
   "outputs": [
    {
     "name": "stderr",
     "output_type": "stream",
     "text": [
      "Loading data:   0%|          | 0/20 [00:00<?, ?it/s]"
     ]
    },
    {
     "name": "stderr",
     "output_type": "stream",
     "text": [
      "Loading data: 100%|██████████| 20/20 [00:28<00:00,  1.43s/it, talking-heads_large_batch_size_16_train]                       \n"
     ]
    }
   ],
   "source": [
    "normalizer = Normalizer.from_json(NORMALIZER_PATH, SOURCE, SEARCH)\n",
    "\n",
    "layout_data = load_layout(\n",
    "    LAYOUT_DIR,\n",
    "    model_type=SOURCE,\n",
    "    compile_type=SEARCH,\n",
    ")\n",
    "\n",
    "test_dataset = LayoutDataset(\n",
    "    layout_data[\"valid\"],\n",
    "    normalizer=normalizer,\n",
    ")"
   ]
  },
  {
   "cell_type": "code",
   "execution_count": 4,
   "metadata": {},
   "outputs": [],
   "source": [
    "model = LayoutModel(node_feat_dim=112, node_config_dim=14, config_neighbor_layer=\"GATConv\", dropout=0.2)\n",
    "state_dict = torch.load(r\"G:\\projects\\gfos\\logs\\pipeline\\nlp_ensemble\\multiruns\\2023-10-27_10-58-40\\0\\wandb\\run-20231027_110222-0ytzj3l1\\files\\1679_0.9513.pth\")\n",
    "model.load_state_dict(state_dict[\"state_dict\"])\n",
    "model.eval().cuda();"
   ]
  },
  {
   "cell_type": "code",
   "execution_count": 12,
   "metadata": {},
   "outputs": [
    {
     "name": "stdout",
     "output_type": "stream",
     "text": [
      "Resetting Linear(in_features=64, out_features=64, bias=False)\n",
      "Resetting Linear(in_features=64, out_features=64, bias=False)\n",
      "Resetting Linear(in_features=64, out_features=1, bias=False)\n"
     ]
    }
   ],
   "source": [
    "for layer in model.dense.children():\n",
    "    if hasattr(layer, \"reset_parameters\"):\n",
    "        print(f\"Resetting {layer}\")\n",
    "        layer.reset_parameters()"
   ]
  },
  {
   "cell_type": "code",
   "execution_count": 13,
   "metadata": {},
   "outputs": [
    {
     "name": "stderr",
     "output_type": "stream",
     "text": [
      "Disable config edge weight\n",
      "Disable config edge weight\n"
     ]
    },
    {
     "data": {
      "text/plain": [
       "<All keys matched successfully>"
      ]
     },
     "execution_count": 13,
     "metadata": {},
     "output_type": "execute_result"
    }
   ],
   "source": [
    "# model1 = LayoutModel(node_feat_dim=112, node_config_dim=14, config_neighbor_layer=\"GATConv\", dropout=0.2)\n",
    "# state_dict = torch.load(r\"G:\\projects\\gfos\\logs\\pipeline\\layout_nlp_default_20231024_020455\\runs\\2023-10-24_02-04-55\\wandb\\run-20231024_020902-b7lcp2vw\\files\\1119_0.4991.pth\")\n",
    "# model1.load_state_dict(state_dict[\"state_dict\"])\n",
    "\n",
    "# model2 = LayoutModel(node_feat_dim=112, node_config_dim=14, config_neighbor_layer=\"GATConv\", dropout=0.2)\n",
    "# state_dict = torch.load(r\"G:\\projects\\gfos\\logs\\pipeline\\layout_nlp_default_20231017_114957\\runs\\2023-10-17_11-49-57\\wandb\\run-20231017_115319-2el0weqq\\files\\1239_0.5009.pth\")\n",
    "# model2.load_state_dict(state_dict[\"state_dict\"])\n"
   ]
  },
  {
   "cell_type": "code",
   "execution_count": 1,
   "metadata": {},
   "outputs": [
    {
     "ename": "NameError",
     "evalue": "name 'model' is not defined",
     "output_type": "error",
     "traceback": [
      "\u001b[1;31m---------------------------------------------------------------------------\u001b[0m",
      "\u001b[1;31mNameError\u001b[0m                                 Traceback (most recent call last)",
      "\u001b[1;32mg:\\projects\\gfos\\notebooks\\eval\\ensemble_pipeline_eval.ipynb Cell 6\u001b[0m line \u001b[0;36m1\n\u001b[1;32m----> <a href='vscode-notebook-cell:/g%3A/projects/gfos/notebooks/eval/ensemble_pipeline_eval.ipynb#X13sZmlsZQ%3D%3D?line=0'>1</a>\u001b[0m model\n",
      "\u001b[1;31mNameError\u001b[0m: name 'model' is not defined"
     ]
    }
   ],
   "source": [
    "model"
   ]
  },
  {
   "cell_type": "code",
   "execution_count": 14,
   "metadata": {},
   "outputs": [],
   "source": [
    "model1 = model1.eval().cuda()\n",
    "model2 = model2.eval().cuda()\n",
    "models = [model1, model2]"
   ]
  },
  {
   "cell_type": "code",
   "execution_count": 5,
   "metadata": {},
   "outputs": [],
   "source": [
    "from gfos.metrics import LayoutMetrics"
   ]
  },
  {
   "cell_type": "code",
   "execution_count": 6,
   "metadata": {},
   "outputs": [
    {
     "name": "stderr",
     "output_type": "stream",
     "text": [
      "100%|██████████| 20/20 [03:27<00:00, 10.38s/it]\n"
     ]
    }
   ],
   "source": [
    "device = \"cuda\"\n",
    "batch_size = 100\n",
    "\n",
    "results = {}\n",
    "metric = LayoutMetrics()\n",
    "\n",
    "with torch.no_grad():\n",
    "    for record in tqdm(test_dataset):\n",
    "        model_id = record[\"model_id\"]\n",
    "        node_feat = record[\"node_feat\"]\n",
    "        node_opcode = record[\"node_opcode\"]\n",
    "        edge_index = record[\"edge_index\"]\n",
    "        node_config_feat = record[\"node_config_feat\"]\n",
    "        node_config_ids = record[\"node_config_ids\"]\n",
    "        config_runtime = record[\"config_runtime\"]\n",
    "        config_edge_index = record[\"config_edge_index\"]\n",
    "        config_edge_weight = record[\"config_edge_weight\"]\n",
    "\n",
    "        (\n",
    "            node_feat,\n",
    "            node_opcode,\n",
    "            edge_index,\n",
    "            node_config_feat,\n",
    "            node_config_ids,\n",
    "            config_edge_index,\n",
    "            config_edge_weight,\n",
    "        ) = (\n",
    "            node_feat.to(device),\n",
    "            node_opcode.to(device),\n",
    "            edge_index.to(device),\n",
    "            node_config_feat.to(device),\n",
    "            node_config_ids.to(device),\n",
    "            config_edge_index.to(device),\n",
    "            config_edge_weight.to(device),\n",
    "        )\n",
    "\n",
    "        c = len(config_runtime)\n",
    "\n",
    "        outs = []\n",
    "        # for model in models:\n",
    "            # outs = []\n",
    "            \n",
    "        for i in range(0, c, batch_size):\n",
    "            end_i = min(i + batch_size, c)\n",
    "            out: torch.Tensor = model(\n",
    "                node_feat,\n",
    "                node_opcode,\n",
    "                edge_index,\n",
    "                node_config_feat[i:end_i],\n",
    "                node_config_ids,\n",
    "                config_edge_index,\n",
    "            )\n",
    "            outs.append(out.detach().cpu())\n",
    "        outs = torch.cat(outs)\n",
    "            # blend_outs.append(outs)\n",
    "        # outs = torch.stack(blend_outs).mean(dim=0)\n",
    "        metric.add(model_id, outs.numpy(), config_runtime.numpy())\n",
    "        results[model_id] = torch.argsort(outs).cpu().numpy()"
   ]
  },
  {
   "cell_type": "code",
   "execution_count": 8,
   "metadata": {},
   "outputs": [
    {
     "data": {
      "text/plain": [
       "{'raw_kendall': 0.4696834004353601,\n",
       " 'index_kendall': 0.4696658273174156,\n",
       " 'top100_error': 0.998,\n",
       " 'top500_error': 0.9839000000000002,\n",
       " 'kendall_albert_en_xlarge_batch_size_16_test': 0.49129285977373977,\n",
       " 'kendall_bert_en_cased_L-12_H-768_A-12_batch_size_16_test': 0.5492576655600119,\n",
       " 'kendall_bert_multi_cased_L-12_H-768_A-12_batch_size_16_train': 0.44564061571086705,\n",
       " 'kendall_small_bert_bert_en_uncased_L-10_H-128_A-2_batch_size_32_test': 0.5683349755090917,\n",
       " 'kendall_small_bert_bert_en_uncased_L-10_H-128_A-2_batch_size_64_train': 0.2971721520149192,\n",
       " 'kendall_small_bert_bert_en_uncased_L-10_H-256_A-4_batch_size_32_test': 0.5492520412041304,\n",
       " 'kendall_small_bert_bert_en_uncased_L-10_H-256_A-4_batch_size_64_train': 0.3701117356517411,\n",
       " 'kendall_small_bert_bert_en_uncased_L-10_H-512_A-8_batch_size_64_test': 0.40175130499584977,\n",
       " 'kendall_small_bert_bert_en_uncased_L-10_H-768_A-12_batch_size_16_train': 0.44908342283413644,\n",
       " 'kendall_small_bert_bert_en_uncased_L-10_H-768_A-12_batch_size_32_test': 0.4967790810284509,\n",
       " 'kendall_small_bert_bert_en_uncased_L-12_H-768_A-12_batch_size_64_train': 0.4499500961306116,\n",
       " 'kendall_small_bert_bert_en_uncased_L-2_H-256_A-4_batch_size_32_train': 0.4895490934465187,\n",
       " 'kendall_small_bert_bert_en_uncased_L-4_H-256_A-4_batch_size_32_train': 0.5148036920145874,\n",
       " 'kendall_small_bert_bert_en_uncased_L-4_H-512_A-8_batch_size_32_train': 0.388705266020699,\n",
       " 'kendall_small_bert_bert_en_uncased_L-6_H-256_A-4_batch_size_16_train': 0.4626607785997502,\n",
       " 'kendall_small_bert_bert_en_uncased_L-6_H-256_A-4_batch_size_64_train': 0.447200295622602,\n",
       " 'kendall_small_bert_bert_en_uncased_L-6_H-512_A-8_batch_size_64_test': 0.479963952403225,\n",
       " 'kendall_small_bert_bert_en_uncased_L-6_H-768_A-12_batch_size_16_test': 0.5156271045495776,\n",
       " 'kendall_small_bert_bert_en_uncased_L-6_H-768_A-12_batch_size_32_train': 0.45908867269853054,\n",
       " 'kendall_talking-heads_large_batch_size_16_train': 0.5670917405792703}"
      ]
     },
     "execution_count": 8,
     "metadata": {},
     "output_type": "execute_result"
    }
   ],
   "source": [
    "metric.compute_scores()"
   ]
  },
  {
   "cell_type": "code",
   "execution_count": 20,
   "metadata": {},
   "outputs": [],
   "source": [
    "with open(f\"../../output/{SOURCE}_{SEARCH}.csv\", \"w\") as f:\n",
    "    f.write(\"ID,TopConfigs\\n\")\n",
    "    for k, v in results.items():\n",
    "        model_id = f\"layout:{SOURCE}:{SEARCH}:\"+k\n",
    "        values = \";\".join([str(i) for i in v])\n",
    "        f.write(f\"{model_id},{values}\\n\")\n"
   ]
  }
 ],
 "metadata": {
  "kernelspec": {
   "display_name": "gfos",
   "language": "python",
   "name": "python3"
  },
  "language_info": {
   "codemirror_mode": {
    "name": "ipython",
    "version": 3
   },
   "file_extension": ".py",
   "mimetype": "text/x-python",
   "name": "python",
   "nbconvert_exporter": "python",
   "pygments_lexer": "ipython3",
   "version": "3.10.12"
  }
 },
 "nbformat": 4,
 "nbformat_minor": 2
}
