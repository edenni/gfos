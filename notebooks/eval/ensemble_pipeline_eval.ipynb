{
 "cells": [
  {
   "cell_type": "code",
   "execution_count": 10,
   "metadata": {},
   "outputs": [],
   "source": [
    "import torch\n",
    "from tqdm import tqdm\n",
    "\n",
    "from gfos.model.gnn import LayoutModel\n",
    "from gfos.data.dataset import LayoutDataset, Normalizer\n",
    "from gfos.data.utils import load_layout"
   ]
  },
  {
   "cell_type": "code",
   "execution_count": 11,
   "metadata": {},
   "outputs": [],
   "source": [
    "LAYOUT_DIR = r\"H:\\data\\gfos\\predict-ai-model-runtime\\npz_all\\npz\\layout\"\n",
    "NORMALIZER_PATH = \"../../data/normalizer.json\"\n",
    "\n",
    "SOURCE = \"nlp\"\n",
    "SEARCH = \"default\""
   ]
  },
  {
   "cell_type": "code",
   "execution_count": 12,
   "metadata": {},
   "outputs": [
    {
     "name": "stderr",
     "output_type": "stream",
     "text": [
      "Loading data:   0%|          | 0/17 [00:00<?, ?it/s, 016ac66a44a906a695afd2228509046a]g:\\projects\\gfos\\src\\gfos\\data\\dataset.py:144: RuntimeWarning: invalid value encountered in divide\n",
      "  runtime = (runtime - runtime.mean()) / runtime.std()\n",
      "Loading data: 100%|██████████| 17/17 [00:01<00:00,  8.67it/s, f6c146fc5cf10be4f3accbaca9897311]\n"
     ]
    }
   ],
   "source": [
    "normalizer = Normalizer.from_json(NORMALIZER_PATH, SOURCE, SEARCH)\n",
    "\n",
    "layout_data = load_layout(\n",
    "    LAYOUT_DIR,\n",
    "    model_type=SOURCE,\n",
    "    compile_type=SEARCH,\n",
    ")\n",
    "\n",
    "test_dataset = LayoutDataset(\n",
    "    layout_data[\"test\"],\n",
    "    normalizer=normalizer,\n",
    ")"
   ]
  },
  {
   "cell_type": "code",
   "execution_count": 13,
   "metadata": {},
   "outputs": [
    {
     "name": "stderr",
     "output_type": "stream",
     "text": [
      "Disable config edge weight\n",
      "Disable config edge weight\n"
     ]
    },
    {
     "data": {
      "text/plain": [
       "<All keys matched successfully>"
      ]
     },
     "execution_count": 13,
     "metadata": {},
     "output_type": "execute_result"
    }
   ],
   "source": [
    "model1 = LayoutModel(node_feat_dim=112, node_config_dim=14, config_neighbor_layer=\"GATConv\", dropout=0.2)\n",
    "state_dict = torch.load(r\"G:\\projects\\gfos\\logs\\pipeline\\layout_nlp_default_20231024_020455\\runs\\2023-10-24_02-04-55\\wandb\\run-20231024_020902-b7lcp2vw\\files\\1119_0.4991.pth\")\n",
    "model1.load_state_dict(state_dict[\"state_dict\"])\n",
    "\n",
    "model2 = LayoutModel(node_feat_dim=112, node_config_dim=14, config_neighbor_layer=\"GATConv\", dropout=0.2)\n",
    "state_dict = torch.load(r\"G:\\projects\\gfos\\logs\\pipeline\\layout_nlp_default_20231017_114957\\runs\\2023-10-17_11-49-57\\wandb\\run-20231017_115319-2el0weqq\\files\\1239_0.5009.pth\")\n",
    "model2.load_state_dict(state_dict[\"state_dict\"])\n"
   ]
  },
  {
   "cell_type": "code",
   "execution_count": 14,
   "metadata": {},
   "outputs": [],
   "source": [
    "model1 = model1.eval().cuda()\n",
    "model2 = model2.eval().cuda()\n",
    "models = [model1, model2]"
   ]
  },
  {
   "cell_type": "code",
   "execution_count": 15,
   "metadata": {},
   "outputs": [],
   "source": [
    "from gfos.metrics import LayoutMetrics"
   ]
  },
  {
   "cell_type": "code",
   "execution_count": 19,
   "metadata": {},
   "outputs": [
    {
     "name": "stderr",
     "output_type": "stream",
     "text": [
      "100%|██████████| 17/17 [00:04<00:00,  3.58it/s]\n"
     ]
    }
   ],
   "source": [
    "device = \"cuda\"\n",
    "batch_size = 300\n",
    "\n",
    "results = {}\n",
    "metric = LayoutMetrics()\n",
    "\n",
    "with torch.no_grad():\n",
    "    for record in tqdm(test_dataset):\n",
    "        model_id = record[\"model_id\"]\n",
    "        node_feat = record[\"node_feat\"]\n",
    "        node_opcode = record[\"node_opcode\"]\n",
    "        edge_index = record[\"edge_index\"]\n",
    "        node_config_feat = record[\"node_config_feat\"]\n",
    "        node_config_ids = record[\"node_config_ids\"]\n",
    "        config_runtime = record[\"config_runtime\"]\n",
    "        config_edge_index = record[\"config_edge_index\"]\n",
    "        config_edge_weight = record[\"config_edge_weight\"]\n",
    "\n",
    "        (\n",
    "            node_feat,\n",
    "            node_opcode,\n",
    "            edge_index,\n",
    "            node_config_feat,\n",
    "            node_config_ids,\n",
    "            config_edge_index,\n",
    "            config_edge_weight,\n",
    "        ) = (\n",
    "            node_feat.to(device),\n",
    "            node_opcode.to(device),\n",
    "            edge_index.to(device),\n",
    "            node_config_feat.to(device),\n",
    "            node_config_ids.to(device),\n",
    "            config_edge_index.to(device),\n",
    "            config_edge_weight.to(device),\n",
    "        )\n",
    "\n",
    "        c = len(config_runtime)\n",
    "\n",
    "        blend_outs = []\n",
    "        for model in models:\n",
    "            outs = []\n",
    "            \n",
    "            for i in range(0, c, batch_size):\n",
    "                end_i = min(i + batch_size, c)\n",
    "                out: torch.Tensor = model(\n",
    "                    node_feat,\n",
    "                    node_opcode,\n",
    "                    edge_index,\n",
    "                    node_config_feat[i:end_i],\n",
    "                    node_config_ids,\n",
    "                    config_edge_index,\n",
    "                    config_edge_weight,\n",
    "                )\n",
    "                outs.append(out.detach().cpu())\n",
    "            outs = torch.cat(outs)\n",
    "            blend_outs.append(outs)\n",
    "        outs = torch.stack(blend_outs).mean(dim=0)\n",
    "        metric.add(model_id, outs.numpy(), config_runtime.numpy())\n",
    "        results[model_id] = torch.argsort(outs).cpu().numpy()"
   ]
  },
  {
   "cell_type": "code",
   "execution_count": null,
   "metadata": {},
   "outputs": [],
   "source": [
    "metric.compute_scores()"
   ]
  },
  {
   "cell_type": "code",
   "execution_count": 20,
   "metadata": {},
   "outputs": [],
   "source": [
    "with open(f\"../../output/{SOURCE}_{SEARCH}.csv\", \"w\") as f:\n",
    "    f.write(\"ID,TopConfigs\\n\")\n",
    "    for k, v in results.items():\n",
    "        model_id = f\"layout:{SOURCE}:{SEARCH}:\"+k\n",
    "        values = \";\".join([str(i) for i in v])\n",
    "        f.write(f\"{model_id},{values}\\n\")\n"
   ]
  }
 ],
 "metadata": {
  "kernelspec": {
   "display_name": "gfos",
   "language": "python",
   "name": "python3"
  },
  "language_info": {
   "codemirror_mode": {
    "name": "ipython",
    "version": 3
   },
   "file_extension": ".py",
   "mimetype": "text/x-python",
   "name": "python",
   "nbconvert_exporter": "python",
   "pygments_lexer": "ipython3",
   "version": "3.10.12"
  }
 },
 "nbformat": 4,
 "nbformat_minor": 2
}
