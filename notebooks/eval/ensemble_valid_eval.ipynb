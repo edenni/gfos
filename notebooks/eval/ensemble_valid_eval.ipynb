{
 "cells": [
  {
   "cell_type": "code",
   "execution_count": 1,
   "metadata": {},
   "outputs": [],
   "source": [
    "import pickle\n",
    "from pathlib import Path\n",
    "import numpy as np\n",
    "\n",
    "\n",
    "from gfos.data.utils import load_layout\n",
    "from gfos.metrics import LayoutMetrics\n",
    "LAYOUT_DIR = r\"H:\\data\\gfos\\predict-ai-model-runtime\\npz_all\\npz\\layout\"\n",
    "# LAYOUT_DIR = \"../../input/npz_all/npz/layout/\""
   ]
  },
  {
   "cell_type": "code",
   "execution_count": 2,
   "metadata": {},
   "outputs": [],
   "source": [
    "files = load_layout(LAYOUT_DIR, compile_type=\"default\", model_type=\"xla\")"
   ]
  },
  {
   "cell_type": "code",
   "execution_count": 5,
   "metadata": {},
   "outputs": [],
   "source": [
    "# output_files = [\n",
    "#     # \"../../output/val_outs_1399.plk\",\n",
    "#     r\"G:\\projects\\gfos\\logs\\pipeline\\nlp_ensemble\\multiruns\\2023-10-27_10-58-40\\0\\wandb\\run-20231027_110222-0ytzj3l1\\files\\val_outs_1679.plk\",\n",
    "#     r\"G:\\projects\\gfos\\logs\\pipeline\\nlp_ensemble\\multiruns\\2023-10-28_10-34-53\\0\\wandb\\run-20231028_103842-r0srrmo6\\files\\val_outs_1879.plk\",\n",
    "#     r\"G:\\projects\\gfos\\logs\\pipeline\\nlp_ensemble\\multiruns\\2023-10-28_10-34-53\\1\\wandb\\run-20231029_093944-q2gyfl1h\\files\\val_outs_1999.plk\",\n",
    "# ]"
   ]
  },
  {
   "cell_type": "code",
   "execution_count": 6,
   "metadata": {},
   "outputs": [],
   "source": [
    "# output_files = [\n",
    "#     \"/home/paperspace/projects/gfos/logs/pipeline/xla_ensemble/multiruns/2023-10-27_09-57-53/0/wandb/run-20231027_095939-4sy5nvb5/files/val_outs_199.plk\",\n",
    "#     \"/home/paperspace/projects/gfos/logs/pipeline/xla_ensemble/multiruns/2023-10-27_09-57-53/1/wandb/run-20231027_105428-y3wji3ol/files/val_outs_119.plk\",\n",
    "#     \"/home/paperspace/projects/gfos/logs/pipeline/xla_ensemble/multiruns/2023-10-27_09-57-53/2/wandb/run-20231027_113955-th4j83vm/files/val_outs_279.plk\",\n",
    "#     \"/home/paperspace/projects/gfos/logs/pipeline/xla_ensemble/multiruns/2023-10-27_09-57-53/3/wandb/run-20231027_124833-tohjim65/files/val_outs_239.plk\",\n",
    "#     \"/home/paperspace/projects/gfos/logs/pipeline/xla_ensemble/multiruns/2023-10-27_09-57-53/4/wandb/run-20231027_135136-b02dvyu9/files/val_outs_279.plk\",\n",
    "# ]"
   ]
  },
  {
   "cell_type": "code",
   "execution_count": null,
   "metadata": {},
   "outputs": [],
   "source": [
    "outs = []\n",
    "for file in output_files:\n",
    "    with open(file, \"rb\") as f:\n",
    "        data = pickle.load(f)\n",
    "    outs.append(data)"
   ]
  },
  {
   "cell_type": "code",
   "execution_count": 9,
   "metadata": {},
   "outputs": [],
   "source": [
    "metrics = LayoutMetrics()\n",
    "\n",
    "for file in files[\"test\"]:\n",
    "    model_id = Path(file).stem\n",
    "    target = np.load(file)[\"config_runtime\"]\n",
    "    \n",
    "    pred = []\n",
    "    for out in outs:\n",
    "        pred.append(out[model_id])\n",
    "    pred = np.stack(pred).mean(axis=0)\n",
    "    \n",
    "    metrics.add(model_id, pred, target)"
   ]
  },
  {
   "cell_type": "code",
   "execution_count": null,
   "metadata": {},
   "outputs": [],
   "source": [
    "metrics.compute_scores()"
   ]
  },
  {
   "cell_type": "code",
   "execution_count": 8,
   "metadata": {},
   "outputs": [
    {
     "data": {
      "text/plain": [
       "{'raw_kendall': 0.43394463636419883,\n",
       " 'index_kendall': 0.4339382982330303,\n",
       " 'top100_error': 0.9857142857142858,\n",
       " 'top500_error': 0.872,\n",
       " 'kendall_inception_v3_batch_128_train': 0.6521144803324214,\n",
       " 'kendall_resnet50.4x4.fp16': 0.5332952007408618,\n",
       " 'kendall_resnet_v1_50_official_batch_128_bf16': 0.43205917507904407,\n",
       " 'kendall_bert_pretraining.4x4.fp16': 0.5127394577754251,\n",
       " 'kendall_unet_3d.4x4.bf16': 0.1736871835533237,\n",
       " 'kendall_tf2_bert_pretrain_dynamic_batch_size': 0.3674132048937276,\n",
       " 'kendall_mlperf_bert_batch_24_2x2': 0.36625938525640855}"
      ]
     },
     "execution_count": 8,
     "metadata": {},
     "output_type": "execute_result"
    }
   ],
   "source": [
    "# Kawashima 5-folds blending\n",
    "\n",
    "{'raw_kendall': 0.43394463636419883,\n",
    " 'index_kendall': 0.4339382982330303,\n",
    " 'top100_error': 0.9857142857142858,\n",
    " 'top500_error': 0.872,\n",
    " 'kendall_inception_v3_batch_128_train': 0.6521144803324214,\n",
    " 'kendall_resnet50.4x4.fp16': 0.5332952007408618,\n",
    " 'kendall_resnet_v1_50_official_batch_128_bf16': 0.43205917507904407,\n",
    " 'kendall_bert_pretraining.4x4.fp16': 0.5127394577754251,\n",
    " 'kendall_unet_3d.4x4.bf16': 0.1736871835533237,\n",
    " 'kendall_tf2_bert_pretrain_dynamic_batch_size': 0.3674132048937276,\n",
    " 'kendall_mlperf_bert_batch_24_2x2': 0.36625938525640855}\n",
    "\n",
    "# Ni 5-folds blending\n",
    "\n",
    "{'raw_kendall': 0.44919012412011183,\n",
    " 'index_kendall': 0.44917779441411504,\n",
    " 'top100_error': 0.9500000000000001,\n",
    " 'top500_error': 0.878857142857143,\n",
    " 'kendall_bert_pretraining.4x4.fp16': 0.5236042774807833,\n",
    " 'kendall_inception_v3_batch_128_train': 0.6507460755563222,\n",
    " 'kendall_mlperf_bert_batch_24_2x2': 0.39715920177305986,\n",
    " 'kendall_resnet50.4x4.fp16': 0.5626951090944631,\n",
    " 'kendall_resnet_v1_50_official_batch_128_bf16': 0.43222062028529196,\n",
    " 'kendall_tf2_bert_pretrain_dynamic_batch_size': 0.3796942475582187,\n",
    " 'kendall_unet_3d.4x4.bf16': 0.19812502915066618}"
   ]
  },
  {
   "cell_type": "code",
   "execution_count": 4,
   "metadata": {},
   "outputs": [],
   "source": [
    "test_root = Path(r\"G:\\projects\\gfos\\logs\\pipeline\\layout_nlp_default_20231105_171234\")"
   ]
  },
  {
   "cell_type": "code",
   "execution_count": 5,
   "metadata": {},
   "outputs": [
    {
     "data": {
      "text/plain": [
       "[WindowsPath('G:/projects/gfos/logs/pipeline/layout_nlp_default_20231105_171234/multiruns/2023-11-05_17-12-34/0/wandb/run-20231105_171634-0thjheem/files/nlp_default_0thjheem_logits.plk'),\n",
       " WindowsPath('G:/projects/gfos/logs/pipeline/layout_nlp_default_20231105_171234/multiruns/2023-11-05_17-12-34/1/wandb/run-20231106_075623-u09dulng/files/nlp_default_u09dulng_logits.plk'),\n",
       " WindowsPath('G:/projects/gfos/logs/pipeline/layout_nlp_default_20231105_171234/multiruns/2023-11-05_17-12-34/2/wandb/run-20231106_222509-m9jm7n1o/files/nlp_default_m9jm7n1o_logits.plk')]"
      ]
     },
     "execution_count": 5,
     "metadata": {},
     "output_type": "execute_result"
    }
   ],
   "source": [
    "test_files = list(test_root.glob(\"./**/*logits.plk\"))\n",
    "test_files"
   ]
  },
  {
   "cell_type": "code",
   "execution_count": 3,
   "metadata": {},
   "outputs": [],
   "source": [
    "# test_files = [\n",
    "#     r\"G:\\projects\\gfos\\logs\\pipeline\\layout_nlp_default_20231024_020455\\runs\\2023-10-24_02-04-55\\wandb\\run-20231024_020902-b7lcp2vw\\files\\nlp_default_b7lcp2vw_logits.plk\",\n",
    "#     r\"G:\\projects\\gfos\\logs\\pipeline\\layout_nlp_default_20231101_200854\\multiruns\\2023-11-01_20-08-54\\0\\wandb\\run-20231101_201228-y8k05syy\\files\\nlp_default_y8k05syy_logits.plk\",\n",
    "#     r\"G:\\projects\\gfos\\logs\\pipeline\\layout_nlp_default_20231101_200854\\multiruns\\2023-11-01_20-08-54\\3\\wandb\\run-20231103_083836-kloesa48\\files\\nlp_default_kloesa48_logits.plk\"\n",
    "# ]\n",
    "\n",
    "test_files = [\n",
    "    r\"G:\\projects\\gfos\\logs\\pipeline\\layout_xla_default_20231113_104312\\multiruns\\2023-11-13_10-43-12\\1\\wandb\\run-20231113_114610-2mgoogqh\\files\\xla_default_2mgoogqh_logits.plk\",\n",
    "    r\"G:\\projects\\gfos\\logs\\pipeline\\layout_xla_default_20231112_211848\\multiruns\\2023-11-12_21-18-48\\4\\wandb\\run-20231113_014735-zd4thu6w\\files\\xla_default_zd4thu6w_logits.plk\",\n",
    "    r\"G:\\projects\\gfos\\logs\\pipeline\\layout_xla_default_20231112_211848\\multiruns\\2023-11-12_21-18-48\\2\\wandb\\run-20231112_233113-eet9askf\\files\\xla_default_eet9askf_logits.plk\",\n",
    "]"
   ]
  },
  {
   "cell_type": "code",
   "execution_count": 4,
   "metadata": {},
   "outputs": [],
   "source": [
    "# test_files = [\n",
    "#     r\"G:\\projects\\gfos\\logs\\pipeline\\layout_xla_default_20231025_194701\\multiruns\\2023-10-25_19-47-01\\0\\wandb\\run-20231025_194821-31cxqnvr\\files\\xla_default_31cxqnvr_logits.plk\",\n",
    "#     r\"G:\\projects\\gfos\\logs\\pipeline\\layout_xla_default_20231025_212611\\multiruns\\2023-10-25_21-26-11\\0\\wandb\\run-20231025_212730-lylai3t4\\files\\xla_default_lylai3t4_logits.plk\",\n",
    "#     r\"G:\\projects\\gfos\\logs\\pipeline\\layout_xla_default_20231025_212611\\multiruns\\2023-10-25_21-26-11\\1\\wandb\\run-20231025_225204-bhxjen7t\\files\\xla_default_bhxjen7t_logits.plk\",\n",
    "#     r\"G:\\projects\\gfos\\logs\\pipeline\\layout_xla_default_20231025_212611\\multiruns\\2023-10-25_21-26-11\\2\\wandb\\run-20231026_001619-w240tfbg\\files\\xla_default_w240tfbg_logits.plk\",\n",
    "#     r\"G:\\projects\\gfos\\logs\\pipeline\\layout_xla_default_20231025_212611\\multiruns\\2023-10-25_21-26-11\\3\\wandb\\run-20231026_011711-jphw5fx4\\files\\xla_default_jphw5fx4_logits.plk\",\n",
    "# ]\n",
    "\n",
    "# test_files = [\n",
    "#     r\"G:\\projects\\gfos\\logs\\pipeline\\layout_xla_default_20231031_014920\\multiruns\\2023-10-31_01-49-20\\0\\wandb\\run-20231031_015045-rmo9v1b9\\files\\xla_default_rmo9v1b9_logits.plk\",\n",
    "#     r\"G:\\projects\\gfos\\logs\\pipeline\\layout_xla_default_20231031_014920\\multiruns\\2023-10-31_01-49-20\\1\\wandb\\run-20231031_035855-yyo5ltul\\files\\xla_default_yyo5ltul_logits.plk\",\n",
    "#     r\"G:\\projects\\gfos\\logs\\pipeline\\layout_xla_default_20231031_014920\\multiruns\\2023-10-31_01-49-20\\2\\wandb\\run-20231031_060623-92c5mo9i\\files\\xla_default_92c5mo9i_logits.plk\",\n",
    "#     r\"G:\\projects\\gfos\\logs\\pipeline\\layout_xla_default_20231031_014920\\multiruns\\2023-10-31_01-49-20\\3\\wandb\\run-20231031_081428-5wtb16i8\\files\\xla_default_5wtb16i8_logits.plk\",\n",
    "#     r\"G:\\projects\\gfos\\logs\\pipeline\\layout_xla_default_20231031_014920\\multiruns\\2023-10-31_01-49-20\\4\\wandb\\run-20231031_102057-4bld5ae9\\files\\xla_default_4bld5ae9_logits.plk\",\n",
    "# ]\n",
    "\n",
    "test_outs = []\n",
    "for file in test_files:\n",
    "    with open(file, \"rb\") as f:\n",
    "        data = pickle.load(f)\n",
    "    test_outs.append(data)"
   ]
  },
  {
   "cell_type": "code",
   "execution_count": 5,
   "metadata": {},
   "outputs": [],
   "source": [
    "results = {}\n",
    "\n",
    "for file in files[\"test\"]:\n",
    "    model_id = Path(file).stem\n",
    "    \n",
    "    pred = []\n",
    "    for out in test_outs:\n",
    "        pred.append(out[model_id])\n",
    "    pred = np.stack(pred).mean(axis=0)\n",
    "    \n",
    "    results[model_id] = pred\n"
   ]
  },
  {
   "cell_type": "code",
   "execution_count": 6,
   "metadata": {},
   "outputs": [],
   "source": [
    "result_arg = {k: v.argsort().tolist() for k,v in results.items()}"
   ]
  },
  {
   "cell_type": "code",
   "execution_count": 7,
   "metadata": {},
   "outputs": [],
   "source": [
    "SOURCE = \"xla\"\n",
    "SEARCH = \"default\"\n",
    "\n",
    "\n",
    "with open(f\"../../output/{SOURCE}_{SEARCH}_blend_three_folds_split.csv\", \"w\") as f:\n",
    "    f.write(\"ID,TopConfigs\\n\")\n",
    "    for k, v in result_arg.items():\n",
    "        model_id = f\"layout:{SOURCE}:{SEARCH}:\"+k\n",
    "        values = \";\".join([str(i) for i in v])\n",
    "        f.write(f\"{model_id},{values}\\n\")"
   ]
  }
 ],
 "metadata": {
  "kernelspec": {
   "display_name": "gfos",
   "language": "python",
   "name": "python3"
  },
  "language_info": {
   "codemirror_mode": {
    "name": "ipython",
    "version": 3
   },
   "file_extension": ".py",
   "mimetype": "text/x-python",
   "name": "python",
   "nbconvert_exporter": "python",
   "pygments_lexer": "ipython3",
   "version": "3.10.12"
  }
 },
 "nbformat": 4,
 "nbformat_minor": 2
}
