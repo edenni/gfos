{
 "cells": [
  {
   "cell_type": "code",
   "execution_count": 12,
   "metadata": {},
   "outputs": [],
   "source": [
    "import graph_features\n",
    "import numpy as np\n",
    "from pathlib import Path"
   ]
  },
  {
   "cell_type": "code",
   "execution_count": 10,
   "metadata": {},
   "outputs": [],
   "source": [
    "path = Path(\"../../data/pd/xla/random/\")\n",
    "all_files = list(path.glob('**/*.pb'))\n",
    "\n",
    "origin_path = Path(\"../../data/npz_all/npz/layout/xla/random/\")\n",
    "original_files = list(origin_path.glob('**/*.npz'))\n",
    "\n",
    "name2path = {f.name: f for f in original_files}"
   ]
  },
  {
   "cell_type": "code",
   "execution_count": 14,
   "metadata": {},
   "outputs": [],
   "source": [
    "for file in all_files:\n",
    "    original_path = name2path[file.stem + \".npz\"]\n",
    "    original_data = dict(np.load(original_path))\n",
    "    \n",
    "    node_feat = graph_features.extract_graph_features(str(file))[1]\n",
    "    assert original_data['node_feat'].shape[0] == node_feat.shape[0]"
   ]
  }
 ],
 "metadata": {
  "kernelspec": {
   "display_name": "gfos",
   "language": "python",
   "name": "python3"
  },
  "language_info": {
   "codemirror_mode": {
    "name": "ipython",
    "version": 3
   },
   "file_extension": ".py",
   "mimetype": "text/x-python",
   "name": "python",
   "nbconvert_exporter": "python",
   "pygments_lexer": "ipython3",
   "version": "3.8.18"
  }
 },
 "nbformat": 4,
 "nbformat_minor": 2
}
