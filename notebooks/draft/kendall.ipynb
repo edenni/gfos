{
 "cells": [
  {
   "cell_type": "code",
   "execution_count": 2,
   "metadata": {},
   "outputs": [],
   "source": [
    "import numpy as np\n",
    "from scipy.stats import kendalltau\n",
    "from gfos.data.dataset import sample_configs\n"
   ]
  },
  {
   "cell_type": "code",
   "execution_count": 42,
   "metadata": {},
   "outputs": [
    {
     "name": "stdout",
     "output_type": "stream",
     "text": [
      "0.0058997499749974995\n",
      "-0.0013784578457845785\n"
     ]
    }
   ],
   "source": [
    "preds = np.random.randn(10000)\n",
    "trues = np.random.randn(10000)\n",
    "\n",
    "original_pred_order = np.argsort(preds)\n",
    "original_true_order = np.argsort(trues)\n",
    "original_tau, _ = kendalltau(original_pred_order, original_true_order)\n",
    "print(original_tau)\n",
    "\n",
    "sampled_trues, indices = sample_configs(trues, len(trues))\n",
    "preds_by_sampled_trues = preds[indices]\n",
    "\n",
    "sampled_pred_order = np.argsort(preds_by_sampled_trues)\n",
    "sampled_true_order = np.argsort(sampled_trues)\n",
    "sampled_tau, _ = kendalltau(sampled_pred_order, sampled_true_order)\n",
    "print(sampled_tau)"
   ]
  }
 ],
 "metadata": {
  "kernelspec": {
   "display_name": "gfos",
   "language": "python",
   "name": "python3"
  },
  "language_info": {
   "codemirror_mode": {
    "name": "ipython",
    "version": 3
   },
   "file_extension": ".py",
   "mimetype": "text/x-python",
   "name": "python",
   "nbconvert_exporter": "python",
   "pygments_lexer": "ipython3",
   "version": "3.10.12"
  },
  "orig_nbformat": 4
 },
 "nbformat": 4,
 "nbformat_minor": 2
}
