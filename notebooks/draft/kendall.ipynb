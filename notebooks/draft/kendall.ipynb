{
 "cells": [
  {
   "cell_type": "code",
   "execution_count": 1,
   "metadata": {},
   "outputs": [],
   "source": [
    "import numpy as np\n",
    "from scipy.stats import kendalltau\n",
    "from gfos.data.dataset import sample_configs\n"
   ]
  },
  {
   "cell_type": "code",
   "execution_count": 2,
   "metadata": {},
   "outputs": [
    {
     "name": "stdout",
     "output_type": "stream",
     "text": [
      "0.0013118323183231835\n",
      "0.0030735587355873568\n"
     ]
    }
   ],
   "source": [
    "preds = np.random.randn(100000)\n",
    "trues = np.random.randn(100000)\n",
    "\n",
    "original_pred_order = np.argsort(preds)\n",
    "original_true_order = np.argsort(trues)\n",
    "original_tau, _ = kendalltau(original_pred_order, original_true_order)\n",
    "print(original_tau)\n",
    "\n",
    "sampled_trues = np.sort(trues)\n",
    "indices = np.argsort(trues)\n",
    "sampled_pred_order = np.argsort(preds[indices])\n",
    "sampled_tau, _ = kendalltau(sampled_pred_order, np.argsort(sampled_trues))\n",
    "print(sampled_tau)"
   ]
  },
  {
   "cell_type": "code",
   "execution_count": 3,
   "metadata": {},
   "outputs": [
    {
     "data": {
      "text/plain": [
       "array([-4.05654908, -4.00978328, -3.98064967, ...,  4.18433393,\n",
       "        4.40851797,  4.50967854])"
      ]
     },
     "execution_count": 3,
     "metadata": {},
     "output_type": "execute_result"
    }
   ],
   "source": [
    "sampled_trues"
   ]
  },
  {
   "cell_type": "code",
   "execution_count": 4,
   "metadata": {},
   "outputs": [
    {
     "data": {
      "text/plain": [
       "-0.33333333333333337"
      ]
     },
     "execution_count": 4,
     "metadata": {},
     "output_type": "execute_result"
    }
   ],
   "source": [
    "x = np.array([0, 1, 3, 6, 4, 5, 2])\n",
    "y = np.array([3, 2, 5, 1, 4, 0, 6])\n",
    "tau, _ = kendalltau(x, y)\n",
    "tau"
   ]
  },
  {
   "cell_type": "code",
   "execution_count": 5,
   "metadata": {},
   "outputs": [
    {
     "data": {
      "text/plain": [
       "-0.33333333333333337"
      ]
     },
     "execution_count": 5,
     "metadata": {},
     "output_type": "execute_result"
    }
   ],
   "source": [
    "x = np.array([5, 6, 1, 3, 2, 0, 4])\n",
    "y = np.array([0, 1, 2, 5, 6, 3, 4])\n",
    "tau, _ = kendalltau(x, y)\n",
    "tau"
   ]
  },
  {
   "cell_type": "code",
   "execution_count": 6,
   "metadata": {},
   "outputs": [],
   "source": [
    "x = np.random.randn(10)\n",
    "y = np.random.randn(10)\n",
    "\n",
    "original_tau, _ = kendalltau(np.argsort(x), np.argsort(y))\n",
    "\n",
    "y_order = np.argsort(y)\n",
    "x_order = np.argsort(x)\n",
    "y = y[y_order]\n",
    "x = x[x_order[y_order]]\n",
    "sorted_tau, _ = kendalltau(np.argsort(x), np.argsort(y))\n"
   ]
  },
  {
   "cell_type": "code",
   "execution_count": 7,
   "metadata": {},
   "outputs": [
    {
     "data": {
      "text/plain": [
       "array([0, 1, 2, 3, 4, 5, 6, 7, 8, 9], dtype=int64)"
      ]
     },
     "execution_count": 7,
     "metadata": {},
     "output_type": "execute_result"
    }
   ],
   "source": [
    "np.argsort(y)"
   ]
  },
  {
   "cell_type": "code",
   "execution_count": 8,
   "metadata": {},
   "outputs": [
    {
     "data": {
      "text/plain": [
       "(-0.15555555555555553, -0.19999999999999998)"
      ]
     },
     "execution_count": 8,
     "metadata": {},
     "output_type": "execute_result"
    }
   ],
   "source": [
    "original_tau, sorted_tau"
   ]
  },
  {
   "cell_type": "code",
   "execution_count": 9,
   "metadata": {},
   "outputs": [
    {
     "name": "stdout",
     "output_type": "stream",
     "text": [
      "-0.19999999999999998\n",
      "-0.6\n"
     ]
    }
   ],
   "source": [
    "import torch\n",
    "\n",
    "torch.manual_seed(42)\n",
    "\n",
    "model = torch.nn.Linear(10, 1)\n",
    "model.weight.data = torch.randn(1, 10)\n",
    "x = torch.randn(5, 10, requires_grad=False)\n",
    "y = torch.randn(5, requires_grad=False)\n",
    "\n",
    "preds = model(x).detach().squeeze().numpy()\n",
    "# print(np.argsort(preds), np.argsort(y))\n",
    "tau, _ = kendalltau(np.argsort(preds), np.argsort(y))\n",
    "\n",
    "print(tau)\n",
    "permutation = torch.argsort(y)\n",
    "x_ = x[permutation]\n",
    "y_ = y[permutation]\n",
    "pred_ = model(x_).detach().squeeze().numpy()\n",
    "tau, _ = kendalltau(np.argsort(pred_), np.argsort(y_))\n",
    "tau\n",
    "print(tau)"
   ]
  },
  {
   "cell_type": "code",
   "execution_count": 10,
   "metadata": {},
   "outputs": [
    {
     "data": {
      "text/plain": [
       "(tensor([-0.3090, -0.4268,  0.4504, -0.0022, -0.1980]),\n",
       " tensor([-0.4268, -0.3090, -0.1980, -0.0022,  0.4504]))"
      ]
     },
     "execution_count": 10,
     "metadata": {},
     "output_type": "execute_result"
    }
   ],
   "source": [
    "y, y_"
   ]
  },
  {
   "cell_type": "code",
   "execution_count": 11,
   "metadata": {},
   "outputs": [
    {
     "data": {
      "text/plain": [
       "(array([ 5.289787  ,  4.547075  , -2.9400432 ,  2.0273263 , -0.57789314],\n",
       "       dtype=float32),\n",
       " array([ 4.547075  ,  5.289787  , -0.57789326,  2.0273263 , -2.940043  ],\n",
       "       dtype=float32))"
      ]
     },
     "execution_count": 11,
     "metadata": {},
     "output_type": "execute_result"
    }
   ],
   "source": [
    "preds, pred_"
   ]
  },
  {
   "cell_type": "code",
   "execution_count": 12,
   "metadata": {},
   "outputs": [
    {
     "data": {
      "text/plain": [
       "(array([2, 4, 3, 1, 0], dtype=int64), tensor([1, 0, 4, 3, 2]))"
      ]
     },
     "execution_count": 12,
     "metadata": {},
     "output_type": "execute_result"
    }
   ],
   "source": [
    "np.argsort(preds), np.argsort(y)"
   ]
  },
  {
   "cell_type": "code",
   "execution_count": 13,
   "metadata": {},
   "outputs": [
    {
     "data": {
      "text/plain": [
       "(array([4, 2, 3, 0, 1], dtype=int64), tensor([0, 1, 2, 3, 4]))"
      ]
     },
     "execution_count": 13,
     "metadata": {},
     "output_type": "execute_result"
    }
   ],
   "source": [
    "np.argsort(pred_), np.argsort(y_)"
   ]
  },
  {
   "cell_type": "code",
   "execution_count": 14,
   "metadata": {},
   "outputs": [
    {
     "data": {
      "text/plain": [
       "(SignificanceResult(statistic=-0.6, pvalue=0.23333333333333334),\n",
       " SignificanceResult(statistic=-0.6, pvalue=0.23333333333333334))"
      ]
     },
     "execution_count": 14,
     "metadata": {},
     "output_type": "execute_result"
    }
   ],
   "source": [
    "kendalltau(preds, y), kendalltau(pred_, y_)"
   ]
  },
  {
   "cell_type": "code",
   "execution_count": 15,
   "metadata": {},
   "outputs": [
    {
     "data": {
      "text/plain": [
       "(SignificanceResult(statistic=-0.19999999999999998, pvalue=0.8166666666666667),\n",
       " SignificanceResult(statistic=-0.6, pvalue=0.23333333333333334))"
      ]
     },
     "execution_count": 15,
     "metadata": {},
     "output_type": "execute_result"
    }
   ],
   "source": [
    "kendalltau(np.argsort(preds), np.argsort(y)), kendalltau(np.argsort(pred_), np.argsort(y_))"
   ]
  }
 ],
 "metadata": {
  "kernelspec": {
   "display_name": "gfos",
   "language": "python",
   "name": "python3"
  },
  "language_info": {
   "codemirror_mode": {
    "name": "ipython",
    "version": 3
   },
   "file_extension": ".py",
   "mimetype": "text/x-python",
   "name": "python",
   "nbconvert_exporter": "python",
   "pygments_lexer": "ipython3",
   "version": "3.10.12"
  },
  "orig_nbformat": 4
 },
 "nbformat": 4,
 "nbformat_minor": 2
}
