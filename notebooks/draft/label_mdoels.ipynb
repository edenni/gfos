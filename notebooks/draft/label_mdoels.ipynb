{
 "cells": [
  {
   "cell_type": "code",
   "execution_count": 1,
   "metadata": {},
   "outputs": [],
   "source": [
    "from pathlib import Path\n",
    "\n",
    "from gfos.data.utils import load_layout"
   ]
  },
  {
   "cell_type": "code",
   "execution_count": 2,
   "metadata": {},
   "outputs": [],
   "source": [
    "LAYOUT_DIR = r\"H:\\data\\gfos\\predict-ai-model-runtime\\npz_all\\npz\\layout\"\n"
   ]
  },
  {
   "cell_type": "code",
   "execution_count": 3,
   "metadata": {},
   "outputs": [],
   "source": [
    "layout_files = load_layout(LAYOUT_DIR, compile_type=\"default\", model_type=\"xla\")\n",
    "train_valid_files = layout_files[\"train\"] + layout_files[\"valid\"]"
   ]
  },
  {
   "cell_type": "code",
   "execution_count": 4,
   "metadata": {},
   "outputs": [],
   "source": [
    "model_cls = [Path(file).stem for file in train_valid_files]"
   ]
  },
  {
   "cell_type": "code",
   "execution_count": 5,
   "metadata": {},
   "outputs": [
    {
     "data": {
      "text/plain": [
       "['alexnet_train_batch_32',\n",
       " 'bert_classifier.2x2.fp32',\n",
       " 'bert_classifier.2x2.fp32.performance',\n",
       " 'bert_pretraining.2x2.fp16',\n",
       " 'bert_pretraining.8x16.fp16',\n",
       " 'bert_pretraining.8x8.fp32.performance',\n",
       " 'bert_squad.2x2.fp32',\n",
       " 'brax_es',\n",
       " 'efficientnet_b7_eval_batch_1',\n",
       " 'inception_v2_batch_128_train',\n",
       " 'inception_v2_batch_8_train',\n",
       " 'inception_v3_batch_8_train',\n",
       " 'inference_mlperf_resnet_batch_16',\n",
       " 'inference_mlperf_resnet_batch_256',\n",
       " 'inference_mlperf_ssd_1200_batch_1',\n",
       " 'inference_mlperf_ssd_1200_batch_128',\n",
       " 'inference_mlperf_ssd_1200_batch_2',\n",
       " 'magenta',\n",
       " 'magenta_dynamic',\n",
       " 'mask_rcnn_batch_16_bf16_img1024',\n",
       " 'mask_rcnn_batch_4_bf16_img1408',\n",
       " 'mask_rcnn_resnet50.4x4.bf16.performance',\n",
       " 'mlperf_nmt_batch_64',\n",
       " 'mlperf_resnet',\n",
       " 'mlperf_resnet_batch_128_1_shard',\n",
       " 'mlperf_ssd_1_shard_batch_8_fast_epoch',\n",
       " 'mlperf_ssd_2_shard_batch_8_fast_epoch',\n",
       " 'mlperf_transformer',\n",
       " 'mnasnet_a1_batch_128',\n",
       " 'mnasnet_b1_batch_128',\n",
       " 'ncf.2x2.fp32',\n",
       " 'resnet50.2x2.fp16',\n",
       " 'resnet50.2x2.fp32',\n",
       " 'resnet50.4x4.bf16',\n",
       " 'resnet50.4x4.bf16.performance',\n",
       " 'resnet50.8x16.fp16',\n",
       " 'resnet50.8x8.fp16',\n",
       " 'resnet50.8x8.fp32',\n",
       " 'resnet50_3d.2x2.bf16',\n",
       " 'resnet_v1_50_official_batch_128_f32',\n",
       " 'resnet_v1_50_official_batch_32_bf16',\n",
       " 'resnet_v2_101_batch_128',\n",
       " 'resnet_v2_152_batch_128',\n",
       " 'resnet_v2_152_batch_64',\n",
       " 'resnet_v2_200_batch_32',\n",
       " 'resnet_v2_200_batch_64',\n",
       " 'resnet_v2_50_batch_128',\n",
       " 'resnet_v2_50_batch_16',\n",
       " 'retinanet.2x2.fp32',\n",
       " 'retinanet.4x4.bf16.performance',\n",
       " 'retinanet.4x4.fp32',\n",
       " 'shapemask.4x4.fp32',\n",
       " 'tf2_bert_pretrain_dynamic_sequence_length',\n",
       " 'tf2_bert_squad_dynamic',\n",
       " 'transformer.2x2.fp32',\n",
       " 'transformer.4x4.bf16',\n",
       " 'transformer.4x4.fp16',\n",
       " 'transformer.4x4.fp32.performance',\n",
       " 'transformer_tf2_dynamic_shape',\n",
       " 'unet3d',\n",
       " 'xception_imagenet',\n",
       " 'bert_pretraining.4x4.fp16',\n",
       " 'inception_v3_batch_128_train',\n",
       " 'mlperf_bert_batch_24_2x2',\n",
       " 'resnet50.4x4.fp16',\n",
       " 'resnet_v1_50_official_batch_128_bf16',\n",
       " 'tf2_bert_pretrain_dynamic_batch_size',\n",
       " 'unet_3d.4x4.bf16']"
      ]
     },
     "execution_count": 5,
     "metadata": {},
     "output_type": "execute_result"
    }
   ],
   "source": [
    "model_cls"
   ]
  },
  {
   "cell_type": "code",
   "execution_count": 6,
   "metadata": {},
   "outputs": [],
   "source": [
    "model_dict = dict(\n",
    "    cnn=(\"ssd\", \"unet\", \"resnet\", \"inception\", \"xception\", \"efficientnet\", \"retinanet\"),\n",
    "    rcnn=(\"shapemask\", \"mask_rcnn\"),\n",
    "    transformer=(\"transformer\", \"bert\"),\n",
    ")"
   ]
  },
  {
   "cell_type": "code",
   "execution_count": 7,
   "metadata": {},
   "outputs": [],
   "source": [
    "model_type = {}\n",
    "\n",
    "catched = 0\n",
    "for m in model_cls:\n",
    "    for k, vs in model_dict.items():\n",
    "        for v in vs:\n",
    "            if v in m:\n",
    "                model_type[m] = k\n",
    "    if m not in model_type:\n",
    "        model_type[m] = \"other\"\n",
    "                "
   ]
  },
  {
   "cell_type": "code",
   "execution_count": 8,
   "metadata": {},
   "outputs": [
    {
     "data": {
      "text/plain": [
       "{'alexnet_train_batch_32': 'other',\n",
       " 'bert_classifier.2x2.fp32': 'transformer',\n",
       " 'bert_classifier.2x2.fp32.performance': 'transformer',\n",
       " 'bert_pretraining.2x2.fp16': 'transformer',\n",
       " 'bert_pretraining.8x16.fp16': 'transformer',\n",
       " 'bert_pretraining.8x8.fp32.performance': 'transformer',\n",
       " 'bert_squad.2x2.fp32': 'transformer',\n",
       " 'brax_es': 'other',\n",
       " 'efficientnet_b7_eval_batch_1': 'cnn',\n",
       " 'inception_v2_batch_128_train': 'cnn',\n",
       " 'inception_v2_batch_8_train': 'cnn',\n",
       " 'inception_v3_batch_8_train': 'cnn',\n",
       " 'inference_mlperf_resnet_batch_16': 'cnn',\n",
       " 'inference_mlperf_resnet_batch_256': 'cnn',\n",
       " 'inference_mlperf_ssd_1200_batch_1': 'cnn',\n",
       " 'inference_mlperf_ssd_1200_batch_128': 'cnn',\n",
       " 'inference_mlperf_ssd_1200_batch_2': 'cnn',\n",
       " 'magenta': 'other',\n",
       " 'magenta_dynamic': 'other',\n",
       " 'mask_rcnn_batch_16_bf16_img1024': 'rcnn',\n",
       " 'mask_rcnn_batch_4_bf16_img1408': 'rcnn',\n",
       " 'mask_rcnn_resnet50.4x4.bf16.performance': 'rcnn',\n",
       " 'mlperf_nmt_batch_64': 'other',\n",
       " 'mlperf_resnet': 'cnn',\n",
       " 'mlperf_resnet_batch_128_1_shard': 'cnn',\n",
       " 'mlperf_ssd_1_shard_batch_8_fast_epoch': 'cnn',\n",
       " 'mlperf_ssd_2_shard_batch_8_fast_epoch': 'cnn',\n",
       " 'mlperf_transformer': 'transformer',\n",
       " 'mnasnet_a1_batch_128': 'other',\n",
       " 'mnasnet_b1_batch_128': 'other',\n",
       " 'ncf.2x2.fp32': 'other',\n",
       " 'resnet50.2x2.fp16': 'cnn',\n",
       " 'resnet50.2x2.fp32': 'cnn',\n",
       " 'resnet50.4x4.bf16': 'cnn',\n",
       " 'resnet50.4x4.bf16.performance': 'cnn',\n",
       " 'resnet50.8x16.fp16': 'cnn',\n",
       " 'resnet50.8x8.fp16': 'cnn',\n",
       " 'resnet50.8x8.fp32': 'cnn',\n",
       " 'resnet50_3d.2x2.bf16': 'cnn',\n",
       " 'resnet_v1_50_official_batch_128_f32': 'cnn',\n",
       " 'resnet_v1_50_official_batch_32_bf16': 'cnn',\n",
       " 'resnet_v2_101_batch_128': 'cnn',\n",
       " 'resnet_v2_152_batch_128': 'cnn',\n",
       " 'resnet_v2_152_batch_64': 'cnn',\n",
       " 'resnet_v2_200_batch_32': 'cnn',\n",
       " 'resnet_v2_200_batch_64': 'cnn',\n",
       " 'resnet_v2_50_batch_128': 'cnn',\n",
       " 'resnet_v2_50_batch_16': 'cnn',\n",
       " 'retinanet.2x2.fp32': 'cnn',\n",
       " 'retinanet.4x4.bf16.performance': 'cnn',\n",
       " 'retinanet.4x4.fp32': 'cnn',\n",
       " 'shapemask.4x4.fp32': 'rcnn',\n",
       " 'tf2_bert_pretrain_dynamic_sequence_length': 'transformer',\n",
       " 'tf2_bert_squad_dynamic': 'transformer',\n",
       " 'transformer.2x2.fp32': 'transformer',\n",
       " 'transformer.4x4.bf16': 'transformer',\n",
       " 'transformer.4x4.fp16': 'transformer',\n",
       " 'transformer.4x4.fp32.performance': 'transformer',\n",
       " 'transformer_tf2_dynamic_shape': 'transformer',\n",
       " 'unet3d': 'cnn',\n",
       " 'xception_imagenet': 'cnn',\n",
       " 'bert_pretraining.4x4.fp16': 'transformer',\n",
       " 'inception_v3_batch_128_train': 'cnn',\n",
       " 'mlperf_bert_batch_24_2x2': 'transformer',\n",
       " 'resnet50.4x4.fp16': 'cnn',\n",
       " 'resnet_v1_50_official_batch_128_bf16': 'cnn',\n",
       " 'tf2_bert_pretrain_dynamic_batch_size': 'transformer',\n",
       " 'unet_3d.4x4.bf16': 'cnn'}"
      ]
     },
     "execution_count": 8,
     "metadata": {},
     "output_type": "execute_result"
    }
   ],
   "source": [
    "model_type"
   ]
  },
  {
   "cell_type": "code",
   "execution_count": 9,
   "metadata": {},
   "outputs": [],
   "source": [
    "mapping = {\n",
    "    \"cnn\": 0,\n",
    "    \"rcnn\": 1,\n",
    "    \"transformer\": 2,\n",
    "    \"other\": 3,\n",
    "}"
   ]
  },
  {
   "cell_type": "code",
   "execution_count": 10,
   "metadata": {},
   "outputs": [
    {
     "data": {
      "text/plain": [
       "{'alexnet_train_batch_32': 3,\n",
       " 'bert_classifier.2x2.fp32': 2,\n",
       " 'bert_classifier.2x2.fp32.performance': 2,\n",
       " 'bert_pretraining.2x2.fp16': 2,\n",
       " 'bert_pretraining.8x16.fp16': 2,\n",
       " 'bert_pretraining.8x8.fp32.performance': 2,\n",
       " 'bert_squad.2x2.fp32': 2,\n",
       " 'brax_es': 3,\n",
       " 'efficientnet_b7_eval_batch_1': 0,\n",
       " 'inception_v2_batch_128_train': 0,\n",
       " 'inception_v2_batch_8_train': 0,\n",
       " 'inception_v3_batch_8_train': 0,\n",
       " 'inference_mlperf_resnet_batch_16': 0,\n",
       " 'inference_mlperf_resnet_batch_256': 0,\n",
       " 'inference_mlperf_ssd_1200_batch_1': 0,\n",
       " 'inference_mlperf_ssd_1200_batch_128': 0,\n",
       " 'inference_mlperf_ssd_1200_batch_2': 0,\n",
       " 'magenta': 3,\n",
       " 'magenta_dynamic': 3,\n",
       " 'mask_rcnn_batch_16_bf16_img1024': 1,\n",
       " 'mask_rcnn_batch_4_bf16_img1408': 1,\n",
       " 'mask_rcnn_resnet50.4x4.bf16.performance': 1,\n",
       " 'mlperf_nmt_batch_64': 3,\n",
       " 'mlperf_resnet': 0,\n",
       " 'mlperf_resnet_batch_128_1_shard': 0,\n",
       " 'mlperf_ssd_1_shard_batch_8_fast_epoch': 0,\n",
       " 'mlperf_ssd_2_shard_batch_8_fast_epoch': 0,\n",
       " 'mlperf_transformer': 2,\n",
       " 'mnasnet_a1_batch_128': 3,\n",
       " 'mnasnet_b1_batch_128': 3,\n",
       " 'ncf.2x2.fp32': 3,\n",
       " 'resnet50.2x2.fp16': 0,\n",
       " 'resnet50.2x2.fp32': 0,\n",
       " 'resnet50.4x4.bf16': 0,\n",
       " 'resnet50.4x4.bf16.performance': 0,\n",
       " 'resnet50.8x16.fp16': 0,\n",
       " 'resnet50.8x8.fp16': 0,\n",
       " 'resnet50.8x8.fp32': 0,\n",
       " 'resnet50_3d.2x2.bf16': 0,\n",
       " 'resnet_v1_50_official_batch_128_f32': 0,\n",
       " 'resnet_v1_50_official_batch_32_bf16': 0,\n",
       " 'resnet_v2_101_batch_128': 0,\n",
       " 'resnet_v2_152_batch_128': 0,\n",
       " 'resnet_v2_152_batch_64': 0,\n",
       " 'resnet_v2_200_batch_32': 0,\n",
       " 'resnet_v2_200_batch_64': 0,\n",
       " 'resnet_v2_50_batch_128': 0,\n",
       " 'resnet_v2_50_batch_16': 0,\n",
       " 'retinanet.2x2.fp32': 0,\n",
       " 'retinanet.4x4.bf16.performance': 0,\n",
       " 'retinanet.4x4.fp32': 0,\n",
       " 'shapemask.4x4.fp32': 1,\n",
       " 'tf2_bert_pretrain_dynamic_sequence_length': 2,\n",
       " 'tf2_bert_squad_dynamic': 2,\n",
       " 'transformer.2x2.fp32': 2,\n",
       " 'transformer.4x4.bf16': 2,\n",
       " 'transformer.4x4.fp16': 2,\n",
       " 'transformer.4x4.fp32.performance': 2,\n",
       " 'transformer_tf2_dynamic_shape': 2,\n",
       " 'unet3d': 0,\n",
       " 'xception_imagenet': 0,\n",
       " 'bert_pretraining.4x4.fp16': 2,\n",
       " 'inception_v3_batch_128_train': 0,\n",
       " 'mlperf_bert_batch_24_2x2': 2,\n",
       " 'resnet50.4x4.fp16': 0,\n",
       " 'resnet_v1_50_official_batch_128_bf16': 0,\n",
       " 'tf2_bert_pretrain_dynamic_batch_size': 2,\n",
       " 'unet_3d.4x4.bf16': 0}"
      ]
     },
     "execution_count": 10,
     "metadata": {},
     "output_type": "execute_result"
    }
   ],
   "source": [
    "model_labels = {k: mapping[v] for k, v in model_type.items()}\n",
    "model_labels"
   ]
  },
  {
   "cell_type": "code",
   "execution_count": 11,
   "metadata": {},
   "outputs": [],
   "source": [
    "import json\n",
    "\n",
    "with open(\"../../data/xla_model_labels.json\", \"w\") as f:\n",
    "    json.dump(model_labels, f)"
   ]
  },
  {
   "cell_type": "code",
   "execution_count": null,
   "metadata": {},
   "outputs": [],
   "source": []
  }
 ],
 "metadata": {
  "kernelspec": {
   "display_name": "gfos",
   "language": "python",
   "name": "python3"
  },
  "language_info": {
   "codemirror_mode": {
    "name": "ipython",
    "version": 3
   },
   "file_extension": ".py",
   "mimetype": "text/x-python",
   "name": "python",
   "nbconvert_exporter": "python",
   "pygments_lexer": "ipython3",
   "version": "3.10.12"
  }
 },
 "nbformat": 4,
 "nbformat_minor": 2
}
