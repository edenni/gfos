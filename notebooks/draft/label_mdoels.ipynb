{
 "cells": [
  {
   "cell_type": "code",
   "execution_count": 8,
   "metadata": {},
   "outputs": [],
   "source": [
    "from gfos.data.utils import load_layout"
   ]
  },
  {
   "cell_type": "code",
   "execution_count": 2,
   "metadata": {},
   "outputs": [],
   "source": [
    "LAYOUT_DIR = r\"H:\\data\\gfos\\predict-ai-model-runtime\\npz_all\\npz\\layout\"\n"
   ]
  },
  {
   "cell_type": "code",
   "execution_count": 9,
   "metadata": {},
   "outputs": [],
   "source": [
    "layout_files = load_layout(LAYOUT_DIR, compile_type=\"default\", model_type=\"xla\")\n",
    "train_valid_files = layout_files[\"train\"] + layout_files[\"valid\"]"
   ]
  },
  {
   "cell_type": "code",
   "execution_count": 27,
   "metadata": {},
   "outputs": [],
   "source": [
    "model_cls = [file.split(\"\\\\\")[-1] for file in train_valid_files]"
   ]
  },
  {
   "cell_type": "code",
   "execution_count": 28,
   "metadata": {},
   "outputs": [
    {
     "data": {
      "text/plain": [
       "['alexnet_train_batch_32.npz',\n",
       " 'bert_classifier.2x2.fp32.npz',\n",
       " 'bert_classifier.2x2.fp32.performance.npz',\n",
       " 'bert_pretraining.2x2.fp16.npz',\n",
       " 'bert_pretraining.8x16.fp16.npz',\n",
       " 'bert_pretraining.8x8.fp32.performance.npz',\n",
       " 'bert_squad.2x2.fp32.npz',\n",
       " 'brax_es.npz',\n",
       " 'efficientnet_b7_eval_batch_1.npz',\n",
       " 'inception_v2_batch_128_train.npz',\n",
       " 'inception_v2_batch_8_train.npz',\n",
       " 'inception_v3_batch_8_train.npz',\n",
       " 'inference_mlperf_resnet_batch_16.npz',\n",
       " 'inference_mlperf_resnet_batch_256.npz',\n",
       " 'inference_mlperf_ssd_1200_batch_1.npz',\n",
       " 'inference_mlperf_ssd_1200_batch_128.npz',\n",
       " 'inference_mlperf_ssd_1200_batch_2.npz',\n",
       " 'magenta.npz',\n",
       " 'magenta_dynamic.npz',\n",
       " 'mask_rcnn_batch_16_bf16_img1024.npz',\n",
       " 'mask_rcnn_batch_4_bf16_img1408.npz',\n",
       " 'mask_rcnn_resnet50.4x4.bf16.performance.npz',\n",
       " 'mlperf_nmt_batch_64.npz',\n",
       " 'mlperf_resnet.npz',\n",
       " 'mlperf_resnet_batch_128_1_shard.npz',\n",
       " 'mlperf_ssd_1_shard_batch_8_fast_epoch.npz',\n",
       " 'mlperf_ssd_2_shard_batch_8_fast_epoch.npz',\n",
       " 'mlperf_transformer.npz',\n",
       " 'mnasnet_a1_batch_128.npz',\n",
       " 'mnasnet_b1_batch_128.npz',\n",
       " 'ncf.2x2.fp32.npz',\n",
       " 'resnet50.2x2.fp16.npz',\n",
       " 'resnet50.2x2.fp32.npz',\n",
       " 'resnet50.4x4.bf16.npz',\n",
       " 'resnet50.4x4.bf16.performance.npz',\n",
       " 'resnet50.8x16.fp16.npz',\n",
       " 'resnet50.8x8.fp16.npz',\n",
       " 'resnet50.8x8.fp32.npz',\n",
       " 'resnet50_3d.2x2.bf16.npz',\n",
       " 'resnet_v1_50_official_batch_128_f32.npz',\n",
       " 'resnet_v1_50_official_batch_32_bf16.npz',\n",
       " 'resnet_v2_101_batch_128.npz',\n",
       " 'resnet_v2_152_batch_128.npz',\n",
       " 'resnet_v2_152_batch_64.npz',\n",
       " 'resnet_v2_200_batch_32.npz',\n",
       " 'resnet_v2_200_batch_64.npz',\n",
       " 'resnet_v2_50_batch_128.npz',\n",
       " 'resnet_v2_50_batch_16.npz',\n",
       " 'retinanet.2x2.fp32.npz',\n",
       " 'retinanet.4x4.bf16.performance.npz',\n",
       " 'retinanet.4x4.fp32.npz',\n",
       " 'shapemask.4x4.fp32.npz',\n",
       " 'tf2_bert_pretrain_dynamic_sequence_length.npz',\n",
       " 'tf2_bert_squad_dynamic.npz',\n",
       " 'transformer.2x2.fp32.npz',\n",
       " 'transformer.4x4.bf16.npz',\n",
       " 'transformer.4x4.fp16.npz',\n",
       " 'transformer.4x4.fp32.performance.npz',\n",
       " 'transformer_tf2_dynamic_shape.npz',\n",
       " 'unet3d.npz',\n",
       " 'xception_imagenet.npz',\n",
       " 'bert_pretraining.4x4.fp16.npz',\n",
       " 'inception_v3_batch_128_train.npz',\n",
       " 'mlperf_bert_batch_24_2x2.npz',\n",
       " 'resnet50.4x4.fp16.npz',\n",
       " 'resnet_v1_50_official_batch_128_bf16.npz',\n",
       " 'tf2_bert_pretrain_dynamic_batch_size.npz',\n",
       " 'unet_3d.4x4.bf16.npz']"
      ]
     },
     "execution_count": 28,
     "metadata": {},
     "output_type": "execute_result"
    }
   ],
   "source": [
    "model_cls"
   ]
  },
  {
   "cell_type": "code",
   "execution_count": 36,
   "metadata": {},
   "outputs": [],
   "source": [
    "model_dict = dict(\n",
    "    cnn=(\"ssd\", \"unet\", \"resnet\", \"inception\", \"xception\", \"efficientnet\", \"retinanet\"),\n",
    "    rcnn=(\"shapemask\", \"mask_rcnn\"),\n",
    "    transformer=(\"transformer\", \"bert\"),\n",
    ")"
   ]
  },
  {
   "cell_type": "code",
   "execution_count": 37,
   "metadata": {},
   "outputs": [],
   "source": [
    "model_type = {}\n",
    "\n",
    "catched = 0\n",
    "for m in model_cls:\n",
    "    for k, vs in model_dict.items():\n",
    "        for v in vs:\n",
    "            if v in m:\n",
    "                model_type[m] = k\n",
    "    if m not in model_type:\n",
    "        model_type[m] = \"other\"\n",
    "                "
   ]
  },
  {
   "cell_type": "code",
   "execution_count": 38,
   "metadata": {},
   "outputs": [
    {
     "data": {
      "text/plain": [
       "{'alexnet_train_batch_32.npz': 'other',\n",
       " 'bert_classifier.2x2.fp32.npz': 'transformer',\n",
       " 'bert_classifier.2x2.fp32.performance.npz': 'transformer',\n",
       " 'bert_pretraining.2x2.fp16.npz': 'transformer',\n",
       " 'bert_pretraining.8x16.fp16.npz': 'transformer',\n",
       " 'bert_pretraining.8x8.fp32.performance.npz': 'transformer',\n",
       " 'bert_squad.2x2.fp32.npz': 'transformer',\n",
       " 'brax_es.npz': 'other',\n",
       " 'efficientnet_b7_eval_batch_1.npz': 'cnn',\n",
       " 'inception_v2_batch_128_train.npz': 'cnn',\n",
       " 'inception_v2_batch_8_train.npz': 'cnn',\n",
       " 'inception_v3_batch_8_train.npz': 'cnn',\n",
       " 'inference_mlperf_resnet_batch_16.npz': 'cnn',\n",
       " 'inference_mlperf_resnet_batch_256.npz': 'cnn',\n",
       " 'inference_mlperf_ssd_1200_batch_1.npz': 'cnn',\n",
       " 'inference_mlperf_ssd_1200_batch_128.npz': 'cnn',\n",
       " 'inference_mlperf_ssd_1200_batch_2.npz': 'cnn',\n",
       " 'magenta.npz': 'other',\n",
       " 'magenta_dynamic.npz': 'other',\n",
       " 'mask_rcnn_batch_16_bf16_img1024.npz': 'rcnn',\n",
       " 'mask_rcnn_batch_4_bf16_img1408.npz': 'rcnn',\n",
       " 'mask_rcnn_resnet50.4x4.bf16.performance.npz': 'rcnn',\n",
       " 'mlperf_nmt_batch_64.npz': 'other',\n",
       " 'mlperf_resnet.npz': 'cnn',\n",
       " 'mlperf_resnet_batch_128_1_shard.npz': 'cnn',\n",
       " 'mlperf_ssd_1_shard_batch_8_fast_epoch.npz': 'cnn',\n",
       " 'mlperf_ssd_2_shard_batch_8_fast_epoch.npz': 'cnn',\n",
       " 'mlperf_transformer.npz': 'transformer',\n",
       " 'mnasnet_a1_batch_128.npz': 'other',\n",
       " 'mnasnet_b1_batch_128.npz': 'other',\n",
       " 'ncf.2x2.fp32.npz': 'other',\n",
       " 'resnet50.2x2.fp16.npz': 'cnn',\n",
       " 'resnet50.2x2.fp32.npz': 'cnn',\n",
       " 'resnet50.4x4.bf16.npz': 'cnn',\n",
       " 'resnet50.4x4.bf16.performance.npz': 'cnn',\n",
       " 'resnet50.8x16.fp16.npz': 'cnn',\n",
       " 'resnet50.8x8.fp16.npz': 'cnn',\n",
       " 'resnet50.8x8.fp32.npz': 'cnn',\n",
       " 'resnet50_3d.2x2.bf16.npz': 'cnn',\n",
       " 'resnet_v1_50_official_batch_128_f32.npz': 'cnn',\n",
       " 'resnet_v1_50_official_batch_32_bf16.npz': 'cnn',\n",
       " 'resnet_v2_101_batch_128.npz': 'cnn',\n",
       " 'resnet_v2_152_batch_128.npz': 'cnn',\n",
       " 'resnet_v2_152_batch_64.npz': 'cnn',\n",
       " 'resnet_v2_200_batch_32.npz': 'cnn',\n",
       " 'resnet_v2_200_batch_64.npz': 'cnn',\n",
       " 'resnet_v2_50_batch_128.npz': 'cnn',\n",
       " 'resnet_v2_50_batch_16.npz': 'cnn',\n",
       " 'retinanet.2x2.fp32.npz': 'cnn',\n",
       " 'retinanet.4x4.bf16.performance.npz': 'cnn',\n",
       " 'retinanet.4x4.fp32.npz': 'cnn',\n",
       " 'shapemask.4x4.fp32.npz': 'rcnn',\n",
       " 'tf2_bert_pretrain_dynamic_sequence_length.npz': 'transformer',\n",
       " 'tf2_bert_squad_dynamic.npz': 'transformer',\n",
       " 'transformer.2x2.fp32.npz': 'transformer',\n",
       " 'transformer.4x4.bf16.npz': 'transformer',\n",
       " 'transformer.4x4.fp16.npz': 'transformer',\n",
       " 'transformer.4x4.fp32.performance.npz': 'transformer',\n",
       " 'transformer_tf2_dynamic_shape.npz': 'transformer',\n",
       " 'unet3d.npz': 'cnn',\n",
       " 'xception_imagenet.npz': 'cnn',\n",
       " 'bert_pretraining.4x4.fp16.npz': 'transformer',\n",
       " 'inception_v3_batch_128_train.npz': 'cnn',\n",
       " 'mlperf_bert_batch_24_2x2.npz': 'transformer',\n",
       " 'resnet50.4x4.fp16.npz': 'cnn',\n",
       " 'resnet_v1_50_official_batch_128_bf16.npz': 'cnn',\n",
       " 'tf2_bert_pretrain_dynamic_batch_size.npz': 'transformer',\n",
       " 'unet_3d.4x4.bf16.npz': 'cnn'}"
      ]
     },
     "execution_count": 38,
     "metadata": {},
     "output_type": "execute_result"
    }
   ],
   "source": [
    "model_type"
   ]
  },
  {
   "cell_type": "code",
   "execution_count": 40,
   "metadata": {},
   "outputs": [],
   "source": [
    "mapping = {\n",
    "    \"cnn\": 0,\n",
    "    \"rcnn\": 1,\n",
    "    \"transformer\": 2,\n",
    "    \"other\": 3,\n",
    "}"
   ]
  },
  {
   "cell_type": "code",
   "execution_count": 42,
   "metadata": {},
   "outputs": [
    {
     "data": {
      "text/plain": [
       "{'alexnet_train_batch_32.npz': 3,\n",
       " 'bert_classifier.2x2.fp32.npz': 2,\n",
       " 'bert_classifier.2x2.fp32.performance.npz': 2,\n",
       " 'bert_pretraining.2x2.fp16.npz': 2,\n",
       " 'bert_pretraining.8x16.fp16.npz': 2,\n",
       " 'bert_pretraining.8x8.fp32.performance.npz': 2,\n",
       " 'bert_squad.2x2.fp32.npz': 2,\n",
       " 'brax_es.npz': 3,\n",
       " 'efficientnet_b7_eval_batch_1.npz': 0,\n",
       " 'inception_v2_batch_128_train.npz': 0,\n",
       " 'inception_v2_batch_8_train.npz': 0,\n",
       " 'inception_v3_batch_8_train.npz': 0,\n",
       " 'inference_mlperf_resnet_batch_16.npz': 0,\n",
       " 'inference_mlperf_resnet_batch_256.npz': 0,\n",
       " 'inference_mlperf_ssd_1200_batch_1.npz': 0,\n",
       " 'inference_mlperf_ssd_1200_batch_128.npz': 0,\n",
       " 'inference_mlperf_ssd_1200_batch_2.npz': 0,\n",
       " 'magenta.npz': 3,\n",
       " 'magenta_dynamic.npz': 3,\n",
       " 'mask_rcnn_batch_16_bf16_img1024.npz': 1,\n",
       " 'mask_rcnn_batch_4_bf16_img1408.npz': 1,\n",
       " 'mask_rcnn_resnet50.4x4.bf16.performance.npz': 1,\n",
       " 'mlperf_nmt_batch_64.npz': 3,\n",
       " 'mlperf_resnet.npz': 0,\n",
       " 'mlperf_resnet_batch_128_1_shard.npz': 0,\n",
       " 'mlperf_ssd_1_shard_batch_8_fast_epoch.npz': 0,\n",
       " 'mlperf_ssd_2_shard_batch_8_fast_epoch.npz': 0,\n",
       " 'mlperf_transformer.npz': 2,\n",
       " 'mnasnet_a1_batch_128.npz': 3,\n",
       " 'mnasnet_b1_batch_128.npz': 3,\n",
       " 'ncf.2x2.fp32.npz': 3,\n",
       " 'resnet50.2x2.fp16.npz': 0,\n",
       " 'resnet50.2x2.fp32.npz': 0,\n",
       " 'resnet50.4x4.bf16.npz': 0,\n",
       " 'resnet50.4x4.bf16.performance.npz': 0,\n",
       " 'resnet50.8x16.fp16.npz': 0,\n",
       " 'resnet50.8x8.fp16.npz': 0,\n",
       " 'resnet50.8x8.fp32.npz': 0,\n",
       " 'resnet50_3d.2x2.bf16.npz': 0,\n",
       " 'resnet_v1_50_official_batch_128_f32.npz': 0,\n",
       " 'resnet_v1_50_official_batch_32_bf16.npz': 0,\n",
       " 'resnet_v2_101_batch_128.npz': 0,\n",
       " 'resnet_v2_152_batch_128.npz': 0,\n",
       " 'resnet_v2_152_batch_64.npz': 0,\n",
       " 'resnet_v2_200_batch_32.npz': 0,\n",
       " 'resnet_v2_200_batch_64.npz': 0,\n",
       " 'resnet_v2_50_batch_128.npz': 0,\n",
       " 'resnet_v2_50_batch_16.npz': 0,\n",
       " 'retinanet.2x2.fp32.npz': 0,\n",
       " 'retinanet.4x4.bf16.performance.npz': 0,\n",
       " 'retinanet.4x4.fp32.npz': 0,\n",
       " 'shapemask.4x4.fp32.npz': 1,\n",
       " 'tf2_bert_pretrain_dynamic_sequence_length.npz': 2,\n",
       " 'tf2_bert_squad_dynamic.npz': 2,\n",
       " 'transformer.2x2.fp32.npz': 2,\n",
       " 'transformer.4x4.bf16.npz': 2,\n",
       " 'transformer.4x4.fp16.npz': 2,\n",
       " 'transformer.4x4.fp32.performance.npz': 2,\n",
       " 'transformer_tf2_dynamic_shape.npz': 2,\n",
       " 'unet3d.npz': 0,\n",
       " 'xception_imagenet.npz': 0,\n",
       " 'bert_pretraining.4x4.fp16.npz': 2,\n",
       " 'inception_v3_batch_128_train.npz': 0,\n",
       " 'mlperf_bert_batch_24_2x2.npz': 2,\n",
       " 'resnet50.4x4.fp16.npz': 0,\n",
       " 'resnet_v1_50_official_batch_128_bf16.npz': 0,\n",
       " 'tf2_bert_pretrain_dynamic_batch_size.npz': 2,\n",
       " 'unet_3d.4x4.bf16.npz': 0}"
      ]
     },
     "execution_count": 42,
     "metadata": {},
     "output_type": "execute_result"
    }
   ],
   "source": [
    "model_labels = {k: mapping[v] for k, v in model_type.items()}\n",
    "model_labels"
   ]
  },
  {
   "cell_type": "code",
   "execution_count": 43,
   "metadata": {},
   "outputs": [],
   "source": [
    "import json\n",
    "\n",
    "with open(\"../../data/xla_model_labels.json\", \"w\") as f:\n",
    "    json.dump(model_labels, f)"
   ]
  },
  {
   "cell_type": "code",
   "execution_count": null,
   "metadata": {},
   "outputs": [],
   "source": []
  }
 ],
 "metadata": {
  "kernelspec": {
   "display_name": "gfos",
   "language": "python",
   "name": "python3"
  },
  "language_info": {
   "codemirror_mode": {
    "name": "ipython",
    "version": 3
   },
   "file_extension": ".py",
   "mimetype": "text/x-python",
   "name": "python",
   "nbconvert_exporter": "python",
   "pygments_lexer": "ipython3",
   "version": "3.10.12"
  }
 },
 "nbformat": 4,
 "nbformat_minor": 2
}
