{
 "cells": [
  {
   "cell_type": "code",
   "execution_count": 1,
   "metadata": {},
   "outputs": [
    {
     "name": "stdout",
     "output_type": "stream",
     "text": [
      "Per List OPA:  tensor([[0.0000],\n",
      "        [0.6667]])\n",
      "Per List Weights:  tensor([[3.],\n",
      "        [3.]])\n"
     ]
    }
   ],
   "source": [
    "import torch\n",
    "import torch.nn.functional as F\n",
    "\n",
    "class OPAMetric:\n",
    "    def __init__(self, name):\n",
    "        \"\"\"Constructor.\"\"\"\n",
    "        self._name = name\n",
    "    \n",
    "    @property\n",
    "    def name(self):\n",
    "        \"\"\"The metric name.\"\"\"\n",
    "        return self._name\n",
    "    \n",
    "    def compute(self, labels, predictions, weights, mask):\n",
    "        \"\"\"\n",
    "        Args:\n",
    "            labels (Tensor): The ground truth labels.\n",
    "            predictions (Tensor): The predicted scores.\n",
    "            weights (Tensor): The weights for each element.\n",
    "            mask (Tensor): A mask tensor indicating valid elements.\n",
    "            \n",
    "        Returns:\n",
    "            per_list_opa (Tensor): The OPA for each list.\n",
    "            per_list_weights (Tensor): The weights for each list.\n",
    "        \"\"\"\n",
    "        \n",
    "        valid_pair = mask.unsqueeze(2) & mask.unsqueeze(1)\n",
    "        \n",
    "        pair_label_diff = labels.unsqueeze(2) - labels.unsqueeze(1)\n",
    "        pair_pred_diff = predictions.unsqueeze(2) - predictions.unsqueeze(1)\n",
    "        \n",
    "        # Construct correct pairs\n",
    "        correct_pairs = (pair_label_diff > 0).float() * (pair_pred_diff > 0).float()\n",
    "        \n",
    "        # Compute pair weights\n",
    "        pair_weights = (pair_label_diff > 0).float() * weights.unsqueeze(2) * valid_pair.float()\n",
    "        \n",
    "        # Sum over the pairs dimension to get per_list_weights and per_list_opa\n",
    "        per_list_weights = pair_weights.sum(dim=[1, 2]).unsqueeze(1)\n",
    "        per_list_opa = (correct_pairs * pair_weights).sum(dim=[1, 2]).unsqueeze(1) / (per_list_weights + 1e-8)\n",
    "        \n",
    "        return per_list_opa, per_list_weights\n",
    "\n",
    "\n",
    "# Example Usage\n",
    "labels = torch.tensor([[1.0, 0.0, 2.0], [0.0, 1.0, 2.0]])\n",
    "preds = torch.tensor([[0.2, 0.4, 0.1], [0.5, 0.3, 0.7]])\n",
    "weights = torch.tensor([[1.0, 1.0, 1.0], [1.0, 1.0, 1.0]])\n",
    "mask = torch.tensor([[True, True, True], [True, True, True]], dtype=torch.bool)\n",
    "\n",
    "opa_metric = OPAMetric(name='opa')\n",
    "per_list_opa, per_list_weights = opa_metric.compute(labels, preds, weights, mask)\n",
    "\n",
    "print(\"Per List OPA: \", per_list_opa)\n",
    "print(\"Per List Weights: \", per_list_weights)"
   ]
  },
  {
   "cell_type": "code",
   "execution_count": null,
   "metadata": {},
   "outputs": [],
   "source": [
    "import torch\n",
    "import torchmetrics\n",
    "\n",
    "class OPAMetric(torchmetrics.Metric):\n",
    "    def __init__(self, dist_sync_on_step=False):\n",
    "        super().__init__(dist_sync_on_step=dist_sync_on_step)\n",
    "        \n",
    "        self.add_state(\"correct_pairs_sum\", default=torch.tensor([0.0]), dist_reduce_fx=\"sum\")\n",
    "    \n",
    "    def update(self, labels: torch.Tensor, predictions: torch.Tensor):        \n",
    "        pair_label_diff = labels.unsqueeze(2) - labels.unsqueeze(1)\n",
    "        pair_pred_diff = predictions.unsqueeze(2) - predictions.unsqueeze(1)\n",
    "\n",
    "        correct_pairs = (pair_label_diff > 0).float() * (pair_pred_diff > 0).float()\n",
    "        print(correct_pairs.shape)\n",
    "        self.correct_pairs_sum += correct_pairs.sum(dim=1)\n",
    "        print(self.correct_pairs_sum)\n",
    "        \n",
    "    def compute(self):\n",
    "        return self.correct_pairs_sum\n",
    "\n",
    "\n",
    "preds = torch.randn(100,)\n",
    "labels = torch.randn(100,)\n",
    "\n",
    "opa_metric = OPAMetric()\n",
    "opa_metric.update(labels, preds)\n",
    "print(\"OPA: \", opa_metric.compute())\n"
   ]
  },
  {
   "cell_type": "code",
   "execution_count": 110,
   "metadata": {},
   "outputs": [
    {
     "name": "stdout",
     "output_type": "stream",
     "text": [
      "OPA:  tensor(0.6667)\n"
     ]
    }
   ],
   "source": [
    "import torch\n",
    "import torchmetrics\n",
    "\n",
    "class OPAMetric(torchmetrics.Metric):\n",
    "    def __init__(self, dist_sync_on_step=False):\n",
    "        super().__init__(dist_sync_on_step=dist_sync_on_step)\n",
    "        \n",
    "        self.add_state(\"correct_pairs_sum\", default=torch.tensor([0.0]), dist_reduce_fx=\"sum\")\n",
    "        self.add_state(\"pair_weights_sum\", default=torch.tensor([0.0]), dist_reduce_fx=\"sum\")\n",
    "    \n",
    "    def update(self, preds: torch.Tensor, labels: torch.Tensor):\n",
    "        pair_label_diff = labels.unsqueeze(-1) - labels.unsqueeze(1)\n",
    "        pair_pred_diff = preds.unsqueeze(-1) - preds.unsqueeze(1)\n",
    "                \n",
    "        correct_pairs = ((pair_label_diff > 0).float() * (pair_pred_diff > 0).float())\n",
    "        pair_weights = (pair_label_diff > 0).float()\n",
    "\n",
    "        self.correct_pairs_sum += (correct_pairs * pair_weights).sum(dim=[1, 2])\n",
    "        self.pair_weights_sum += pair_weights.sum(dim=[1, 2])\n",
    "\n",
    "    def compute(self):\n",
    "        opa = self.correct_pairs_sum / self.pair_weights_sum\n",
    "        return opa\n",
    "\n",
    "# Example Usage\n",
    "\n",
    "labels = torch.tensor([0, 1, 2])\n",
    "predictions = torch.tensor([0, 2, 1])\n",
    "\n",
    "opa_metric = OPAMetric()\n",
    "opa_metric.update(predictions[None], labels[None])\n",
    "print(\"OPA: \", opa_metric.compute())"
   ]
  },
  {
   "cell_type": "code",
   "execution_count": 55,
   "metadata": {},
   "outputs": [],
   "source": [
    "import tensorflow_ranking as tfr\n"
   ]
  },
  {
   "cell_type": "code",
   "execution_count": 111,
   "metadata": {},
   "outputs": [
    {
     "data": {
      "text/plain": [
       "0.6666667"
      ]
     },
     "execution_count": 111,
     "metadata": {},
     "output_type": "execute_result"
    }
   ],
   "source": [
    "import tensorflow as tf\n",
    "\n",
    "\n",
    "y_true = [[0., 1., 2.]]\n",
    "y_pred = [[0., 2., 1.]]\n",
    "opa = tfr.keras.metrics.OPAMetric()\n",
    "opa(y_true, y_pred).numpy()"
   ]
  },
  {
   "cell_type": "code",
   "execution_count": 127,
   "metadata": {},
   "outputs": [
    {
     "name": "stdout",
     "output_type": "stream",
     "text": [
      "tensor(0.8000) tf.Tensor(0.0, shape=(), dtype=float32)\n"
     ]
    },
    {
     "ename": "AssertionError",
     "evalue": "",
     "output_type": "error",
     "traceback": [
      "\u001b[1;31m---------------------------------------------------------------------------\u001b[0m",
      "\u001b[1;31mAssertionError\u001b[0m                            Traceback (most recent call last)",
      "\u001b[1;32mg:\\projects\\gfos\\notebooks\\draft\\opa_metric.ipynb Cell 6\u001b[0m line \u001b[0;36m1\n\u001b[0;32m      <a href='vscode-notebook-cell:/g%3A/projects/gfos/notebooks/draft/opa_metric.ipynb#X10sZmlsZQ%3D%3D?line=8'>9</a>\u001b[0m tfr_result \u001b[39m=\u001b[39m tfr_opa(labels\u001b[39m.\u001b[39mnumpy()[\u001b[39mNone\u001b[39;00m], preds\u001b[39m.\u001b[39mnumpy()[\u001b[39mNone\u001b[39;00m])\n\u001b[0;32m     <a href='vscode-notebook-cell:/g%3A/projects/gfos/notebooks/draft/opa_metric.ipynb#X10sZmlsZQ%3D%3D?line=10'>11</a>\u001b[0m \u001b[39mprint\u001b[39m(pt_result, tfr_result)\n\u001b[1;32m---> <a href='vscode-notebook-cell:/g%3A/projects/gfos/notebooks/draft/opa_metric.ipynb#X10sZmlsZQ%3D%3D?line=11'>12</a>\u001b[0m \u001b[39massert\u001b[39;00m pt_result\u001b[39m.\u001b[39mitem() \u001b[39m==\u001b[39m tfr_result\u001b[39m.\u001b[39mnumpy()\u001b[39m.\u001b[39mitem()\n",
      "\u001b[1;31mAssertionError\u001b[0m: "
     ]
    }
   ],
   "source": [
    "opa_metric = OPAMetric()\n",
    "tfr_opa = tfr.keras.metrics.OPAMetric(name='opa_metric')\n",
    "\n",
    "for _ in range(100):\n",
    "    labels = torch.randn(5,)\n",
    "    preds = torch.randn(5,)\n",
    "    \n",
    "    pt_result = opa_metric(preds[None], labels[None])\n",
    "    tfr_result = tfr_opa(labels.numpy()[None], preds.numpy()[None])\n",
    "    \n",
    "    print(pt_result, tfr_result)\n",
    "    assert pt_result.item() == tfr_result.numpy().item()\n"
   ]
  },
  {
   "cell_type": "code",
   "execution_count": 53,
   "metadata": {},
   "outputs": [
    {
     "data": {
      "text/plain": [
       "(tensor([1, 8, 9, 5, 2, 4, 3, 0, 6, 7]),\n",
       " tensor([5, 0, 9, 6, 4, 7, 3, 8, 2, 1]))"
      ]
     },
     "execution_count": 53,
     "metadata": {},
     "output_type": "execute_result"
    }
   ],
   "source": [
    "torch.argsort(labels), torch.argsort(preds)"
   ]
  }
 ],
 "metadata": {
  "kernelspec": {
   "display_name": "gfos",
   "language": "python",
   "name": "python3"
  },
  "language_info": {
   "codemirror_mode": {
    "name": "ipython",
    "version": 3
   },
   "file_extension": ".py",
   "mimetype": "text/x-python",
   "name": "python",
   "nbconvert_exporter": "python",
   "pygments_lexer": "ipython3",
   "version": "3.10.12"
  },
  "orig_nbformat": 4
 },
 "nbformat": 4,
 "nbformat_minor": 2
}
