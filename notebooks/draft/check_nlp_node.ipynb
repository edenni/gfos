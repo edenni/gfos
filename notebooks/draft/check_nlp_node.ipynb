{
 "cells": [
  {
   "cell_type": "code",
   "execution_count": 1,
   "metadata": {},
   "outputs": [],
   "source": [
    "import torch"
   ]
  },
  {
   "cell_type": "code",
   "execution_count": 4,
   "metadata": {},
   "outputs": [
    {
     "data": {
      "text/plain": [
       "tensor([[  0,   1,   2,   3,   4,   5,   6,   7,   8,   9,  10,  11,  12,  13,\n",
       "          14,  15,  16,  17,  18,  19,  20,  21,  22,  23,  24,  25,  26,  27,\n",
       "          28,  29,  30,  31],\n",
       "        [ 32,  33,  34,  35,  36,  37,  38,  39,  40,  41,  42,  43,  44,  45,\n",
       "          46,  47,  48,  49,  50,  51,  52,  53,  54,  55,  56,  57,  58,  59,\n",
       "          60,  61,  62,  63],\n",
       "        [ 64,  65,  66,  67,  68,  69,  70,  71,  72,  73,  74,  75,  76,  77,\n",
       "          78,  79,  80,  81,  82,  83,  84,  85,  86,  87,  88,  89,  90,  91,\n",
       "          92,  93,  94,  95],\n",
       "        [ 96,  97,  98,  99, 100, 101, 102, 103, 104, 105, 106, 107, 108, 109,\n",
       "         110, 111, 112, 113, 114, 115, 116, 117, 118, 119, 120, 121, 122, 123,\n",
       "         124, 125, 126, 127]])"
      ]
     },
     "execution_count": 4,
     "metadata": {},
     "output_type": "execute_result"
    }
   ],
   "source": [
    "x = torch.arange(128)\n",
    "x.reshape(4, 32)"
   ]
  },
  {
   "cell_type": "code",
   "execution_count": 5,
   "metadata": {},
   "outputs": [
    {
     "data": {
      "text/plain": [
       "tensor([[  0,   4,   8,  12,  16,  20,  24,  28,  32,  36,  40,  44,  48,  52,\n",
       "          56,  60,  64,  68,  72,  76,  80,  84,  88,  92,  96, 100, 104, 108,\n",
       "         112, 116, 120, 124],\n",
       "        [  1,   5,   9,  13,  17,  21,  25,  29,  33,  37,  41,  45,  49,  53,\n",
       "          57,  61,  65,  69,  73,  77,  81,  85,  89,  93,  97, 101, 105, 109,\n",
       "         113, 117, 121, 125],\n",
       "        [  2,   6,  10,  14,  18,  22,  26,  30,  34,  38,  42,  46,  50,  54,\n",
       "          58,  62,  66,  70,  74,  78,  82,  86,  90,  94,  98, 102, 106, 110,\n",
       "         114, 118, 122, 126],\n",
       "        [  3,   7,  11,  15,  19,  23,  27,  31,  35,  39,  43,  47,  51,  55,\n",
       "          59,  63,  67,  71,  75,  79,  83,  87,  91,  95,  99, 103, 107, 111,\n",
       "         115, 119, 123, 127]])"
      ]
     },
     "execution_count": 5,
     "metadata": {},
     "output_type": "execute_result"
    }
   ],
   "source": [
    "x.reshape(32, 4).T"
   ]
  },
  {
   "cell_type": "code",
   "execution_count": 2,
   "metadata": {},
   "outputs": [],
   "source": [
    "from gfos.data.utils import load_layout\n",
    "from gfos.data.dataset import LayoutDataset, Normalizer\n",
    "from gfos.metrics import kendall, topk_error\n",
    "from gfos.loss import MultiElementRankLoss\n",
    "from gfos.utils.misc import seed_everything\n",
    "from gfos.data.constants import mask_min_max\n",
    "\n",
    "\n",
    "LAYOUT_DIR = r\"H:\\data\\gfos\\predict-ai-model-runtime\\npz_all\\npz\\layout\"\n"
   ]
  },
  {
   "cell_type": "code",
   "execution_count": 3,
   "metadata": {},
   "outputs": [],
   "source": [
    "files = load_layout(LAYOUT_DIR, model_type=\"nlp\", compile_type=\"default\")"
   ]
  },
  {
   "cell_type": "code",
   "execution_count": 4,
   "metadata": {},
   "outputs": [],
   "source": [
    "import numpy as np"
   ]
  },
  {
   "cell_type": "code",
   "execution_count": 10,
   "metadata": {},
   "outputs": [],
   "source": [
    "nlp_node_size = [np.load(file)[\"node_feat\"].shape[0] for file in files[\"train\"]]"
   ]
  },
  {
   "cell_type": "code",
   "execution_count": 11,
   "metadata": {},
   "outputs": [],
   "source": [
    "xla_node_size = [np.load(file)[\"node_feat\"].shape[0] for file in load_layout(LAYOUT_DIR, model_type=\"xla\", compile_type=\"default\")[\"train\"]]"
   ]
  },
  {
   "cell_type": "code",
   "execution_count": 14,
   "metadata": {},
   "outputs": [
    {
     "data": {
      "text/plain": [
       "(5889.979797979798, 5033.9753674001895, 12910.983606557376, 9684.881390967486)"
      ]
     },
     "execution_count": 14,
     "metadata": {},
     "output_type": "execute_result"
    }
   ],
   "source": [
    "np.array(nlp_node_size).mean(), np.array(nlp_node_size).std(), np.array(xla_node_size).mean(), np.array(xla_node_size).std()"
   ]
  }
 ],
 "metadata": {
  "kernelspec": {
   "display_name": "gfos",
   "language": "python",
   "name": "python3"
  },
  "language_info": {
   "codemirror_mode": {
    "name": "ipython",
    "version": 3
   },
   "file_extension": ".py",
   "mimetype": "text/x-python",
   "name": "python",
   "nbconvert_exporter": "python",
   "pygments_lexer": "ipython3",
   "version": "3.10.12"
  }
 },
 "nbformat": 4,
 "nbformat_minor": 2
}
