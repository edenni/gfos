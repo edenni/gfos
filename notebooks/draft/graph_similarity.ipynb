{
 "cells": [
  {
   "cell_type": "code",
   "execution_count": null,
   "metadata": {},
   "outputs": [],
   "source": [
    "from pathlib import Path\n",
    "\n",
    "import networkx as nx\n",
    "import numpy as np\n",
    "import matplotlib.pyplot as plt\n",
    "\n",
    "from gfos.data.utils import load_layout\n",
    "\n",
    "SOURCE = \"xla\"\n",
    "SEARCH = \"random\"\n",
    "LAYOUT_DIR = r\"H:\\data\\gfos\\predict-ai-model-runtime\\npz_all\\npz\\layout\"\n"
   ]
  },
  {
   "cell_type": "code",
   "execution_count": null,
   "metadata": {},
   "outputs": [],
   "source": [
    "train_files = load_layout(LAYOUT_DIR, model_type=SOURCE, compile_type=SEARCH)[\"train\"]"
   ]
  },
  {
   "cell_type": "code",
   "execution_count": null,
   "metadata": {},
   "outputs": [],
   "source": [
    "def create_graph_from_file(model_path: Path):\n",
    "    model_graph = np.load(model_path)\n",
    "    node, edge = model_graph[\"node_opcode\"], model_graph[\"edge_index\"]\n",
    "\n",
    "    graph = nx.Graph()\n",
    "    graph.add_edges_from(edge)\n",
    "    \n",
    "    node_attrs = {i: {\"op\": v} for i, v in enumerate(node)}\n",
    "    nx.set_node_attributes(graph, node_attrs)\n",
    "    return graph"
   ]
  },
  {
   "cell_type": "code",
   "execution_count": null,
   "metadata": {},
   "outputs": [],
   "source": [
    "m1 = Path(train_files[-1])\n",
    "m2 = Path(train_files[-2])\n"
   ]
  },
  {
   "cell_type": "code",
   "execution_count": 18,
   "metadata": {},
   "outputs": [
    {
     "data": {
      "text/plain": [
       "array([[   0, 3944, 3948, 4748]], dtype=int64)"
      ]
     },
     "execution_count": 18,
     "metadata": {},
     "output_type": "execute_result"
    }
   ],
   "source": [
    "model_graph = np.load(m1)\n",
    "model_graph[\"node_splits\"]"
   ]
  },
  {
   "cell_type": "code",
   "execution_count": null,
   "metadata": {},
   "outputs": [],
   "source": [
    "\n",
    "g1 = create_graph_from_file(m1)\n",
    "g2 = create_graph_from_file(m2)\n",
    "dis = nx.graph_edit_distance(g1, g2, node_match=lambda n1, n2: n1[\"op\"] == n2[\"op\"])"
   ]
  }
 ],
 "metadata": {
  "kernelspec": {
   "display_name": "gfos",
   "language": "python",
   "name": "python3"
  },
  "language_info": {
   "codemirror_mode": {
    "name": "ipython",
    "version": 3
   },
   "file_extension": ".py",
   "mimetype": "text/x-python",
   "name": "python",
   "nbconvert_exporter": "python",
   "pygments_lexer": "ipython3",
   "version": "3.10.12"
  }
 },
 "nbformat": 4,
 "nbformat_minor": 2
}
