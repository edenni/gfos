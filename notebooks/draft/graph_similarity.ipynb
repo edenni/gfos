{
 "cells": [
  {
   "cell_type": "code",
   "execution_count": null,
   "metadata": {},
   "outputs": [],
   "source": [
    "from pathlib import Path\n",
    "\n",
    "import networkx as nx\n",
    "import numpy as np\n",
    "import matplotlib.pyplot as plt\n",
    "\n",
    "from gfos.data.utils import load_layout\n",
    "\n",
    "SOURCE = \"xla\"\n",
    "SEARCH = \"random\"\n",
    "LAYOUT_DIR = r\"H:\\data\\gfos\\predict-ai-model-runtime\\npz_all\\npz\\layout\"\n"
   ]
  },
  {
   "cell_type": "code",
   "execution_count": 14,
   "metadata": {},
   "outputs": [],
   "source": [
    "train_files = load_layout(LAYOUT_DIR, model_type=SOURCE, compile_type=SEARCH)[\"train\"]"
   ]
  },
  {
   "cell_type": "code",
   "execution_count": 17,
   "metadata": {},
   "outputs": [],
   "source": [
    "def create_graph_from_file(model_path: Path):\n",
    "    model_graph = np.load(model_path)\n",
    "    node, edge = model_graph[\"node_opcode\"], model_graph[\"edge_index\"]\n",
    "\n",
    "    graph = nx.Graph()\n",
    "    graph.add_edges_from(edge)\n",
    "    \n",
    "    node_attrs = {i: {\"op\": v} for i, v in enumerate(node)}\n",
    "    nx.set_node_attributes(graph, node_attrs)\n",
    "    return graph"
   ]
  },
  {
   "cell_type": "code",
   "execution_count": 18,
   "metadata": {},
   "outputs": [
    {
     "ename": "MemoryError",
     "evalue": "",
     "output_type": "error",
     "traceback": [
      "\u001b[1;31m---------------------------------------------------------------------------\u001b[0m",
      "\u001b[1;31mMemoryError\u001b[0m                               Traceback (most recent call last)",
      "\u001b[1;32mg:\\projects\\gfos\\notebooks\\draft\\graph_similarity.ipynb Cell 4\u001b[0m line \u001b[0;36m6\n\u001b[0;32m      <a href='vscode-notebook-cell:/g%3A/projects/gfos/notebooks/draft/graph_similarity.ipynb#W3sZmlsZQ%3D%3D?line=3'>4</a>\u001b[0m g1 \u001b[39m=\u001b[39m create_graph_from_file(m1)\n\u001b[0;32m      <a href='vscode-notebook-cell:/g%3A/projects/gfos/notebooks/draft/graph_similarity.ipynb#W3sZmlsZQ%3D%3D?line=4'>5</a>\u001b[0m g2 \u001b[39m=\u001b[39m create_graph_from_file(m2)\n\u001b[1;32m----> <a href='vscode-notebook-cell:/g%3A/projects/gfos/notebooks/draft/graph_similarity.ipynb#W3sZmlsZQ%3D%3D?line=5'>6</a>\u001b[0m dis \u001b[39m=\u001b[39m nx\u001b[39m.\u001b[39;49mgraph_edit_distance(g1, g2, node_match\u001b[39m=\u001b[39;49m\u001b[39mlambda\u001b[39;49;00m n1, n2: n1[\u001b[39m\"\u001b[39;49m\u001b[39mop\u001b[39;49m\u001b[39m\"\u001b[39;49m] \u001b[39m==\u001b[39;49m n2[\u001b[39m\"\u001b[39;49m\u001b[39mop\u001b[39;49m\u001b[39m\"\u001b[39;49m])\n",
      "File \u001b[1;32mc:\\Users\\ntj_0\\Anaconda3\\envs\\gfos\\lib\\site-packages\\networkx\\algorithms\\similarity.py:189\u001b[0m, in \u001b[0;36mgraph_edit_distance\u001b[1;34m(G1, G2, node_match, edge_match, node_subst_cost, node_del_cost, node_ins_cost, edge_subst_cost, edge_del_cost, edge_ins_cost, roots, upper_bound, timeout)\u001b[0m\n\u001b[0;32m     54\u001b[0m \u001b[39m\u001b[39m\u001b[39m\"\"\"Returns GED (graph edit distance) between graphs G1 and G2.\u001b[39;00m\n\u001b[0;32m     55\u001b[0m \n\u001b[0;32m     56\u001b[0m \u001b[39mGraph edit distance is a graph similarity measure analogous to\u001b[39;00m\n\u001b[1;32m   (...)\u001b[0m\n\u001b[0;32m    186\u001b[0m \n\u001b[0;32m    187\u001b[0m \u001b[39m\"\"\"\u001b[39;00m\n\u001b[0;32m    188\u001b[0m bestcost \u001b[39m=\u001b[39m \u001b[39mNone\u001b[39;00m\n\u001b[1;32m--> 189\u001b[0m \u001b[39mfor\u001b[39;00m _, _, cost \u001b[39min\u001b[39;00m optimize_edit_paths(\n\u001b[0;32m    190\u001b[0m     G1,\n\u001b[0;32m    191\u001b[0m     G2,\n\u001b[0;32m    192\u001b[0m     node_match,\n\u001b[0;32m    193\u001b[0m     edge_match,\n\u001b[0;32m    194\u001b[0m     node_subst_cost,\n\u001b[0;32m    195\u001b[0m     node_del_cost,\n\u001b[0;32m    196\u001b[0m     node_ins_cost,\n\u001b[0;32m    197\u001b[0m     edge_subst_cost,\n\u001b[0;32m    198\u001b[0m     edge_del_cost,\n\u001b[0;32m    199\u001b[0m     edge_ins_cost,\n\u001b[0;32m    200\u001b[0m     upper_bound,\n\u001b[0;32m    201\u001b[0m     \u001b[39mTrue\u001b[39;00m,\n\u001b[0;32m    202\u001b[0m     roots,\n\u001b[0;32m    203\u001b[0m     timeout,\n\u001b[0;32m    204\u001b[0m ):\n\u001b[0;32m    205\u001b[0m     \u001b[39m# assert bestcost is None or cost < bestcost\u001b[39;00m\n\u001b[0;32m    206\u001b[0m     bestcost \u001b[39m=\u001b[39m cost\n\u001b[0;32m    207\u001b[0m \u001b[39mreturn\u001b[39;00m bestcost\n",
      "File \u001b[1;32mc:\\Users\\ntj_0\\Anaconda3\\envs\\gfos\\lib\\site-packages\\networkx\\algorithms\\similarity.py:1108\u001b[0m, in \u001b[0;36moptimize_edit_paths\u001b[1;34m(G1, G2, node_match, edge_match, node_subst_cost, node_del_cost, node_ins_cost, edge_subst_cost, edge_del_cost, edge_ins_cost, upper_bound, strictly_decreasing, roots, timeout)\u001b[0m\n\u001b[0;32m   1103\u001b[0m inf \u001b[39m=\u001b[39m C[\u001b[39m0\u001b[39m:m, \u001b[39m0\u001b[39m:n]\u001b[39m.\u001b[39msum() \u001b[39m+\u001b[39m \u001b[39msum\u001b[39m(del_costs) \u001b[39m+\u001b[39m \u001b[39msum\u001b[39m(ins_costs) \u001b[39m+\u001b[39m \u001b[39m1\u001b[39m\n\u001b[0;32m   1104\u001b[0m C[\u001b[39m0\u001b[39m:m, n : n \u001b[39m+\u001b[39m m] \u001b[39m=\u001b[39m np\u001b[39m.\u001b[39marray(\n\u001b[0;32m   1105\u001b[0m     [del_costs[i] \u001b[39mif\u001b[39;00m i \u001b[39m==\u001b[39m j \u001b[39melse\u001b[39;00m inf \u001b[39mfor\u001b[39;00m i \u001b[39min\u001b[39;00m \u001b[39mrange\u001b[39m(m) \u001b[39mfor\u001b[39;00m j \u001b[39min\u001b[39;00m \u001b[39mrange\u001b[39m(m)]\n\u001b[0;32m   1106\u001b[0m )\u001b[39m.\u001b[39mreshape(m, m)\n\u001b[0;32m   1107\u001b[0m C[m : m \u001b[39m+\u001b[39m n, \u001b[39m0\u001b[39m:n] \u001b[39m=\u001b[39m np\u001b[39m.\u001b[39marray(\n\u001b[1;32m-> 1108\u001b[0m     [ins_costs[i] \u001b[39mif\u001b[39;00m i \u001b[39m==\u001b[39m j \u001b[39melse\u001b[39;00m inf \u001b[39mfor\u001b[39;00m i \u001b[39min\u001b[39;00m \u001b[39mrange\u001b[39m(n) \u001b[39mfor\u001b[39;00m j \u001b[39min\u001b[39;00m \u001b[39mrange\u001b[39m(n)]\n\u001b[0;32m   1109\u001b[0m )\u001b[39m.\u001b[39mreshape(n, n)\n\u001b[0;32m   1110\u001b[0m Cv \u001b[39m=\u001b[39m make_CostMatrix(C, m, n)\n\u001b[0;32m   1111\u001b[0m \u001b[39m# debug_print(f\"Cv: {m} x {n}\")\u001b[39;00m\n\u001b[0;32m   1112\u001b[0m \u001b[39m# debug_print(Cv.C)\u001b[39;00m\n",
      "File \u001b[1;32mc:\\Users\\ntj_0\\Anaconda3\\envs\\gfos\\lib\\site-packages\\networkx\\algorithms\\similarity.py:1108\u001b[0m, in \u001b[0;36m<listcomp>\u001b[1;34m(.0)\u001b[0m\n\u001b[0;32m   1103\u001b[0m inf \u001b[39m=\u001b[39m C[\u001b[39m0\u001b[39m:m, \u001b[39m0\u001b[39m:n]\u001b[39m.\u001b[39msum() \u001b[39m+\u001b[39m \u001b[39msum\u001b[39m(del_costs) \u001b[39m+\u001b[39m \u001b[39msum\u001b[39m(ins_costs) \u001b[39m+\u001b[39m \u001b[39m1\u001b[39m\n\u001b[0;32m   1104\u001b[0m C[\u001b[39m0\u001b[39m:m, n : n \u001b[39m+\u001b[39m m] \u001b[39m=\u001b[39m np\u001b[39m.\u001b[39marray(\n\u001b[0;32m   1105\u001b[0m     [del_costs[i] \u001b[39mif\u001b[39;00m i \u001b[39m==\u001b[39m j \u001b[39melse\u001b[39;00m inf \u001b[39mfor\u001b[39;00m i \u001b[39min\u001b[39;00m \u001b[39mrange\u001b[39m(m) \u001b[39mfor\u001b[39;00m j \u001b[39min\u001b[39;00m \u001b[39mrange\u001b[39m(m)]\n\u001b[0;32m   1106\u001b[0m )\u001b[39m.\u001b[39mreshape(m, m)\n\u001b[0;32m   1107\u001b[0m C[m : m \u001b[39m+\u001b[39m n, \u001b[39m0\u001b[39m:n] \u001b[39m=\u001b[39m np\u001b[39m.\u001b[39marray(\n\u001b[1;32m-> 1108\u001b[0m     [ins_costs[i] \u001b[39mif\u001b[39;00m i \u001b[39m==\u001b[39m j \u001b[39melse\u001b[39;00m inf \u001b[39mfor\u001b[39;00m i \u001b[39min\u001b[39;00m \u001b[39mrange\u001b[39m(n) \u001b[39mfor\u001b[39;00m j \u001b[39min\u001b[39;00m \u001b[39mrange\u001b[39m(n)]\n\u001b[0;32m   1109\u001b[0m )\u001b[39m.\u001b[39mreshape(n, n)\n\u001b[0;32m   1110\u001b[0m Cv \u001b[39m=\u001b[39m make_CostMatrix(C, m, n)\n\u001b[0;32m   1111\u001b[0m \u001b[39m# debug_print(f\"Cv: {m} x {n}\")\u001b[39;00m\n\u001b[0;32m   1112\u001b[0m \u001b[39m# debug_print(Cv.C)\u001b[39;00m\n",
      "\u001b[1;31mMemoryError\u001b[0m: "
     ]
    }
   ],
   "source": [
    "m1 = Path(train_files[0])\n",
    "m2 = Path(train_files[1])\n",
    "\n",
    "g1 = create_graph_from_file(m1)\n",
    "g2 = create_graph_from_file(m2)\n",
    "dis = nx.graph_edit_distance(g1, g2, node_match=lambda n1, n2: n1[\"op\"] == n2[\"op\"])"
   ]
  }
 ],
 "metadata": {
  "kernelspec": {
   "display_name": "gfos",
   "language": "python",
   "name": "python3"
  },
  "language_info": {
   "codemirror_mode": {
    "name": "ipython",
    "version": 3
   },
   "file_extension": ".py",
   "mimetype": "text/x-python",
   "name": "python",
   "nbconvert_exporter": "python",
   "pygments_lexer": "ipython3",
   "version": "3.10.12"
  }
 },
 "nbformat": 4,
 "nbformat_minor": 2
}
