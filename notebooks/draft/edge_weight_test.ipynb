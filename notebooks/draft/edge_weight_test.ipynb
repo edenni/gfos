{
 "cells": [
  {
   "cell_type": "code",
   "execution_count": 1,
   "metadata": {},
   "outputs": [],
   "source": [
    "import numpy as np\n",
    "\n",
    "file = np.load('../../data/npz_all/npz/layout/xla/random/train/alexnet_train_batch_32.npz')\n",
    "edge_index = file['edge_index']\n",
    "node_config_ids = file['node_config_ids']"
   ]
  },
  {
   "cell_type": "code",
   "execution_count": 2,
   "metadata": {},
   "outputs": [],
   "source": [
    "import numpy as np\n",
    "from collections import defaultdict, deque\n",
    "\n",
    "\n",
    "class Graph:\n",
    "    def __init__(self):\n",
    "        self.graph = defaultdict(set)\n",
    "\n",
    "    def add_edge(self, u, v):\n",
    "        self.graph[u].add(v)\n",
    "\n",
    "    def trim_and_merge(self, specified_nodes: set, return_distance: bool):\n",
    "        trimmed_graph = defaultdict(set)\n",
    "        visited_global = set()  # to keep track of globally visited nodes\n",
    "        if return_distance:\n",
    "            distance_between_nodes = defaultdict(lambda: defaultdict(int))\n",
    "\n",
    "        for src in specified_nodes:\n",
    "            if src in visited_global:  # skip already visited nodes\n",
    "                continue\n",
    "\n",
    "            visited = set([src])\n",
    "\n",
    "            if return_distance:\n",
    "                queue = deque([(src, 1)])\n",
    "            else:\n",
    "                queue = deque([src])\n",
    "\n",
    "            while queue:\n",
    "                if return_distance:\n",
    "                    node, distance = queue.popleft()\n",
    "                else:\n",
    "                    node = queue.popleft()\n",
    "                visited_global.add(node)\n",
    "                for neighbor in self.graph[node]:\n",
    "                    if neighbor in specified_nodes:\n",
    "                        trimmed_graph[src].add(neighbor)\n",
    "                        if return_distance:\n",
    "                            distance_between_nodes[src][neighbor] = (\n",
    "                                distance + 1\n",
    "                            )\n",
    "                    elif neighbor not in visited:\n",
    "                        visited.add(neighbor)\n",
    "                        if return_distance:\n",
    "                            queue.append((neighbor, distance + 1))\n",
    "                        else:\n",
    "                            queue.append(neighbor)\n",
    "\n",
    "        if return_distance:\n",
    "            return trimmed_graph, distance_between_nodes\n",
    "        else:\n",
    "            return trimmed_graph\n",
    "\n",
    "\n",
    "def get_config_graph(origin_edges, config_node_ids, return_distance=False):\n",
    "    g = Graph()\n",
    "\n",
    "    for src, tgt in origin_edges:\n",
    "        g.add_edge(src, tgt)\n",
    "\n",
    "    trimmed_graph = g.trim_and_merge(config_node_ids.tolist(), return_distance)\n",
    "    if return_distance:\n",
    "        trimmed_graph, distances = trimmed_graph\n",
    "\n",
    "    trimmed_edges = []\n",
    "\n",
    "    for src, tgts in trimmed_graph.items():\n",
    "        if not tgts:\n",
    "            continue\n",
    "        for tgt in tgts:\n",
    "            trimmed_edges.append([src, tgt])\n",
    "\n",
    "    trimmed_edges = np.array(trimmed_edges)\n",
    "    weights = [distances[src][tgt] for src, tgt in trimmed_edges]\n",
    "    weights = np.array(weights)\n",
    "    weights = weights.max() / weights\n",
    "\n",
    "    return trimmed_edges, weights if return_distance else trimmed_edges"
   ]
  },
  {
   "cell_type": "code",
   "execution_count": 3,
   "metadata": {},
   "outputs": [],
   "source": [
    "config_edge_index, config_edge_weight = get_config_graph(\n",
    "    edge_index, node_config_ids, return_distance=True\n",
    ")"
   ]
  },
  {
   "cell_type": "code",
   "execution_count": 4,
   "metadata": {},
   "outputs": [
    {
     "data": {
      "text/plain": [
       "tensor([[ 0.1426, -1.7442,  1.5470,  ...,  2.1013,  0.6848,  1.3438],\n",
       "        [-1.2576, -2.0359,  1.1427,  ...,  1.7395,  1.2310,  0.2977],\n",
       "        [ 0.8821,  0.2583, -0.6701,  ..., -0.9313, -0.0867, -0.8881],\n",
       "        ...,\n",
       "        [ 0.3846,  0.9855,  0.0725,  ..., -1.0511, -0.3521, -1.5276],\n",
       "        [ 0.9387, -0.3078, -0.3238,  ..., -0.1412, -1.0043, -0.8093],\n",
       "        [ 0.5443, -0.0848,  1.7449,  ...,  1.7213,  0.0217,  1.5148]],\n",
       "       grad_fn=<AddBackward0>)"
      ]
     },
     "execution_count": 4,
     "metadata": {},
     "output_type": "execute_result"
    }
   ],
   "source": [
    "import torch\n",
    "from torch_geometric.nn import GCNConv, GraphConv\n",
    "\n",
    "config_edge_index = torch.from_numpy(config_edge_index).long().transpose(0, 1)\n",
    "config_edge_weight = torch.from_numpy(config_edge_weight).float()\n",
    "config_node_feat = torch.randn(config_edge_index.max() + 1, 64)\n",
    "\n",
    "gcn = GCNConv(64, 64)\n",
    "gcn(config_node_feat, config_edge_index, edge_weight=config_edge_weight)\n"
   ]
  },
  {
   "cell_type": "code",
   "execution_count": null,
   "metadata": {},
   "outputs": [],
   "source": []
  }
 ],
 "metadata": {
  "kernelspec": {
   "display_name": "gfos",
   "language": "python",
   "name": "python3"
  },
  "language_info": {
   "codemirror_mode": {
    "name": "ipython",
    "version": 3
   },
   "file_extension": ".py",
   "mimetype": "text/x-python",
   "name": "python",
   "nbconvert_exporter": "python",
   "pygments_lexer": "ipython3",
   "version": "3.10.13"
  }
 },
 "nbformat": 4,
 "nbformat_minor": 2
}
